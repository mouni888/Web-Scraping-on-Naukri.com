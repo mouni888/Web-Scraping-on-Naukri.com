{
 "cells": [
  {
   "cell_type": "code",
   "execution_count": 1,
   "metadata": {},
   "outputs": [],
   "source": [
    "#!pip install selenium"
   ]
  },
  {
   "cell_type": "code",
   "execution_count": 5,
   "metadata": {},
   "outputs": [],
   "source": [
    "from selenium import webdriver\n",
    "from time import sleep\n",
    "from bs4 import BeautifulSoup, Comment\n",
    "import pandas as pd\n",
    "import requests as re\n",
    "import warnings\n",
    "warnings.filterwarnings(\"ignore\")"
   ]
  },
  {
   "cell_type": "code",
   "execution_count": 4,
   "metadata": {},
   "outputs": [],
   "source": [
    "#!pip install webdriver-manager --user"
   ]
  },
  {
   "cell_type": "code",
   "execution_count": 6,
   "metadata": {},
   "outputs": [
    {
     "name": "stdout",
     "output_type": "stream",
     "text": [
      "\n"
     ]
    },
    {
     "name": "stderr",
     "output_type": "stream",
     "text": [
      "[WDM] - ====== WebDriver manager ======\n",
      "[WDM] - Current google-chrome version is 102.0.5005\n",
      "[WDM] - Get LATEST chromedriver version for 102.0.5005 google-chrome\n",
      "[WDM] - There is no [win32] chromedriver for browser 102.0.5005 in cache\n",
      "[WDM] - About to download new driver from https://chromedriver.storage.googleapis.com/102.0.5005.61/chromedriver_win32.zip\n",
      "[WDM] - Driver has been saved in cache [C:\\Users\\lenovo\\.wdm\\drivers\\chromedriver\\win32\\102.0.5005.61]\n"
     ]
    }
   ],
   "source": [
    "from selenium import webdriver\n",
    "from webdriver_manager.chrome import ChromeDriverManager\n",
    "\n",
    "driver = webdriver.Chrome(ChromeDriverManager().install())"
   ]
  },
  {
   "cell_type": "code",
   "execution_count": 7,
   "metadata": {},
   "outputs": [],
   "source": [
    "# luanch a chrome instance\n",
    "link = \"https://www.naukri.com/data-analyst-jobs-in-india?k=data%20analyst&l=india\"\n",
    "driver.get(link)\n",
    "driver.maximize_window() # maximize the window\n",
    "sleep(2) # wait for the page to load"
   ]
  },
  {
   "cell_type": "code",
   "execution_count": 8,
   "metadata": {},
   "outputs": [],
   "source": [
    "# Load the HTML of the page\n",
    "html = driver.page_source\n",
    "soup = BeautifulSoup(html, \"html.parser\")"
   ]
  },
  {
   "cell_type": "code",
   "execution_count": 9,
   "metadata": {
    "scrolled": true
   },
   "outputs": [
    {
     "name": "stdout",
     "output_type": "stream",
     "text": [
      "Data Analyst || NoidaConduent3.6(1687 Reviews)0-3 YrsNot disclosedNoida Statistics graduate with 0 - 3 years of experience in Data Analysis (mandatory) Profici...data analysisPower BIStatisticsSQLvbaMathematicalData AnalyticsJust Nowsave\n",
      "Business Data AnalystNXP Semiconductors3.9(118 Reviews)2-5 YrsNot disclosedBangalore/Bengaluru Master s degree in Engineering and Management, Economics, Mathematics, Statistics or re...AutomationData managementTalent acquisitionProject managementAnalyticalJavascriptData qualityData mining6 Days Agosave\n",
      "EY GDS Data Analyst-Finland based projectEY3.8(5391 Reviews)0-1 YrsNot disclosedBangalore/Bengaluru Experience with financial data is preferred but not essentialMinimum 6-9 months of rele...sqlIT SkillsPythonPower BIData AnalysisDATA ANALYST7 Days Agosave\n",
      "Business Analyst/Data analyst - Payments DomainCGI4.2(2398 Reviews)4-8 YrsNot disclosedHyderabad/Secunderabad, Pune, Chennai, Bangalore/Bengaluru Should have very good communication skills / interpersonal skillsCreating Functional re...data analysisSWIFTSQL queriesFunctional AnalysiscommunicationSQLSEPAData Analyst2 Days Agosave\n",
      "Data Analyst - Data and AnalyticsIntel4.4(341 Reviews)3-6 YrsNot disclosedBangalore/Bengaluru Works with Product owners and business to develop required training, change management ...Computer scienceChange managementmetadataData managementEnterprise architectureAnalyticalScrumData quality4 Days Agosave\n",
      "Data Analyst - Data and AnalyticsIntel4.4(341 Reviews)3-6 YrsNot disclosedBangalore/Bengaluru Works with Product owners and business to develop required training, change management ...Computer scienceChange managementData managementScrumData warehousingmetadataEnterprise architectureAnalytical6 Days Agosave\n",
      "Data Analyst (CSD)Siemens4.2(3086 Reviews)2-6 YrsNot disclosedBangalore/Bengaluru Qualification: Bachelors or Masters in Computer Science & EngineeringExperience level: ...Computer scienceSASData managementSimulationMachine learningHealthcaredata visualizationData mining4 Days Agosave\n",
      "Opportunity For Data Analyst To Work For MNC- AhmedabadEclinicalworks India Pvt Ltd4.2(526 Reviews)0-5 Yrs4,00,000 - 7,00,000 PA.Ahmedabad Job Functions / Responsibilities: • Interpret data, analyze results using statistical t...data analysisexcelData analystLogistic RegressionsegmentationData AnalyticssqlPredictive Analytics6 Days Agosave\n",
      "Data Analyst - Business & DigitalMilliporeSigma3.8(39 Reviews)4-9 YrsNot disclosedBangalore/Bengaluru MBA / Masters in Data Science or Statistics preferred Ongoing measurement of business m...Google Analyticsdata scienceBusiness analyticsAnalyticalHealthcareLife sciencesBusiness intelligenceDigital marketing1 Day Agosave\n",
      "Senior Data AnalystEncora4.2(120 Reviews)5-10 YrsNot disclosedBangalore/Bengaluru Tableau Desktop / Data Analyst Certification MS SQL Server / Oracle CertificationUniver...TableauIT SkillsPythonOracleMS SQLAWSMatplotlibExploratory Data Analysis1 Day Agosave\n",
      "Data Analyst -ETL, Informatica, Tableau, Alteryx- Noida, Gurgaon,KochiEY3.8(5391 Reviews)4-7 YrsNot disclosedKochi/Cochin, Noida BSc / MSc / BE / B Tech / M Tech in Computer Science with a techno functional backgroun...Data TransformationsqlIT SkillsJavascripttableaudata analyticsdata managementData Exploration7 Days Agosave\n",
      "Senior Business Analyst / Senior Data AnalystWEN4-7 YrsNot disclosedGurgaon/Gurugram What we’re looking for:Tech Stack: Highly proficient in Python & Excel. Ability to perf...PythonETLData AnalyticsPower BITableauMachine LearninganalyticalR shiny6 Days Agosave\n",
      "Merilytics - Business Analyst - Data Analytics -IIT/NIT/BITSMeritus Intelytics Private Limited3.0(9 Reviews)0-3 YrsNot disclosedHyderabad/Secunderabad A willingness to learn and adopt the best practices in statistics, BI reporting, predic...excelanalyticspythonbusiness analysissqldata analysisproblem solvingstatistics1 Day Agosave\n",
      "Data Analyst, Business Excellence ServicesRyan, LLC.4.5(235 Reviews)2-4 YrsNot disclosedHyderabad/Secunderabad Duties and Responsibilities: People: Maintains a professional and positive attitude; be...Computer scienceData analysisExcelProcess improvementAnalyticalReconciliationBillingDatastage6 Days Agosave\n",
      "Senior Data AnalystUber4.1(524 Reviews)3-6 YrsNot disclosedHyderabad/Secunderabad What the Candidate Will Do Colonies/Tableau Process mining related experience will be p...MiningAutomationGoogle AnalyticsAnalyticalBusiness intelligenceJIRAOperationsSQLJust Nowsave\n",
      "Senior Data AnalystSGTC India3-6 YrsNot disclosedTirupati Creation of new / updated Power BI reports, based on existing reports or new user requi...Executive leadershipUsageBusiness reportingSenior Data AnalystData collectionpower biData analytics6 Days Agosave\n",
      "Senior Data Analyst-Compliance GroupSGTC India3-7 YrsNot disclosedMumbai Essential Duties Responsibilities: (Detailed Description) Assists or leads discussions ...Computer scienceUsageData modelingSenior Data AnalystData collectionData analyticsContinuous improvementInformation technology6 Days Agosave\n",
      "Sr. Data Analyst, Data EngineeringPEPSI FOODS PRIV LIMITED4.6(35 Reviews)4-7 YrsNot disclosedGurgaon/Gurugram Key Accountabilities: Active contributor to code development in projects and services. ...Supply chainAutomationBusiness transformationData managementData collectionBusiness intelligenceMonitoringSQL5 Days Agosave\n",
      "Data Analyst / Business AnalystMETRO Cash & Carry4.2(1013 Reviews)3-8 Yrs15,00,000 - 27,50,000 PA.Bangalore/Bengaluru Data Analyst / Business Analyst with Python experienceMetros Data Analyst team is respo...PythonVBAanalystbusiness analystAnalyticsdata analyst11 Days Agosave\n",
      "IBO Business Analytics - Business & Data AnalystOrange Business Services India Technology Pvt Ltd4.2(839 Reviews)3-7 YrsNot disclosedMumbai, United States (USA) Bachelor s Degree in Mathematics or Computer Engineering Must be willing to accept and ...Data analysisData validationOperations ManagerPerformance managementData modelingProject managementBusiness analyticsAnalytical11 Days Agosave\n"
     ]
    }
   ],
   "source": [
    "for i in soup.find_all('article',\"jobTuple bgWhite br4 mb-8\"):\n",
    "    print(i.text)"
   ]
  },
  {
   "cell_type": "code",
   "execution_count": 10,
   "metadata": {},
   "outputs": [],
   "source": [
    "Title = []\n",
    "for i in soup.find_all('a', class_=\"title fw500 ellipsis\"):\n",
    "    Title.append(i.text)\n"
   ]
  },
  {
   "cell_type": "code",
   "execution_count": 11,
   "metadata": {},
   "outputs": [
    {
     "data": {
      "text/plain": [
       "['Data Analyst || Noida',\n",
       " 'Business Data Analyst',\n",
       " 'EY GDS Data Analyst-Finland based project',\n",
       " 'Business Analyst/Data analyst - Payments Domain',\n",
       " 'Data Analyst - Data and Analytics',\n",
       " 'Data Analyst - Data and Analytics',\n",
       " 'Data Analyst (CSD)',\n",
       " 'Opportunity For Data Analyst To Work For MNC- Ahmedabad',\n",
       " 'Data Analyst - Business & Digital',\n",
       " 'Senior Data Analyst',\n",
       " 'Data Analyst -ETL, Informatica, Tableau, Alteryx- Noida, Gurgaon,Kochi',\n",
       " 'Senior Business Analyst / Senior Data Analyst',\n",
       " 'Merilytics - Business Analyst - Data Analytics -IIT/NIT/BITS',\n",
       " 'Data Analyst, Business Excellence Services',\n",
       " 'Senior Data Analyst',\n",
       " 'Senior Data Analyst',\n",
       " 'Senior Data Analyst-Compliance Group',\n",
       " 'Sr. Data Analyst, Data Engineering',\n",
       " 'Data Analyst / Business Analyst',\n",
       " 'IBO Business Analytics - Business & Data Analyst']"
      ]
     },
     "execution_count": 11,
     "metadata": {},
     "output_type": "execute_result"
    }
   ],
   "source": [
    "Title"
   ]
  },
  {
   "cell_type": "code",
   "execution_count": 12,
   "metadata": {},
   "outputs": [],
   "source": [
    "Company = []\n",
    "for i in soup.find_all('a',class_=\"subTitle ellipsis fleft\"):\n",
    "    Company.append(i.text)\n",
    "    "
   ]
  },
  {
   "cell_type": "code",
   "execution_count": 13,
   "metadata": {},
   "outputs": [
    {
     "data": {
      "text/plain": [
       "['Conduent',\n",
       " 'NXP Semiconductors',\n",
       " 'EY',\n",
       " 'CGI',\n",
       " 'Intel',\n",
       " 'Intel',\n",
       " 'Siemens',\n",
       " 'Eclinicalworks India Pvt Ltd',\n",
       " 'MilliporeSigma',\n",
       " 'Encora',\n",
       " 'EY',\n",
       " 'WEN',\n",
       " 'Meritus Intelytics Private Limited',\n",
       " 'Ryan, LLC.',\n",
       " 'Uber',\n",
       " 'SGTC India',\n",
       " 'SGTC India',\n",
       " 'PEPSI FOODS PRIV LIMITED',\n",
       " 'METRO Cash & Carry',\n",
       " 'Orange Business Services India Technology Pvt Ltd']"
      ]
     },
     "execution_count": 13,
     "metadata": {},
     "output_type": "execute_result"
    }
   ],
   "source": [
    "Company"
   ]
  },
  {
   "cell_type": "code",
   "execution_count": 14,
   "metadata": {},
   "outputs": [],
   "source": [
    "experience = []\n",
    "for i in soup.find_all('li',class_=\"fleft grey-text br2 placeHolderLi experience\"):\n",
    "    experience.append(i.text)\n",
    "    "
   ]
  },
  {
   "cell_type": "code",
   "execution_count": 15,
   "metadata": {},
   "outputs": [
    {
     "data": {
      "text/plain": [
       "['0-3 Yrs',\n",
       " '2-5 Yrs',\n",
       " '0-1 Yrs',\n",
       " '4-8 Yrs',\n",
       " '3-6 Yrs',\n",
       " '3-6 Yrs',\n",
       " '2-6 Yrs',\n",
       " '0-5 Yrs',\n",
       " '4-9 Yrs',\n",
       " '5-10 Yrs',\n",
       " '4-7 Yrs',\n",
       " '4-7 Yrs',\n",
       " '0-3 Yrs',\n",
       " '2-4 Yrs',\n",
       " '3-6 Yrs',\n",
       " '3-6 Yrs',\n",
       " '3-7 Yrs',\n",
       " '4-7 Yrs',\n",
       " '3-8 Yrs',\n",
       " '3-7 Yrs']"
      ]
     },
     "execution_count": 15,
     "metadata": {},
     "output_type": "execute_result"
    }
   ],
   "source": [
    "experience"
   ]
  },
  {
   "cell_type": "code",
   "execution_count": 16,
   "metadata": {},
   "outputs": [],
   "source": [
    "Salary = []\n",
    "for  i in soup.find_all('li',class_=\"fleft grey-text br2 placeHolderLi salary\"):\n",
    "     Salary.append(i.text)"
   ]
  },
  {
   "cell_type": "code",
   "execution_count": 17,
   "metadata": {},
   "outputs": [
    {
     "data": {
      "text/plain": [
       "['Not disclosed',\n",
       " 'Not disclosed',\n",
       " 'Not disclosed',\n",
       " 'Not disclosed',\n",
       " 'Not disclosed',\n",
       " 'Not disclosed',\n",
       " 'Not disclosed',\n",
       " '4,00,000 - 7,00,000 PA.',\n",
       " 'Not disclosed',\n",
       " 'Not disclosed',\n",
       " 'Not disclosed',\n",
       " 'Not disclosed',\n",
       " 'Not disclosed',\n",
       " 'Not disclosed',\n",
       " 'Not disclosed',\n",
       " 'Not disclosed',\n",
       " 'Not disclosed',\n",
       " 'Not disclosed',\n",
       " '15,00,000 - 27,50,000 PA.',\n",
       " 'Not disclosed']"
      ]
     },
     "execution_count": 17,
     "metadata": {},
     "output_type": "execute_result"
    }
   ],
   "source": [
    "Salary"
   ]
  },
  {
   "cell_type": "code",
   "execution_count": 18,
   "metadata": {},
   "outputs": [],
   "source": [
    "location = []\n",
    "for i in soup.find_all('li',class_=\"fleft grey-text br2 placeHolderLi location\"):\n",
    "    location.append(i.text)"
   ]
  },
  {
   "cell_type": "code",
   "execution_count": 19,
   "metadata": {},
   "outputs": [
    {
     "data": {
      "text/plain": [
       "['Noida',\n",
       " 'Bangalore/Bengaluru',\n",
       " 'Bangalore/Bengaluru',\n",
       " 'Hyderabad/Secunderabad, Pune, Chennai, Bangalore/Bengaluru',\n",
       " 'Bangalore/Bengaluru',\n",
       " 'Bangalore/Bengaluru',\n",
       " 'Bangalore/Bengaluru',\n",
       " 'Ahmedabad',\n",
       " 'Bangalore/Bengaluru',\n",
       " 'Bangalore/Bengaluru',\n",
       " 'Kochi/Cochin, Noida',\n",
       " 'Gurgaon/Gurugram',\n",
       " 'Hyderabad/Secunderabad',\n",
       " 'Hyderabad/Secunderabad',\n",
       " 'Hyderabad/Secunderabad',\n",
       " 'Tirupati',\n",
       " 'Mumbai',\n",
       " 'Gurgaon/Gurugram',\n",
       " 'Bangalore/Bengaluru',\n",
       " 'Mumbai, United States (USA)']"
      ]
     },
     "execution_count": 19,
     "metadata": {},
     "output_type": "execute_result"
    }
   ],
   "source": [
    "location"
   ]
  },
  {
   "cell_type": "code",
   "execution_count": 20,
   "metadata": {},
   "outputs": [],
   "source": [
    "jobType = []\n",
    "for i in soup.find_all('div',class_=\"jobType type fleft br2 mr-8\"):\n",
    "    jobType.append(i.text)"
   ]
  },
  {
   "cell_type": "code",
   "execution_count": 23,
   "metadata": {},
   "outputs": [
    {
     "data": {
      "text/plain": [
       "[]"
      ]
     },
     "execution_count": 23,
     "metadata": {},
     "output_type": "execute_result"
    }
   ],
   "source": [
    "jobType"
   ]
  },
  {
   "cell_type": "code",
   "execution_count": 24,
   "metadata": {},
   "outputs": [],
   "source": [
    "skills =[]\n",
    "for i in soup.find_all('ul',class_=\"tags has-description\"):\n",
    "    skills.append(i.text)"
   ]
  },
  {
   "cell_type": "code",
   "execution_count": 25,
   "metadata": {},
   "outputs": [
    {
     "data": {
      "text/plain": [
       "['data analysisPower BIStatisticsSQLvbaMathematicalData Analytics',\n",
       " 'AutomationData managementTalent acquisitionProject managementAnalyticalJavascriptData qualityData mining',\n",
       " 'sqlIT SkillsPythonPower BIData AnalysisDATA ANALYST',\n",
       " 'data analysisSWIFTSQL queriesFunctional AnalysiscommunicationSQLSEPAData Analyst',\n",
       " 'Computer scienceChange managementmetadataData managementEnterprise architectureAnalyticalScrumData quality',\n",
       " 'Computer scienceChange managementData managementScrumData warehousingmetadataEnterprise architectureAnalytical',\n",
       " 'Computer scienceSASData managementSimulationMachine learningHealthcaredata visualizationData mining',\n",
       " 'data analysisexcelData analystLogistic RegressionsegmentationData AnalyticssqlPredictive Analytics',\n",
       " 'Google Analyticsdata scienceBusiness analyticsAnalyticalHealthcareLife sciencesBusiness intelligenceDigital marketing',\n",
       " 'TableauIT SkillsPythonOracleMS SQLAWSMatplotlibExploratory Data Analysis',\n",
       " 'Data TransformationsqlIT SkillsJavascripttableaudata analyticsdata managementData Exploration',\n",
       " 'PythonETLData AnalyticsPower BITableauMachine LearninganalyticalR shiny',\n",
       " 'excelanalyticspythonbusiness analysissqldata analysisproblem solvingstatistics',\n",
       " 'Computer scienceData analysisExcelProcess improvementAnalyticalReconciliationBillingDatastage',\n",
       " 'MiningAutomationGoogle AnalyticsAnalyticalBusiness intelligenceJIRAOperationsSQL',\n",
       " 'Executive leadershipUsageBusiness reportingSenior Data AnalystData collectionpower biData analytics',\n",
       " 'Computer scienceUsageData modelingSenior Data AnalystData collectionData analyticsContinuous improvementInformation technology',\n",
       " 'Supply chainAutomationBusiness transformationData managementData collectionBusiness intelligenceMonitoringSQL',\n",
       " 'PythonVBAanalystbusiness analystAnalyticsdata analyst',\n",
       " 'Data analysisData validationOperations ManagerPerformance managementData modelingProject managementBusiness analyticsAnalytical']"
      ]
     },
     "execution_count": 25,
     "metadata": {},
     "output_type": "execute_result"
    }
   ],
   "source": [
    "skills"
   ]
  },
  {
   "cell_type": "code",
   "execution_count": 28,
   "metadata": {},
   "outputs": [
    {
     "name": "stdout",
     "output_type": "stream",
     "text": [
      "\n"
     ]
    },
    {
     "name": "stderr",
     "output_type": "stream",
     "text": [
      "[WDM] - ====== WebDriver manager ======\n",
      "[WDM] - Current google-chrome version is 102.0.5005\n",
      "[WDM] - Get LATEST chromedriver version for 102.0.5005 google-chrome\n",
      "[WDM] - Driver [C:\\Users\\lenovo\\.wdm\\drivers\\chromedriver\\win32\\102.0.5005.61\\chromedriver.exe] found in cache\n"
     ]
    },
    {
     "name": "stdout",
     "output_type": "stream",
     "text": [
      "Data Analyst || NoidaConduent3.6(1687 Reviews)0-3 YrsNot disclosedNoida Statistics graduate with 0 - 3 years of experience in Data Analysis (mandatory) Profici...data analysisPower BIStatisticsSQLvbaMathematicalData AnalyticsFew Hours Agosave\n",
      "Business Data AnalystNXP Semiconductors3.9(118 Reviews)2-5 YrsNot disclosedBangalore/Bengaluru Master s degree in Engineering and Management, Economics, Mathematics, Statistics or re...AutomationData managementTalent acquisitionProject managementAnalyticalJavascriptData qualityData mining6 Days Agosave\n",
      "EY GDS Data Analyst-Finland based projectEY3.8(5391 Reviews)0-1 YrsNot disclosedBangalore/Bengaluru Experience with financial data is preferred but not essentialMinimum 6-9 months of rele...sqlIT SkillsPythonPower BIData AnalysisDATA ANALYST7 Days Agosave\n",
      "Business Analyst/Data analyst - Payments DomainCGI4.2(2398 Reviews)4-8 YrsNot disclosedHyderabad/Secunderabad, Pune, Chennai, Bangalore/Bengaluru Should have very good communication skills / interpersonal skillsCreating Functional re...data analysisSWIFTSQL queriesFunctional AnalysiscommunicationSQLSEPAData Analyst2 Days Agosave\n",
      "Data Analyst - Data and AnalyticsIntel4.4(341 Reviews)3-6 YrsNot disclosedBangalore/Bengaluru Works with Product owners and business to develop required training, change management ...Computer scienceChange managementmetadataData managementEnterprise architectureAnalyticalScrumData quality4 Days Agosave\n",
      "Data Analyst - Data and AnalyticsIntel4.4(341 Reviews)3-6 YrsNot disclosedBangalore/Bengaluru Works with Product owners and business to develop required training, change management ...Computer scienceChange managementData managementScrumData warehousingmetadataEnterprise architectureAnalytical6 Days Agosave\n",
      "Data Analyst (CSD)Siemens4.2(3086 Reviews)2-6 YrsNot disclosedBangalore/Bengaluru Qualification: Bachelors or Masters in Computer Science & EngineeringExperience level: ...Computer scienceSASData managementSimulationMachine learningHealthcaredata visualizationData mining5 Days Agosave\n",
      "Opportunity For Data Analyst To Work For MNC- AhmedabadEclinicalworks India Pvt Ltd4.2(526 Reviews)0-5 Yrs4,00,000 - 7,00,000 PA.Ahmedabad Job Functions / Responsibilities: • Interpret data, analyze results using statistical t...data analysisexcelData analystLogistic RegressionsegmentationData AnalyticssqlPredictive Analytics6 Days Agosave\n",
      "Data Analyst - Business & DigitalMilliporeSigma3.8(39 Reviews)4-9 YrsNot disclosedBangalore/Bengaluru MBA / Masters in Data Science or Statistics preferred Ongoing measurement of business m...Google Analyticsdata scienceBusiness analyticsAnalyticalHealthcareLife sciencesBusiness intelligenceDigital marketing1 Day Agosave\n",
      "Senior Data AnalystEncora4.2(120 Reviews)5-10 YrsNot disclosedBangalore/Bengaluru Tableau Desktop / Data Analyst Certification MS SQL Server / Oracle CertificationUniver...TableauIT SkillsPythonOracleMS SQLAWSMatplotlibExploratory Data Analysis2 Days Agosave\n",
      "Data Analyst -ETL, Informatica, Tableau, Alteryx- Noida, Gurgaon,KochiEY3.8(5391 Reviews)4-7 YrsNot disclosedKochi/Cochin, Noida BSc / MSc / BE / B Tech / M Tech in Computer Science with a techno functional backgroun...Data TransformationsqlIT SkillsJavascripttableaudata analyticsdata managementData Exploration7 Days Agosave\n",
      "Senior Business Analyst / Senior Data AnalystWEN4-7 YrsNot disclosedGurgaon/Gurugram What we’re looking for:Tech Stack: Highly proficient in Python & Excel. Ability to perf...PythonETLData AnalyticsPower BITableauMachine LearninganalyticalR shiny6 Days Agosave\n",
      "Merilytics - Business Analyst - Data Analytics -IIT/NIT/BITSMeritus Intelytics Private Limited3.0(9 Reviews)0-3 YrsNot disclosedHyderabad/Secunderabad A willingness to learn and adopt the best practices in statistics, BI reporting, predic...excelanalyticspythonbusiness analysissqldata analysisproblem solvingstatistics1 Day Agosave\n",
      "Data Analyst, Business Excellence ServicesRyan, LLC.4.5(235 Reviews)2-4 YrsNot disclosedHyderabad/Secunderabad Duties and Responsibilities: People: Maintains a professional and positive attitude; be...Computer scienceData analysisExcelProcess improvementAnalyticalReconciliationBillingDatastage6 Days Agosave\n",
      "Senior Data AnalystUber4.1(524 Reviews)3-6 YrsNot disclosedHyderabad/Secunderabad What the Candidate Will Do Colonies/Tableau Process mining related experience will be p...MiningAutomationGoogle AnalyticsAnalyticalBusiness intelligenceJIRAOperationsSQLFew Hours Agosave\n",
      "Senior Data AnalystSGTC India3-6 YrsNot disclosedTirupati Creation of new / updated Power BI reports, based on existing reports or new user requi...Executive leadershipUsageBusiness reportingSenior Data AnalystData collectionpower biData analytics6 Days Agosave\n",
      "Senior Data Analyst-Compliance GroupSGTC India3-7 YrsNot disclosedMumbai Essential Duties Responsibilities: (Detailed Description) Assists or leads discussions ...Computer scienceUsageData modelingSenior Data AnalystData collectionData analyticsContinuous improvementInformation technology6 Days Agosave\n",
      "Sr. Data Analyst, Data EngineeringPEPSI FOODS PRIV LIMITED4.6(35 Reviews)4-7 YrsNot disclosedGurgaon/Gurugram Key Accountabilities: Active contributor to code development in projects and services. ...Supply chainAutomationBusiness transformationData managementData collectionBusiness intelligenceMonitoringSQL5 Days Agosave\n",
      "Data Analyst / Business AnalystMETRO Cash & Carry4.2(1013 Reviews)3-8 Yrs15,00,000 - 27,50,000 PA.Bangalore/Bengaluru Data Analyst / Business Analyst with Python experienceMetros Data Analyst team is respo...PythonVBAanalystbusiness analystAnalyticsdata analyst11 Days Agosave\n",
      "IBO Business Analytics - Business & Data AnalystOrange Business Services India Technology Pvt Ltd4.2(839 Reviews)3-7 YrsNot disclosedMumbai, United States (USA) Bachelor s Degree in Mathematics or Computer Engineering Must be willing to accept and ...Data analysisData validationOperations ManagerPerformance managementData modelingProject managementBusiness analyticsAnalytical11 Days Agosave\n",
      "\n"
     ]
    },
    {
     "name": "stderr",
     "output_type": "stream",
     "text": [
      "[WDM] - ====== WebDriver manager ======\n",
      "[WDM] - Current google-chrome version is 102.0.5005\n",
      "[WDM] - Get LATEST chromedriver version for 102.0.5005 google-chrome\n",
      "[WDM] - Driver [C:\\Users\\lenovo\\.wdm\\drivers\\chromedriver\\win32\\102.0.5005.61\\chromedriver.exe] found in cache\n"
     ]
    },
    {
     "name": "stdout",
     "output_type": "stream",
     "text": [
      "Senior Data AnalystGartner4.4(56 Reviews)3-5 YrsNot disclosedMumbai, Gurgaon/Gurugram Bachelor s or Masters degree in Science, Math, Technology, Computer Science, or related...Data analysisOracleData miningInformation technologyRecruitmentComputer scienceMySQLBusiness case1 Day Agosave\n",
      "Argus Safety System Data Analyst -Cognos and SpotfireTATA CONSULTANCY SERVICES (TCS)3.9(43255 Reviews)4-9 YrsNot disclosedKolkata, Hyderabad/Secunderabad, Pune, Ahmedabad, Chennai, Bangalore/Bengaluru, Delhi / NCR, Mumbai (All Areas) Must-Have**Business Intelligence and Analytics tools Cognos, SpotfireExperience in Argu...SpotfireArgus SafetyCognosPLSQLPL / SQLArgus Safety product suiteHP ALMArgus Insight databases1 Day Agosave\n",
      "Data AnalystCigna TTK3.8(148 Reviews)2-4 YrsNot disclosedBangalore/Bengaluru The Analyst is a technical role that delivers quality end-to-end analytical support acr...Data analysisData managementCodingAnalyticalActuarialData qualityContinuous improvementOperations4 Days Agosave\n",
      "IT Data AnalystMorgan Stanley4.1(498 Reviews)2-4 YrsNot disclosedBangalore/Bengaluru Skilled in Microsoft Office tools - Advanced MS Excel, MS Excel Macros, MS Power Point,...Data analysisTicketingAssuranceOperational riskWealth managementProcess improvementInvestment bankingMacrosJust Nowsave\n",
      "Data AnalystQUANTUM INTERNATIONAL PRIVATE LIMITED3.6(6 Reviews)0-3 YrsNot disclosedDelhi / NCR(WFH during Covid) Candidate must have an operational knowledge of spreadsheets software applications such...Good knowledge of MS office especially ExcelBack Office Processingdata processingTodaysave\n",
      "Data AnalystEricsson4.3(5043 Reviews)10-12 YrsNot disclosedGurgaon/Gurugram Good to excellent knowledge in statisticsData analysisBiddingData managementBusiness analysisBusiness analyticsPHPGoogle AdWordsHTML3 Days Agosave\n",
      "Employee Data AnalystSalesforce4.3(210 Reviews)3-5 YrsNot disclosedHyderabad/Secunderabad Responsibilities: The responsibilities of the Employee Data Analyst include but are not...Automationoperational supportData managementAnalyticalSalesforce.comCustomer supportdata integrityData Analyst5 Days Agosave\n",
      "Data AnalystEricsson4.3(5043 Reviews)10-20 YrsNot disclosedNoida Basic knowledge / experience of scripting language such as R and / or Python and Machin...Data analysisPublishingData managementPHPData AnalystHTMLmicrosoftResource management5 Days Agosave\n",
      "Data Analyst 1Optum4.2(1777 Reviews)4-9 YrsNot disclosedBangalore/Bengaluru Bachelor s Degree or equivalent work experience Assist as needed to monitor data wareho...SQL developmentIT SkillsPythonOracleBig DataUnixSystem DevelopmentLinux Shell Scripting2 Days Agosave\n",
      "SAS/SQL - Healthcare Data Analyst - BangaloreGenpact4.0(19227 Reviews)7-10 YrsNot disclosedBangalore/Bengaluru We are looking for a Healthcare Data Analyst to gather and analyze healthcare data from...SASSQLBPOdata analysis5 Days Agosave\n",
      "Business & Data Analyst - Alteryx (London)Imaginative Brains LLP5-10 YrsNot disclosedBangalore/Bengaluru, Delhi / NCR, Mumbai (All Areas) We are seeking a data analyst with experience gained in the financial sector to support...Alteryxdata analyticsdata analyst7 Days Agosave\n",
      "Business Data AnalystNIVODA LLP 5.0(2 Reviews)2-7 Yrs6,00,000 - 10,00,000 PA.Mumbai About Nivoda Nivoda is an extremely fast growing B2B marketplace revolutionizing the wa...Power BiTableauPythonSQLStatistical Analyses4 Days Agosave\n",
      "Business Analyst / Data AnalystIB Services &amp; Technologies3.2(3 Reviews)1-3 YrsNot disclosedPune Should have at least 7 years experience working as a Business Analyst / Data Analyst. S...Microsoft ExcelSQLMS - WordSQL Data WarehouseExcelBusiness AnalystData AnalystMS WordJust Nowsave\n",
      "Business Analyst/Data AnalystEli Research3.2(427 Reviews)3-6 YrsNot disclosedFaridabad(WFH during Covid) Bachelors degreeAt least 3-4 years experience in similar role - managing and processing...Exceldashboard reportsData AnalysisAdvanced ExcelDashboardsMS OfficeG sheetsMIS Reporting4 Days Agosave\n",
      "data analyst/ data analytics / Business analyst- SQL/Python/SASLeading US MNC into Analytics2-7 Yrs10,00,000 - 20,00,000 PA.Gurgaon/Gurugram, Bangalore/Bengaluru, Delhi / NCR(WFH during Covid) Preference: immediate joiners or who can join in 15 dayssqlPythonTableauIT Skillsdata analyticsdata analysisSAS11 Days Agosave\n",
      "Business Analyst / Data AnalystCompunnel Technology India Private Limited4.1(107 Reviews)5-7 YrsNot disclosedRemote Objectives of this RoleHands-on experience as Business Analyst.Experience on Data ( AI,...data scienceDataIT SkillsTestingQuality Assurancedata qualitydata analysisData Interpretation4 Days Agosave\n",
      "Data analyst / Data scientist, AVPDeutsche Bank4.2(1799 Reviews)6-11 YrsNot disclosedBangalore/Bengaluru Experience in working on large enterprise class data analytics and MI projects for an A...Data analysisISOMISReconciliationAnti money launderingRTGSTroubleshootingOracle8 Days Agosave\n",
      "Data analyst / Data scientist, AssociateDeutsche Bank4.2(1799 Reviews)5-8 YrsNot disclosedBangalore/Bengaluru Experience in working on large enterprise class data analytics and MI projects for an A...Data analysisISOMISReconciliationAnti money launderingRTGSTroubleshootingOracle8 Days Agosave\n",
      "HR Data AnalystGojek4.3(18 Reviews)3-8 YrsNot disclosedBangalore/Bengaluru 4+ years of total experience, At least 1 year of related experience working in / suppor...Business processData analysisTalent acquisitionAnalyticalCognosFinancedata visualizationData mining4 Days Agosave\n",
      "Associate Data Analyst, Marketing AnalyticsGartner4.4(56 Reviews)1-3 YrsNot disclosedGurgaon/Gurugram Undergraduate degree requiredMinimum 1-3 years of experience in sales / marketing data ...AutomationProject managementmicrosoftSQLPythonIT SkillsPower BIBPO4 Days Agosave\n",
      "\n"
     ]
    },
    {
     "name": "stderr",
     "output_type": "stream",
     "text": [
      "[WDM] - ====== WebDriver manager ======\n",
      "[WDM] - Current google-chrome version is 102.0.5005\n",
      "[WDM] - Get LATEST chromedriver version for 102.0.5005 google-chrome\n",
      "[WDM] - Driver [C:\\Users\\lenovo\\.wdm\\drivers\\chromedriver\\win32\\102.0.5005.61\\chromedriver.exe] found in cache\n"
     ]
    },
    {
     "name": "stdout",
     "output_type": "stream",
     "text": [
      "Senior Mis Data AnalystBarbeque Nation4.1(592 Reviews)5-8 Yrs7,00,000 - 9,00,000 PA.Bangalore/Bengaluru(Sarjapur), Delhi / NCR, Mumbai (All Areas) Roles and Responsibilities Develop and maintain daily, weekly and monthly operational a...misservice qualitydata analysisoperational analysiscapacity planningreport generationforecastingbusiness analysis8 Days Agosave\n",
      "Data Business AnalystSchneider Electric4.2(3602 Reviews)2-5 YrsNot disclosedBangalore/Bengaluru Experience in creating Filters, quick filters, table calculations, calculated measures,...tableauExcelPublishingBusiness AnalystSales developmentBusiness analysisSAP business warehouseScheduling4 Days Agosave\n",
      "Business Data Analyst - MarketingLennox India Technology Centre3.9(53 Reviews)1-3 YrsNot disclosedChennai Bachelors in computer science, statistics, applied mathematics, data management, inform...Data AnalyticsData InterpretationPythonSQL9 Days Agosave\n",
      "Intern - Business Analyst / Data AnalystFaurecia4.0(829 Reviews)0-1 YrsNot disclosedPune o Conduct required primary and secondary market research: through surveys with end cons...Exceladvanced excelData AnalysisReportingBusiness Analysis12 Days Agosave\n",
      "Junior Data Analyst/ Scientist- Fresher PositionSejal Consulting Hub 0-3 Yrs4,00,000 - 7,00,000 PA.Remote Willingness to work beyond traditional working hours / days as required by the business...Data AnalysisC++Data VisualizationAdvanced ExcelTableauPython7 Days Agosave\n",
      "Senior Data AnalystWalmart4.2(11295 Reviews)4-7 YrsNot disclosedBangalore/Bengaluru Bachelors degree with 6 Years or Masterss degree with 5 years in relevant site analytic...PythonProduct AnalyticsanalyticalPower PointSparkSQLExcelIT Skills6 Days Agosave\n",
      "Senior Data AnalystBIZ INFOTECNO PRIVATE LIMITED 2-7 YrsNot disclosedChandigarh Work from home policies MTech / BTech/BE in Computer Science, Data Analytics degree, Gr...TableaucommunicationAlteryxPythonSQLHiveIT Skills6 Days Agosave\n",
      "Senior Real World Data AnalystINSPIRE ANALYTICS PRIVATE LIMITED3-5 Yrs12,00,000 - 15,00,000 PA.Chennai A bachelors or masters degree in health services research, biostatistics, pharmaceutica...SASSQLPythondata analysisdata manipulationRelational DatabasesDataAdministrative claimsFew Hours Agosave\n",
      "Senior Data AnalystFlipkart4.2(9989 Reviews)3-7 YrsNot disclosedBangalore/Bengaluru Along with this, you will be expected to have a very good handle on different data stre...QlikViewMacrosAnalyticsSQLPythonAnalyticalOperationsReporting tools7 Days Agosave\n",
      "Data Analyst - EdTechTalentStack2-6 YrsNot disclosedBangalore/Bengaluru Create engaging learning activities to increase learning experience of the students Dev...Data AnalysisTeam ManagementContent DeliveryStudent EngagementData AnalyticsAnalyticsCustomer EngagementSQLTodaysave\n",
      "Analyst, Data Management & Quantitative AnalysisBNY Mellon4.2(2399 Reviews)0-2 YrsNot disclosedPune Bachelors degree or the equivalent combination of education and experience 2 years expe...BasicUsageData managementSenior AnalystAnalyticalFinanceManager TechnologyRepresentative5 Days Agosave\n",
      "Senior or Lead Data AnalystKARYA CONSULTANTS PRIVATE LIMITED6-9 YrsNot disclosedBangalore/Bengaluru Should have a firm understanding of data modelling concepts 4+ years of IT experience (...BlogsData AnalysisData AnalyticsBlog WritingAgile DevelopmentSQLTodaysave\n",
      "Professional 1 Data Analyst DXC Technology3.9(6329 Reviews)2-5 YrsNot disclosedMumbai Analyzes data requirements and documents according to required standards by utilizing p...Computer scienceData analysisOperating systemsData modelingDatabase designDatabaseData structuresBusiness solutions1 Day Agosave\n",
      "Data AnalystNTT INDIA DIGITAL PRIVATE LIMITED4.0(221 Reviews)2-4 YrsNot disclosedHyderabad/Secunderabad Proficiency in SQL, how to transform data or read any transformation, ability to derive...Microsoft Power BiAdobe AnalyticsPythonInformaticaTableauverbalETLSAS1 Day Agosave\n",
      "HCL Hiring Data AnalystHCL Technologies3.9(20627 Reviews)2-5 YrsNot disclosedChennai Location: ChennaiShift: UK ShiftJob PurposeManaging currently operational workforce thr...MIS forecastingMISforecastingData AnalysisAdvanced Excelreportingsql1 Day Agosave\n",
      "Hiring For Data Analyst - PuneVodafone India Services Pvt.Ltd4.2(12993 Reviews)4-9 YrsNot disclosedPune Analyze business requirement, development and support of Data Mart/ Presentation layer ...data analysisPl-SQLData WarehousingSQLPythonTeradata SQLanalyticalTeradata5 Days Agosave\n",
      "SAP BODS / Data AnalystDow4.5(153 Reviews)2-3 YrsNot disclosedMumbai Minimum bachelor s degree required in Computer Science / Engineering, Management of Inf...Business processComputer sciencedata cleansingChange managementCostingMISProject managementAsset management6 Days Agosave\n",
      "Data AnalystIHS Markit4.1(470 Reviews)2-5 YrsNot disclosedGurgaon/Gurugram As an early participant in this market, we must tackle this problem with a mixture of h...IT SkillsPythonSoftware DevelopmentData ScienceCloudDevOpsProduct ManagementPublishing5 Days Agosave\n",
      "Data Analyst, Data EngineeringPEPSI FOODS PRIV LIMITED4.6(35 Reviews)2-5 YrsNot disclosedGurgaon/Gurugram Key Accountabilities: Active contributor to code development in projects and services. ...Supply chainAutomationBusiness transformationData managementBusiness intelligenceAnalyticsMonitoringSQL5 Days Agosave\n",
      "Data AnalystPharmEasy4.0(308 Reviews)1-3 YrsNot disclosedBangalore/Bengaluru Proficient in writing SQL queries and the candidate should be able to handle complex qu...dataData managementanalystData Analystdata visualizationData mining11 Days Agosave\n",
      "\n"
     ]
    },
    {
     "name": "stderr",
     "output_type": "stream",
     "text": [
      "[WDM] - ====== WebDriver manager ======\n",
      "[WDM] - Current google-chrome version is 102.0.5005\n",
      "[WDM] - Get LATEST chromedriver version for 102.0.5005 google-chrome\n",
      "[WDM] - Driver [C:\\Users\\lenovo\\.wdm\\drivers\\chromedriver\\win32\\102.0.5005.61\\chromedriver.exe] found in cache\n"
     ]
    },
    {
     "name": "stdout",
     "output_type": "stream",
     "text": [
      "Associate BI Developer and Data AnalystCognos Partners0-2 Yrs1,25,000 - 2,50,000 PA.Nagpur(WFH during Covid) Business Intelligence Developer for Traditional BI and Cloud BI with 0-2 years of exper...communication skillsAzureCognosPower BIcommunicationverbalAWSwritten9 Days Agosave\n",
      "Data Analyst Advanced AnalyticsPerceptive Analytics5.0(2 Reviews)0-3 YrsNot disclosedHyderabad/Secunderabad Expertise and strong experience in data gathering and analysisGood analytical and commu...VBAData modellingProject RanalyticalRcommunicationdata gatheringAdvance Excel11 Days Agosave\n",
      "Data Scientist/AnalystWipro3.9(24424 Reviews)4-9 YrsNot disclosedPune, Bangalore/Bengaluru, Delhi / NCR Greetings, We're hiring a Data Scientist/Analyst candidate for Pan India location.Pleas...SQL Server Analysis Servicesdata modelingAzure Analysis Servicesmachine learningpresentationdata analyticsmodellingPython4 Days Agosave\n",
      "Data AnalystGartner4.4(56 Reviews)3-5 YrsNot disclosedGurgaon/Gurugram What you ll do: Focus on to identify and drive data quality initiatives on improving th...Data analysisBusiness analysisBusiness intelligenceAnalyticsSQLIT SkillsSharepointTableau1 Day Agosave\n",
      "Data Analyst 2-1PayPal4.3(324 Reviews)5-8 YrsNot disclosedMumbai Bachelor s degree or higher in a quantitative field (Business, Math, Economics, Finance...Manager TechnologyData AnalystManagementAnalyst 2Financial services6 Days Agosave\n",
      "Data Analyst IIDUN  BRADSTREET TECHNOLOGY AND CORPORATE SERVICES  INDIA LLP3-5 YrsNot disclosedHyderabad/Secunderabad Bachelor s degree in computer science, data science, information systems, or other rela...XMLc#data qualitydata science.netdata engineeringsql serverdata profilingFew Hours Agosave\n",
      "Hiring For Data Analyst - Extramarks Education India Pvt LtdExtramarks Education3.4(1015 Reviews)2-6 Yrs3,00,000 - 6,00,000 PA.Thane Skills Required Advanced Excel, Macro, Access, SQL, VBA, Analytical SkillsIn order to c...Data ScienceVBAData AnalysisAdvanced ExcelMacros1 Day Agosave\n",
      "Data Transformation Analyst IIHS Markit4.1(470 Reviews)0-2 YrsNot disclosedHyderabad/Secunderabad What you ll work on: Drive financial data implementation successfully for market leadin...Financial statementsQuality standardsPDFExcelSenior AnalystFinanceVenture capitalData collection4 Days Agosave\n",
      "Data AnalystVirtusa3.8(1800 Reviews)5-8 Yrs6,00,000 - 15,00,000 PA.Hyderabad/Secunderabad Candidate should have 4+ years experience with data analysis backgroundShould be able t...data analysisData AnalystSQL queriesETLSQLUnixHIVE6 Days Agosave\n",
      "Business Data Analyst - Google AnalyticsLennox India Technology Centre3.9(53 Reviews)2-5 YrsNot disclosedChennai Any Graduate with 3-5 years of relevant work experience in Google Analytics Implementat...Google Tag ManagermarketingGTMdigital analyticsmixpaneldata analysisprocess managementcampaigns9 Days Agosave\n",
      "Master Data Management Business AnalystAccenture4.1(28676 Reviews)6-8 YrsNot disclosedBangalore/Bengaluru Work Experience :6-8 yearsBusiness analysisXMLConsultingAgileSDLCTDDTrade financeSCALA11 Days Agosave\n",
      "Data Analytics and Interpretation Business AnalystAccenture4.1(28676 Reviews)6-8 YrsNot disclosedBangalore/Bengaluru Work Experience :6-8 yearsBusiness analysisXMLConsultingAgileSDLCbig dataPuttyNoteb11 Days Agosave\n",
      "Business Analysis / MIS / Data Analyst || NoidaKalkine Solutions Private Limited3.6(118 Reviews)1-6 Yrs3,00,000 - 6,00,000 PA.Noida(Sector-16 Noida), Delhi / NCR Minimum experience of 2 YrsLooking for MIS Analyst for our organization, who have good ...MISPivot TablePower BiVLOOKUPFormulasConditional FormattingAdvanced ExcelData8 Days Agosave\n",
      "Exciting opportunity at eClerx - Senior Analyst - Reference DataeClerx3.6(2919 Reviews)1-6 Yrs3,50,000 - 5,50,000 PA.Mumbai Candidates preferred who are comfortable to work in Night Shifts Night Shifts Allowance...security pricingReference Datasecurity setupBBGReutersomgeo alertsStatic Datainstrument data6 Days Agosave\n",
      "Data AnalystAllegis Services India Pvt. Ltd.8-13 YrsNot disclosedBangalore/Bengaluru Experience in data-related implementation tasks that include provisioning Azure data st...NoSQLcassandraAnalyticsSQLPythondata servicesSCALAData warehousing5 Days Agosave\n",
      "Data Analyst - TableauApptio India LLP4.1(20 Reviews)3-5 YrsNot disclosedBangalore/Bengaluru, Karnataka looking for a Data Analyst to be a business intelligence subject matter expert. As this...TableauPythonoral communicationRTableau ServerSQLbusiness intelligencedata warehouseFew Hours Agosave\n",
      "Research Data AnalystOpkey3.7(15 Reviews)2-5 YrsNot disclosedNoida, Bangalore/Bengaluru Bachelor s Degree in Business, Communications or related fieldShould have used Tools li...inside salessalesAIZoomInfomarketingdata analysisprospectingautomation testingFew Hours Agosave\n",
      "Data AnalystCityInfo Services Pvt. Ltd.,4.6(22 Reviews)15-18 YrsNot disclosedBangalore/Bengaluru Execute processes to monitor data governance policies and procedures to ensure data int...ExcelAnalyticalConsultingMarket researchData qualityData miningForecastingOperationsJust Nowsave\n",
      "Insurance Data AnalystQuality Matrix Inc5.0(3 Reviews)4-6 YrsNot disclosedBangalore/Bengaluru Experience in Text Analysis, Web Scraping would be a plus Good Problem-Solving Skills a...Data WranglingPower - BIWeb ScrapingDAXPythonMachine LearningText AnalysisSQL1 Day Agosave\n",
      "Insurance Data AnalystQuality Matrix Inc5.0(3 Reviews)4-6 YrsNot disclosedBangalore/Bengaluru Experience in Text Analysis, Web Scraping would be a plus Good Problem-Solving Skills a...PowerBIWeb ScrapingMachine LearningDAXData WranglingSQLPythonText Analysis1 Day Agosave\n",
      "\n"
     ]
    },
    {
     "name": "stderr",
     "output_type": "stream",
     "text": [
      "[WDM] - ====== WebDriver manager ======\n",
      "[WDM] - Current google-chrome version is 102.0.5005\n",
      "[WDM] - Get LATEST chromedriver version for 102.0.5005 google-chrome\n",
      "[WDM] - Driver [C:\\Users\\lenovo\\.wdm\\drivers\\chromedriver\\win32\\102.0.5005.61\\chromedriver.exe] found in cache\n"
     ]
    },
    {
     "name": "stdout",
     "output_type": "stream",
     "text": [
      "Data AnalystEli Research3.2(427 Reviews)1-3 YrsNot disclosedHyderabad/Secunderabad, Faridabad(WFH during Covid) Preferred Qualifications: Bachelors DegreeAt least 1 years experience in similar role -...data analysisTableauSQLExcelpower bimarket researchData Analytics4 Days Agosave\n",
      "Data AnalystWinvest technology consultancy services Pvt Ltd3.7(10 Reviews)4-9 YrsNot disclosedHyderabad/Secunderabad, Pune Greetings from Winvest Technologies !!We are hiring for Data Analyst roles....Role: Dat...SQLIT SkillsPythonBig DataTableauPower BIdata analyticsETL4 Days Agosave\n",
      "Data AnalystADVISETREE CONSULTING PRIVATE LIMITED4-6 Yrs6,00,000 - 7,00,000 PA.Bangalore/Bengaluru(Dodda Banaswadi) Should be capable of handling large data Should have worked in high pressured environme...excelProfitability AnalysisData Analysis5 Days Agosave\n",
      "Data Analyst - IIM/ISB/MDI/FMS/SP JainK12 Techno Services Pvt Ltd3.2(308 Reviews)4-9 YrsNot disclosedBangalore/Bengaluru Masters degree from Tier 1 MBA College Demonstrated experience in handling large data s...Data Analysisverbal communicationdata miningwrittenIT SkillsQuality AssuranceManagingaddressing7 Days Agosave\n",
      "Virtue Analytics - Data AnalystVirtue Analytics4.6(5 Reviews)1-3 YrsNot disclosedLucknow Are available for full time Skill(s) required Min 1-year experienceData AnalyticsAnalyticsPythonexcelrdata analysispredictive modelingbusiness consulting1 Day Agosave\n",
      "Data AnalystZuora4.2(24 Reviews)2-7 YrsNot disclosedChennai Bachelor s degree in a quantitative field, Statistics, data science, business or other ...IT SkillsPythonData ScienceCloudOracleAWSTableauData management3 Days Agosave\n",
      "Data AnalystZF Wind Power, Coimbatore4.2(173 Reviews)3-3 YrsNot disclosedCoimbatore, Coimbatore Minimum 3+ years working experience in the data analytics domainYou have relevant worki...PowerBIData AnalystData AnalyticsSQLPython6 Days Agosave\n",
      "Data Analyst TableauApps Associates4.0(86 Reviews)7-10 YrsNot disclosedGurgaon/Gurugram Experience managing enterprise-class web analytics platforms (e.g., Web Analytics, Adob...TableauPythonPowerPointanalysisexcelS3data analyticsSQL6 Days Agosave\n",
      "Data AnalystJigsaw Edu Solutions Pvt Ltd 2.4(3 Reviews)0-0 Yrs3,00,000 - 5,00,000 PA.Pune, Bangalore/Bengaluru, Delhi / NCR(WFH during Covid) Educational Background: BE / B Tech (IT / CSE/ ECE / EEE) 2019 / 2020/2021 passed out w...Data AnalyticsTalendETLcommunicationSoftware Development LifecycleagileSQLIT Skills17 Days Agosave\n",
      "Senior Data AnalystWIPZO SYSTECH PRIVATE LIMITED 5-9 Yrs15,00,000 - 30,00,000 PA.Pune, Bangalore/Bengaluru, Mumbai (All Areas)(WFH during Covid) Wipzo Systech Pvt. Ltd. is hiring Data Analyst for Clairvoyant. Locations :Pune/HYD (Cu...SparkETLAWSPythonIT SkillsCloudBig DataTableau6 Days Agosave\n",
      "Power BI - Data Analyst- PuneSmith & Nephew  3.8(95 Reviews)4-8 Yrs10,00,000 - 14,00,000 PA.Pune Job description:Role Overview:The Data Analyst works with Sr Manager- Reporting & Analy...Power BiSSISSQLSQL Server Reporting ServicesSSRSMSBISQL ServerPower Bi Report Server4 Days Agosave\n",
      "HR Data Analystolam group4.1(520 Reviews)5-10 YrsNot disclosedChennai Graduate / Postgraduate in HR / Statistics/Maths with 5-10 years of experience in Data ...Supply chainBusiness processIT servicesSAPProcess improvementAnalyticalData AnalystOutsourcing5 Days Agosave\n",
      "International Tele Execuitve / IT Data AnalystThe TactTree4.7(5 Reviews)0-1 Yrs1,25,000 - 1,75,000 PA.Vadodara Fixed Day Shift Fresher & experienced both are eligibleQualifications: Graduates in BE ...Exceldata analysisTelesalesstrong communication skillsdata researchOutbound Calling8 Days Agosave\n",
      "Genpact Hiring For Data AnalystGenpact4.0(19227 Reviews)2-6 YrsNot disclosedBangalore/Bengaluru Data AnalystShift Timing: 1 PM 10 PMPreferred Work Location: Bangalore Job Description:...pythonvbaadvanced excelpower biexcelETLverbalRDBMS7 Days Agosave\n",
      "TA Data AnalystNovo Nordisk India4.0(547 Reviews)3-8 YrsNot disclosedBangalore/Bengaluru You should hold any bachelor s degree preferably within human resource management or si...Business servicesExcelPerformance managementSenior managementTalent acquisitionData qualityData AnalystHuman resource management11 Days Agosave\n",
      "Data Analyst - Operations-2IHS Markit4.1(470 Reviews)4-7 YrsNot disclosedNoida Good knowledge of different types of fixed income instruments and terms and conditions ...AutomationData managementFixed incomeAnalyticalPresalesData qualityForecastingOperations11 Days Agosave\n",
      "MIS / Data Analyst (eCommerce / eRetail)  @ PuducherryLumina Datamatics3.5(375 Reviews)3-8 YrsNot disclosedPondicherry/Puducherry Flexible to work in Rotational as well as US shifts Analytical experience required Pref...ExcelMIS ReportingFew Hours Agosave\n",
      "Senior Data Analytics & Insight AnalystJardine Lloyd Thompson4.0(340 Reviews)4-6 YrsNot disclosedPune BE / B Tech in Computer Science or Bachelor/ Master s Degree in Maths or Statistics Deg...Computer scienceData analysisManager Quality AssurancePDFData managementAnalyticalRisk managementMacros5 Days Agosave\n",
      "Senior Data AnalystGAME SHOW NETWORK3.7(3 Reviews)2-6 YrsNot disclosedBangalore/Bengaluru What You ll Do: Here you will work on a top-grossing F2P game, with significant and gro...Computer scienceSASFinancial analysisData collectionData AnalystData qualitySPSSForecasting11 Days Agosave\n",
      "Hiring For Clinical Data Management (Data analyst and Team Lead role)Career Guideline services India Pvt. ltd 4-9 Yrs8,00,000 - 15,00,000 PA.Kolkata, Hyderabad/Secunderabad, Pune, Bangalore/Bengaluru, Mumbai (All Areas) Rotational shiftExperience on all phases of CDM is mandatory, executing relevant core C...clinical data managementclinical data coordinatorinformconductcloseoutRaveclinical data managercdm3 Days Agosave\n",
      "\n"
     ]
    },
    {
     "name": "stderr",
     "output_type": "stream",
     "text": [
      "[WDM] - ====== WebDriver manager ======\n",
      "[WDM] - Current google-chrome version is 102.0.5005\n",
      "[WDM] - Get LATEST chromedriver version for 102.0.5005 google-chrome\n",
      "[WDM] - Driver [C:\\Users\\lenovo\\.wdm\\drivers\\chromedriver\\win32\\102.0.5005.61\\chromedriver.exe] found in cache\n"
     ]
    },
    {
     "name": "stdout",
     "output_type": "stream",
     "text": [
      "Data AnalystKARYA CONSULTANTS PRIVATE LIMITED3-5 YrsNot disclosedBangalore/Bengaluru Should have a firm understanding of data modelling concepts 4+ years of IT experience (...Development TestingWritten CommunicationBlogsData AnalysisData ModelingData AnalyticsBlog WritingAgile DevelopmentTodaysave\n",
      "Analyst - Content and Data ManagementeClerx3.6(2919 Reviews)0-2 YrsNot disclosedMumbai Graduate, but BSc or B Pharm PreferredData ManagementexcelcommunicationwrittenQuality Check2 Days Agosave\n",
      "Analyst - Content and Data ManagementeClerx3.6(2919 Reviews)0-2 YrsNot disclosedMumbai Graduate, but BSc or B Pharm PreferredData ManagementcommunicationwrittenexceldatabaseQuality Check2 Days Agosave\n",
      "Data AnalystBDO INDIA LIMITED LIABILTY PARTNERSHIP3.8(247 Reviews)3-8 YrsNot disclosedMumbai, Pune, Gurgaon/Gurugram Must have extensive experience in one or two databases: Oracle, IBM DB2, SQL Server, op...Power BiDashboardingData AnalyticsSQLdata analysis11 Days Agosave\n",
      "Data AnalystOPPO4.0(3587 Reviews)3-5 YrsNot disclosedGurgaon/Gurugram Attends and participates in both internal meetings and client meetings as requiredPlan ...excelData Analyticsdata analysis7 Days Agosave\n",
      "Analyst - Content and Data ManagementeClerx3.6(2919 Reviews)0-2 YrsNot disclosedMumbai Graduate, but BSc or B Pharm PreferredContent ManagementcommunicationwrittenexcelData profilingData ManagementQuality CheckContent writing2 Days Agosave\n",
      "Data Analyst/data Scientist - C++/c#/javaConfidential5-7 YrsNot disclosedHyderabad/Secunderabad 3 + years of experience in software development with large, multi-discipline teams Expe...C#JavaC++software developmentData MiningMachine LearningHadoopcommunication7 Days Agosave\n",
      "Data Analyst - Python/PySparkHashtag Global Solutions4-9 YrsNot disclosedHyderabad/Secunderabad Attention to detail as data analysis and reporting must be precise Guide the Developmen...Data AnalystTableauData AnalyticsHDFSQlikviewMySQLPigPowerpointTodaysave\n",
      "Data AnalystMJB Technology Solutions3-4 YrsNot disclosedHyderabad/Secunderabad, Pune 2+ of progressive and relevant work experience Wants first-hand experience in how Data ...ETLData AnalysisPythonSQLIT SkillsData ScienceComputer scienceDatabase4 Days Agosave\n",
      "Data AnalystArgus Media2-5 YrsNot disclosedMumbai Contribute to team effort by assisting with special projects when required Good knowled...AnalyticalConsultingHealthcareData processingActuarialData qualityOracleBusiness intelligence5 Days Agosave\n",
      "Associate - Data AnalystTeachers Insurance and Annuity Association of America (TIAA)4.4(18 Reviews)1-4 YrsNot disclosedPune Key Responsibilities and Duties Conducts requirements gathering and analysis to underst...Software testingUsageAssociate Data AnalystOperating systemsCodingTechnical designManager TechnologyProgrammingFew Hours Agosave\n",
      "Data AnalystSmart Ship Hub Digital India Pvt. Ltd  3-7 Yrs4,00,000 - 9,00,000 PA.Pune Building and iterating reports (with eventual design collaboration) based around a larg...pythonopen sourceMachine LearningTableauwritten communicationexcelPower BIverbalJust Nowsave\n",
      "DATA ANALYSTGEMINI EXPORTS3.3(10 Reviews)2-5 YrsNot disclosedMumbai Roles and Responsibilities : The role would include extraction, cleaning, reporting, an...Data validationpricing analysisPharmaCompetitor analysisPortfolio analysisStrategic planningMarket researchmarket data1 Day Agosave\n",
      "Data AnalystIRIS KPO RESOURCING INDIA PVT LTD4.1(41 Reviews)3-5 Yrs5,00,000 - 10,00,000 PA.Chennai The analyst must demonstrate the ability to work independently and efficiently.Candidat...data analystSQLXactlySalesforce2 Days Agosave\n",
      "Data AnalystEverest Fleet Pvt. Ltd. 3.9(3 Reviews)1-6 YrsNot disclosedThane Presenting various analysis and reports to the management as and when requiredExperienc...advanced excelGoogle SheetsC++mis reportingData StructuresMySQLpower biTableau3 Days Agosave\n",
      "Data AnalystShreshta Analytics Pvt Ltd3-8 Yrs5,00,000 - 10,00,000 PA.Hyderabad/Secunderabad(Jubilee Hills) SQL Developer & Data Analyst - Job descriptionRole:The candidate shall be responsible f...ExcelSQL DevelopmentPythonSnowflakeLookeranalyticsdata analyticsR4 Days Agosave\n",
      "Data AnalystApps Associates4.0(86 Reviews)3-6 YrsNot disclosedGurgaon/Gurugram 6 years of professional work experience with a reputed analytics firm Experience of dep...PythonPySparkAzureETLSQLAmazon Web ServicesIT SkillsSoftware Development5 Days Agosave\n",
      "Data Analyst , Ad Revenue OperationsNational Geographic2-7 YrsNot disclosedMumbai B Tech or BS in Mathematics, Economics, Statistics from a premier college MBA from the ...Data analysisAutomationProduct engineeringSalesWeb technologiesSales operationsAnalyticalProject management5 Days Agosave\n",
      "Data AnalystAaneel Infotech Private limited4.6(6 Reviews)1-7 YrsNot disclosedAhmedabad Good understanding of database architecture would be preferredExperience to conlude dat...PythonExcelSQLIT SkillsPDFQuality checkAnalyticalData collection5 Days Agosave\n",
      "Data AnalystLICENSE INDIA ADVISORY PRIVATE LIMITED 3-4 Yrs3,00,000 - 6,00,000 PA.Faridabad Bachelors degree from an accredited university or college in computer scienceDemonstrat...data analysisData ManagementData AnalyticsdashboardsMIS7 Days Agosave\n",
      "\n"
     ]
    },
    {
     "name": "stderr",
     "output_type": "stream",
     "text": [
      "[WDM] - ====== WebDriver manager ======\n",
      "[WDM] - Current google-chrome version is 102.0.5005\n",
      "[WDM] - Get LATEST chromedriver version for 102.0.5005 google-chrome\n",
      "[WDM] - Driver [C:\\Users\\lenovo\\.wdm\\drivers\\chromedriver\\win32\\102.0.5005.61\\chromedriver.exe] found in cache\n"
     ]
    },
    {
     "name": "stdout",
     "output_type": "stream",
     "text": [
      "SQL Data Analyst HDI1011\n",
      "Harmony Data Integration Technologies4.7(2 Reviews)1-5 YrsNot disclosedMohali Work from Home Workstation FurnitureCandidate should Produce ad hoc and project-based a...MySQLCSQL QueryJavacommunicationSCRUMGoogle Cloudanalytical6 Days Agosave\n",
      "Hiring Data AnalystsPROVIDENCE GLOBAL CENTER LLP4.6(11 Reviews)3-7 Yrs5,00,000 - 15,00,000 PA.Hyderabad/Secunderabad 1 yr working with EMR data, preferably Epic 2 yrs Experience working with data visualiz...pythonTableauReporting Toolssqlreporting tool1 Day Agosave\n",
      "Data AnalystGTB3.1(9 Reviews)2-3 YrsNot disclosedChennai Execute tests, collect and analyze data, identify trends and insights in order to achie...Campaign planningMIS reportingdata servicesconsumer marketingWorkflowGeneticsAnalyticsCRM5 Days Agosave\n",
      "HR Data AnalystRefinitiv4.2(165 Reviews)1-4 YrsNot disclosedBangalore/Bengaluru Other projects as required in support of LSEG integration and transformationPayrollData managementStock exchangeFinancedata governanceHealthcaredata integrityHRJust Nowsave\n",
      "Hiring For Data AnalystTaikee2-5 Yrs3,50,000 - 6,00,000 PA.Bangalore/Bengaluru Graduate in science / engineering/IT stream Should have Strong SQL experience 2-4 years...Advance exceldata analysisgoogle analyticsData Analyticsdashboardsbusiness analysis10 Days Agosave\n",
      "Clinical Data Analyst / Clinical research/Pharmacovigilance InternshipResolve0-0 Yrs2,50,000 - 3,00,000 PA.Kochi/Cochin, Coimbatore, Trivandrum/Thiruvananthapuram Clinical Research, Pharmacovigilance & Clinical Data Management for fresher internship ...clinical data managementClinical ResearchPharmacovigilance16 Days Agosave\n",
      "Business Analyst / Data Analystcliqhr.com5-8 YrsNot disclosedMumbai, Hyderabad/Secunderabad, Pune, Chennai, Bangalore/Bengaluru • Clarifies and translates business requirement to IT system functional requirement and...Business AnalysisData Analysisdata designETLtechnical solution design11 Days Agosave\n",
      "Manager Data Analyst - Business InsightsSaavn, LLC5-8 YrsNot disclosedMumbai Bachelor s or higher degree in Data Analytics, Data Science, Statistics, Math, Engineer...Computer scienceData analysisProcess improvementAnalyticalData Analystdata visualizationmicrosoftProduct marketing13 Days Agosave\n",
      "Data Analyst /Senior Data Analyst/Lead Data AnalystIntelliest Technology4.9(14 Reviews)3-8 YrsNot disclosedBangalore/Bengaluru Profile Summary:Designing Business strategies based on data findings and complete imple...power biData AnalyticsJupyter NotebookMachine LearningPythondata analysispure play14 Days Agosave\n",
      "Senior Data AnalystQualitest India Private Limited3.7(111 Reviews)5-8 YrsNot disclosedBangalore/Bengaluru Shift: Flexible timings IST, CET 8 years experience in Data AnalyticsGood knowledge of ...Data AnalyticsGoogle Data StudioPowerBIanalyticalTableauMS ExcelJavaScriptSQL12 Days Agosave\n",
      "Data Analyst - Zydus LifesciencesZydus Lifesciences Limited4.2(80 Reviews)2-7 YrsNot disclosedMumbai Suburban Serves as custodian of masters and sales database, category data, inventory data, , cam...excelData Analystdashboardspythondata scienceQlik SenseData AnalysisTableau8 Days Agosave\n",
      "Corporate FPandA Data AnalystKBR4.4(199 Reviews)3-8 YrsNot disclosedChennai Bachelor degree in Computer science, Engineering or other relevant field Experience wor...SAPCodingProcess improvementAnalyticalFinancial planningBudgetingOracleForecasting8 Days Agosave\n",
      "Data Analyst ( Outsourced)ONEPLUS TECHNOLOGY INDIA PRIVATE LIMITED4.0(163 Reviews)3-5 YrsNot disclosedBangalore/Bengaluru DESCRIPTIONLooking for a Data Analyst who is excited about simplifying data reports for...data analysisanalytics reportingdata managementvbadashboards12 Days Agosave\n",
      "Associate Data Analyst, Marketing AnalyticsGartner India Research &amp; Advisory Services Pvt Ltd4.2(166 Reviews)1-3 YrsNot disclosedGurgaon/Gurugram Undergraduate degree requiredMinimum 1-3 years of experience in sales / marketing data ...written communicationSQL databasesBig QueryverbalsalesAdvanced ExcelREloqua7 Days Agosave\n",
      "HR Data Analyst - Specialist/leadOlam International4.1(522 Reviews)7-7 YrsNot disclosedChennai, Chennai Interpret briefs and instructions, gather required data from multiple sources and prepa...HR AnalystData ValidationMS ExcelPower BIDataTableauMIS ReportingMacros11 Days Agosave\n",
      "Associate Professional Data AnalystDXC Technology3.9(6329 Reviews)3-6 YrsNot disclosedGurgaon/Gurugram Bachelors degree in information systems, computer science or related field preferred Ba...Communicationdata analysisrelational databasesdata modelingComputer scienceClient satisfactionProgrammingData structures11 Days Agosave\n",
      "Senior Data AnalystsRide3-8 YrsNot disclosedKolkata, Mumbai, New Delhi, Hyderabad/Secunderabad, Pune, Chennai 3+ years of experience in working as an Analyst in Product FirmsData analysisProduct engineeringHTMLData AnalystBusiness intelligenceOperationsSQLData extraction8 Days Agosave\n",
      "Senior Data Analyst - SQL | Advance Auto PartsTALENT500 TECH (INDIA) PRIVATE LIMITED3.2(9 Reviews)4-8 YrsNot disclosedHyderabad/Secunderabad Bachelors in Computer Science, Mathematics, Engineering, Data Analytics, Statistics, or...sql7 Days Agosave\n",
      "Sr. Data AnalystAdvance Auto Parts4.3(41 Reviews)1-2 YrsNot disclosedHyderabad/Secunderabad Responsibilities : The role will be part of a merit-based organization with a culture o...Computer scienceAnalyticalMachine learningSenior Data AnalystHypothesis TestingPredictive modelingdata visualizationData mining8 Days Agosave\n",
      "Senior Data AnalystAIR Worldwide3.8(12 Reviews)3-5 YrsNot disclosedNew Delhi Design and complete data analysis projects with large data sets to gather insights requ...IT SkillsPythonTestingData ScienceMachine LearningTableauPower BIAutomation7 Days Agosave\n",
      "\n"
     ]
    },
    {
     "name": "stderr",
     "output_type": "stream",
     "text": [
      "[WDM] - ====== WebDriver manager ======\n",
      "[WDM] - Current google-chrome version is 102.0.5005\n",
      "[WDM] - Get LATEST chromedriver version for 102.0.5005 google-chrome\n",
      "[WDM] - Driver [C:\\Users\\lenovo\\.wdm\\drivers\\chromedriver\\win32\\102.0.5005.61\\chromedriver.exe] found in cache\n"
     ]
    },
    {
     "name": "stdout",
     "output_type": "stream",
     "text": [
      "Senior Analyst, Data Science (I6)Dell International Services IndiaPrivate Limited2-7 YrsNot disclosedBangalore/Bengaluru Typically requires 2+ years of related experience in a professional role with a Bachelo...Data warehousingAzure Data FactoryData developmentNoSQLAzure servicesETLcloud platformPython2 Days Agosave\n",
      "Senior Analyst - Data ServicesRF Managed Services India Pvt Ltd2.6(30 Reviews)3-5 YrsNot disclosedChennai Graduates / Post Graduates in any stream Skill Set / Competencies Required Laterals wit...Application supportERPAutomationData conversionManaged servicesData managementMISProcess improvement4 Days Agosave\n",
      "Senior Data AnalystLatentView4.0(68 Reviews)3-6 YrsNot disclosedChennai, Bangalore/Bengaluru manage the Client Relationship by interacting with client on a regular basis to obtain ...SQLanalyticsr18 Days Agosave\n",
      "Data Analyst / Senior Data Analyst roleMyGlamm3.5(57 Reviews)1-6 YrsNot disclosedDelhi / NCR, Mumbai (All Areas) Hiring for a Data Analyst / Senior Data Analyst @ The Good Glamm Group who can join imm...SQLRPower BIadvanced excelgoogle analyticsTableauPython11 Days Agosave\n",
      "Senior Data AnalystOptum4.2(1777 Reviews)6-10 YrsNot disclosedNoida Combine two of the fastest-growing fields on the planet with a culture of performance, ...PythonPower BIHadoopSparkTableauproblem-solvingData StructureSQL19 Days Agosave\n",
      "Senior Data AnalystVerisk Analytics3.9(23 Reviews)5-10 YrsNot disclosedDelhi / NCR About the roleThe Senior Data Analyst, Customer Success Operations role will serve a ke...SQLIT SkillsPythonTestingData ScienceMachine LearningTableauPower BI11 Days Agosave\n",
      "Manager - Data AnalystHuquo Consulting Pvt. Ltd3-8 YrsNot disclosedGurgaon/Gurugram, Delhi / NCR Data analysis or rigorous problem solving experience Experience working with large and ...AnalyticsanalyticalData analysisExcelSQLPythonIT SkillsData Analytics1 Day Agosave\n",
      "Data Analyst - Machine/Deep Learning AlgorithmsHuquo Consulting Pvt. Ltd2-7 YrsNot disclosedGurgaon/Gurugram, Delhi / NCR Very strong analytical skills with the demonstrated ability to research and make decisi...TensorflowSQLIT SkillsPythonData ScienceMachine LearningData AnalystData Analytics4 Days Agosave\n",
      "Data Analyst - Consumer GoodsExpro Search2-3 YrsNot disclosedMumbai Demonstrated experience in decomposing complex data, identifying data relationships, da...Excelpower biStatisticsReport generationUsageAnalyticalData AnalystData analytics4 Days Agosave\n",
      "Data analyst in Pythoncliqhr.com4-7 YrsNot disclosedMumbai, Hyderabad/Secunderabad, Chennai, Bangalore/Bengaluru Experience as a Machine Learning Developer or similar rolePythonmachine learningNumPyPandasdata structuresAnalyticalscikitdata modeling6 Days Agosave\n",
      "Data Analyst - NDHM - DelhiNISG (National Institute for Smart Government)3.4(109 Reviews)4-9 YrsNot disclosedNew Delhi Should be able to extract data and create reports by writing and managing complex SQL q...Public HealthData AnalysisHealth Insurance7 Days Agosave\n",
      "Solution Analyst - Data and AnalyticsIntel4.4(341 Reviews)4-8 YrsNot disclosedBangalore/Bengaluru sprint planning and retrospectives) as requiredComputer scienceEnterprise applicationsAgileScrumAnalyticsBusiness processData analysisMatrix5 Days Agosave\n",
      "Solution Analyst - Data and AnalyticsIntel4.4(341 Reviews)3-6 YrsNot disclosedBangalore/Bengaluru You must possess the below minimum qualifications to be initially considered for this p...Computer scienceBusiness processData analysisMatrixEnterprise applicationsAgileScrumManagement5 Days Agosave\n",
      "Big Data AnalystPayU4.2(194 Reviews)1-4 YrsNot disclosedGurgaon/Gurugram Key Responsibilities: To gather and accumulate data from disparate sources, process it,...Computer scienceData analysisProcess improvementMachine learningManager Technologybig data analystData qualitybig data11 Days Agosave\n",
      "Senior Data Management AnalystMoody's4.0(85 Reviews)3-6 YrsNot disclosedBangalore/Bengaluru Responsible for managing all data acquisition, mapping and quality efforts related to s...project managementData ManagementData AnalystSQLABSCMBSdata cleanupdata strategy8 Days Agosave\n",
      "Senior Analyst - Data AnalyticsThe Hackett Group3.8(37 Reviews)4-6 Yrs4,75,000 - 8,50,000 PA.Hyderabad/Secunderabad The Senior Analyst- Data Analytics is an individual who provides support to the interna...SPSSData AnalyticsR ProgramSpss StatisticsData ExtractionAdvanced ExcelTableauStatistical Analysis5 Days Agosave\n",
      "Senior Analyst - Data AcquisitionGSK India4.3(1138 Reviews)4-7 YrsNot disclosedBangalore/Bengaluru 4+ years of data acquisition experience or related job experience in Clinical Research ...ProcurementUnixSASData managementHealthcareClinical researchPLSQLManager Quality Control4 Days Agosave\n",
      "Senior BT FP&A/Data AnalystPayPal4.3(324 Reviews)4-8 YrsNot disclosedChennai Bachelor s degree or equivalent required, especially in a quantitative field You should...Project managementAnalyticalManagement consultingData structuresMS OfficeFinancial modellingAnalyticsFinancial services11 Days Agosave\n",
      "Data AnalystAdecco India Private Limited   7-10 Yrs22,50,000 - 25,00,000 PA.Pune, Chennai(WFH during Covid) Proven self-motivation to take initiative and master new tasks quickly Experience in da...Financedata analystdata analysisSQLwrittenverbal communicationBig DataMS Office1 Day Agosave\n",
      "Data AnalystAdecco India Private Limited   2-5 Yrs4,00,000 - 5,50,000 PA.Gurgaon/Gurugram Should be Able to attend Interview in Ready to goanalytics reportingdata analysisdashboardsFew Hours Agosave\n",
      "\n"
     ]
    },
    {
     "name": "stderr",
     "output_type": "stream",
     "text": [
      "[WDM] - ====== WebDriver manager ======\n",
      "[WDM] - Current google-chrome version is 102.0.5005\n",
      "[WDM] - Get LATEST chromedriver version for 102.0.5005 google-chrome\n",
      "[WDM] - Driver [C:\\Users\\lenovo\\.wdm\\drivers\\chromedriver\\win32\\102.0.5005.61\\chromedriver.exe] found in cache\n"
     ]
    },
    {
     "name": "stdout",
     "output_type": "stream",
     "text": [
      "Lead Data AnalystSAGE INNOVATION SERVICES PRIVATE LIMITED 4-8 YrsNot disclosedNoida, Visakhapatnam, Hyderabad/Secunderabad, Pune, Delhi / NCR, Bangalore/Bengaluru, Mumbai (All Areas) Prior insurance experience mandate and agency management system experience desired4 -8 ...VB.netData MigrationData IntegrationSQLData Mapping8 Days Agosave\n",
      "Data AnalystSpawn Ventures Services Private Limited5-10 Yrs5,00,000 - 12,00,000 PA.Pune, Bangalore/Bengaluru, Delhi / NCR Experience- Minimum 5 years of practical work experience in banking and finance industr...sqlData AnalysisPL / SQLMicrosoft DataHadoopOracleIT Skillscloud8 Days Agosave\n",
      "Data AnalystEversana4.4(35 Reviews)3-8 YrsNot disclosedHyderabad/Secunderabad, Pune, Bangalore/Bengaluru, Mumbai (All Areas) OUR CULTURAL BELIEFSPatient Minded: I act with the patients best interest in mind.Clien...Data ValidationData AnalysisData VerificationR ProgramPython7 Days Agosave\n",
      "Data Quality and Governance AnalystIB Services &amp; Technologies3.2(3 Reviews)2-5 YrsNot disclosedBangalore/Bengaluru Technical Skills : 3 years of data quality management/data analyst related experience i...agile methodologiesdata analysisInformatica Data QualityPowerCenterPysparkAzure Data Lake StorageAzure DataBricksMS Office suiteJust Nowsave\n",
      "Data AnalystSix Sails Technologies India Private Limited 2.8(6 Reviews)2-4 YrsNot disclosedFaridabad(WFH during Covid) Development and customisation of company databases applicants should be able to create ...Data AnalysisPowerPivotAdvance ExcelMS AccessPivotMS SQLExcelOffice Suite7 Days Agosave\n",
      "Data AnalystVIAPROM Analytics2-4 YrsNot disclosedKochi/Cochin, Mumbai Should be excellent with Python language & various libraries like pandas, numpy, seabor...Pythonsql queriesdata analyticsdata analysisExcelPowerbinumpyTableau11 Days Agosave\n",
      "Data Analyst ll - Data ScienceWalmart4.2(11295 Reviews)2-5 YrsNot disclosedBangalore/Bengaluru Completed or about to complete graduate (full time Bachelors) degree or above Experienc...IT SkillsPythonTestingData ScienceMachine LearningCloudBig DataSupply chain15 Days Agosave\n",
      "Associate Data AnalystOptum4.2(1777 Reviews)2-7 YrsNot disclosedBangalore/Bengaluru B Tech / BE or MCA with excellent communication skills in English, both oral and writte...Power BIC# scriptingAssociate Data AnalystSSRSMSBISSISMSSQLSDLC12 Days Agosave\n",
      "Data Analyst (Sales Analytics) - BangaloreK12 Techno Services3.2(308 Reviews)1-6 Yrs4,00,000 - 4,50,000 PA.Bangalore/Bengaluru Proficiency in Microsoft office and CRM softwareExperience in sales analysisExperience:...Data CompilationData Analysissales analyticsData Reportingsales analysiscrm software8 Days Agosave\n",
      "Associate Data AnalystOptum4.2(1777 Reviews)1-4 YrsNot disclosedBangalore/Bengaluru Experience designing, developing and implementing and maintaining database and programs...SSIS reportingReporting ServicesIntegration ServicesBusiness IntelligenceMCDBAMS SQL Server 2012SSRSOracle 12c12 Days Agosave\n",
      "IT Data AnalystJuniper Networks4.3(171 Reviews)3-7 YrsNot disclosedBangalore/Bengaluru ITIL v3 or v4 certification preferred Analyze current manual end user processes, define...Business processTrainingInterpersonal skillsNetworkingAnalyticalSoftware development life cycleData Analystservice catalog13 Days Agosave\n",
      "Data AnalystGroww4.1(32 Reviews)2-5 YrsNot disclosedBangalore/Bengaluru Key Role Responsibilities: - Preparing reports for the management stating trends patter...AutomationManager Technologydata integrityData AnalystInvestment bankingManagementData warehousingFinancial services15 Days Agosave\n",
      "Data AnalystZF India Private Limited3.8(461 Reviews)2-5 YrsNot disclosedCoimbatore Minimum 3 years working experience in the data analytics domain You have relevant worki...data analyticsSQLPythonPowerShellIT SkillsData ScienceProcess automationComputer science11 Days Agosave\n",
      "Data AnalystSADUP SOFTECH PVT.LTD3.9(8 Reviews)0-0 YrsNot disclosedHyderabad/Secunderabad The Offer Join a well known brand within IT Software Excellent career development oppor...Data VisualizationModel BuildingMachine LearningStatisticsPythonIT SkillsData ScienceNatural Language Processing13 Days Agosave\n",
      "Data AnalystMicrolise Telematics Pvt. Ltd.3.5(27 Reviews)3-5 Yrs5,00,000 - 9,00,000 PA.Pune KEY PURPOSE OF ROLE The Microlise Service Desk is made up of business swarms (Normal, P...data analysisTelecom BillingData QualityData ManagementData Integration11 Days Agosave\n",
      "Associate Manager Data AnalystOptum4.2(1777 Reviews)7-12 YrsNot disclosedNoida Undergraduate degree or equivalent experience Good communication skills and interact to...Microsoft technologiescontract managementdata analysisdata analystsETL tools.NetTableauSQL server12 Days Agosave\n",
      "Data AnalystGSK India4.3(1138 Reviews)1-2 YrsNot disclosedBangalore/Bengaluru Reviews the Data Management Plan and associated documents and provides relevant inputs ...ProcurementData managementReconciliationHealthcareClinical researchLife sciencesManager Quality Controlmicrosoft19 Days Agosave\n",
      "Job Opportunity For Business Analyst -Data (Pune)Peoplefy Infosolutions Pvt. Ltd.  4-9 YrsNot disclosedPune Hands-on experience as Business AnalystExperience on Data ( AI, ML, Data Science) as Bu...Master Data ManagementBig Databusiness analysisData GovernanceMDMData QualityIT SkillsData ScienceTodaysave\n",
      "Business Analyst/Data AnalystDATAECONOMY4.5(7 Reviews)5-7 YrsNot disclosedHyderabad/Secunderabad Experience working in AWS (Redshift) is good to haveOverall Experience of 5-7 Years in ...IT servicesSANHead Business DevelopmentPDFSOCSMSData AnalystTeradata18 Days Agosave\n",
      "Senior Data Analyst | LululemonTALENT500 TECH (INDIA) PRIVATE LIMITED3.2(9 Reviews)5-8 YrsNot disclosedBangalore/Bengaluru ResponsibilitiesUses structured tools for analysis and presentation of concepts and mod...JavaSQL12 Days Agosave\n",
      "\n"
     ]
    },
    {
     "name": "stderr",
     "output_type": "stream",
     "text": [
      "[WDM] - ====== WebDriver manager ======\n",
      "[WDM] - Current google-chrome version is 102.0.5005\n",
      "[WDM] - Get LATEST chromedriver version for 102.0.5005 google-chrome\n",
      "[WDM] - Driver [C:\\Users\\lenovo\\.wdm\\drivers\\chromedriver\\win32\\102.0.5005.61\\chromedriver.exe] found in cache\n"
     ]
    },
    {
     "name": "stdout",
     "output_type": "stream",
     "text": [
      "Senior Data AnalystSnaphunt5.0(3 Reviews)4-9 Yrs10,00,000 - 20,00,000 PA.Gurgaon/Gurugram The micro-influencer platform enables women to earn by participating in marketing campa...data analysisdata analyticsdata miningtime series analysispythonpredictive modelinglinear regressionlogistic regression13 Days Agosave\n",
      "Sr Data AnalystBatchService Pvt Ltd 5-10 YrsNot disclosedRemote Job SummaryWe are looking for an experienced data analyst, preferably with additional d...pythonmachine learningartificial intelligenceDatabricksdata analyticsSAASsqlTelecom15 Days Agosave\n",
      "Healthcare/Insurance Data AnalystCollabera Services Private Limited   3-8 YrsNot disclosedVadodara Healthcare Data Analyst Requirements: Bachelors degree in mathematics, statistics, heal...data managementdata manipulationhealthcare managementIT SkillsPythondata analysissqlTodaysave\n",
      "Data AnalystSmith & Nephew3.8(95 Reviews)3-6 YrsNot disclosedPune Must be comfortable working at all levels of the organization and possess platform skil...Computer scienceData analysisAutomationBusiness analyticsAnalyticalBusiness strategyCustomer engagementOperations7 Days Agosave\n",
      "Retail Data Analystidfc first bank4.0(4574 Reviews)2-5 YrsNot disclosedMumbai Graduate - Any Post Graduate - Any 5 Years of experienceStress testingAudit complianceRegulatory reportingBankingRetail lendingData AnalystIFRSForecasting8 Days Agosave\n",
      "Data Quality AnalystTATA CONSULTANCY SERVICES (TCS)3.9(43255 Reviews)2-5 YrsNot disclosedChennai Experience Range: 2 to 5 years Associate with hands on experience in ETL Testing Experi...Data Warehouse TestingData Quality ManagementETL ToolCloudETLData quality toolingVerbalAnalytical4 Days Agosave\n",
      "Data Operations Analyst / Executive , Pune LocationOn Demand Agility Software3.8(58 Reviews)3-8 Yrs6,00,000 - 15,00,000 PA.Pune Bachelor s degree in a quantitative discipline (e.gPreferred : 1 to 3 years of online a...Data AnalysisData Analysis ExpressionsData Management6 Days Agosave\n",
      "Urgent hiring For Senior Data AnalystupGrad3.1(412 Reviews)2-7 Yrs6,00,000 - 10,00,000 PA.Bangalore/Bengaluru Below are the skills Required Highly proficient in Advance SQLHaving 1-3 yrs hands-on e...Business AnalyticsSQLDashboard DevelopmentReporting And AnalyticsBusiness IntelligenceClevertapGoogle AnalyticsPython Data Analytics12 Days Agosave\n",
      "Data Analyst -Senior Engineer/LeadsACS Global Tech Solutions Pvt. Ltd.3.7(61 Reviews)3-8 YrsNot disclosedNoida, Hyderabad/Secunderabad Mandatory Skill: Advance Excel.MS EXCELStrong command over managing stake holders.Extra...advanced excelVLOOKUPConditional Formattingdata gapsHLOOKUPMS EXCELAdvance ExcelPivot Table12 Days Agosave\n",
      "Senior Data AnalystINSPIRE ANALYTICS PRIVATE LIMITED3-5 Yrs12,00,000 - 15,00,000 PA.Chennai(WFH during Covid) This role will focus on discovering product and behavioral insights and turning them in...SQLAirflowengagementPlotlySchemaDataTableauJupyter Notebook18 Days Agosave\n",
      "Sr.Analyst- Data AnalyticsSigma Aldrich3.4(14 Reviews)2-6 YrsNot disclosedBangalore/Bengaluru Bachelor s / Masters degree in Business, Accounting, Finance, Statistics, Data Analytic...Computer sciencePayrollData analysisBusiness objectsSAPPharmaHealthcareMS Office11 Days Agosave\n",
      "Senior Audit Data AnalystColgate-Palmolive (India)4.3(563 Reviews)6-9 YrsNot disclosedMumbai Audit Data Analyst, you must demonstrate good communication, planning, administrative, ...AssuranceSAPAnalyticalRisk assessmentRisk managementData miningInformation technologyAuditing12 Days Agosave\n",
      "Senior Data Management AnalystWells Fargo4.2(2987 Reviews)4-9 YrsNot disclosedSerilingampally, Bangalore/Bengaluru 4+ years of Data Management, Business Analysis, Analytics, Project Management experienc...Data ManagementIT SkillsTestingProject ManagementTableauBPOproject managementdata quality15 Days Agosave\n",
      "Senior Data Management AnalystWells Fargo4.2(2987 Reviews)4-9 YrsNot disclosedBangalore/Bengaluru 4+ years of Data Management, Business Analysis, Analytics, Project Management experienc...Data ManagementIT SkillsTestingProject ManagementTableauBPOproject managementAgile Methodology15 Days Agosave\n",
      "Senior Data Management AnalystWells Fargo4.2(2987 Reviews)8-13 YrsNot disclosedBangalore/Bengaluru Senior Data Management Analyst role will be supporting and maintaining Wholesale master...Data ManagementIT SkillsOracledata modelsData Management AnalystAgileMaster Data ManagementPLSQL19 Days Agosave\n",
      "Hiring For Data Analyst-Bangalore-Contract rolePERSOLKELLY INDIA PRIVATE LIMITED    2-5 Yrs4,00,000 - 5,00,000 PA.Bangalore/Bengaluru Educational Qualification---Bachelor s degree with minimum 2 years experience Annual CT...data analysisExcelData AnalyticsPowerpointdata analystcommunication skills7 Days Agosave\n",
      "Data AnalystHyrEzy Talent Solutions2-5 YrsNot disclosedMumbai Experience & Qualification: 2-5 years of relevant experience, any graduate, bias on act...SQLMIS reportingRBI toolsPower BIdata manipulationData AnalystTableau5 Days Agosave\n",
      "Data AnalystKARMAA SOLUTIONS5-10 YrsNot disclosedVadodara Roles and Responsibilities Designing and maintaining data systems and databases; this i...Executive LeadershipStatistical ToolsReport PreparationData AnalysisData MaintenanceData GovernancePredictive AnalyticsTodaysave\n",
      "Data AnalystVision India Services Private Limited   4-6 Yrs4,00,000 - 6,00,000 PA.Noida Bachelors Degree in Mathematics or Computer Engineering 2+ years Data mining experienceData Analyticsdata analysisData Managementbusiness reportingData Extraction8 Days Agosave\n",
      "Manager - Data AnalystHuquo Consulting Pvt. Ltd3-8 YrsNot disclosedGurgaon/Gurugram, Bangalore/Bengaluru, Delhi / NCR Data analysis or rigorous problem solving experience Experience working with large and ...Data AnalyticsAnalyticsSQLPythonanalyticalData analysisExcelIT Skills8 Days Agosave\n",
      "\n"
     ]
    },
    {
     "name": "stderr",
     "output_type": "stream",
     "text": [
      "[WDM] - ====== WebDriver manager ======\n",
      "[WDM] - Current google-chrome version is 102.0.5005\n",
      "[WDM] - Get LATEST chromedriver version for 102.0.5005 google-chrome\n",
      "[WDM] - Driver [C:\\Users\\lenovo\\.wdm\\drivers\\chromedriver\\win32\\102.0.5005.61\\chromedriver.exe] found in cache\n"
     ]
    },
    {
     "name": "stdout",
     "output_type": "stream",
     "text": [
      "Data Analyst - PythonHuquo Consulting Pvt. Ltd4-9 YrsNot disclosedGurgaon/Gurugram, Bangalore/Bengaluru Data analysis or rigorous problem solving experience Experience working with large and ...PythonSQLData analysisanalyticalExcelIT SkillsData AnalystData Analytics10 Days Agosave\n",
      "Data AnalystCarboline India Private Limited 4.8(10 Reviews)4-9 YrsNot disclosedCoimbatore * 5 to 7 years’ experience as a business analyst * Very good understanding of manufactu...Power biData AnalysisVBA ProgrammingIT SkillsData ManagementData ExtractionData AnalyticsSQL6 Days Agosave\n",
      "Data AnalystValuvox Business Solutions Private Limited2-4 Yrs4,50,000 - 5,50,000 PA.Bangalore/Bengaluru(4th Block Jayanagar) Must have: good data analytics skills (R, python and advanced excel), problem solving s...data analysisbusiness understandingStatistical ToolsEconomic AnalysisPredictive Analyticspythondata analyticsAnalytical Skills19 Days Agosave\n",
      "Data Analyst - IIT/BITS/StartupsAVE-Promagne1-5 YrsNot disclosedBangalore/Bengaluru Purpose• Identify commercial data science opportunities in the data sources that alread...data analysisdata analyticsdata sciencepredictive analyticssqlStakeholder Management12 Days Agosave\n",
      "Data AnalystQualitest India Private Limited3.7(111 Reviews)2-5 YrsNot disclosedBangalore/Bengaluru Weekend working 3 days during Monday to Friday and also flexible to work in night shift...writtencommunicationSoftware testingremediationUsageManager Quality AssuranceAnalyticalWorkflow19 Days Agosave\n",
      "Data AnalystCambridge Technology Enterprises Limited4.1(47 Reviews)5-8 Yrs10,00,000 - 15,00,000 PA.Hyderabad/Secunderabad(WFH during Covid) We are open to hiring for this role either in Hyderabad / Bengaluru!!Data Analyst who c...PysparkData MiningPythonIT SkillsTestingMachine LearningCloudAWS13 Days Agosave\n",
      "Data AnalystPro-Vigil, Inc. (A Riverside Group Company)2.8(13 Reviews)2-5 YrsNot disclosedVisakhapatnam Flexible work hours, with opportunities to work from homeWork Schedule: Shifts are days...sqlIT SkillsTableauPower BISalesforcedata analysisExcelData Management13 Days Agosave\n",
      "Analyst, Data Management & Quantitative AnalysisBNY Mellon4.2(2399 Reviews)0-2 YrsNot disclosedPune Bachelors degree or the equivalent combination of education and experience 2 years expe...AnalystData managementAnalyticalFinanceManager TechnologyRepresentativeQuantitative analysis13 Days Agosave\n",
      "Analyst, Data Management & Quantitative AnalysisBNY Mellon4.2(2399 Reviews)0-2 YrsNot disclosedChennai Bachelors degree or the equivalent combination of education and experience 2 years expe...AnalystData managementAnalyticalFinanceManager TechnologyRepresentativeQuantitative analysis13 Days Agosave\n",
      "Data Analyst / Product Analyst / Business AnalystBenchire2-5 YrsNot disclosedBangalore/Bengaluru, Delhi / NCR Responsibilities:• Building dashboards using techniques for advanced analytics, interac...SQLIT SkillsData ScienceTableauProduct AnalystAdvance ExcelVisualizationGoogle Analytics11 Days Agosave\n",
      "Data Modeling Techniques and Methodologies Business AnalystAccenture4.1(28676 Reviews)6-8 YrsNot disclosedBangalore/Bengaluru Work Experience : 6-8 yearsProduction supportData modelingXMLSDLCPythonIT SkillsBig DataTDD1 Day Agosave\n",
      "Opportunity For Business Analyst - Data Science  with PayUPayU4.2(194 Reviews)2-4 YrsNot disclosedGurgaon/Gurugram, Bangalore/Bengaluru, Delhi / NCR, Mumbai (All Areas) Dear Candidate, We are looking to add a Business Analyst / Data Scientist to our team, ...Data scientistRNLPNatural Language ProcessingMachine LearningDeep LearningPython18 Days Agosave\n",
      "Business Analyst - Data SciencePayU4.2(194 Reviews)4-9 YrsNot disclosedBangalore/Bengaluru A degree in Statistics, Computer Science, Mathematics or other similar quantitative fie...Computer scienceWealth managementLead Business AnalystMachine learningManager TechnologyStakeholder managementFinancial servicesAnalytics18 Days Agosave\n",
      "Data Analyst /Big Data Testing EngineerINFOWEB 0-2 YrsNot disclosedPune The primary focus will be on choosing optimal solutions to use for these purposes, then...databasesHadoop File SystemNoSQLCassandraMongoDBETLIT SkillsBig Data7 Days Agosave\n",
      "Virtue Analytics - Data AnalystVirtue Analytics4.6(5 Reviews)1-3 YrsNot disclosedLucknow Are available for full time Skill(s) required Min 1-year experienceData AnalysisRExcelPython Microsoft OfficeAnalytical thinkingtestingDesigningmanaging7 Days Agosave\n",
      "Data Analyst - LookerVinayak Solutions Pvt. Limited1-4 Yrs4,00,000 - 8,00,000 PA.Delhi / NCR(East Patel Nagar) BTech any stream (preferably CS, IT, Electronics)Optional RequirementExperience on spec...lookml codingtableaudata analysislookml transcriptionlookmllookerdata analystsql7 Days Agosave\n",
      "Data Science AnalystShell4.3(1088 Reviews)2-7 YrsNot disclosedChennai, Bangalore/Bengaluru The RoleTypically:• Gathers data, analyses and reports findings. Gathers data using exi...Data ScienceData Science Analystdata analysisTodaysave\n",
      "Data AnalystWorkFusion2-6 YrsNot disclosedHyderabad/Secunderabad Key responsibilities Deep understanding of customers needs and business logic on use ca...OOTBTableauexcelIT SkillsTrainingUsageHead Business DevelopmentFocus7 Days Agosave\n",
      "DVP- Lead Data AnalystTransUnion4.4(109 Reviews)9-13 YrsNot disclosedMumbai Diligently leading a team and harboring good talentWorking with statistical packages an...AnalyticalData collectionDatabasebusiness rulesdata integrityManager Quality ControlManagementData mining8 Days Agosave\n",
      "Data AnalystParadise Food Court Pvt Ltd4.1(106 Reviews)2-4 Yrs5,00,000 - 7,00,000 PA.Hyderabad/Secunderabad Bachelors degree in computer science / IT, MBA Finance Bachelors degree in computer sci...Business Intelligence ToolsPower BiData AnalysisData VisualizationAdvanced ExcelManagement ReportingMba FinanceInformation Analysis7 Days Agosave\n",
      "\n"
     ]
    },
    {
     "name": "stderr",
     "output_type": "stream",
     "text": [
      "[WDM] - ====== WebDriver manager ======\n",
      "[WDM] - Current google-chrome version is 102.0.5005\n",
      "[WDM] - Get LATEST chromedriver version for 102.0.5005 google-chrome\n",
      "[WDM] - Driver [C:\\Users\\lenovo\\.wdm\\drivers\\chromedriver\\win32\\102.0.5005.61\\chromedriver.exe] found in cache\n"
     ]
    },
    {
     "name": "stdout",
     "output_type": "stream",
     "text": [
      "Analyst, Data Engineering (I5)Dell International Services IndiaPrivate Limited1-2 YrsNot disclosedBangalore/Bengaluru Build multi source data base layer management, which lays foundation for good visualiza...Data EngineeringIT SkillsPythonData ScienceBig DataPower BIData Engineering AnalystMSBI4 Days Agosave\n",
      "Data Quality AnalystWorkday2-5 YrsNot disclosedPune Experience developing and maintaining data dictionary, data catalog, and business gloss...IT SkillsTestingTableauSalesforceData analysisERPData managementGap analysis6 Days Agosave\n",
      "Data AnalystPataa Navigations Pvt. Ltd.1-3 YrsNot disclosedIndore At least 1 year working experience as a Data Analyst or Business Data AnalystKnowledge ...ExcelAnalyticalData AnalysisSPSSTableauIT SkillsPythonBig Data11 Days Agosave\n",
      "Financial Data Analyst - FIGMoody's4.0(85 Reviews)1-3 YrsNot disclosedBangalore/Bengaluru 3 years of relevant work experience required (can include internship experience)Individ...Financial researchexcelfinancial statement analysisaccountingcapital marketfinancecredit researchfinancial markets12 Days Agosave\n",
      "Lead Financial Data AnalystMoody's4.0(85 Reviews)3-5 YrsNot disclosedBangalore/Bengaluru Minimum Post graduate degree: specializations in Accounting, Finance, or Economics pref...Financial ResearchReport writingData AnalystlookupsExcelMicrosoft Officeas pivot tablesCredit analysis12 Days Agosave\n",
      "Financial Data Analyst - FIGMoody's4.0(85 Reviews)1-3 YrsNot disclosedBangalore/Bengaluru Individual must be organized, dependable, able to multi-task and manage priorities, dis...Financial spreadingRatio analysisFinancial Data Analystlookupspivot tablesMicrosoft Office12 Days Agosave\n",
      "Opprotunity For Data AnalystHexaware Technologies3.8(2727 Reviews)1-6 YrsNot disclosedPune, Chennai, Mumbai (All Areas) Shift Timing - 11am to 8pmIn dept domain knowledge on Financial Markets and good unders...communicationdata analysisOracleEntity Security Master dataETLJiraSQLPower BI12 Days Agosave\n",
      "Data Analyst II, Information DeliveryInvesco4.1(186 Reviews)3-8 YrsNot disclosedHyderabad/Secunderabad JOB PURPOSE (JOB SUMMARY):This role would primarily work with Information Delivery team...data analysisBusiness IntelligencePower BIBRDData VisualizationAsset ManagementTableauinvestment analytics13 Days Agosave\n",
      "Data Analyst - MarketingAvnet4.3(25 Reviews)3-6 YrsNot disclosedBangalore/Bengaluru Typically less than 2 years with bachelors or equivalentBachelors degree or equivalent ...Statistical analysisBusiness analysisFinanceSystem designBusiness process mappingData AnalystManagementBusiness intelligence14 Days Agosave\n",
      "Data Analyst - MarketingAvnet4.3(25 Reviews)3-6 YrsNot disclosedBangalore/Bengaluru Typically less than 2 years with bachelors or equivalentBachelors degree or equivalent ...Statistical analysisBusiness analysisFinanceSystem designBusiness process mappingData AnalystManagementBusiness intelligence14 Days Agosave\n",
      "Data AnalystEducational Initiatives (EI)4.3(96 Reviews)3-8 Yrs8,00,000 - 18,00,000 PA.Bangalore/Bengaluru Transition data within / across traditional RDBMS, Massively Parallel Processing DW, mo...data warehouse modeling and implementationIT SkillsTestingCloudDevOpsProduct ManagementOracleAWS14 Days Agosave\n",
      "Data AnalystEGVERSE TECHNOLOGY SOLUTIONS PRIVATE LIMITED4.3(152 Reviews)1-3 YrsNot disclosedGandhinagar(WFH during Covid) Night Shift allowance as per process Shift Time: 3:30PM - 12:30 AM/ 4:30PM 1:30PM Bache...PostgresqlData AnalysisData MiningAdvance SQLGoogle CloudIT SkillsPythonData Science11 Days Agosave\n",
      "ASE/SE/SSE-Data AnalystBOLD Technology Systems4.3(65 Reviews)2-7 YrsNot disclosedNoida(WFH during Covid) 3+ Years of experience in Data Analytics fieldsIT SkillsPythonTableauStructural ThinkingBiData AnalysisData AnalyticsStatistics19 Days Agosave\n",
      "Associate Manager Data AnalystOptum4.2(1777 Reviews)3-8 YrsNot disclosedNoida Undergraduate degree or equivalent experiencePythonPower BIdashboardingData AnalysisData AnalystTableauBusiness intelligence17 Days Agosave\n",
      "Immediate Opening For Data AnalystSAISYSTEMS TECHNOLOGY PRIVATE LIMITED4.3(4 Reviews)7-12 YrsNot disclosedPune Greetings from Saisystems Technology Pvt ltd.Immediate Hiring for Data AnalystExperienc...SSRSSQL DatabaseSSISIT SkillsPythonAWSAzurePowerbi7 Days Agosave\n",
      "HR Data Analyst - Specialist/LeadOlam International4.1(522 Reviews)5-10 YrsNot disclosedChennai Interpret briefs and instructions, gather required data from multiple sources and prepa...IT SkillsTableauSupply chainBusiness processIT servicesAutomationProcess improvementAnalytical8 Days Agosave\n",
      "Data AnalystOptum4.2(1777 Reviews)2-5 YrsNot disclosedGurgaon/Gurugram Graduate degree and / or equivalent experience 4+ years of experience in SAS 3+ years o...Data Visualisation toolAzure SynapseSAS/Macrosdata sourcesAI/MLdata analysisPower BISAS12 Days Agosave\n",
      "Lead Data AnalystOptum4.2(1777 Reviews)5-10 YrsNot disclosedGurgaon/Gurugram Bachelor s Degree (preferably in information technology, engineering, math, computer sc...ETL designsT-SQLPL/SQLperformance tuningDataStagepartitioningSSIS InformaticaData Analyst12 Days Agosave\n",
      "Data Analyst - SQL SSIS and SnowflakeOptum4.2(1777 Reviews)4-9 YrsNot disclosedNoida This position will be responsible for enhancing & designing Database and ETL activities...SQLPerformance tuningData analysiscloud architectureSnowflakeData AnalystSSIS12 Days Agosave\n",
      "Data AnalystOptum4.2(1777 Reviews)3-8 YrsNot disclosedNoida Educational Qualification: Graduate in CSE or Science / Technology/Engineering / Math r...Big DataAirflowJavaGitHubHadoopHDFSSQLPig19 Days Agosave\n",
      "\n"
     ]
    },
    {
     "name": "stderr",
     "output_type": "stream",
     "text": [
      "[WDM] - ====== WebDriver manager ======\n",
      "[WDM] - Current google-chrome version is 102.0.5005\n",
      "[WDM] - Get LATEST chromedriver version for 102.0.5005 google-chrome\n",
      "[WDM] - Driver [C:\\Users\\lenovo\\.wdm\\drivers\\chromedriver\\win32\\102.0.5005.61\\chromedriver.exe] found in cache\n"
     ]
    },
    {
     "name": "stdout",
     "output_type": "stream",
     "text": [
      "MIS Data Analyst (Sales Analytics) - BangaloreK12 Techno Services3.2(308 Reviews)3-8 Yrs3,00,000 - 4,00,000 PA.Bangalore/Bengaluru Qualification: Any Graduate or Post Graduate Good excel skills, well versed with Vlooku...Pivot Tableadvanced excelVLOOKUPFormulasData AnalysisChartssales analytics13 Days Agosave\n",
      "Assistant Manager/Manager - Data Analyst & MIS ReportingAgeas FederalAny Postgraduate, Any GraduateNot disclosedMumbai Ensure SQL queries are certified on timely basis depending on the Business requirements...data analysismis reportingmacrossql queriesPower BILife InsuranceBi Toolsbusiness analysis12 Days Agosave\n",
      "Data Warehousing Business analystNovoTree Minds Consulting Pvt. Ltd.4-9 YrsNot disclosedMumbai Business Analyst and Strong data warehousing experience Techno functional role good in ...Data WarehousingData Warehousing Business analystbusiness analysisbusiness intelligenceJust Nowsave\n",
      "Senior Data AnalystAccumed Practice Management DMCC2.5(14 Reviews)4-6 Yrs16,00,000 - 20,00,000 PA.Chennai Roles and Responsibilities The qualified candidate will be a highly motivated individua...ssaspower bississqlIT SkillsPythonbusiness intelligence reporting13 Days Agosave\n",
      "Senior Data AnalystMr. Cooper4.5(91 Reviews)2-6 YrsNot disclosedChennai Must have good hands on experience on SQL/ T SQL, performance tuning, stored procedure ...Performance tuningDiversity and InclusionSSRSSenior Data Analystpower biSSISBusiness intelligenceInformation technology14 Days Agosave\n",
      "Data AnalystBYJUS3.7(9099 Reviews)2-4 Yrs3,00,000 - 6,00,000 PA.Chennai The Role:We are looking for a talented, detail-oriented, and enthusiastic Data Analyst ...Excelgoogle sheetssqlms officeTodaysave\n",
      "Manager/Senior Manager - Business Analyst/Data Analytics/Data ScienceWork Eagle1-6 YrsNot disclosedMumbai, Bangalore/Bengaluru, Delhi / NCR Strong in SQL & Excel and good to have experience in Tableau Experience in the field of...Business IntelligenceData ScienceTableauData AnalyticsAnalyticsData VisualizatioSQLPython12 Days Agosave\n",
      "Executive Data AnalystQUBE CINEMA TECHNOLOGIES PVT. LTD.4.2(96 Reviews)1-4 Yrs3,00,000 - 5,00,000 PA.Chennai We are looking for a detail-oriented and self-motivated Metadata Specialist who will be...AnalysisData ManagementMetadata11 Days Agosave\n",
      "Senior Data Engineering Analyst - PythonOptum4.2(1777 Reviews)4-8 YrsNot disclosedBangalore/Bengaluru Bachelor of Engineering & Technology Good trouble shooting skillsPythonData AnalysisNumpyHiveBigdataSQLPandasSpark12 Days Agosave\n",
      "Senior Analyst/Team Lead - Master Data ManagementGolden Opportunities Pvt Ltd4.2(10 Reviews)2-7 YrsNot disclosedPune Candidate Expectations: Candidates with 2+ years of experience in Master Data Managemen...Master Data Managementsapteam managementmdmmaterial masterIHS DataManufacturingFew Hours Agosave\n",
      "Senior Data Management AnalystWells Fargo4.2(2987 Reviews)4-9 YrsNot disclosedSerilingampally 4+ years of Data Management, Business Analysis, Analytics, Project Management experienc...Data ManagementProject ManagementBusiness AnalysisAnalyticsIT SkillsBPOData Management Analyst19 Days Agosave\n",
      "Manager - Data AnalystHuquo Consulting Pvt. Ltd4-9 YrsNot disclosedGurgaon/Gurugram, Bangalore/Bengaluru, Delhi / NCR Data analysis or rigorous problem solving experience Experience working with large and ...PythonSQLanalyticalData analysisExcelIT SkillsData QualityAnalytical Skills10 Days Agosave\n",
      "Principal Data Analyst IInvesco (India) Pvt Ltd8-13 YrsNot disclosedHyderabad/Secunderabad JOB TITLE: PRINCIPAL DATA ANALYST 1JOB PURPOSE (JOB SUMMARY): As Principal Data Analyst...Asset Management/Exploratory Data AnalysisUse CasesBrdArtificial IntelligenceData VisualizationTableauData Analytics19 Days Agosave\n",
      "Data AnalystMAXIMUS GLOBAL CONSULTING SERVICES LLP  1-4 Yrs15,00,000 - 20,00,000 PA.Mumbai Suburban, Navi Mumbai, Mumbai (All Areas) Experience in writing SQL queries and perform detailed data analysis Should be working ...Data AnalysisSQL QueriesPythonSql Query WritingMachine Learning AlgorithmsData AnalyticsMachine LearningR Program11 Days Agosave\n",
      "Automotive Data Analyst - KK Nagar(Madurai)Kukulkan0-0 YrsNot disclosedMadurai The intern might also receive an incentive of up to 2000 based on monthly performance e...Automotivedata analyst12 Days Agosave\n",
      "Internship - Data AnalystSKILLLABS RESOURCE SERVICES Pvt Ltd0-0 YrsNot disclosedMohali Strong computer skills (Excel, Word, PowerPoint) - experience with Microsoft SQL a plus...Microsoft SQLWordPowerPointSalesforcewritten communicationExcelcommunicationIT Skills20 Days Agosave\n",
      "Data Analyst - ChargeGridMagenta Power Pvt Ltd3.5(2 Reviews)3-5 YrsNot disclosedNoida, Bangalore/Bengaluru Bachelor s degree (In Mathematics, Economics, Computer Science, Information Management ...Computer scienceSASDatabase designBusiness Data AnalystProcess improvementReport writingData collectionSPSS15 Days Agosave\n",
      "MSBI Data AnalystHarman Connected Services Corporation India Pvt.3.9(875 Reviews)5-6 YrsNot disclosedBangalore/Bengaluru Bachelors degree or equivalent in engineering, data analysis, business analysis 5 to 6 ...Data analysisAutomationDue diligenceData validationClaimsBusiness analysisStaffingVLOOKUP19 Days Agosave\n",
      "Lead Data Analyst- AdobeTLG GAMING5-9 YrsNot disclosedGurgaon/Gurugram, Bangalore/Bengaluru, Mumbai (All Areas) Job DescriptionAs the Analytics Lead you will have to own analysis and reporting method...Adobe analyticsWebsite AnalyticsPower BIData AnalysisTableau15 Days Agosave\n",
      "Data Analyst - PythonVIAPROM Analytics2-3 YrsNot disclosedMumbai Should be excellent with Python language, sound knowledge of customer segmentation usin...PythonExceldata analyticsData Analysismachine learningSQL12 Days Agosave\n",
      "\n"
     ]
    },
    {
     "name": "stderr",
     "output_type": "stream",
     "text": [
      "[WDM] - ====== WebDriver manager ======\n",
      "[WDM] - Current google-chrome version is 102.0.5005\n",
      "[WDM] - Get LATEST chromedriver version for 102.0.5005 google-chrome\n",
      "[WDM] - Driver [C:\\Users\\lenovo\\.wdm\\drivers\\chromedriver\\win32\\102.0.5005.61\\chromedriver.exe] found in cache\n"
     ]
    },
    {
     "name": "stdout",
     "output_type": "stream",
     "text": [
      "Data AnalystRagus Healthcare Private Limited 1-4 Yrs4,50,000 - 6,00,000 PA.Bangalore/Bengaluru Good to have : Understanding of distributed technologies like Presto or Hive or Redshif...excelCost Analysisdata analysisdashboardssqlhivepythonPresto13 Days Agosave\n",
      "Data AnalystQualitest India Private Limited3.7(111 Reviews)2-5 YrsNot disclosedBangalore/Bengaluru Flexible to work in night shifts 3 years of experience in SQL / Tableau / Python / Java...IT SkillsPythonTableauremediationManager Quality AssuranceProcess improvementAnalyticalData collection19 Days Agosave\n",
      "Data Analyst  - Pentaho (Mandatory) -immediateBINARY INFOWAYS6-11 Yrs4,00,000 - 9,00,000 PA.Chandigarh - Expert in using Pentaho data analytics Tool -Experience of Integration of Data throug...PentahoSQLData AnalyticsHTMLanalyticsXLSIT SkillsApi Integration1 Day Agosave\n",
      "Quality - Data Analyst RoleNet Connect Pvt Ltd3.7(286 Reviews)2-5 YrsNot disclosedBangalore/Bengaluru Details for Quality - Data Analyst Role. Engineer transaction-based Auditing on process...javascriptIT SkillsJavaSoftware DevelopmentBig Datac#phpruby12 Days Agosave\n",
      "Data AnalystSmiths2.9(5 Reviews)1-4 YrsNot disclosedBangalore/Bengaluru Duties Responsibilities What youll do: Collecting, analyzing, and developing KPI s to i...ERPManaged servicesDiagnosticsdata securityAnalyticalBusiness solutionsInformation technologyAnalytics19 Days Agosave\n",
      "Data AnalystShell4.3(1088 Reviews)1-5 YrsNot disclosedChennai Job Posting Title: Data AnalystJob DescriptionIncumbent is responsible for supporting t...Power BIfactor analysispythonrdata analysisdata analyticsneural networksmachine learning17 Days Agosave\n",
      "Data Analyst - Tableau, AlteryxdotSolved India Pvt., Ltd.4.5(3 Reviews)7-12 Yrs6,00,000 - 13,00,000 PA.Chennai Bachelors Degree in Accounting, Business, Computer Science, or related fieldHands-on ex...AlteryxAlteryx TableauSOXcontrolsNetSuitedata reconciliationPower BISQL12 Days Agosave\n",
      "Data AnalystNalanda Learning Systems Pvt. Ltd3.9(73 Reviews)5-7 Yrs4,00,000 - 7,00,000 PA.Kolkata Qualification: Masters degree in Mathematics or Statistics or BTech in Data ScienceCand...statistical toolsdata analysisreport preparationData Management12 Days Agosave\n",
      "Data AnalystMee 2 Bee Smart Services5-7 YrsNot disclosedGurgaon/Gurugram BTech or B E preferred Qualifications Required Mandatory Experience with data visualisa...Career developmentNoSQLData managementdata scienceMySQLMachine learningData collectionpower bi12 Days Agosave\n",
      "Data AnalystVSS SOURCING INDIA PRIVATE LIMITED1-1 YrsNot disclosedKochi/Cochin A data analyst must be able to create different business reports using several data vis...Analytical SkillsData AnalyticsCommunicationPresentation SkillsAnalyticalData Analysis13 Days Agosave\n",
      "Data Strategy - Data AnalystHoffmann-La Roche2-4 YrsNot disclosedChennai Should be very proficient working in an AWS Environment with different AWS platform com...Data analysisChange managementData managementCodingAnalyticalPharmaHealthcareLife sciences18 Days Agosave\n",
      "Data AnalystIntech Creative services Pvt. Ltd. 4.3(24 Reviews)5-8 YrsNot disclosedGandhinagar Roles and Responsibilities 2. Detailed Roles and Responsibilities Develop, implement, a...data analysisdata miningData ManagementData Extraction18 Days Agosave\n",
      "Business Analyst / Data AnalystHIRING STUDIO 5-10 Yrs5,00,000 - 8,50,000 PA.Bangalore/Bengaluru Very good in MIS, Excel, Microsoft Reports: Health reports Data Analisation Functional ...Business AnalysisBusiness AnalyticsMISMis AnalysisData AnalysisData Analytics11 Days Agosave\n",
      "Business/Data Analyst:cliqhr.com8-9 YrsNot disclosedPune Degree (Bachelors/ Masters) in Computer Science/ ITSkills Required: Highly proficient i...SQLIT SkillsPythonMachine LearningPerformance TestingBig DataTableauexcel14 Days Agosave\n",
      "Data Analyst / Data Science /Business Analyst \n",
      "INFOWEB 0-2 Yrs1,50,000 - 3,25,000 PA.Pune We are looking to hire a data analyst to join our data team. You will take responsibili...Data AnlalyticsBusiness AnalysisPythonSQLProject ManagementData ManagementData AnalysisData Maintenance18 Days Agosave\n",
      "Business and Data AnalystCAREERDOST ENTERPRISE0-5 Yrs15,00,000 - 30,00,000 PA.Bangalore/Bengaluru(WFH during Covid) We are open to consider Freshers either of 2021 batch or even for 2022 batch who have c...Business Analysisproduct managementmarketing analyticsdigital campaignsad operationsCampaign ManagementDigital MarketingSales Analytics30+ Days Agosave\n",
      "Senior Analyst / Analyst - Data (Primary and Secondary Research)SG Analytics Pvt. Ltd.3.9(198 Reviews)2-5 YrsNot disclosedHyderabad/Secunderabad Flexibility to work across different projects as per requirementFlexibility to work acr...Survey DesignSurvey questionnaireSecondary ResearchPythonExcel PowerpointResearch AnalysisChartsAdvanced Excel7 Days Agosave\n",
      "Senior Analyst, Data Management & Quantitative AnalysisBNY Mellon4.2(2399 Reviews)2-3 YrsNot disclosedChennai Bachelors degree or the equivalent combination of education and experience 3 years expe...AnalystData managementAnalyticalFinanceManager TechnologyRepresentativeSQLQuantitative analysis18 Days Agosave\n",
      "Data AnalystAllegis Services India Pvt. Ltd.2-5 YrsNot disclosedBangalore/Bengaluru PowerBI (Analyzing and Visualizing Data with Microsoft Power BI) Certified PowerBI Azur...Database designpower bimicrosoftPythonSQL Server analysis servicesadvanced analyticsNatural language processingBusiness modeling5 Days Agosave\n",
      "Data AnalystAllegis Services India Pvt. Ltd.2-5 YrsNot disclosedBangalore/Bengaluru Responsibility of resource include requirement gathering from Business Resource should ...PostgresqlAnalyticalMySQLStakeholder managementSQLData modelingpower bi5 Days Agosave\n",
      "\n"
     ]
    },
    {
     "name": "stderr",
     "output_type": "stream",
     "text": [
      "[WDM] - ====== WebDriver manager ======\n",
      "[WDM] - Current google-chrome version is 102.0.5005\n",
      "[WDM] - Get LATEST chromedriver version for 102.0.5005 google-chrome\n",
      "[WDM] - Driver [C:\\Users\\lenovo\\.wdm\\drivers\\chromedriver\\win32\\102.0.5005.61\\chromedriver.exe] found in cache\n"
     ]
    },
    {
     "name": "stdout",
     "output_type": "stream",
     "text": [
      "Data AnalystCollabera Services Private Limited   2-5 YrsNot disclosedBangalore/Bengaluru(Koramangala), Vadodara Healthcare Data Analyst Requirements: Bachelors degree in mathematics, statistics, heal...TableauSql JoinsSql TablesData AnalysisSQL ServerPython18 Days Agosave\n",
      "Data AnalystBDO India LLP     3-7 Yrs3,00,000 - 6,00,000 PA.Chennai(Oragadam) Masters in software engineering, computer science or equivalentExperience defining and ...data governanceData AnalysisMicrosoft Azurewritten ScrumStrategyData ManagementIT SkillsMachine Learning15 Days Agosave\n",
      "Data AnalystAUTOMOTIVE ROBOTICS (INDIA) PRIVATE LIMITED4.0(89 Reviews)4-7 YrsNot disclosedChennai, Bangalore/Bengaluru Bachelor s Degree in Maths, Statistic and computer related Machine Learning, Statistica...RExcelMathematicsStatisticsPythonCRMMS SQLMachine Learning4 Days Agosave\n",
      "Data AnalystFEEDBACK ADVISORY SERVICES PRIVATE LIMITED 3.9(31 Reviews)2-3 YrsNot disclosedBangalore/Bengaluru Any Bachelors having 2 years experience is preferableREQUIRED COMPETENCIES (Mandatory)E...VBASSISAdvanced XLsPowerpointSQL6 Days Agosave\n",
      "Data Research AnalystLeanIX3.6(4 Reviews)1-6 Yrs3,50,000 - 5,50,000 PA.Hyderabad/Secunderabad(Kondapur) Quickly extract required data points from dispersed content in web pages Searching and ...Internet ResearchWeb ResearchSecondary ResearchData CollectionProduct Life CycleIT SkillsSoftware DevelopmentCloudTodaysave\n",
      "Data Management AnalystWells Fargo4.2(2987 Reviews)4-9 YrsNot disclosedSerilingampally, Bangalore/Bengaluru Experience working with technology teams, with a focus on metadata, data quality monito...Data Managementproject managementProcess formulationPower BIteam leadingConfluence toolsData visualizationTableau15 Days Agosave\n",
      "Data Management AnalystWells Fargo4.2(2987 Reviews)4-9 YrsNot disclosedBangalore/Bengaluru Experience working with technology teams, with a focus on metadata, data quality monito...Data ManagementIT SkillsProject ManagementBig DataSharepointTableauPower BIBPO17 Days Agosave\n",
      "Data Management AnalystWells Fargo4.2(2987 Reviews)5-10 YrsNot disclosedBangalore/Bengaluru Good Analytical and Problem solving skills Good to have exposure on Automation tools pr...Power BIIT SkillsProject ManagementBPOproject managementimpact analysisanalyticsdata quality17 Days Agosave\n",
      "Lead Data Management AnalystWells Fargo4.2(2987 Reviews)8-13 YrsNot disclosedSerilingampally, Bangalore/Bengaluru 8+ years of Data Management, Business Analysis, Analytics, Project Management experienc...Data ManagementIT SkillsTestingProject ManagementTableauBPOproject managementAgile Methodology18 Days Agosave\n",
      "Data Analyst/MIS Excecutive(only For Immediate joiners)Orcapod Consulting Services Private Limited   3-4 YrsNot disclosedRemote Prefer undergraduate from a good university / schoolCommunication Skillsstrong analytical skillsData AnalysisanalyticalEnglish communication14 Days Agosave\n",
      "Job Opportunity For Business Analyst - Data domain (Pune)Peoplefy Infosolutions Pvt. Ltd.  4-9 YrsNot disclosedPune Business Analyst ExperienceExperience in Data DomainBasic Experience in Data Quality, M...AnalyticalMaster Data ManagementBig Databusiness analysisData QualityData ManagementData Governance7 Days Agosave\n",
      "Business Analyst KYC Client DataMancer Consulting Services3.1(25 Reviews)5-8 YrsNot disclosedHyderabad/Secunderabad, Bangalore/Bengaluru A bachelor s degree or equivalent is requiredBusiness Analysis experience required, wit...KYCdata analystBusiness Analysis12 Days Agosave\n",
      "Data Scientist/ Analyst SpecialistTransOrg Solutions  Services (P) Ltd.1-4 YrsNot disclosedNoida, New Delhi, Gurgaon/Gurugram, Delhi / NCR, Mumbai (All Areas) Bachelors in Computer Science/ Engineering, Statistics, Math or related quantitative de...Machine LearningPythonSQLRLogistic RegressionComputer ScienceClient ServicingData Analysis8 Days Agosave\n",
      "Senior Data Engineering AnalystMyndrix Technologies LLP 2-7 Yrs5,00,000 - 14,00,000 PA.Chandigarh, Bangalore/Bengaluru, Mumbai (All Areas)(WFH during Covid) Job OverviewWe are looking for a savvy Data Engineer to manage in-progress and upcoming...Python Data AnalyticsAlteryxSQLPandasSnowflake / RedshiftAWSNumpyWeb Scraping7 Days Agosave\n",
      "Senior Analyst - Data Processing || Hyderabad || PuneCredence HR Services 1-5 Yrs5,00,000 - 6,50,000 PA.Hyderabad/Secunderabad, Pune Greetings from Credence HR Services!!! Hiring for the role of Senior Analyst - Data Pro...Dimension TOMData ProcessingData ValidationQuantumWincrossAskiaData CleansingData Visualization1 Day Agosave\n",
      "Lead/AVP data analyst-  Leading US MNC(Analytics)Aspyra HR Services  7-12 Yrs22,50,000 - 35,00,000 PA.Gurgaon/Gurugram, Bangalore/Bengaluru, Delhi / NCR(WFH during Covid) Preference: immediate joiners or who can join in 60 dayssqlpythondata analyticsdata analysis18 Days Agosave\n",
      "Data AnalystCRESCENDO GLOBAL LEADERSHIP HIRING INDIA PRIVATE L  IMITED3-6 YrsNot disclosedPune, Gurgaon/Gurugram, Mumbai (All Areas) Disclaimer : Crescendo Global is an ISO 9001:2015 certified Leadership Hiring consultin...pythondata analyticsData AnalysisSQLData ManagementTableau14 Days Agosave\n",
      "Data Analyst - IIT/BITS/StartupsAVE-Promagne Business Solutions1-5 YrsNot disclosedBangalore/Bengaluru Purpose• Identify commercial data science opportunities in the data sources that alread...Data Analysisdata analyticspredictive analyticssql12 Days Agosave\n",
      "Data AnalystSDNA Global  5-10 YrsNot disclosedBangalore/Bengaluru Post-graduate degree in Management from premier institutes with 5+ years of experience ...Power BIData AnalyticsSales AnalyticsTableaupresentationData MiningData VisualizationCleansing12 Days Agosave\n",
      "Data AnalystSDNA Global  5-10 YrsNot disclosedBangalore/Bengaluru Post-graduate degree in Management from premier institutes with 5+ years of experience ...Power BIData AnalyticsSales AnalyticsCleansingVBAData MininganalyticalData Visualization12 Days Agosave\n",
      "\n"
     ]
    },
    {
     "name": "stderr",
     "output_type": "stream",
     "text": [
      "[WDM] - ====== WebDriver manager ======\n",
      "[WDM] - Current google-chrome version is 102.0.5005\n",
      "[WDM] - Get LATEST chromedriver version for 102.0.5005 google-chrome\n",
      "[WDM] - Driver [C:\\Users\\lenovo\\.wdm\\drivers\\chromedriver\\win32\\102.0.5005.61\\chromedriver.exe] found in cache\n"
     ]
    },
    {
     "name": "stdout",
     "output_type": "stream",
     "text": [
      "Technical Analyst ( Python - Data Science and Machine Learning )Coforge3.8(668 Reviews)6-10 YrsNot disclosedBangalore/Bengaluru, Greater Noida 5+ years of experience in Data science and Machine learning Data analytics platformExpe...pythonIT SkillsData ScienceMachine LearningCloud8 Days Agosave\n",
      "Data AnalystFinisar Technology India Pvt. Ltd (now par of II-VI Incorporated )4.2(14 Reviews)0-3 YrsNot disclosedHyderabad/Secunderabad Roles and Responsibilities Working with data science Engineers in data ingestion activi...Neo4JClouderaHadoopRNoSQLSCALAStreamsetsMongoDB11 Days Agosave\n",
      "Analyst - Informatica Data QualityNovartis Healthcare4.1(1352 Reviews)1-6 YrsNot disclosedHyderabad/Secunderabad Bachelor / Master s degree from reputed University in Pharma, Computers or IT or equiva...data cleansingAnalystData analysismetadataPublishingData managementPharmaData quality3 Days Agosave\n",
      "Research Analyst - Bond Reference DataIHS Markit4.1(470 Reviews)1-4 YrsNot disclosedNoida Graduate degree/ Post Graduate or equivalent in ideally Finance, Economics or Business ...communicationSQLwrittenverbalExcelIT SkillsTestingPDF7 Days Agosave\n",
      "Analyst - Content and Data ManagementeClerx3.6(2919 Reviews)0-2 YrsNot disclosedMumbai Graduate, but BSc or B Pharm PreferredContentData ManagementwrittenexcelcommunicationQuality CheckContent writing17 Days Agosave\n",
      "Senior Business & Data AnalystDeutsche Bank4.2(1799 Reviews)2-5 YrsNot disclosedPune Your key responsibilities Working with key stakeholders from different divisions to dri...Data analysisBusiness analysisBusiness Data AnalystDiversity and InclusionBankingCash managementGermanTraining and Development30+ Days Agosave\n",
      "SR. ANALYST - HM DATAShell4.3(1088 Reviews)3-8 YrsNot disclosedChennai The RoleTypically:• Gathers data, analyses and reports findings. Gathers data using exi...data analysisData analystdata reportingHM Data analyst12 Days Agosave\n",
      "Data AnalystTRITONEXEC INDIA PRIVATE LIMITED 6-8 Yrs7,00,000 - 10,00,000 PA.Remote PowerBI, Tableau) alongside proficiency in MS-Office (MS-Excel, MS-PowerPoint and MS-Wordrpodata analysis1 Day Agosave\n",
      "Data Profiling AnalystSelect Source International Private Limited  3-5 Yrs3,00,000 - 7,50,000 PA.Chennai, Bangalore/Bengaluru Strong data cleansing experience, complemented by working knowledge of finance processe...SAP ECC FI/COAlteryxSAP ADMTalend DQcore SAP Finance DataBalance Sheet6 Days Agosave\n",
      "Distribution Data Analyst / Data AnalystAnlage Infotech (I) Pvt. Ltd.   5-8 Yrs15,00,000 - 17,00,000 PA.Hyderabad/Secunderabad Roles and Responsibilities Provide reports, dashboards, and analyses primarily for inte...Power BIVisual Analyticsdata analysissales reportSql QueryingDashboards7 Days Agosave\n",
      "Data AnalystAdecco India Private Limited  7-10 Yrs12,00,000 - 16,00,000 PA.Pune, Chennai(WFH during Covid) Proven self-motivation to take initiative and master new tasks quickly Experience in da...Sql queriesStore ProcedureBig data toolsData VisualizationData AnalyticsIT SkillsBig Data17 Days Agosave\n",
      "Data Analyst / Data Science Only Fresher Candidates Can Apply\n",
      "INFOWEB 0-2 YrsNot disclosedPune We are looking to hire a data analyst to join our data team. You will take responsibili...Data ScienceText AnalyticsAdvanced AnalyticsSQLPythonHealthcare AnalyticsUse CasesBrd10 Days Agosave\n",
      "Data Analyst |  Diamond Industry | Mumbai LocationVenus Consultancy                             0-5 Yrs1,25,000 - 6,00,000 PA.Mumbai Suburban, Mumbai (All Areas)(Bandra Kurla Complex) Good Machine Learning Modelling Techniques Works efficiently across distributed teams a...Advance ExcelMachine LearningStatstics fresherCountifExcel FunctionsData ManagementFormulasConditional Formatting11 Days Agosave\n",
      "Adobe | Data Analyst IIOM Human Resource Agency Pvt. Ltd. 3-6 Yrs5,00,000 - 10,00,000 PA.Noida Roles and Responsibilities Technical: Excel, Advance Excel, SQL Server/SSIS, Hadoop, SF...advanced excelSQL ServerSSISPBIHadoopSFDCExcelAdvance Excel9 Days Agosave\n",
      "We are hiring For Data AnalystVensysco Technologies4-5 Yrs5,00,000 - 12,00,000 PA.Noida Job Description 4-5 years of strong expertise in data analysis and profiling Experience...data analysisSparkData warehousingIT SkillsBig DataSQL4 Days Agosave\n",
      "Customer Data Analyst- MarketingVitamins Direct Services Private Limited3.0(8 Reviews)3-7 Yrs3,00,000 - 8,00,000 PA.Mumbai(SEEPZ) Good excel analytical knowledge Analyse marketing data Experience in handling huge data...Customer AnalysisExcel DashboardsExcel MacrosBusiness AnalysisBPOdata analysismarketing data analysisExcel8 Days Agosave\n",
      "Opportunity at BNY Mellon - Lead Data Analyst | Full TimeBNY Mellon4.2(2399 Reviews)4-7 YrsNot disclosedPune, Chennai Bachelors degree in finance, accounting, or business or the equivalent combination of e...Data AnalysisData ModelingData WarehousingData GovernanceLiquidity AnalysisRegulatory ReportingPower BiSQL Database14 Days Agosave\n",
      "AM - Data AnalystGoods and Services Tax Network (GSTN)4.1(7 Reviews)3-5 Yrs1,00,000 - 6,00,000 PA.Delhi / NCR You will pull data required to conduct data analysis, build reports, dashboards, and me...ML/DLPython12 Days Agosave\n",
      "Data AnalystMaxima Apparel Corp.2.5(4 Reviews)5-7 Yrs5,00,000 - 8,00,000 PA.Gurgaon/Gurugram Bachelors degree in Business, Management, Economics, Accounting, Finance, or Computer a...excelbusiness intelligence toolsPower BiBusiness Objectspythondata miningoracle sql12 Days Agosave\n",
      "Data Analyst For SuratHari Krishna Exports Pvt. Ltd.3.9(27 Reviews)3-7 Yrs2,50,000 - 5,00,000 PA.Surat Application of AI and Machine Learning is preferred Even fresher can be consider hands ...excelpythonSPSSMATLABstatisticsdata analysisdata miningsegmentation13 Days Agosave\n",
      "\n"
     ]
    },
    {
     "name": "stderr",
     "output_type": "stream",
     "text": [
      "[WDM] - ====== WebDriver manager ======\n",
      "[WDM] - Current google-chrome version is 102.0.5005\n",
      "[WDM] - Get LATEST chromedriver version for 102.0.5005 google-chrome\n",
      "[WDM] - Driver [C:\\Users\\lenovo\\.wdm\\drivers\\chromedriver\\win32\\102.0.5005.61\\chromedriver.exe] found in cache\n"
     ]
    },
    {
     "name": "stdout",
     "output_type": "stream",
     "text": [
      "Data Analyst - SQL, Oracle ,PythonTeamPlus Staffing Solution Pvt Ltd5.0(3 Reviews)3-6 YrsNot disclosedGurgaon/Gurugram - Analysis, Insights Gathering and Statistical Processing of varied Data using a wide v...data cleansingData analysisStatistical analysisOracle SQLdata manipulationData AnalystManagementData extraction13 Days Agosave\n",
      "Data Analyst For SuratHari Krishna Exports Pvt. Ltd.3.9(27 Reviews)3-7 Yrs4,00,000 - 9,00,000 PA.Surat Application of AI and Machine Learning is preferred Even fresher can be consider hands ...excelpythonSPSSMATLABstatisticsdata analysisdata miningsegmentation13 Days Agosave\n",
      "PMO Data AnalystBloom Energy India Pvt Ltd4.1(32 Reviews)3-5 YrsNot disclosedMumbai Bachelor s degree in Engineering, Computer Science, Data Science or related field Micro...Supply chainComputer scienceBusiness improvementBusiness analyticsAnalyticalProcess improvementManager Program ManagementSQL18 Days Agosave\n",
      "Data Analyst @ SpectraMedix (US healthcare based big-data analytics)SpectraMedix India Private Limited  3.7(13 Reviews)3-7 YrsNot disclosedGurgaon/Gurugram(Kanahi) Roles and Responsibilities: Perform data quality and data discovery analysis.Perform ro...sqlData analyststory tellingpythonTableaumachine learningdashboardsdata quality18 Days Agosave\n",
      "Data AnalystCapgemini3.9(21032 Reviews)0-1 YrsNot disclosedGurgaon/Gurugram Microsoft Office Experience Microsoft Word ExperienceQuality standardsbig data analyticsmicrosoftMS OfficeMicrosoft OfficeMicrosoft Word26 Days Agosave\n",
      "Data AnalystTatvic Analytics Private Limited4.1(20 Reviews)1-5 YrsNot disclosedAhmedabad(Prahlad Nagar) Participate in the recruitment process including interviews, creating test as required ...Google Data StudioGoogle AnalyticsIT SkillsCloudPower BiData AnalysisData VisualizationTableau12 Days Agosave\n",
      "Data AnalystCompuCom4.1(278 Reviews)4-8 Yrs4,50,000 - 9,50,000 PA.Pune R The ideal candidate is adept at using large data sets to find opportunities in e-comm...CognosData MiningTableauor Power BIdata analysisPowerPointverbalPower BI13 Days Agosave\n",
      "Data AnalystEvolent Health4.4(112 Reviews)5-10 YrsNot disclosedPune What You’ll Be Doing:Evolent Health is looking for a Data Analyst of Health Care to be ...SQLIT SkillsTestingdata qualitydata analysisdata domaindata transformationdata mapping12 Days Agosave\n",
      "ION Group - Credit Data AnalystION3.6(7 Reviews)1-4 YrsNot disclosedMumbai Successful candidates will have a good knowledge of accountancy and finance through the...ExcelwrittenAccountancySupply chainFinancial statementsFinancial analysisFixed incomeFinance12 Days Agosave\n",
      "Hiring For Data Analyst - Kalkine SolutionsKalkine Solutions Private Limited3.6(118 Reviews)5-10 Yrs6,00,000 - 10,00,000 PA.Noida Bachelors degree, advanced degree or equivalent experience - finance, engineering or co...Advanced ExcelexcelVBAPower BiData AnalystMacros12 Days Agosave\n",
      "Data AnalystRedian Software Pvt Ltd4.0(24 Reviews)3-5 YrsNot disclosedJalalabad 5 years of experience as a Data Analyst or similar rolePythonElastic StackHDFScommunicationHiveOracleSQLIT services13 Days Agosave\n",
      "Data AnalystSteadfast Medishield Pvt. Ltd.4.1(72 Reviews)2-6 YrsNot disclosedNoida, Delhi / NCR Please Note: This is a pure Work from Office role, candidates looking for WFH opportuni...data analysisbusiness reportingDashboardsExcel Report Preparationlogical approachExceldata miningConditional Formatting13 Days Agosave\n",
      "Data Analyst, Reinsurance AdministrationRGA3.1(5 Reviews)2-4 YrsNot disclosedMumbai The Data Analyst Reinsurance develops, improves and optimizes programs and tools used f...Business processComputer scienceReinsuranceAdministration ManagerClaimsVisual BasicUnderwritingData quality14 Days Agosave\n",
      "Data AnalystLantern digital services pvt ltd3.8(19 Reviews)3-6 Yrs3,50,000 - 5,00,000 PA.Noida Normal Day ShiftEducational Qualifications: Graduate in any discipline with relevant wo...Data MiningwrittenExcelMS WindowsanalyticalData Anlalyticsdata analysisData Extraction14 Days Agosave\n",
      "Data AnalystAbeyaantrix Technology Pvt Ltd2-4 Yrs4,00,000 - 7,00,000 PA.New Delhi, Delhi / NCR Bachelor in Engineering with at least 2+ years of hands-on experience as a data analyst...Data VisualizationSQLIT SkillsPythonData VisualizationsExceladvanced excel19 Days Agosave\n",
      "Fare Data Analyst For Myholidays Branch in NoidaAffixious Consulting3.4(15 Reviews)2-6 Yrs3,00,000 - 6,00,000 PA.Delhi / NCR(Sector-59 Noida), India Preferred Qualifications Degree in Aviation / Management or related field or equivalent...Pricing AnalysisExcelData AnalysisGDS19 Days Agosave\n",
      "Trainee Business Analyst   Big Data AnalysisALLERIN TECHNOLOGIES Pvt Ltd.0-1 YrsNot disclosedMumbai Trainee Business Analyst - Big Data Analysis | Allerin Type a word and press [enter] A ...IT SkillsSoftware DevelopmentTestingBig DataCopyrightData analysisChange managementCoding30+ Days Agosave\n",
      "Senior Data AnalystHELLES TALENT SOLUTIONS PRIVATE LIMITED  3-8 YrsNot disclosedHyderabad/Secunderabad, Pune, Bangalore/Bengaluru, Delhi / NCR SQL, ETL, Data visualization tools, Bi Technologies Hands-on experience with cloud tech...SQLData VisualizationData WarehousingETLData AnalyticsSisenseTableauBi10 Days Agosave\n",
      "Sr Data Analyst IIIHS Markit4.1(470 Reviews)3-6 YrsNot disclosedGurgaon/Gurugram, Bangalore/Bengaluru Good communication skills and team spiritEngineering background is a must, OEM and / or...PythoncommunicationanalyticalKnimeMS ExcelSQLPowertrainHTTP30+ Days Agosave\n",
      "Senior Data Engineering AnalystOptum4.2(1777 Reviews)6-11 YrsNot disclosedHyderabad/Secunderabad 4+ years of solid development experience in SAS BASE, SAS Advanced MACROS and SAS SQL 6...Data EngineeringMACROSSASCICDAgileAzureUnixDevOps1 Day Agosave\n",
      "\n"
     ]
    },
    {
     "name": "stderr",
     "output_type": "stream",
     "text": [
      "[WDM] - ====== WebDriver manager ======\n",
      "[WDM] - Current google-chrome version is 102.0.5005\n",
      "[WDM] - Get LATEST chromedriver version for 102.0.5005 google-chrome\n",
      "[WDM] - Driver [C:\\Users\\lenovo\\.wdm\\drivers\\chromedriver\\win32\\102.0.5005.61\\chromedriver.exe] found in cache\n"
     ]
    },
    {
     "name": "stdout",
     "output_type": "stream",
     "text": [
      "Data Analyst - Python/Artificial IntelligenceiMindYourBusiness0-2 YrsNot disclosedKolkata, Mumbai, Hyderabad/Secunderabad, Pune, Chennai, Bangalore/Bengaluru Candidates must have ability to work from home and also in a position to use their pers...C++VBASQL ServerPythonAdvanced ExcelIT SkillsData ScienceArtificial Intelligence7 Days Agosave\n",
      "Data AnalystShell Info Technologies Private Limited3-8 Yrs3,25,000 - 8,25,000 PA.Hyderabad/Secunderabad Roles and Responsibilities Data Analyst Desired Candidate Profile 3 to 8 years Perks an...Data analystdata modelingETLData Modelling12 Days Agosave\n",
      "Data Analyst3F OIL PALM PRIVATE LIMITED4.2(43 Reviews)5-10 Yrs4,00,000 - 5,00,000 PA.Hyderabad/Secunderabad, Khairatabad A deep analytical passion and the ability to complete key business priorities is a must...data qualityMS OfficeExcelPowerpointTodaysave\n",
      "Data  Analyst - Power BIHinduja Group4.0(10016 Reviews)2-5 YrsNot disclosedPune(Pune Nashik Highway) Roles and Responsibilities At least 2-4 years experience in leading or developing high ...Power BiCICDPythonmicrosoft power bijavaDevopsPower Apps Developmentsql1 Day Agosave\n",
      "Data AnalystZenoti3.9(44 Reviews)3-6 YrsNot disclosedHyderabad/Secunderabad Excellent analytical and modeling skills, ideally with considerable proficiency in data...IT SkillsPythonData analysisProduct engineeringSimulationAnalyticalCustomer retentionWellness4 Days Agosave\n",
      "Analyst - Data ServicesRF Managed Services India Pvt Ltd2.6(30 Reviews)2-4 YrsNot disclosedChennai Graduates / Post Graduates in any stream Skill Set / Competencies Required Laterals wit...Application supportAutomationData conversionManaged servicesData managementMISmicrosoftMacros4 Days Agosave\n",
      "Product Data Management AnalystENFUSE SOLUTIONS PRIVATE LIMITED 4.5(27 Reviews)1-5 YrsNot disclosedMumbai, Mumbai (All Areas) Graduation is mustHe / she must be able to work collaboratively with teams to execute t...product data management7 Days Agosave\n",
      "Data AnalystThrillophilia3.5(57 Reviews)0-3 YrsNot disclosedJaipur Proven 1-year experience as a data analystStrong knowledge of and experience with repor...Business objectsPDFDatabase designProcess improvementData collectionData AnalystData analyticsData mining30+ Days Agosave\n",
      "Data Analyst (On-site)Ignitho3-8 YrsNot disclosedChennai Roles and Responsibilities Work across all products and business divisions of the compa...Aws LambdaGlueSQLPythonanalysisAWSanalyticalIT Skills6 Days Agosave\n",
      "Analyst - Data EngineeringTeachers Insurance and Annuity Association of America (TIAA)4.4(18 Reviews)2-5 YrsNot disclosedPune University (Degree) Preferred No Experience Required Work ExperienceSupply chaincontinuous integrationDistribution managementData managementFocusStrategic planningManager TechnologyData qualityFew Hours Agosave\n",
      "ILM Data Management AnalystEpiqsystems India Private Limited4.2(76 Reviews)2-7 YrsNot disclosedHyderabad/Secunderabad Bachelor s degree in Computer Science, Information Systems or closely related field is ...Data ManagementIT SkillsQuality AssuranceContinuous Improvementdocument management systemsManagement SystemsLitigation Support7 Days Agosave\n",
      "Sr . Data Analyst - Business InsightsSaavn, LLC2-5 YrsNot disclosedMumbai Bachelor s or higher degree in Data Analytics, Data Science, Statistics, Math, Engineer...Data ScienceRData AnalysisData VisualizationAdvanced ExcelData AnalystData AnalyticsStatistics30+ Days Agosave\n",
      "Data Analyst / Business AnalystMETRO Cash & Carry4.2(1013 Reviews)3-8 Yrs15,00,000 - 27,50,000 PA.Bangalore/Bengaluru Data Analyst / Business Analyst with Python experienceMetros Data Analyst team is respo...PythonVBAanalystbusiness analystAnalyticsdata analyst30+ Days Agosave\n",
      "Senior Data AnalystGojek4.3(18 Reviews)3-9 YrsNot disclosedBangalore/Bengaluru Prior experience (research or industry) in the geospatial and mapping domain is a bonus...AutomationData analysisData managementMachine learningData qualitySDKGamingFinancial services30+ Days Agosave\n",
      "Senior Analyst, Data EngineeringDell International Services IndiaPrivate Limited5-10 YrsNot disclosedBangalore/Bengaluru We are looking for a savvy Data Engineer to join our growing team of analytics experts ...Microsoft SQL ServerIT SkillsOracleBig Datassasdata modellingHadoopKafka15 Days Agosave\n",
      "Senior Analyst, Data EngineeringDell International Services IndiaPrivate Limited3-8 YrsNot disclosedBangalore/Bengaluru Bachelors degree or higher in an engineering or technical area such as Computer Science...Data EngineeringIT SkillsPythonData ScienceBig DataPower BIGreenplumPostgreSQL15 Days Agosave\n",
      "Senior Analyst, Marketing Data Managementdoubledutch2-5 YrsNot disclosedGurgaon/Gurugram What You Will Be Doing Centralized Marketing Data Warehouse platform maintenance and ma...process automationSSMSETLWordMS OfficeTableauMarketoExcel12 Days Agosave\n",
      "Data AnalystXeam Ventures Pvt Ltd     3-7 Yrs3,50,000 - 4,25,000 PA.Lucknow Job Title – Data Analyst Job Location – Lucknow Experience- Minimum 3 Years of experien...SqlJavaSoftware DevelopmentCommIT Skills.NetData ManagementData AnalysisTodaysave\n",
      "Data AnalystSynaptein Solutions Private Limited 3-6 YrsNot disclosedHyderabad/Secunderabad Data Science/Data Analytics projects, Good knowledge Tableau with databases, Machine Le...Data ScienceMachine LearningTableauIT SkillsMachine Learning knowledgeData Analytics projectsTableau with databases6 Days Agosave\n",
      "Data AnalystAnlage Infotech (I) Pvt. Ltd.   3-8 YrsNot disclosedBangalore/Bengaluru, Delhi / NCR Skill: Analytics (SAS + Tableau / Python + R + Tableau)Exp- 3-7 yrsLocation - Hyderabad...pythonSASData AnalysismsexcelTableauIT SkillsOraclePower BI12 Days Agosave\n",
      "\n"
     ]
    },
    {
     "name": "stderr",
     "output_type": "stream",
     "text": [
      "[WDM] - ====== WebDriver manager ======\n",
      "[WDM] - Current google-chrome version is 102.0.5005\n",
      "[WDM] - Get LATEST chromedriver version for 102.0.5005 google-chrome\n",
      "[WDM] - Driver [C:\\Users\\lenovo\\.wdm\\drivers\\chromedriver\\win32\\102.0.5005.61\\chromedriver.exe] found in cache\n"
     ]
    },
    {
     "name": "stdout",
     "output_type": "stream",
     "text": [
      "Ediscovery Data Analyst - One of the Big 4 Company - Bangalore/PuneKelly Outsourcing and Consulting Group India  Priv  ate Limited1-6 YrsNot disclosedPune, Bangalore/Bengaluru Willingness to work in the night shift with an assurance to be rotated across all our 4...e-discoveryrelativityIT SkillsProject ManagementBPOproject managementnuix14 Days Agosave\n",
      "Data Analyst | Immediate requirement | 10+ YearsGVR Consultancy And Services 10-15 YrsNot disclosedBangalore/Bengaluru Good analytical skills with strong grip on problem solvingShould have ability to unders...data analystPythonIT Skillsstatistical analysis13 Days Agosave\n",
      "Data Analyst - ETL/SQL/PythonPearl Consulting Services5-10 YrsNot disclosedChennai, Bangalore/Bengaluru Very good communication skills Hands on experience in Informatica - PowerCenter ETL Han...ETLPLSQLSQLPowerCenter ETLInformaticaSQLcommunicationRPL-SQL20 Days Agosave\n",
      "Data Analyst / Day Shift-B'lore,Indiranagar(Work from Office)Black and White Business Solutions Pvt Ltd  1-1 YrsNot disclosedBangalore/Bengaluru Job descriptionWe at Black and White Business Solutions Pvt Ltd are looking for ambitio...ZohoSQL QueriesTableauBusiness SolutionsBusiness ProcessData AnalysisData MaintenanceAdvanced Excel15 Days Agosave\n",
      "Hiring For Data Analyst with Big group- GujaratSamridhi7-12 Yrs13,00,000 - 22,50,000 PA.gujarat Understand business requirement and Develop physical and logical data models from the s...pythondata analysisdata analyticsdata miningstatistical modelingdaxmachine learningstatistics17 Days Agosave\n",
      "Data AnalystHCL Technologies3.9(20627 Reviews)2-5 YrsNot disclosedChennai 3 Use or awareness of appropriate forecasting Models & methodology to support required ...MISForecastingdata analysisAdvanced ExcelReportingSQL8 Days Agosave\n",
      "Test Analyst (ETL/DWH/Big Data/Database Testing)Infosys4.0(24704 Reviews)3-8 YrsNot disclosedChandigarh, Hyderabad/Secunderabad, Pune, Chennai, Bangalore/Bengaluru, Delhi / NCR(WFH during Covid) All recruitment activity must be coordinated through the Talent Acquisition departmentE...Database TestingInformatica TestingDWH TestingETL Testing1 Day Agosave\n",
      "Test Analyst (ETL/DWH/Big Data/Database Testing)Infosys4.0(24704 Reviews)3-8 YrsNot disclosedChandigarh, Hyderabad/Secunderabad, Pune, Chennai, Bangalore/Bengaluru, Delhi / NCR(WFH during Covid) All recruitment activity must be coordinated through the Talent Acquisition departmentE...Database TestingInformatica TestingDWH TestingETL TestingIT SkillsTesting1 Day Agosave\n",
      "Lead Analyst, Data Management & Quantitative AnalysisBNY Mellon4.2(2399 Reviews)3-5 YrsNot disclosedPune Bachelors degree or the equivalent combination of education and experience 5 years expe...Data managementAnalyticalFinanceManager TechnologyRepresentativeLead AnalystSQLQuantitative analysis13 Days Agosave\n",
      "Looking For Business Analyst-  data governance experienceShell Info Technologies Private Limited7-12 Yrs10,00,000 - 20,00,000 PA.Bangalore/Bengaluru, any(WFH during Covid) Core systems experience inclsix sigmasapbusiness processdata governancemaster data managementOracleiBPMIT Skills12 Days Agosave\n",
      "SAS Analyst / data Analyst / Business analyst - Sas + SQLLeading US MNC into analytics2-7 Yrs10,00,000 - 20,00,000 PA.Bangalore/Bengaluru, Delhi / NCR, Mumbai (All Areas)(WFH during Covid) Tier 1 & 2 candidates will be on preference At least 2 years of experience in analytics...SASData AnalyticsSQL30+ Days Agosave\n",
      "MIS Executive | Data AnalystMegara InfoTech Pvt. Ltd. 0-1 Yrs1,50,000 - 2,50,000 PA.Noida, Haridwar, Roorkee, Meerut, Rishikesh, Delhi / NCR Practical Knowledge in MIS & Data Analyst. Knowledge in Advance Excel with Formulas. Kn...mis executiveMISmis managerExcel DashboardsVLOOKUPFormulasAdvanced ExcelMacros14 Days Agosave\n",
      "Senior or Lead Data Analyst - Healthcare DomainHELLES TALENT SOLUTIONS PRIVATE LIMITED  4-8 Yrs15,00,000 - 30,00,000 PA.Pune, Bangalore/Bengaluru, Delhi / NCR, Mumbai (All Areas) 3+ years in an analytics role SQL and Data modeling ability Hands on creating statistic...Bi ToolsSQLData VisualizationData ModelingData AnalyticsSisenseTableauIT Skills18 Days Agosave\n",
      "Sr . BI Analyst - Data Engineeringcloudneeti4.1(100 Reviews)4-6 YrsNot disclosedBangalore/Bengaluru 5+ years of experience as a Data Engineer/BI Engineer 4+ experience in Python and SQL i...GITBI AnalystAccountingAnalyticalBillingForecastingData warehousingStatistics1 Day Agosave\n",
      "Data AnalystStryde Consulting Services  6-8 Yrs12,00,000 - 16,00,000 PA.Hyderabad/Secunderabad, Pune, Chennai, Bangalore/Bengaluru Should be any graduate withGA4TABLEAUGTM TaggingAdobe TableauData StudioUniversal AnalyticsIT Skills4 Days Agosave\n",
      "Data AnalystB2N Management Consulting (P) Ltd 0-1 Yrs2,00,000 - 3,00,000 PA.Kochi/Cochin Location - Cochin Qualification - MSc Freshers may also apply A leading financial compa...Microsoft RMicrosoft Power BiStatistical Data Analysis7 Days Agosave\n",
      "Data AnalystIQVIA RDS India Pvt Ltd 3-5 YrsNot disclosedBangalore/Bengaluru Educational Qualification : Any Graduation3 years of previous professional experience p...data analysissqlWordcommunicationPowerPointExcelAccess6 Days Agosave\n",
      "TS - Data AnalystSrivango6-11 YrsNot disclosedBangalore/Bengaluru, Mumbai (All Areas)(WFH during Covid) • Data Analyst (PLSQL working experience in one of the Database – Oracle / MS-SQL / My-...Data analysttableauplsqlMS - SQLDatabase OracleSQLPostgreSQLIT Skills7 Days Agosave\n",
      "Data Analyst/Software Developeruwrgoa 1-6 Yrs10,00,000 - 12,00,000 PA.Vasco Da Gama The job would entail processing of existing digital data into various software applicat...Software Application DevelopmentData AnalyticsBig Data AnalyticsArtificial IntelligenceSignal Processing8 Days Agosave\n",
      "Reporting & data Analyst roleEquiniti ICS3.5(168 Reviews)3-5 YrsNot disclosedChennai, Bangalore/Bengaluru Job DescriptionEquiniti Group Internal Audit is an independent, objective assurance and...ExcelFinanceData ManagementData AnalysisData ExtractionAdvanced ExcelData AnalyticsPowerpoint27 Days Agosave\n",
      "\n"
     ]
    },
    {
     "name": "stderr",
     "output_type": "stream",
     "text": [
      "[WDM] - ====== WebDriver manager ======\n",
      "[WDM] - Current google-chrome version is 102.0.5005\n",
      "[WDM] - Get LATEST chromedriver version for 102.0.5005 google-chrome\n",
      "[WDM] - Driver [C:\\Users\\lenovo\\.wdm\\drivers\\chromedriver\\win32\\102.0.5005.61\\chromedriver.exe] found in cache\n"
     ]
    },
    {
     "name": "stdout",
     "output_type": "stream",
     "text": [
      "data analystDisha Consultants4.6(2 Reviews)2-4 YrsNot disclosedPune, Chennai, Jaipur, Bangalore/Bengaluru Should be comfortable with SQL for query building Should have a natural flair for playi...Data analysisData validationData managementData analyticsAdvanced ExcelData Analystdata visualizationManagement30+ Days Agosave\n",
      "ASSISTANT DATA ANALYSTAditya Pharmacy0-2 YrsNot disclosedHyderabad/Secunderabad Our Merchandising Department is. looking for an analytically-driven, . detailed-oriente...Data Analyst30+ Days Agosave\n",
      "Data Analyst-InternshipPerkinElmer, Inc.4.1(88 Reviews)0-0 YrsNot disclosedHyderabad This role supports Reviewing and standardizing the new Inventory data of GSK Site Creat...SAPBusiness analyticsData AnalystInternshipInventoryLotus Notes30+ Days Agosave\n",
      "Data Operations Lead Analyst - IndiaSilicon Valley Bank4.4(37 Reviews)5-7 YrsNot disclosedBangalore/Bengaluru The Data Operations Analyst is responsible for operations and support of key data deliv...remediationData analysisData managementAnalyticalProject planningData qualityInformation managementFinancial services18 Days Agosave\n",
      "Product Data Management AnalystCBSI India Pvt. Ltd.3.8(103 Reviews)1-3 Yrs4,00,000 - 5,00,000 PA.Bangalore/Bengaluru Candidate with experience on Product Data Management, Reconciliation & Accounting Funct...product data management14 Days Agosave\n",
      "Lead Analyst- Data ManagementBNYMellonInternationalOperations(India) PrivateLim    ited4.2(2399 Reviews)5-8 YrsNot disclosedPune 7 years experience preferredExperience in quantitative finance and technology preferred...Data AnalyticsSQLRdata managementBusiness AnalyticsGGPLOT18 Days Agosave\n",
      "HCL- Urgent Opening _FRESHER For DATA Research AnalystHCL Technologies3.9(20627 Reviews)0-0 Yrs2,50,000 - 3,00,000 PA.Hyderabad/Secunderabad FRESHER SALARY GOOD IN THE INDUSTRYBPOback officedata entrydata researchfinancial services8 Days Agosave\n",
      "Senior Business Analyst/Data EngineerHuquo Consulting Pvt. Ltd2-4 YrsNot disclosedDelhi / NCR Experience in building scalability in testing automationEnterprise level coding experie...CloudAWSPythonAzureIT SkillsTestingautomation testingbusiness analysis4 Days Agosave\n",
      "Data Analyst-BusinessEducational Initiatives4.3(96 Reviews)2-4 YrsNot disclosedBangalore/Bengaluru Bachelor s degree in Commerce, Mathematics, Computer Science, Economics, or Statistics ...Business AnalysisData AnalysisMIS ReportingBusiness Intelligencedata analyticsSQLMarket ResearchExcel30+ Days Agosave\n",
      "Business Data AnalystZartek Technologies Private Limited4.3(15 Reviews)2-4 YrsNot disclosedKochi/Cochin(WFH during Covid) We are looking for Business Analyst who is passionate about all things data understandi...UATExcelKPISkuJIRASLASPGSQL14 Days Agosave\n",
      "Business Data AnalystLennox India Technology Centre3.9(53 Reviews)2-4 YrsNot disclosedChennai Bachelor s in computer science, statistics, applied mathematics, data management, infor...MiningComputer scienceGoogle AnalyticsData managementData modelingAnalyticalData collectionData quality30+ Days Agosave\n",
      "Associate - Business Data AnalystLennox International3.0(9 Reviews)1-4 YrsNot disclosedChennai Bachelor s in computer science, statistics, applied mathematics, data management, infor...MiningComputer scienceGoogle AnalyticsData managementData modelingAnalyticalData collectionData quality30+ Days Agosave\n",
      "Business Analyst/ Data Analyst - General LedgerL&T Infotech (LTI)3.9(3560 Reviews)4-10 YrsNot disclosedMumbai Should be willing to work in implementation & support projects Above skills certificati...AnalyticalCommunicationAnalytical skillsBusiness AnalystReconciliationConsultingManager TechnologyProduct control30+ Days Agosave\n",
      "Advanced Business Analyst I - Data AnalyticsNovo Nordisk India4.0(547 Reviews)7-12 YrsNot disclosedBangalore/Bengaluru You will be responsible in Managing system deliverables within agreed schedule, scope a...QaROracle DatabaseSoftware EngineeringScrum MasterQuality ManagementClinical Data ManagementData Warehousing30+ Days Agosave\n",
      "Senior Data AnalystCleint of Vision Unlimited2-7 Yrs4,00,000 - 7,00,000 PA.Mohali, Chandigarh problem-solving analytical skills across cross functional teams and Exceptional communi...Business AnalyticsData AnalysiskpoReportingData Analyticscommunication skills8 Days Agosave\n",
      "Sr Data Analyst IIIHS Markit4.1(470 Reviews)3-6 YrsNot disclosedBangalore/Bengaluru Experience in leading complex analytical projects and managing stakeholders Build the i...IT SkillsPythonProject ManagementBig DataAWSBPOproject managementComputer science30+ Days Agosave\n",
      "Senior Data AnalystCapco3.9(192 Reviews)4-8 YrsNot disclosedBangalore/Bengaluru Perform Data Analysis to develop data sourcing requirement Good understanding of data g...Data analysisBusiness analysisAgileData qualityInvestment bankingAsset managementFinancial servicesSQL30+ Days Agosave\n",
      "Sr. Data AnalystThomson Reuters4.3(1241 Reviews)2-4 YrsNot disclosedBangalore/Bengaluru As a core activity they provide business insights from data. To do this they will engag...ComplianceBusiness analysisAnalyticalDiversity and InclusionLegalData AnalystPower point presentationTaxation30+ Days Agosave\n",
      "Senior Data Analyst IIFlipkart4.2(9989 Reviews)3-6 YrsNot disclosedBangalore/Bengaluru Bachelors in Engineering, Computer Science, Math, or related discipline from a reputed ...adobe analyticsAnalyticalTest casesAdobeSQLComputer sciencepower biE-commerce21 Days Agosave\n",
      "Senior Data AnalystThomson Reuters4.3(1241 Reviews)2-4 YrsNot disclosedBangalore/Bengaluru Strong attention to detail, good organizational skills, effective problem solving and s...Order managementSAPFinancial analysisAnalyticalBillingCash flowTaxationBusiness intelligence30+ Days Agosave\n",
      "\n"
     ]
    },
    {
     "name": "stderr",
     "output_type": "stream",
     "text": [
      "[WDM] - ====== WebDriver manager ======\n",
      "[WDM] - Current google-chrome version is 102.0.5005\n",
      "[WDM] - Get LATEST chromedriver version for 102.0.5005 google-chrome\n",
      "[WDM] - Driver [C:\\Users\\lenovo\\.wdm\\drivers\\chromedriver\\win32\\102.0.5005.61\\chromedriver.exe] found in cache\n"
     ]
    },
    {
     "name": "stdout",
     "output_type": "stream",
     "text": [
      "Senior Professional Data AnalystDXC Technology3.9(6329 Reviews)3-7 YrsNot disclosedBangalore/Bengaluru Role Responsibilities: Supporting the Audit team with the development, execution and re...ERPData analysisManager Internal AuditBusiness analysisDatabase designOracleOperationsAnalytics30+ Days Agosave\n",
      "Sr. Data Analyst - Vehicle Forecasting-1IHS Markit4.1(470 Reviews)3-5 YrsNot disclosedGurgaon/Gurugram Minimum education requirement of four-year degree in an Engineering or a computer scien...IT SkillsPythonBig DataTableauComputer scienceData analysisIHSdata manipulation30+ Days Agosave\n",
      "Senior Professional Data AnalystDXC Technology3.9(6329 Reviews)6-11 YrsNot disclosedBangalore/Bengaluru Bachelors degree in information systems, computer science or related field preferred Re...Computer scienceTrainingData analysisOperating systemsData modelingProgrammingData structuresManagement30+ Days Agosave\n",
      "Senior Data Analyst - Product AnalyticsFreshworks4.0(118 Reviews)2-4 YrsNot disclosedChennai Education and experience: Bachelors or Masters in a quantitative field (such as Enginee...Computer scienceMarket analysisLogistic regressionSocial media analyticsData analysisNeural networksData Analystdata visualization30+ Days Agosave\n",
      "Walk-in - Hiring Data AnalystWissend Consultancy Services Private Limited   21 June - 30 JuneNot disclosedChennai(Nandanam) Walk-in only on Monday to Friday 1 Years of Experience Good CommunicationMS ExcelWALK-IN6 Days Agosave\n",
      "QA Data AnalystConsumerTrack2-4 YrsNot disclosedBangalore/Bengaluru At least one year of experience with testing Web Applications in Cross-browser and cros...AutomationManual testingManager Quality AssuranceFront endJavascriptFlexAgilePHP7 Days Agosave\n",
      "Data AnalystUnitedLex3.9(251 Reviews)3-5 YrsNot disclosedGurgaon/Gurugram, Bangalore/Bengaluru Knowledge and hands-on experience in breach notification and privacy laws around data b...excelpythonsql13 Days Agosave\n",
      "Jr Data AnalystInstitutional Shareholder Services3.5(21 Reviews)0-2 YrsNot disclosedMumbai Good judgment in assessing information sources and understanding the downstream effects...Root cause analysisCorporate governanceAnalyticalData collectionISSMS OfficeFinancial servicesMonitoring30+ Days Agosave\n",
      "Data and Dialler AnalystWebhelp4.2(304 Reviews)2-2 YrsNot disclosedGurgaon/Gurugram, Gurgaon Experience working with Dialler Platforms in a target driven environment Good knowledge...BPOoutboundprocess improvementanalyticsdataPowerBIdata formattingdata dialler analyst7 Days Agosave\n",
      "Support Analyst , Data ServicesSavanta2-5 YrsNot disclosedNoida, New Delhi Education to bachelor s degree level or higher in a field utilizing statistics or socia...Career developmentProject analysisData analysisoperational supportManager Quality AssuranceDiversity and InclusionAgileMarket research7 Days Agosave\n",
      "GCP Data AnalystTEKARCH TECHNOLOGY PRIVATE LIMITED 3.3(6 Reviews)2-5 Yrs5,00,000 - 12,00,000 PA.Ahmedabad, Bangalore/Bengaluru, Mumbai (All Areas) Should be able to create data dictionary and create searchable metadata in BigQuery2+ y...Gcp CloudRDMSELTGCSSQLServerDataprocOracleDWH11 Days Agosave\n",
      "Jr. Data Analyst Institutional Shareholder Services3.5(21 Reviews)0-2 YrsNot disclosedMumbai Willingness to work beyond traditional working hours / days as required by the business...ClaimsCorporate governanceBusiness researchAnalyticalData collectionISSMS OfficeFinancial services30+ Days Agosave\n",
      "Data AnalystTOTAL MARKETING SUPPORT INDIA PRIVATE LIMITED 3.5(3 Reviews)0-4 Yrs3,00,000 - 8,00,000 PA.Gurgaon/Gurugram To qualify for the role, you must have Preferred Analytics background candidate 4 years...Power BiPower Bi DashboardsExcelData EngineeringData AnalysisData VisualizationPower Query30+ Days Agosave\n",
      "Data AnalystDECISION TREE ANALYTICS AND SERVICES PRIVATE LIMITED4.8(10 Reviews)0-1 YrsNot disclosedGurgaon/Gurugram Bachelors degree in Engineering or StatisticsSQLTableauETLcommunicationanalyticalIT SkillsData Analysisbusiness intelligence18 Days Agosave\n",
      "Associate Analyst I - Global Data MgmtColgate-Palmolive (India)4.3(563 Reviews)2-5 YrsNot disclosedMumbai Key Responsibilities: Validate and ensure that all master data is accurate, complete an...data cleansingERPSAPData managementData qualityHTTPBudgetingOperations12 Days Agosave\n",
      "Analyst, Data Gov IIInvesco4.1(186 Reviews)2-5 YrsNot disclosedHyderabad/Secunderabad Or a Bachelor s degree in a discipline demonstrating a logical approach to analysis and...Power BIData QualityAccountingFinanceAlteryxUATAdvanced ExcelTableau14 Days Agosave\n",
      "Data Analyst- Fielding\n",
      "Operations.NAILBITER RESEARCH PVT LTD 4.6(8 Reviews)0-3 Yrs2,00,000 - 6,00,000 PA.Ahmedabad, Mumbai (All Areas) What You Will Need: A Bachelors degree required in related fields (such as social scien...Communication SkillsPresentation SkillsWritten CommunicationAnalytical SkillsInterpersonal Skills13 Days Agosave\n",
      "Senior Business Data AnalystAnicalls4.7(2 Reviews)5-10 YrsNot disclosedChennai Education: Bachelors degree Minimum of 5 years of experience in the business environmen...IT SkillsPythonTestingData ScienceCloudAWSTableauTicketing30+ Days Agosave\n",
      "Business Data AnalystCyient3.7(2809 Reviews)3-5 YrsNot disclosedHyderabad/Secunderabad We re looking for an experienced Business data analyst to join our team. The ideal cand...IT SkillsPythonQuality AssuranceTableauPower BIdata cleansingMarket analysisSemiconductor30+ Days Agosave\n",
      "Data Science / Data Engineer / Business Analyst / Full Stack DeveloperNETWORTH DATA PRODUCTS PRIVATE LIMITED0-3 Yrs4,00,000 - 6,50,000 PA.Bangalore/Bengaluru Bachelors degree or equivalent self education in a Quantitative or Technical field (Sta...data sciencedata engineeringIT SkillsDevOpsfull stack developerCicd Pipelinebusiness analyst26 Days Agosave\n",
      "\n"
     ]
    },
    {
     "name": "stderr",
     "output_type": "stream",
     "text": [
      "[WDM] - ====== WebDriver manager ======\n",
      "[WDM] - Current google-chrome version is 102.0.5005\n",
      "[WDM] - Get LATEST chromedriver version for 102.0.5005 google-chrome\n",
      "[WDM] - Driver [C:\\Users\\lenovo\\.wdm\\drivers\\chromedriver\\win32\\102.0.5005.61\\chromedriver.exe] found in cache\n"
     ]
    },
    {
     "name": "stdout",
     "output_type": "stream",
     "text": [
      "Senior Analyst- Data Visualization - Power BI ( Navi Mumbai)GIST MANAGEMENT SOLUTIONS PRIVATE LIMITED  2-4 Yrs10,00,000 - 15,00,000 PA.Navi Mumbai URGENT Hiring of Senior Analyst- Data Visualization - Power BI ( Navi Mumbai) for a top...microsoft power biIT SkillsMS SQLSharepointPower BIanalyticsMs SharepointExcel8 Days Agosave\n",
      "Senior Data AnalystGsn Games India4.2(14 Reviews)3-7 YrsNot disclosedBangalore/Bengaluru What You ll Do: Here you will work on a top-grossing F2P game, with significant and gro...Computer scienceSASFinancial analysisData collectionData AnalystData qualitySPSSForecasting30+ Days Agosave\n",
      "Sr. Pricing Analyst- Data ScienceAdvance Auto Parts4.3(41 Reviews)4-8 YrsNot disclosedHyderabad/Secunderabad BE / BTEch or Masters in Mathematics / Computer Science, MBA from a reputed institution...Supply chainComputer scienceSystem architectureRetail marketingMachine learningPredictive modelingForecastingAnalytics13 Days Agosave\n",
      "Data Analyst -BFSIDOFORT  10-13 Yrs12,00,000 - 20,00,000 PA.Hyderabad/Secunderabad, Chennai, Bangalore/Bengaluru 10+ yrs experience in BSFI domain “Agile Scrum Master” with data background. Experience...Agile MethodologyScrum MasterAgilecertified Agile scrum masterData AnalyticscommunicationHadoopScrum7 Days Agosave\n",
      "Data Analyst-Export house-Garments-Gurgaon-50K-Female candidateTarget Recruitment Agency   4-8 Yrs5,00,000 - 6,00,000 PA.Gurgaon/Gurugram Only Female candidates prefered with experience in banking sectorShould have worked as ...data analystData AnlalyticsgurgaonExcelSAPBankingData AnalysisBusiness data analyst2 Days Agosave\n",
      "Data AnalystCollabera Services Private Limited   4-8 YrsNot disclosedBangalore/Bengaluru(WFH during Covid) Nice to have : Experience Azure platform technologies (Databricks, ADF, Azure SQL, Syna...SQL DatabasesAnalysis and DesignSQL5 Days Agosave\n",
      "Data Analyst - International Regulatory Reporting (Gurgaon)Imaginators Try Going Beyond   2-7 Yrs9,00,000 - 18,00,000 PA.Gurgaon/Gurugram Data Analyst Role (SQL) Mandatory (2 -7 Years Experience) Need experience in Internatio...SQLSql Reporting ServiceConfluenceIRRData AnalysisRallyFinance ReportingInternational Regulatory ReportingTodaysave\n",
      "Urgent Hiring For Data Analyst (SAS)Talent Sketchers 3-8 YrsNot disclosedNavi Mumbai, Juinagar Experience: 3+ yearsSASData AnalystPythonIT SkillsBase SASSAS MacrosSAS SQLSAS DI18 Days Agosave\n",
      "Data Analyst |  Bsc / Msc Statistic | Surat LocationVenus Consultancy                             0-2 Yrs1,25,000 - 2,00,000 PA.Surat Good Machine Learning Modelling Techniques Works efficiently across distributed teams a...Advance ExcelMachine LearningStatstics fresheranalyticalMISData Analysiswritten communicationVBA Macros12 Days Agosave\n",
      "Data Analyst - CRM PlatformArtech infosystem3.7(409 Reviews)1-6 YrsNot disclosedKolkata, Mumbai, Hyderabad/Secunderabad, Pune, Ahmedabad, Chennai, Delhi / NCR, Bangalore/Bengaluru Minimum Qualifications: - Bachelors degree or equivalent Preferred Qualifications : - E...CRMJavacommunicationSalesforceanalyticalSQLdata analyticsPython28 Days Agosave\n",
      "Data Science Analyst Graduates below 28TELEMAN INSTITUTE OF WIRELESS TECHNOLOGIES PVT LTD D.0-3 Yrs5,00,000 - 5,50,000 PA.Pune, Bangalore/Bengaluru, Mumbai (All Areas) MA ( economics), BSc (IT) and M.sc Can also applyFresher, Software Developers, IT Profe...JavaProgrammingAptitudeC++C7 Days Agosave\n",
      "Data Analyst- Tableau & SQLParekh Integrated Services Pvt Ltd4.2(499 Reviews)2-4 Yrs4,00,000 - 6,00,000 PA.Mumbai Suburban, Goregaon Must have worked on Various Tableau Projects Well versed with Tableau EnvironmentTableauSQL7 Days Agosave\n",
      "Jr . Data AnalystArmorblox0-2 YrsNot disclosedBangalore/Bengaluru Bachelor s degree in a technical field or related experience Around a year of experienc...DevOpsdatabase programmingNLPMachine learningThreatIT Skillsremediationdata science30+ Days Agosave\n",
      "Data AnalystSt. John’s Research Institute3.7(20 Reviews)0-4 YrsNot disclosedBengaluru FresherPreference for candidates with knowledge in R and Python Coding programmeNutritionCodingCRCData AnalystResearchBioinformaticsPython30+ Days Agosave\n",
      "Data Analyst - MarketingCapco3.9(192 Reviews)3-6 YrsNot disclosedBangalore/Bengaluru Perform Data Analysis to develop data sourcing requirement Good understanding of data g...Investment BankingFinancial ServicesFinanceData AnalysisAgileData AnalyticsData GovernanceSql30+ Days Agosave\n",
      "Job Title: Data Analyst Analytics\n",
      "Location: Bangalore \n",
      "Kennametal Shared Services Pvt Ltd  3.9(197 Reviews)3-5 YrsNot disclosedBangalore/Bengaluru(Whitefield) Job Summary: About the Role.Analyst Analytics has a strong technical background in the ...SAP SQLData Warehouse Testingsap hanaETL Tool30+ Days Agosave\n",
      "India Market Unit - Data Science Analyst - 11Accenture4.1(28676 Reviews)2-6 YrsNot disclosedDelhi / NCR Key responsibilities Drive client value creation • Understand the client’s business, pr...Strategy consultingMachine learningprofessional servicesPredictive analyticsPythonpySparkdata lakeembedded analytics5 Days Agosave\n",
      "India Market Unit - Data Science Analyst - 11Accenture4.1(28676 Reviews)2-6 YrsNot disclosedMumbai Drive client value creation • Understand the client’s business, priorities and leadersh...Strategy consultingMachine learningprofessional servicesPredictive analyticsPythonbig dataembedded analyticsdata lake5 Days Agosave\n",
      "Workday Data AnalystAutodesk4.4(87 Reviews)2-6 YrsNot disclosedBangalore/Bengaluru Responsibilities Partners with Workday, ServiceNow expert team members to ensure data a...Business processPayrollTicketingSupport servicesHRData qualityAutodeskTroubleshooting11 Days Agosave\n",
      "Data AnalystLendingkart Finance Limited3.3(172 Reviews)0-3 YrsNot disclosedAhmedabad Should be a team player and flexible enough for multitaskingHaving good knowledge joins...Business IntelligenceExcelMisProblem SolvingDatabase ManagementData AnalysisData VisualizationData Analyst30+ Days Agosave\n",
      "\n"
     ]
    },
    {
     "name": "stderr",
     "output_type": "stream",
     "text": [
      "[WDM] - ====== WebDriver manager ======\n",
      "[WDM] - Current google-chrome version is 102.0.5005\n",
      "[WDM] - Get LATEST chromedriver version for 102.0.5005 google-chrome\n",
      "[WDM] - Driver [C:\\Users\\lenovo\\.wdm\\drivers\\chromedriver\\win32\\102.0.5005.61\\chromedriver.exe] found in cache\n"
     ]
    },
    {
     "name": "stdout",
     "output_type": "stream",
     "text": [
      "Data AnalystCapco3.9(192 Reviews)4-8 YrsNot disclosedMumbai Prior experience working with Collibra data governance platform/ MDM platforms, Cloud b...Financial ServicesUse CasesTechnologyFinanceRelationship ManagementData ManagementData AnalysisManagement Skills30+ Days Agosave\n",
      "Data Engineer - Associate Analyst / Data Engineer IColgate-Palmolive (India)4.3(563 Reviews)1-4 YrsNot disclosedMumbai Who are you You are a function expert - Build and maintain optimal data pipeline archit...Computer sciencemetadataNutritionData structuresHTTPInformation technologyAnalyticsSQL12 Days Agosave\n",
      "Data Privacy AnalystAXA Technology Services India Pvt. Ltd4.4(4 Reviews)2-4 YrsNot disclosedGurgaon/Gurugram Experience in insurance industry preferred Junior data privacy counsel with a minimum o...Analytical skillsAdministrationInformation Technology AnalystInterpersonal skillsExcelTeam managementHP data protectorInvestigation15 Days Agosave\n",
      "HCL Technologies - Urgent Opening For Data Research AnalystHCL Technologies3.9(20627 Reviews)1-5 Yrs4,00,000 - 6,00,000 PA.Hyderabad/Secunderabad SALARY GOOD IN THE INDUSTRYBPOback officedata entrydata researchfinancial services8 Days Agosave\n",
      "Business Data Analyst -  ReconciliationRandstad India Private Limited 4-5 Yrs5,00,000 - 8,00,000 PA.Bangalore/Bengaluru Performs data collection and analysis, financial modeling, forecasting, market assessme...Reconciliationdata collection and analysismarket assessmentsforecastingfinancial modelingdata collection21 Days Agosave\n",
      "Business Data AnalystAMPLIFY ANALYTIX INDIA PRIVATE LIMITED 3-5 YrsNot disclosedBengaluru Bachelor?s degree, any discipline is considered, extra points for numbers or business-o...tableauPDFdata scienceBusiness Data AnalystAnalyticalStatistical softwareSPSSinternational clients30+ Days Agosave\n",
      "Business Data AnalystMulti Recruit4.5(10 Reviews)4-6 YrsNot disclosedBangalore/Bengaluru Roles and Responsibility Work with stakeholders throughout the organization to identify...Google AnalyticsDatabase designProcess improvementPredictive modelingData miningBusiness intelligenceBusiness solutionsMATLAB30+ Days Agosave\n",
      "Business Data AnalystLuxoft4.5(175 Reviews)3-8 YrsNot disclosedBangalore/Bengaluru Provide End to End Development solution to one of the largest investment banking produc...Data MigrationConversioncommunicationdata engineeringanalyticsQlikBigDataPython25 Days Agosave\n",
      "Business Data AnalystShiras HR Advisory & Services3-8 YrsNot disclosedBangalore/Bengaluru A Bachelor s degree in Analytics, Engineering, Statistics, Management Science, Applied ...UsageBusiness Data Analystpower bidata visualizationManagementStatisticsAnalyticsFinancial services30+ Days Agosave\n",
      "Business Data AnalystAARNA HR SOLUTIONS PVT. LTD.3-6 YrsNot disclosedBengaluru Qualification: Bachelor s Degree in Computer Science, Economics, Statistics, Informatio...ERPSAPSASBusiness Data AnalystXMLSPSSOracleData mining30+ Days Agosave\n",
      "Business Analyst (Data Analyst role)Xpheno3.0(34 Reviews)2-5 YrsNot disclosedMumbai, Hyderabad/Secunderabad, Pune, Chennai, Bangalore/Bengaluru Bachelor s Degree preferred in Computer Science or Quantitative Studies Strong database...MicrostrategyComputer sciencetableauExcelSQL databaseBusiness AnalystData AnalystCustomer service30+ Days Agosave\n",
      "Data Analyst / Business AnalystRight Step Consulting2-3 YrsNot disclosedGurgaon PG:Any Postgraduate - Any SpecializationMinimum work experience of 2 - 3 years in Data ...Data dictionaryExcelData managementBusiness AnalystData AnalystMS OfficeBusiness intelligenceSoftware services30+ Days Agosave\n",
      "CRM Business Data AnalystHarappa Learning Pvt Ltd3.5(13 Reviews)1-2 YrsNot disclosedNew Delhi Partner with cross-functional stakeholders as per business requirement Industry Experie...Presentation SkillsMonthly ReportsExcelStrong Analytical Skills30+ Days Agosave\n",
      "Business Data Analyst 2GP Strategies3.9(69 Reviews)5-7 YrsNot disclosedChennai Collaborate with the team on reporting activities or work independently as required in ...Data analysisVisual BasicData managementData Analystdata integrityManagementBusiness intelligenceBusiness operations30+ Days Agosave\n",
      "Business and Data Analyst - AlphonsoAlphonso Inc.2-5 YrsNot disclosedBengaluru You will be one of the early members of the team and will help shape the growth of this...AnalyticalAd operationsData AnalystAccount managementCampaignsManagementAdvertisingdigital advertising30+ Days Agosave\n",
      "Business Analyst / Data AnalystDC Consultants4.8(12 Reviews)3-5 YrsNot disclosedPune Proficient with the different phases of the software development lifecycle (SDLC), incl...Managed servicesBusiness AnalystConsultingTest designSoftware development life cycleData analyticsSDLCSoftware services30+ Days Agosave\n",
      "Business and Data AnalystQubit AI1-3 YrsNot disclosedHyderabad Work in collaboration with the solution designer and DM analyst to develop enterprise d...IT SkillsArtificial IntelligenceSupply chainSolution architectureSANFrenchData managementAnalytical30+ Days Agosave\n",
      "MIS Executive and Data AnalystStan Professionals Private Limited2.5(16 Reviews)1-3 Yrs1,25,000 - 2,00,000 PA.New Delhi(Connaught Place) Maintaining creating reports in Excel Candidate should have knowledge of Vlookup, Hlook...ExcelEmail EtiquetteSUMIFCountifConcatenateVLOOKUPConditional FormattingPivot15 Days Agosave\n",
      "Senior Data AnalystSeven Consultancy (HR Solution)5-10 YrsNot disclosedBangalore/Bengaluru Assist the data scientist in development of new analytical tools and methods as and whe...Procurementdata sciencebig data analyticsAnalyticalData collectionbig data analystConsultancyData Analyst30+ Days Agosave\n",
      "Senior Data AnalystFINNOVATION TECH SOLUTIONS PRIVATE LIMITED 4.0(114 Reviews)3-6 YrsNot disclosedBangalore/Bengaluru(Old Madras Road) Experience in data analysis and modeling Preferably in fintech / collections department...SQLSQL ProgrammingData AnalyticsPythonProgrammingPythonnumphyData OrganizationData Analysis Tools22 Days Agosave\n",
      "\n"
     ]
    },
    {
     "name": "stderr",
     "output_type": "stream",
     "text": [
      "[WDM] - ====== WebDriver manager ======\n",
      "[WDM] - Current google-chrome version is 102.0.5005\n",
      "[WDM] - Get LATEST chromedriver version for 102.0.5005 google-chrome\n",
      "[WDM] - Driver [C:\\Users\\lenovo\\.wdm\\drivers\\chromedriver\\win32\\102.0.5005.61\\chromedriver.exe] found in cache\n"
     ]
    },
    {
     "name": "stdout",
     "output_type": "stream",
     "text": [
      "Senior Data AnalystJupiter.money3.4(10 Reviews)5-10 YrsNot disclosedBangalore/Bengaluru Should be a quick learner with ability to learn new tools / technology quicklyRequired ...Data ScienceRRisk AnalyticsData AnalystData AnalyticsMarketing AnalyticsConsumer InsightsPython30+ Days Agosave\n",
      "Senior Data Analyst, Data & AnalyticsReSource Pro Operational Solutions Pvt Ltd.4.1(106 Reviews)3-5 YrsNot disclosedBangalore/Bengaluru 4 years minimum experience in data analysis within the P&C insurance and Employee Benef...Data VisulizationData ModellingROpen RefineStatistical AnalyticsTalendsuiteData and AnalyticsData Mapping21 Days Agosave\n",
      "Senior Data AnalystQualitest India Private Limited3.7(111 Reviews)5-8 YrsNot disclosedBangalore/Bengaluru 8 years experience in Data AnalyticsProcess improvementAnalyticalData collectionDatabaseData analyticsData AnalystManagement27 Days Agosave\n",
      "Senior Data AnalystPM Group4.5(16 Reviews)5-10 YrsNot disclosedBangalore/Bengaluru Bachelor s degree in computer science, mathematics, engineering, business, accounting, ...Process automationComputer scienceConsultingpower biData analyticsLife sciencesHTMLBusiness strategy30+ Days Agosave\n",
      "Senior Data Analyst, DMAT (Data Management and Analytics Tools)Poshmark5.0(4 Reviews)3-5 YrsNot disclosedChennai Are you passionate about enabling data driven decision making by building high quality ...Communication SkillsData ManagementBig DataEcommerceData AnalystTableauAnalyticsPython30+ Days Agosave\n",
      "Sr. Data AnalystSeven Consultancy2-5 YrsNot disclosedMumbai Collection and Collation of data Analysis and Interpretation of collected data Identify...Analytical skillsData analysisData managementBusiness AnalystBusiness analysisData collectionData AnalystData analytics30+ Days Agosave\n",
      "Senior Data AnalystRGA3.1(5 Reviews)2-4 YrsNot disclosedMumbai The Senior Data Analyst Reinsurance develops, improves and optimizes programs and tools...Data ValidationData QualityAutomationFinanceData ManagementBusiness ProcessData AnalyticsQuality Assurance30+ Days Agosave\n",
      "Senior Data Analyst, DMAT (Data Management and Analytics Tools)Poshmark5.0(4 Reviews)2-5 YrsNot disclosedPune This role provides a unique opportunity to analyze business critical problems, and coll...Spark SqlSenior Data AnalystData ManagementData AnalysisTime SeriesE - CommerceAnalyticsBusiness Analysis30+ Days Agosave\n",
      "Senior Data AnalystINSIGHTSE1-2 YrsNot disclosedKochi Graduate / Post Graduate from premier institutes in relevant subjects 2 years of experi...Data analysisStatistical modelingSASmanagementDatabase managementDatabaseData AnalystData analytics30+ Days Agosave\n",
      "Sr. BI Analyst - Data Engineeringcloudneeti4.1(100 Reviews)4-6 YrsNot disclosedMumbai 5+ years of experience as a Data Engineer/BI Engineer 4+ experience in Python and SQL i...GITBI AnalystAccountingAnalyticalBillingForecastingData warehousingStatistics1 Day Agosave\n",
      "Data Analystics/Analyst -Python and Hadoop Financial based CompanyInspiration Manpower Consultancy Pvt. Ltd.  8-13 YrsNot disclosedPune, Chennai, Bangalore/Bengaluru, Delhi / NCR Banking Experience is a mustNotice Period : Less than 60 Days Joiners or (Immediate Joi...Data AnalysthadoopSQLPythoninsuranceBankingfinance7 Days Agosave\n",
      "Analyst - Data Analytics / SQLHuquo Consulting Pvt. Ltd2-7 YrsNot disclosedGurgaon/Gurugram, Delhi / NCR Bachelors / Masters degree in economics, mathematics, computer science / engineering, o...data extractionData AnalyticsSQLPower BIdata manipulationData Visualizationproblem solvingPython10 Days Agosave\n",
      "Analyst, Data Governance IInvesco (India) Pvt Ltd1-3 YrsNot disclosedHyderabad/Secunderabad B Com/ MBA in Finance, BTech +MBADevelop a solid grasp of end-to-end investment managem...Markit EDMInformatica Power CenterInformatica DQData GovernanceInformatica EDCPower BIData ManagementTableau17 Days Agosave\n",
      "Data Analyst / Data EngineerTALENT MAX HR & MANAGEMENT CONSULTANTS8-13 YrsNot disclosedIndore, Pune, Bangalore/Bengaluru 3+ years of experience with Big Data technologies like PySpark, Hadoop, Hive, HBASE, Ka...Computer scienceMS SQLData analysisBusiness analyticsAgileOutsourcingOracleTeradata30+ Days Agosave\n",
      "Job | Crisil | Hiring For Data AnalystCrisil3.9(885 Reviews)8-12 YrsNot disclosedPune, Bangalore/Bengaluru, Mumbai (All Areas) Dear Candidate, Greetings from Crisil !!!!We are hiring Data Analyst role for Chennai/P...pythonSASBigdataData AnalystSQLData AnalaysisData Analytics26 Days Agosave\n",
      "Lead Data Analyst - Risk AnalyticsGojek4.3(18 Reviews)5-11 YrsNot disclosedBangalore/Bengaluru PhD, Master s or Bachelor s degree in Quantitative disciplines or Computer Science Mini...Computer scienceData modelingRisk analyticsAnalyticalMachine learningdata visualizationRisk managementFinancial services30+ Days Agosave\n",
      "Data Analyst - Platform & SecurityHotstar3.1(45 Reviews)2-6 YrsNot disclosedBangalore/Bengaluru Collect and Interpret data, analyze results, publish MIS reports, emailers and dashboar...Computer sciencetableauBusiness reportingLegal complianceNetwork securityData analyticsRisk managementOperations30+ Days Agosave\n",
      "Data Analyst - OperationsIngram Micro3.9(494 Reviews)3-6 Yrs5,00,000 - 10,00,000 PA.Mumbai(Vikhroli) Category Full TimeEducation Qualification Bachelors degree essentialDegree / Diploma in...TableauData Analyticsexceldata analysisdata managementdata representationgap analysisdata maintenance24 Days Agosave\n",
      "Opportunity at BNY Mellon - Finance Data Architect/ Financial AnalystBNY Mellon4.2(2399 Reviews)5-9 YrsNot disclosedPune, Chennai Bachelors degree in finance, accounting, or business or the equivalent combination of e...Data ValidationSQL Queriesdata modelingFinancial InstrumentsData GovernanceBig Data Analyticsdata analysisPower Bi15 Days Agosave\n",
      "Associate Data AnalystUnited Airlines4.5(16 Reviews)0-2 YrsNot disclosedGurgaon/Gurugram Proficiency writing queries and procedures using both traditional and modern technologi...data analysissqlbusiness insights20 Days Agosave\n",
      "\n"
     ]
    },
    {
     "name": "stderr",
     "output_type": "stream",
     "text": [
      "[WDM] - ====== WebDriver manager ======\n",
      "[WDM] - Current google-chrome version is 102.0.5005\n",
      "[WDM] - Get LATEST chromedriver version for 102.0.5005 google-chrome\n",
      "[WDM] - Driver [C:\\Users\\lenovo\\.wdm\\drivers\\chromedriver\\win32\\102.0.5005.61\\chromedriver.exe] found in cache\n"
     ]
    },
    {
     "name": "stdout",
     "output_type": "stream",
     "text": [
      "Banking . Data Management AnalystCitco3.1(221 Reviews)2-6 YrsNot disclosedHyderabad/Secunderabad Bachelor in Law, Business Administration, or a related / equivalent disciplineMust have...Career developmentData analysisDue diligenceExcelOnline bankingCorporate governancedata integritydata management analyst15 Days Agosave\n",
      "Analyst , Campaign Data Managementdoubledutch1-4 YrsNot disclosedGurgaon/Gurugram Must be self-motivated and enjoy an extremely fast-paced environmentHighly Proficient i...SFDCMS Office SuiteSalesforceMarketoExcelSQLcommunicationAnalytical12 Days Agosave\n",
      "Business Data Analyst - MarketingLennox India Technology Centre3.9(53 Reviews)3-5 YrsNot disclosedChennai Deep experience in extracting, cleaning, preparing and modeling data Bachelors degree i...IT SkillsTableauPower BIComputer scienceData analysisOperations researchSASBusiness analytics30+ Days Agosave\n",
      "Business Data Analyst - MarketingLennox International3.0(9 Reviews)2-5 YrsNot disclosedChennai Deep experience in extracting, cleaning, preparing and modeling data Bachelors degree i...Computer scienceData analysisOperations researchSASBusiness analyticsPredictive modelingSPSSData mining30+ Days Agosave\n",
      "BUSINESS DATA ANALYST - NETWORK DESIGNLennox India Technology Centre Private Limited3.9(53 Reviews)2-5 YrsNot disclosedChennai Any graduation with 4 to 6 years of experience in Network Design in SCM domain Addition...Network designBusiness Data AnalystSCM30+ Days Agosave\n",
      "ASSOCIATE - BUSINESS DATA ANALYSTLennox India Technology Centre Private Limited3.9(53 Reviews)2-5 YrsNot disclosedChennai Bachelor s in computer science, statistics, applied mathematics, data management, infor...Business Data Analyst30+ Days Agosave\n",
      "Senior Data AnalystITBRIDGE CONSULTANTS PRIVATE LIMITED 4-8 Yrs15,00,000 - 30,00,000 PA.Remote 6+ years of Proficiency in Python (pandas, NumPy, ) for data wrangling, data science an...Power BiData WranglingPythonNumPyMySQLRest APIpandasAWS11 Days Agosave\n",
      "Senior Data AnalystNike India4.2(106 Reviews)3-7 YrsNot disclosedBangalore/Bengaluru WHAT YOU WILL WORK ON Serve as a liaison between product, engineering data consumers by...Supply chainComputer scienceData analysisProduct engineeringMISAnalyticalMachine learningOpen source30+ Days Agosave\n",
      "Senior Data Analyst - Python, SQLOptum4.2(1777 Reviews)8-13 YrsNot disclosedHyderabad/Secunderabad Self-driven and able to work independently with minimum support / mentoring Undergradua...Pythonanalyticsdata scienceData AnalysisData AnalystSQL30+ Days Agosave\n",
      "Senior Data AnalystBlinkit3.8(1037 Reviews)4-7 YrsNot disclosedGurgaon/Gurugram Knowledge and experience with creating and maintaining visualisations on BI Tools like ...JavaHiveHadoopBig DataData AnalysisSparkPython30+ Days Agosave\n",
      "Sr Data Analyst IIHS Markit4.1(470 Reviews)3-6 YrsNot disclosedGurgaon/Gurugram Candidate should be a team player and will be expected to communicate and collaborate w...DebuggingBatch ProgrammingTableauMS - EXCELPL / SQLPythonRoot Cause AnalysisIT Skills30+ Days Agosave\n",
      "Sr Data Analyst IIIHS Markit4.1(470 Reviews)3-6 YrsNot disclosedGurgaon/Gurugram Coding experience (preferably python) to write robust and high standard code experience...IT SkillsPythonTestingMachine LearningPDFCodingData AnalystHTTP30+ Days Agosave\n",
      "Sr Data Analyst / Data Analyst IIUber4.1(524 Reviews)1-4 YrsNot disclosedHyderabad/Secunderabad We are looking for an exceptional data analyst with 5 years of experience to empower Ub...MicrostrategyComputer scienceData analysisGoogle AnalyticsWeb analyticsJavascriptOmnitureBusiness intelligence30+ Days Agosave\n",
      "Senior Data AnalystOptum4.2(1777 Reviews)5-10 YrsNot disclosedHyderabad/Secunderabad Combine two of the fastest-growing fields on the planet with a culture of performance, ...data analysisBig Data analysisData modelingETL processingPySparkHadoopdata warehousingsystems application architecture22 Days Agosave\n",
      "Sr Data Analyst - IICBRE Group4.3(2220 Reviews)10-15 YrsNot disclosedHyderabad/Secunderabad Having 9+ years of experience in analyzing various sources and formats of data. Should ...Business processData analysisSASXMLAnalyticalData AnalystAnalyst IISPSS30+ Days Agosave\n",
      "Senior Data Analyst/Senior Data AnalystBajaj Finserv4.1(12500 Reviews)1-4 YrsNot disclosedPune Minimum qualification required is BE or Post Graduates in IT with an experience of at l...SFDCsparkpower biData AnalystManagementSSISOperationsETL tool30+ Days Agosave\n",
      "Senior Professional Data AnalystDXC Technology3.9(6329 Reviews)3-7 YrsNot disclosedGurgaon/Gurugram Bachelors degree in information systems, computer science or related field preferred Re...IT SkillsSoftware DevelopmentComputer scienceTrainingData analysisOperating systemsData modelingProgramming30+ Days Agosave\n",
      "Exciting Opportunity For Reference Data - Senior AnalysteClerx3.6(2919 Reviews)1-5 YrsNot disclosedMumbai • Ref Data mgmt. / Reference Data management • Product setup / Security setup • Product...ssi amendSSI openingReference Datassi deleteproduct setupIsdapricing7 Days Agosave\n",
      "Data Quality Analyst -CDS MMOAllegis Services India Pvt. Ltd.3-6 Yrs2,00,000 - 7,00,000 PA.Bangalore/Bengaluru Roles and Responsibilities Knowledge & Experience / Qualifications :Prior experience (1...Regulatory Reportingjavapython developertrade reportingotc derivative productsPythonTodaysave\n",
      "Data AnalystPHYSICSWALLAH PRIVATE LIMITED 4.8(28 Reviews)0-2 Yrs1,00,000 - 6,00,000 PA.Kolkata, Hyderabad/Secunderabad, Pune, Chennai, Bangalore/Bengaluru, Delhi / NCR(WFH during Covid) Strong knowledge in programming using Python preferably. Strong analytical skills. Good...ExcelTableauSQLPythonSQL Database7 Days Agosave\n",
      "\n"
     ]
    },
    {
     "name": "stderr",
     "output_type": "stream",
     "text": [
      "[WDM] - ====== WebDriver manager ======\n",
      "[WDM] - Current google-chrome version is 102.0.5005\n",
      "[WDM] - Get LATEST chromedriver version for 102.0.5005 google-chrome\n",
      "[WDM] - Driver [C:\\Users\\lenovo\\.wdm\\drivers\\chromedriver\\win32\\102.0.5005.61\\chromedriver.exe] found in cache\n"
     ]
    },
    {
     "name": "stdout",
     "output_type": "stream",
     "text": [
      "Data Visualization AnalystNao LLC2-7 YrsNot disclosedRemote Building and iterating reports (with eventual design collaboration) based around a larg...dashboardsbusiness intelligence toolsadvanced excelweb technologiesstatistics1 Day Agosave\n",
      "Data AnalystGALTON TECHNOLOGIES PRIVATE LIMITED2-6 YrsNot disclosedGurgaon/Gurugram(WFH during Covid) Must have strong work excel experience in V-Look up and all basic concepts in MS-Excel ...data analysisadvanced exceldashboardsexcelMS - Excelanalyticaldecision supportPowerpoint7 Days Agosave\n",
      "Data Modelling AnalystProdapt Solutions Private Limited3.7(340 Reviews)4-9 Yrs50,000 - 2,50,000 PA.Chennai, Bangalore/Bengaluru Familiarity with or a bachelors degree in computer science, data science, information t...Teradata SQLbig dataErwin Data Modelerrelational databasesSQLcommunicationdata architecturedata modeling1 Day Agosave\n",
      "Data Analyst - IIM/ISB/MDI/FMS/SP JainK12 Techno Services Pvt Ltd3.2(308 Reviews)4-9 YrsNot disclosedBangalore/Bengaluru Masters degree from Tier 1 MBA College Demonstrated experience in handling large data s...relational datametadataData ManagementMaster Data ManagementData MiningData AnalyticsAnalytics21 Days Agosave\n",
      "Data AnalystSeven Consultancy (HR Solution)2-4 YrsNot disclosedBangalore/Bengaluru JOB DETAILS 1. Proficient in other analytical tools (e.g. Google Analytics), Advance Ex...Customer acquisitionStatistical modelingGoogle AnalyticsData managementBusiness AnalystBusiness analysisAnalyticalData analytics30+ Days Agosave\n",
      "Data AnalystVISIGHT TECHNOLOGIES PVT LTD 7-11 YrsNot disclosedRemote Roles and Responsibilities :Desired Candidate Profile Perks and Benefits : YespythonPower BITableauSQL7 Days Agosave\n",
      "Data AnalystZegbees soft solutions private limited 2-7 Yrs7,00,000 - 16,00,000 PA. (Including Variable: 5.0%)Remote Full Time, PermanentAny GraduatepythonTableauSQLPowerBItroubleshootingIT SkillsData Scienceanalytics8 Days Agosave\n",
      "Data Analysteskag pharma pvt. ltd.3.3(72 Reviews)1-2 YrsNot disclosedKolkata Job descriptionQualification( MBA Finance) #Company Analysis#Equity Research# Cost Esti...mba financeCost EstimationEquity Research11 Days Agosave\n",
      "Data AnalystRSB Global4-8 YrsNot disclosedMumbai, Mumbai Suburban, Navi Mumbai, Mumbai (All Areas) Proficiency in predictive modelling and Machine learning (Logistic / Linear regression,...predictive modelingMachine Learningdata analyticsBusiness AnalyticsPower BisassegmentationTableau9 Days Agosave\n",
      "Data AnalystGrampro Business Services Pvt Ltd  ( Official Recruitment Partner for ESAF Group)5-8 YrsNot disclosedThrissur/Trichur Designation : Data AnalystExperience : 5 yearsSkills : Analytical ToolsLocation : Mannu...Analytical ToolsAnalytical11 Days Agosave\n",
      "Data AnalystiEnergizer3.5(2477 Reviews)1-4 Yrs2,50,000 - 6,00,000 PA.Noida(Sector-60 Noida) Roles and Responsibilities -Handle data base connectivity, Shrinkage, DBC, Should have ...Shrinkagesql serverDbcc Commands19 Days Agosave\n",
      "Junior Data Analyst - DQSChecktronix India Pvt. Ltd.4.2(20 Reviews)0-1 YrsNot disclosedDharmapuri, Chennai Graduates / Post Graduates or Freshers from any streamExcept ME, M Tech, MBA)data cleansingRoot cause analysisData analysisagile project managementdata manipulationMySQLmarket dataJIRA30+ Days Agosave\n",
      "Junior Data Analyst Checktronix India Pvt. Ltd.4.2(20 Reviews)0-2 YrsNot disclosedChennai, dharmapuri Graduates / Post Graduates or Freshers from any streamExcept ME, M Tech, MBA)data cleansingData analysisdata manipulationData modelingMySQLmarket dataResearchbig data30+ Days Agosave\n",
      "Junior Data AnalystSiCureMi Healthcare Technologies0-2 YrsNot disclosedDelhi Position 1 Junior Data Analyst The Jr. Data Analyst will be engaged in coordinating and...MonitoringRemedyJunior Data Analyst30+ Days Agosave\n",
      "Data Analyst / Business Analyst  - US MNC (Analytics)Aspyra HR Services  2-7 Yrs12,00,000 - 22,00,000 PA.Gurgaon/Gurugram, Bangalore/Bengaluru, Delhi / NCR(WFH during Covid) Preference: immediate joiners or who can join in 30 daysSQLpythondata analysisdata analyticssasBusiness Analysis25 Days Agosave\n",
      "Business Analyst/Data AnalystTelamon HR Solutions3-5 YrsNot disclosedHyderabad/Secunderabad, Bangalore/Bengaluru, Delhi / NCR Strong communication and presentation skills should be able to drive conversations to d...Business AnalystData AnalystSolution DesignSDLCcommunicationpresentationsoftware development lifecycleData analytics20 Days Agosave\n",
      "Data Analyst / Product Analyst / Business AnalystBenchire2-5 YrsNot disclosedBangalore/Bengaluru, Delhi / NCR(WFH during Covid) Responsibilities:• Building dashboards using techniques for advanced analytics, interac...Data AnalysisTableaucommunicationbusiness modellingdata modellingdata managementSQLwritten30+ Days Agosave\n",
      "Business analyst + data AnalysisAnlage Infotech (I) Pvt. Ltd.   5-10 YrsNot disclosedHyderabad/Secunderabad, Bangalore/Bengaluru About this role:Experience-5+yrsLocations-Bangalore/Hyderabadseeking a Senior Technolog...business analysisTeradataJIRAbankingagileGap AnalysisUse CasesRequirement Gathering30+ Days Agosave\n",
      "Business analyst + data AnalysisAnlage Infotech (I) Pvt. Ltd.   5-10 YrsNot disclosedHyderabad/Secunderabad, Bangalore/Bengaluru About this role:Experience-5+yrsLocations-Bangalore/Hyderabadseeking a Senior Technolog...business analysisTeradataJIRAbankingagileGap AnalysisUse CasesRequirement Gathering25 Days Agosave\n",
      "Data Warehousing Business analystNovoTree Minds Consulting Pvt. Ltd.4-9 YrsNot disclosedMumbai Business Analyst and Strong data warehousing experience Techno functional role good in ...Data Warehousingbusiness intelligenceBusiness Analysis6 Days Agosave\n",
      "\n"
     ]
    },
    {
     "name": "stderr",
     "output_type": "stream",
     "text": [
      "[WDM] - ====== WebDriver manager ======\n",
      "[WDM] - Current google-chrome version is 102.0.5005\n",
      "[WDM] - Get LATEST chromedriver version for 102.0.5005 google-chrome\n",
      "[WDM] - Driver [C:\\Users\\lenovo\\.wdm\\drivers\\chromedriver\\win32\\102.0.5005.61\\chromedriver.exe] found in cache\n"
     ]
    },
    {
     "name": "stdout",
     "output_type": "stream",
     "text": [
      "Data Analyst / ScientistBlisaura Events Studio Pvt Ltd2-5 YrsNot disclosedBengaluru Very strong analytical skills - basic understanding of Cohort Analysis, Funnelling and ...Analytical skillsStatistical analysisSalesPredictive modelingData AnalystData miningPredictive analyticsMonitoring30+ Days Agosave\n",
      "Senior Data Analyst - KPOHuquo Consulting Pvt. Ltd7-12 YrsNot disclosedGurgaon/Gurugram, Bangalore/Bengaluru Must understand data models: Technically able to validate, analyze, data model and writ...Data ManagementData ModelingData AnalyticsAnalyticsPythonSQL21 Days Agosave\n",
      "Senior Data AnalystCarDekho3.9(356 Reviews)2-4 YrsNot disclosedGurgaon/Gurugram Finally, your communication skills must allow you to work elegantly and professionally ...Operations researchBusiness analyticsAnalyticalMySQLCustomer servicedata visualizationAnalyticsAutomotive30+ Days Agosave\n",
      "Data Analyst or Senior Data AnalystMIND NOIDAMothersonSumi INfotech & Designs Ltd. (MIND)3.3(284 Reviews)3-5 YrsNot disclosedNoida Managing projects, requirement gathering, writing design technical / functional specifi...gatheringdata analysisIT SkillsData ScienceCloudBusiness AnalystFormulationData collection22 Days Agosave\n",
      "Senior Data AnalystDun & Bradstreet4.0(172 Reviews)2-4 YrsNot disclosedHyderabad Participate in Requirement Analysis discussions to understand and document data require...Requirement Analysisdata analysismetadataCloudData structuresDNBData AnalystManagement30+ Days Agosave\n",
      "Sr. Data AnalystNeustar4.2(29 Reviews)5-8 YrsNot disclosedHyderabad/Secunderabad Responsibilities: Analyze data and identify data pattern to bring data insight. Build s...IT SkillsCloudBig DataTableauComputer scienceData analysisInterpersonal skillsGCP30+ Days Agosave\n",
      "Require Data Analyst For Bangalore,Chennai,Gurgaon,Mumbai,KolkataTALENTICO CONSULTANCY SERVICES  4-9 Yrs7,00,000 - 17,00,000 PA.Gurgaon/Gurugram, Bangalore/Bengaluru, Mumbai (All Areas) •Strong analytical skills to collect, transform & discover patterns. •Exp in writing co...Data Analysisdata analystGCPSparkPythonSQL queriesanalyticalApache Hadoop7 Days Agosave\n",
      "Data service /Data AnalystIBIT   2-7 YrsNot disclosedChennai Experience in Data Conversion / MIS / Metrics Manage information flow from various data...ExcelData AnalysisData AnalystData Analytics11 Days Agosave\n",
      "Big Data AnalystINFOWEB 0-1 YrsNot disclosedPune Here you should outline the functions this position will perform on a regular basis,Data ValidationSkills of ProgrammingData AnalysisData MiningData Visualization SkillsFamiliarity with Business Domain and Big Data ToolsAnalytical SkillsFormulas18 Days Agosave\n",
      "Data BA Data Analysis, Deep Learning ApplicationMindtree4.1(3192 Reviews)5-10 Yrs14,00,000 - 24,00,000 PA.Hyderabad/Secunderabad, Pune, Chennai, Bangalore/Bengaluru, Delhi / NCR, Mumbai (All Areas) Role :Data BA with Analytics experience Data scientist who has experience working in Me...Data BA30+ Days Agosave\n",
      "Immediate Joiner Data AnalystCapco3.9(192 Reviews)7-12 Yrs13,00,000 - 23,00,000 PA.Pune, Gurgaon/Gurugram, Chennai, Bangalore/Bengaluru Should have skill to analyze data Good to have payments experience Good to have underst...SQLPythonUnixPysparkdata analysisBankinghadoop30+ Days Agosave\n",
      "Staff Data Analyst (MINT)Walmart4.2(11295 Reviews)3-7 YrsNot disclosedBangalore/Bengaluru Pull data required to conduct business analysis, build reports, dashboards and metrics ...IT SkillsPythonTestingTableauComputer scienceData analysisBusiness analysisData Analyst30+ Days Agosave\n",
      "Data AnalystBlinkit3.8(1037 Reviews)1-2 YrsNot disclosedGurgaon/Gurugram, Bangalore/Bengaluru Craft strategic initiatives, identify process improvement opportunities and measure the...RPower BiAnalytical SkillsProblem SolvingQlikviewData AnalystTableauStatistics30+ Days Agosave\n",
      "Lead Data AnalystSharechat4.3(90 Reviews)1-6 YrsNot disclosedBangalore/Bengaluru Responsibilities: Querying the Database: Using SQL to run queries on ShareChats Google ...Computer scienceAnalytical skillsDatabase designBusiness Data AnalystSocial mediaInformation managementData miningAnalytics30+ Days Agosave\n",
      "Data AnalystThomson Reuters4.3(1241 Reviews)1-3 YrsNot disclosedBangalore/Bengaluru As a core activity they provide business insights from data. To do this they will engag...tableauComplianceBusiness analysisAnalyticalDiversity and InclusionLegalData AnalystPower point presentation30+ Days Agosave\n",
      "Data AnalystInfineon Technologies Pvt Ltd4.2(80 Reviews)1-3 YrsNot disclosedBangalore/Bengaluru Formulate approaches to solve problems using AI and ML in the context of customer, engi...TrainingData analysisDeploymentData Analyst30+ Days Agosave\n",
      "Data & Performance Strategy & Insight Data AnalystSchneider Electric4.2(3602 Reviews)3-6 YrsNot disclosedBangalore/Bengaluru Analytical ability to interrogate data is a must Proficiency with Microsoft Excel is a ...Data QualityBusiness AnalyticsScrum MasterData AnalysisData AnalystDashboardsMaster DataMicrosoft Excel30+ Days Agosave\n",
      "Data AnalystMyntra4.3(1107 Reviews)1-3 YrsNot disclosedBangalore/Bengaluru What we are looking for: Strong problem solving ability Candidate needs to exhibit stru...Analytical skillsProcess orientationSenior managementConceptualizationData AnalystData analyticsdata visualizationMonitoring30+ Days Agosave\n",
      "Denave Hiring Data Analyst Bengaluru LocationDenave India Pvt Ltd.4.0(440 Reviews)5-10 Yrs10,00,000 - 15,00,000 PA.Bangalore/Bengaluru A minimum of 3 years of experience in business analysis or a related field Experience l...Data VisualizationsPower BiTableauData ScienceAnalytics DataAdvance exceldata analysisBusiness Analytics30+ Days Agosave\n",
      "Intern - Data AnalystNetomi3.8(3 Reviews)0-1 YrsNot disclosedGurgaon/Gurugram Learn and/ or leverage the required software tools and technologySANManager Quality Assurancedata scienceInternBusiness analysisCustomer satisfactionData qualityData Analyst29 Days Agosave\n",
      "\n"
     ]
    },
    {
     "name": "stderr",
     "output_type": "stream",
     "text": [
      "[WDM] - ====== WebDriver manager ======\n",
      "[WDM] - Current google-chrome version is 102.0.5005\n",
      "[WDM] - Get LATEST chromedriver version for 102.0.5005 google-chrome\n",
      "[WDM] - Driver [C:\\Users\\lenovo\\.wdm\\drivers\\chromedriver\\win32\\102.0.5005.61\\chromedriver.exe] found in cache\n"
     ]
    },
    {
     "name": "stdout",
     "output_type": "stream",
     "text": [
      "Intern - Data AnalystNetomi3.8(3 Reviews)0-1 YrsNot disclosedGurgaon/Gurugram Learn and/ or leverage the required software tools and technologySANManager Quality Assurancedata scienceInternBusiness analysisCustomer satisfactionData qualityData Analyst30+ Days Agosave\n",
      "Staff Data AnalystWalmart4.2(11295 Reviews)2-6 YrsNot disclosedBangalore/Bengaluru Collecting, processing, and cleaning data from disparate sources using SQL, R, Python, ...PythonRProduct analyticsSQLwrittenverbal communicationIT SkillsTesting30+ Days Agosave\n",
      "Data Analyst - Python / SQLMyntra4.3(1107 Reviews)1-4 YrsNot disclosedBangalore/Bengaluru Orientation / past background in Data Engineering is preferred, not mandatoryShould be ...Middle managementProcess orientationConceptualizationData AnalystData analyticsdata visualizationStakeholder managementMonitoring30+ Days Agosave\n",
      "Data AnalystCapco3.9(192 Reviews)3-6 YrsNot disclosedBangalore/Bengaluru Perform Data Analysis to develop data sourcing requirement Understand the Data Requirem...Relationship managementData analysisSASBusiness analysisRisk assessmentData qualityInvestment bankingAsset management30+ Days Agosave\n",
      "PDM Data AnalystSchneider Electric4.2(3602 Reviews)3-5 YrsNot disclosedBangalore/Bengaluru Roles Responsibilities: In strong interaction with the owners of the IT platforms in sc...ProcurementUnixData analysisERPLinuxAutoCADAnalyticalJavascript24 Days Agosave\n",
      "People Data AnalystWalmart4.2(11295 Reviews)4-10 YrsNot disclosedBangalore/Bengaluru Extensive reporting experience, including process and data utilisation understandingExp...IT SkillsQuality AssuranceData ScienceData analysisManager Quality AssurancePerformance managementInformation securityData Analyst30+ Days Agosave\n",
      "Reference Data AnalystDeutsche Bank4.2(1799 Reviews)2-5 YrsNot disclosedBangalore/Bengaluru Minimum Bachelor s degree or equivalent in relevant field Owning the issues, resolve it...Front officeAutomationTeam managementFixed incomeSSISwapsData AnalystCam26 Days Agosave\n",
      "Legal Operations Data Analyst (I P Invoice Focused)Applied Materials4.3(178 Reviews)4-7 YrsNot disclosedBangalore/Bengaluru Located within the Legal and Compliance Organization (LCO), this role will have the res...Legal OperationsData VisualizationIntellectual PropertyLegal ComplianceTrademark27 Days Agosave\n",
      "Data AnalystMyntra4.3(1107 Reviews)1-3 YrsNot disclosedBangalore/Bengaluru Graduate Engg, (tier-1) with 1-3 years experience Strong knowledge of SQL (valid certif...SalesMarketing InitiativesReconciliationData ManagementMarketing CampaignsAdvanced ExcelData AnalystForecasting30+ Days Agosave\n",
      "CDO - Data AnalystCapco3.9(192 Reviews)3-7 YrsNot disclosedBangalore/Bengaluru Perform Data Analysis to develop data sourcing requirement Good understanding of data g...Relationship managementData analysisSASBusiness analysisRisk assessmentData qualityInvestment bankingAsset management30+ Days Agosave\n",
      "Reference Data AnalystDeutsche Bank4.2(1799 Reviews)2-5 YrsNot disclosedBangalore/Bengaluru Must have strong organization skills the ability to work and review samples independent...ExcelSenior AnalystDiversity and InclusionData AnalystTraining and DevelopmentTaxationMonitoring30+ Days Agosave\n",
      "Data Analyst IIIWalmart4.2(11295 Reviews)3-7 YrsNot disclosedBangalore/Bengaluru Experience providing analysis and recommendations based on dataTTableaucommunicationSQL serveragileGoogle BigdevelopmentJira30+ Days Agosave\n",
      "Associate Professional Data AnalystDXC Technology3.9(6329 Reviews)3-6 YrsNot disclosedBangalore/Bengaluru Bachelors degree in information systems, computer science or related field preferred Ba...data analysisrelational databasesCommunicationdata modelingComputer scienceClient satisfactionProgrammingData structures30+ Days Agosave\n",
      "Professional 1 Data Analyst DXC Technology3.9(6329 Reviews)2-5 YrsNot disclosedBangalore/Bengaluru Analyzes data requirements and documents according to required standards by utilizing p...Computer scienceData analysisOperating systemsData modelingDatabase designDatabaseData structuresBusiness solutions30+ Days Agosave\n",
      "Professional 2 Data Analyst DXC Technology3.9(6329 Reviews)4-7 YrsNot disclosedBangalore/Bengaluru Analyzes data requirements and documents according to required standards by utilizing p...Computer scienceData analysisOperating systemsData modelingDatabase designDatabaseData structuresBusiness solutions30+ Days Agosave\n",
      "Data AnalystTeplar Solutions0-4 YrsNot disclosedCoimbatore Eye for detail, ability to prioritize, and strong sense of urgency relative to deadline...analyticalMicrosoft OfficeMS - OfficecommunicationLitigationWorkflowCustomer supportBusiness Development Executive30+ Days Agosave\n",
      "Data AnalystOptum4.2(1777 Reviews)2-5 YrsNot disclosedGurgaon/Gurugram Pursue audit, assurance, risk, or IT related certification Undergraduate degree or equi...TableauIT SkillsJavaBig DataC#Oracle PL/SQLdata analysisdata analytics22 Days Agosave\n",
      "Data Analyst - SQL PowerBIOptum4.2(1777 Reviews)2-7 YrsNot disclosedHyderabad/Secunderabad 1+ years of Experience / Knowledge of scripting languages and programming languages lik...SQLIT SkillsPythonOraclePower BIdata managementSASdata modeling22 Days Agosave\n",
      "Junior / Senior Data AnalystOPK eServices3.7(40 Reviews)7-10 YrsNot disclosedGurgaon/Gurugram At least 7-10 years of experience in a position monitoring, managing, manipulating and ...IT SkillsPythonTestingMachine LearningCloudTableauData MiningData Visualization30+ Days Agosave\n",
      "DATA ANALYSTRessex0-5 YrsNot disclosedMumbai Experience Required : 0 to 5 yearsSkill Sets Required : Analytical Skills with knowledg...Strong analytical skillsProcess improvementReport writingData collectionData Analystdata visualizationMSCStatistics30+ Days Agosave\n",
      "\n"
     ]
    },
    {
     "name": "stderr",
     "output_type": "stream",
     "text": [
      "[WDM] - ====== WebDriver manager ======\n",
      "[WDM] - Current google-chrome version is 102.0.5005\n",
      "[WDM] - Get LATEST chromedriver version for 102.0.5005 google-chrome\n",
      "[WDM] - Driver [C:\\Users\\lenovo\\.wdm\\drivers\\chromedriver\\win32\\102.0.5005.61\\chromedriver.exe] found in cache\n"
     ]
    },
    {
     "name": "stdout",
     "output_type": "stream",
     "text": [
      "Data AnalystRight Step Consulting0-5 YrsNot disclosedDelhi, Gurgaon Brief Role : Data Analyst Job Description POSITION : Data Analyst REPORTS TO : Project ...Product managementERPData analysisPHPData AnalystOpen sourceData miningSQL30+ Days Agosave\n",
      "Data AnalystOhm Analytics0-0 Yrs3,50,000 - 4,50,000 PA.Remote We look for high performers from universities with no prior work experience requiredSho...ExcelMS ExcelCountifNew Product DevelopmentResearch AnalysisConditional FormattingData OperationsBusiness Analysis21 Days Agosave\n",
      "Data AnalystNetomi3.8(3 Reviews)0-1 YrsNot disclosedGurgaon Bachelors degree from a Tier I / Tier II college Learn and / or leverage the required s...deep learningManager Quality AssuranceFrenchBusiness analysisArtificial IntelligenceManager TechnologyData qualitySpanish30+ Days Agosave\n",
      "CoR Helpdesk Data Analyst ||GTT Communications3.9(67 Reviews)0-2 YrsNot disclosedPune 4+ years telecom expense / cost management experience, 4+ years technical systems exper...Telecom billingTelecomHelpdeskProduct portfolioCost managementAdvanced ExcelData AnalystManagement25 Days Agosave\n",
      "Associate Strategic Value Advisory Data AnalystCoupa Software Inc.3.7(31 Reviews)0-2 YrsNot disclosedPune Roles and Responsibilities: Support sales engagements with data-driven discovery by per...Data analysisExcelSalesdata scienceValue engineeringMachine learningInformation managementbig data25 Days Agosave\n",
      "Deputy Manager - Data Analystmoglix3.8(153 Reviews)1-3 YrsNot disclosedNoida Willingness to set up things from scratchData analytics skills required7 years of exper...Analytical skillspricing analysisData AnalystAdvanced ExcelData analyticsVendorRFQTechno-commercial30+ Days Agosave\n",
      "Manager - Sales Data Analyst , GurugramVBL4.0(1888 Reviews)4-9 Yrs13,00,000 - 18,00,000 PA.Gurgaon/Gurugram JOB SPECIFICATIONS:JOB TITLE: Manager - Sales Data Analytics TYPE OF EMPLOYMENT: Perman...Power BiData AnalysisTableau27 Days Agosave\n",
      "Salesforce Data AnalystSahasya Global Solutions2.8(8 Reviews)0-5 YrsNot disclosedHyderabad Role: Salesforce Data Analyst Experience Range: 2- 3 years & 8 plus years for Salesforc...IT SkillsSalesforceIT servicesData migrationdevelopmenttechnicallevelSystem programming30+ Days Agosave\n",
      "Data AnalystNetomi3.8(3 Reviews)0-1 YrsNot disclosedGurgaon Bachelors degree from a Tier I / Tier II college Learn and / or leverage the required s...deep learningManager Quality AssuranceFrenchBusiness analysisArtificial IntelligenceManager TechnologyData qualitySpanish30+ Days Agosave\n",
      "Data AnalystSchneider Electric4.2(3602 Reviews)3-8 YrsNot disclosedGurgaon/Gurugram PIM/EDMS Data (Product Information Management with STEP BSL) Support the PIM Solutions ...Electrical engineeringMS Office suiteWeb servicesData managementKPIXMLCustomer supportMiddleware30+ Days Agosave\n",
      "Global HR Data AnalystVodafone India Services Pvt.Ltd4.2(12993 Reviews)5-10 YrsNot disclosedPune Experience of delivering a high quality customer focused serviceExperience of deliverin...data reportingData Analysissap hrIT SkillsSAPHR DataData managementglobal data30+ Days Agosave\n",
      "Data AnalystSnaphunt5.0(3 Reviews)0-5 Yrs20,00,000 - 30,00,000 PA.Hyderabad/Secunderabad Great work environmentExcellent career development opportunitiesLeadership RoleOur clie...data analysisData WarehousingPowerBIAwsHiveTableaucommunicationSQL28 Days Agosave\n",
      "Data AnalystPOST A RESUME HR Consultancy4.6(13 Reviews)0-4 YrsNot disclosedAhmedabad Education: Graduation 3 Well versed in MIS Experience: 2 to 4 1 Good Analytical skill2 ...ExcelMISAnalyticalRetail analysisData AnalystRetail business30+ Days Agosave\n",
      "Lead Data AnalystMorningstar4.3(376 Reviews)4-8 YrsNot disclosedMumbai Participate in other data and process related projects, like industry / market data col...AutomationCorporate actionsData managementAnalyticalData collectionWorkflowData qualitymarket data30+ Days Agosave\n",
      "Data AnalystReval India Pvt. Ltd.0-1 YrsNot disclosedNoida The shift alignment is subject to the periodic reviews and changes based on the ongoing...IT SkillsSoftware DevelopmentTestingMarket DataComplianceFinanceBankingComputer Science30+ Days Agosave\n",
      "ION Group - Market Data AnalystReval India Pvt. Ltd.0-1 YrsNot disclosedNoida The shift alignment is subject to the periodic reviews and changes based on the ongoing...Market DataSoftware DevelopmentFinanceBankingTradingTreasuryMachine LearningComputer Skills30+ Days Agosave\n",
      "Survey - Data Analystdoubledutch0-3 YrsNot disclosedGurgaon/Gurugram Willing to work in US east coast shift Perform other projects and duties as requiredSol...IT SkillsTableauPower BIQuality standardsdata reportingData Analystprofessional services30+ Days Agosave\n",
      "Data Analyst ( FTE Position )Schneider Electric4.2(3602 Reviews)2-6 YrsNot disclosedGurgaon/Gurugram Purpose of the position The role is necessary for Supporting the PIM/EDMS data within t...Product managementAssuranceData migrationFrenchData managementAnalyticalSupport servicesCustomer support30+ Days Agosave\n",
      "Market Data AnalystION3.6(7 Reviews)0-1 YrsNot disclosedNoida The shift alignment is subject to the periodic reviews and changes based on the ongoing...IT SkillsSoftware DevelopmentTestingAuditMarket DataComplianceFinanceBanking30+ Days Agosave\n",
      "Market Data AnalystION3.6(7 Reviews)0-1 YrsNot disclosedNoida The shift alignment is subject to the periodic reviews and changes based on the ongoing...Market DataSalesComplianceFinanceBankingComputer ScienceNew BusinessTreasury30+ Days Agosave\n",
      "\n"
     ]
    },
    {
     "name": "stderr",
     "output_type": "stream",
     "text": [
      "[WDM] - ====== WebDriver manager ======\n",
      "[WDM] - Current google-chrome version is 102.0.5005\n",
      "[WDM] - Get LATEST chromedriver version for 102.0.5005 google-chrome\n",
      "[WDM] - Driver [C:\\Users\\lenovo\\.wdm\\drivers\\chromedriver\\win32\\102.0.5005.61\\chromedriver.exe] found in cache\n"
     ]
    },
    {
     "name": "stdout",
     "output_type": "stream",
     "text": [
      "Data Analyst  -  LookerVinayak Software5.0(3 Reviews)0-1 YrsNot disclosedDelhi any stream (preferably CS, IT, Electronics)BILookerSQLTableaumetadataCodingData modelingConsulting30+ Days Agosave\n",
      "Associate - Data AnalystInternet Brands0-3 YrsNot disclosedMumbai Education: B.Tech/B.E. / MSc Statistics Position Requirements: Minimum 1 years experien...Performance tuningBackendAutomationWeb analyticsAnalyticalDatabasepower biStored procedures20 Days Agosave\n",
      "Data AnalystCrisil3.9(885 Reviews)2-7 YrsNot disclosedPune Roles and Responsibilities Interpret data, analyze results using statistical techniques...R ProgramPythondata analysisSQL14 Days Agosave\n",
      "Intern Data AnalystOutsource Big Data5.0(2 Reviews)0-1 YrsNot disclosedBangalore/Bengaluru Good understanding / experience in web data extraction dimensional data from databases ...AutomationData managementAnalyticalData miningProject deliveryDigital marketingAnalyticsSQL30+ Days Agosave\n",
      "Financial Data AnalystsC-MOTS Infotech pvt ltd2.8(27 Reviews)0-3 YrsNot disclosedChennai Any graduation (Any graduate with 0 - 2 years relevant experience and having knowledge ...ExcelVBAAccountingAnalyticalFinanceReconciliationData processingCommerce30+ Days Agosave\n",
      "Data AnalystARDEM Data Services Private Limited3.7(38 Reviews)0-2 YrsNot disclosedLucknow ARDEM Data Services is part of a US-based global professional services company providin...McomApplication DevelopmentExcelEmailBscAccountingAnalytical SkillsMs Office30+ Days Agosave\n",
      "Business Data AnalystIncuspaze Solutions3.8(5 Reviews)1-4 YrsNot disclosedMumbai, Indore, New Delhi, Lucknow, Gurgaon/Gurugram The ideal candidate should have abilities in business acumenExcelFinancial reportingBusiness reportingBusiness analysisProcess improvementFinanceData collectionPHP30+ Days Agosave\n",
      "Business Data AnalystAnicalls4.7(2 Reviews)5-10 YrsNot disclosedHyderabad/Secunderabad Minimum of 5 years of experience in the business environment as a The candidate should ...IT SkillsPythonTestingData ScienceCloudAWSTableauTicketing30+ Days Agosave\n",
      "Business/Data AnalystShiprocket3.7(38 Reviews)2-4 YrsNot disclosedDelhi / NCR Candidate should be able to work on large data sets spread across various in-house prod...Business AnalyticsBusiness AnalystData ManipulationData miningcommunicationIT SkillsMachine LearningData Analysis21 Days Agosave\n",
      "Business / Data Analyst AnalyticsGrazitti Interactive4.4(59 Reviews)2-5 YrsNot disclosedMohali Should design, develop, test, and deploy Power BI scripts and perform detailed analytic...IT servicesData analysisSASSSRSSSISBusiness intelligenceAdobeAnalytics30+ Days Agosave\n",
      "Business/Data AnalystShiprocket3.7(38 Reviews)2-4 YrsNot disclosedDelhi / NCR Candidate should be able to work on large data sets spread across various in-house prod...Data AnalysiscommunicationData miningIT SkillsMachine LearningBusiness AnalyticsData ManipulationFinance28 Days Agosave\n",
      "Data Analyst or Business Data Analysticreate4.6(12 Reviews)3-7 YrsNot disclosedAhmedabad Knowledge of statistics and experience using statistical packages for analyzing dataset...Business objectsSASDatabase designProcess improvementXMLJavascriptData collectionSPSS30+ Days Agosave\n",
      "Business / Data AnalystReventics 4.3(75 Reviews)2-3 YrsNot disclosedHyderabad Bachelor s Degree in Computer Science, Economics, Statistics, Information Management2 -...Computer scienceSASPerformance managementBusiness analysisAnalyticalHealthcareSPSSInformation management30+ Days Agosave\n",
      "Business Data AnalystDiverse Lynx3.0(67 Reviews)1-5 YrsNot disclosedPune Job brief The requirement is for a Business Data Analyst who can understand business re...Computer scienceManager Quality AssuranceBusiness analysisTechnical writingBusiness Data AnalystProcess documentationbusiness rulesData quality30+ Days Agosave\n",
      "Business Analyst Career   Big Data AnalysisALLERIN TECHNOLOGIES Pvt Ltd.2-7 YrsNot disclosedMumbai Business Analyst Career - Big Data Analysis | Allerin Type a word and press [enter] Asp...IT SkillsSoftware DevelopmentTestingBig DataCopyrightData analysisChange managementBusiness Analyst30+ Days Agosave\n",
      "Sr. Data AnalystMulti Recruit4.5(10 Reviews)5-10 YrsNot disclosedBengaluru Roles and Responsibility Engage with internal business leaders to understand their chal...Computer scienceData analysisApplication programmingAnalyticalMachine learningData AnalystBusiness modelingdata visualization30+ Days Agosave\n",
      "Senior Data AnalystSaffron Careers Private Limited3-9 YrsNot disclosedBangalore/Bengaluru Analytical coder adept in any scripting language (Python, C++, JavaScript etc., ) Exper...AnalyticalMachine learningJavascriptAlgorithm developmentStatistical softwareData AnalystOpen sourceAnalytics30+ Days Agosave\n",
      "Senior Data AnalystPsyinnovations India Private Limited5-8 YrsNot disclosedGurgaon/Gurugram, Delhi / NCR(WFH during Covid) Roles and Responsibilities Upright Technologies (which was recently acquired by Dario H...data analysisData AnalyticspythonRProductSQLMarketing26 Days Agosave\n",
      "Senior Data Analyst Req:340Clairvoyant India Pvt. Ltd.4.4(48 Reviews)7-12 YrsNot disclosedHyderabad/Secunderabad, Pune(WFH during Covid) Documentation of data mapping documents Subsystem design documents / Business Requireme...pythondata modellingSQLIT SkillsCloudBig DataTableauPower BI30+ Days Agosave\n",
      "Senior Data Analyst - Data Modeling/Database DesignK & R Enterprises5.0(3 Reviews)4-6 YrsNot disclosedBangalore/Bengaluru Strong knowledge of and experience with reporting tools such as Tableau, Google Looker,...Database DesignTensorflowTableauSnowflakePythonanalyticalKerasPandas30+ Days Agosave\n",
      "\n"
     ]
    },
    {
     "name": "stderr",
     "output_type": "stream",
     "text": [
      "[WDM] - ====== WebDriver manager ======\n",
      "[WDM] - Current google-chrome version is 102.0.5005\n",
      "[WDM] - Get LATEST chromedriver version for 102.0.5005 google-chrome\n",
      "[WDM] - Driver [C:\\Users\\lenovo\\.wdm\\drivers\\chromedriver\\win32\\102.0.5005.61\\chromedriver.exe] found in cache\n"
     ]
    },
    {
     "name": "stdout",
     "output_type": "stream",
     "text": [
      "Sr Data Analyst - SQL/PythonAVE-Promagne3-8 YrsNot disclosedBangalore/Bengaluru Experience working with downstream applications, databases data lakes, data warehouses ...Data LinkData Engineeringdata analysispredictive analyticsSQLGoogle CloudanalyticsUser Acceptance Testing30+ Days Agosave\n",
      "Senior Data AnalystClear Trail Technologies Pvt Ltd2.6(19 Reviews)15-18 YrsNot disclosedNoida, Mumbai, Indore, Hyderabad/Secunderabad, Pune, Jaipur, Bangalore/Bengaluru This role is multi-functional in nature with a combination of technical sales, customer...IT SkillsPythonMachine LearningOracleBig DataTableauPower BILinux30+ Days Agosave\n",
      "Senior Data AnalystSeven Consultancy (HR Solution)5-10 YrsNot disclosedMumbai Assist the data scientist in development of new analytical tools and methods as and whe...Procurementdata sciencebig data analyticsAnalyticalData collectionbig data analystData AnalystManagement30+ Days Agosave\n",
      "Sr Data AnalystCodeHall Technology5-10 YrsNot disclosedBengaluru Proficient in basic statistics (sample sizing, Bayesian vs frequentist) Experience with...analyticsMatlabPigRHbaseHadoopSASSQL30+ Days Agosave\n",
      "Sr Data AnalystCodeHall Technology5-10 YrsNot disclosedBengaluru Experience: 510 yrsWe collect peta- bytes of retail data and are looking for data analy...data analysistroubleshootingIT SkillsProduct ManagementRetailDiagnosticsManager TechnologyForensic30+ Days Agosave\n",
      "Senior Data AnalystDAT Solutions, LLC1-5 YrsNot disclosedBangalore/Bengaluru Bachelor s degree in Industrial Engineering (preferred) or equivalent degree from a lea...global operationsData analysisSupply chain managementExcelAnalyticalConsultingSPSSFreight30+ Days Agosave\n",
      "BI Developer / Senior Data AnalystBrandmuscle3.2(23 Reviews)3-6 YrsNot disclosedBangalore/Bengaluru Overview We are looking for a Business Intelligence (BI) Developer to create and manage...IT SkillsQuality AssuranceAzureManager Quality AssuranceData modelingBusiness analysisXMLData Analyst30+ Days Agosave\n",
      "Senior Data AnalystIndium Software (India) Limited4.1(165 Reviews)4-9 YrsNot disclosedChennai, Bangalore/Bengaluru Hands-on skills and experience in Alteryx Designer to create the required ETL flows Pre...SQLTableauETLAlteryxIT SkillsData Analyst30+ Days Agosave\n",
      "Senior Data Analyst - R/PythonAIM recruits2-4 YrsNot disclosedGreater Noida Technical Skills : - Hands on experience of one or more statistical tools such as SAS, ...PythonRRDBMSData AnalystSQL ServerData Analytics28 Days Agosave\n",
      "Senior Data AnalystBuchprufer3.8(9 Reviews)1-5 YrsNot disclosedCalicut/Kozhikode Qualification: Bachelor s degree in Computer science, Engineering, Statistics, or appli...Computer scienceData analysisSASData analyticsData AnalystmicrosoftData miningBusiness intelligence30+ Days Agosave\n",
      "Sr Data Analyst / Power BI DevelopersmartSense Consulting Solutions5.0(3 Reviews)2-4 YrsNot disclosedGandhinagar looking for seasoned Data Analyst/Power BI Developer with demonstrated knowledge of vis...IT SkillsQuality AssuranceDigital MarketingPower BIBusiness IntelligenceGoogle AnalyticsData AnalysisData Visualization30+ Days Agosave\n",
      "Data Analyst SrAllianceData4.3(37 Reviews)5-7 YrsNot disclosedBangalore/Bengaluru Job Summary The Senior Analyst supports General Manager teams by providing data driven ...Relationship managementSASBusiness analysisRisk analyticsAnalyticalData miningForecastingPortfolio management30+ Days Agosave\n",
      "Sr. SAP Hana Data AnalystAnicalls4.7(2 Reviews)5-10 YrsNot disclosedBangalore/Bengaluru Create, design, and format technical specification documentation including architecture...IT SkillsOracleSAPBusiness analysisWorkflowbusiness rulesData AnalystInformatica30+ Days Agosave\n",
      "Sr. Data AnalystOportun Inc5.0(2 Reviews)3-6 YrsNot disclosedChennai We’re looking for an analytically minded and driven professional to join our Data Manag...Data analysisData managementMISIntellectual propertyRisk managementBusiness intelligenceData warehousingAnalytics29 Days Agosave\n",
      "Senior Data Analystcendyn3-6 YrsNot disclosedHyderabad/Secunderabad Primary Job Responsibilities Implement Google Analytics using GTM for new hotel website...Google AnalyticsData managementAnalyticalJavascriptHTMLData qualityData miningDigital marketing30+ Days Agosave\n",
      "Senior Data AnalystXtrastaff3-6 YrsNot disclosedKochi/Cochin As a communicator you will be responsible for working across teams of developers and st...TableauAWS QuicksightPowerBIQuicksightIT SkillsAWSBusiness IntelligenceData Structures30+ Days Agosave\n",
      "Senior Data Analyst - Workforce Management PlanningTTEC4.1(676 Reviews)1-6 YrsNot disclosedMumbai 1 year or more data analysis experience Associate degree, technical school or equivalen...AnalystData analysisWorkforce managementStaffingProcess improvementManager TechnologySchedulingData Analyst30+ Days Agosave\n",
      "Consultant / Senior Consultant - Data Analyst (SQL & Python)jobpoint india4.8(3 Reviews)3-8 YrsNot disclosedGurgaon Candidate must be proactive in asking questions At least an year of experience in Pytho...BfsiConsultingBankingProgrammingData AnalystData analyticsSQLPython30+ Days Agosave\n",
      "MY SQL data base Analyst For OptumOrcapod Consulting Services Private Limited5-10 YrsNot disclosedPanchkula Title Sr. System Mgmt. Analyst (MySQL DBA) Experience: 5-10 Years (15 LPA) 8-12 years (...sql databaseIT SkillsCloudDBAAWSAzureC++data modeling11 Days Agosave\n",
      "Virtusa is hiring Data Analyst @Any LocationVirtusa3.8(1800 Reviews)7-9 YrsNot disclosedMumbai, Hyderabad/Secunderabad, Pune, Chennai, Bangalore/Bengaluru, Delhi / NCR(WFH during Covid) Should have at least 5 years experience working as a Business Analyst / Data AnalystExp...Data analystSQL20 Days Agosave\n",
      "\n"
     ]
    },
    {
     "name": "stderr",
     "output_type": "stream",
     "text": [
      "[WDM] - ====== WebDriver manager ======\n",
      "[WDM] - Current google-chrome version is 102.0.5005\n",
      "[WDM] - Get LATEST chromedriver version for 102.0.5005 google-chrome\n",
      "[WDM] - Driver [C:\\Users\\lenovo\\.wdm\\drivers\\chromedriver\\win32\\102.0.5005.61\\chromedriver.exe] found in cache\n"
     ]
    },
    {
     "name": "stdout",
     "output_type": "stream",
     "text": [
      "Virtusa is hiring Data Analyst @Any LocationVirtusa3.8(1800 Reviews)7-9 YrsNot disclosedMumbai, Hyderabad/Secunderabad, Pune, Chennai, Bangalore/Bengaluru, Delhi / NCR(WFH during Covid) Should have at least 5 years experience working as a Business Analyst / Data AnalystExp...Microsoft ExcelSQL Data WarehouseanalysisSQLMS - WordData analyst20 Days Agosave\n",
      "Data Analyst 2PayPal4.3(324 Reviews)1-3 YrsNot disclosedBangalore/Bengaluru We re looking for a data-driven, outcome-focused, and high performing Data Analyst/Scie...UnixMiningData analysisAnalyticalManager TechnologyData AnalystAnalyticsFinancial services28 Days Agosave\n",
      "Big Data AnalystPayU4.2(194 Reviews)2-7 YrsNot disclosedBangalore/Bengaluru Key Responsibilities: To gather and accumulate data from disparate sources, process it,...Computer scienceData analysisDb2Process improvementMySQLMachine learningData qualitybig data30+ Days Agosave\n",
      "Data AnalystWAKEFIT INNOVATIONS PRIVATE LIMITED 3.7(107 Reviews)1-4 YrsNot disclosedBangalore/Bengaluru Knowledge of statistics and experience using statistical packages for analyzing dataset...Computer scienceBusiness objectsSASDatabase designXMLJavascriptManager Quality ControlSPSS30+ Days Agosave\n",
      "Data AnalystAutoCAD4.4(87 Reviews)5-8 YrsNot disclosedBangalore/Bengaluru Signs you are a good fit for the role You re a true data ninja - you can creatively min...MiningAnalyticalData qualityAutodeskCustomer servicedata visualizationOperationsSQL30+ Days Agosave\n",
      "Data AnalystZolostays3.7(209 Reviews)5-10 YrsNot disclosedBangalore/Bengaluru You have prior experience as a Python Developer Good knowledge Django, Flask or similar...Computer scienceFront endTesting toolsDjangoAnalyticalJavascriptData AnalystPython28 Days Agosave\n",
      "Lead Data Analyst - MarketplaceGojek4.3(18 Reviews)4-9 YrsNot disclosedBangalore/Bengaluru Bachelor s degree in Statistics, a related field, or equivalent practical experience Pa...MiningData analysisCodingAnalyticalData qualityAnalyticsFinancial servicesSQL30+ Days Agosave\n",
      "Data AnalystPayPal4.3(324 Reviews)1-3 YrsNot disclosedBangalore/Bengaluru Bachelor s degree in Statistics, Mathematics, Computer Science, Economics, Engineering ...Computer scienceAnalyticalData AnalystRisk managementForecastingFinancial servicesMonitoringReporting tools30+ Days Agosave\n",
      "Data Analyst - Ads & Promotion PlatformGojek4.3(18 Reviews)2-7 YrsNot disclosedBangalore/Bengaluru At least a Bachelor s degree Have at least 3 years of experience in Business Intelligen...BiddingSimulationFinanceMachine learningdata visualizationBusiness intelligenceAnalyticsFinancial services20 Days Agosave\n",
      "Data AnalystPayU4.2(194 Reviews)2-5 YrsNot disclosedBangalore/Bengaluru Open to work in shifts Graduate degree with 2-5 years of experience in an MIS & Reporti...MS SQLBackendRisk assessmentAnalyticalData collectionIncident managementFinancial servicesReporting tools30+ Days Agosave\n",
      "Jeevansathi.com is hiring For Product Operations - Data AnalystInfo Edge3.9(1593 Reviews)1-3 YrsNot disclosedNoida Roles and Responsibilities Data Analyst - Product Operations - Jeevansathi.comAbout the...Data AnalysisData MiningSQLMySQLData ExtractionSQL DatabaseDashboard DevelopmentDashboards21 Days Agosave\n",
      "Azure Data AnalystNTT DATA4.1(7760 Reviews)2-5 YrsNot disclosedBangalore/Bengaluru Proficient in analysing business requirements and mapping them to technical requirement...IT SkillsCloudBig DataAWSAzureNoSQLSQL databaseDebugging30+ Days Agosave\n",
      "Data Analyst6Sense5.0(49 Reviews)1-4 YrsNot disclosedBangalore/Bengaluru 4 years of data analysis experience Hands-on experience with data pipelines and / or ET...IT SkillsPythonBig DataTableauData analysisProduct engineeringUsageSales15 Days Agosave\n",
      "Big Data AnalystAccolite Digital4.0(232 Reviews)3-4 YrsNot disclosedBangalore/Bengaluru Our differentiated services span digital product engineering, cloud and DevOps, data an...ScalaHadoopBigdataPigbig dataanalysisIT SkillsCloud18 Days Agosave\n",
      "Assoc Data AnalystNeustar4.2(29 Reviews)5-7 YrsNot disclosedHyderabad/Secunderabad We are looking for Data Analyst to bring big data, marketing analytics, and database te...Computer scienceData analysisInterpersonal skillsData managementGCPAnalyticalData AnalystDigital marketing30+ Days Agosave\n",
      "Associate Data AnalystNeustar4.2(29 Reviews)5-7 YrsNot disclosedHyderabad/Secunderabad We are looking for an Associate Data Analyst to bring big data, marketing analytics, an...IT SkillsPythonBig DataAWSDigital MarketingTableauData analysisInterpersonal skills30+ Days Agosave\n",
      "Data AnalystCarDekho3.9(356 Reviews)5-10 YrsNot disclosedGurgaon/Gurugram You will pull data required to conduct business analysis, build reports, dashboards, an...ExcelBusiness analysisbig data analyticsData AnalystCustomer serviceData miningAutomotiveSQL30+ Days Agosave\n",
      "Data AnalystPhoton Infotech P Ltd4.1(447 Reviews)2-5 YrsNot disclosedChennai High-level experience in methodologies and processes for managing large-scale databasesanalyticalRTableauSQLMicroStrategyPythonIT SkillsAnalytical skills30+ Days Agosave\n",
      "Data AnalystPayU4.2(194 Reviews)3-5 YrsNot disclosedMumbai Experience in quantitative or statistical analysis, data mining, predictive or statisti...Computer scienceData analysisData managementAnalyticalAgileData AnalystData miningAnalytics30+ Days Agosave\n",
      "Data Analyst - Policy -ESDM- New DelhiNISG (National Institute for Smart Government)3.4(109 Reviews)4-9 YrsNot disclosedNew Delhi Roles and Responsibilities Role: - Assisting in evidence-based policy design for electr...Data ScienceBusiness IntelligenceSASData AnalysisKnimeTableauData AnalyticsEconometrics28 Days Agosave\n",
      "\n"
     ]
    },
    {
     "name": "stderr",
     "output_type": "stream",
     "text": [
      "[WDM] - ====== WebDriver manager ======\n",
      "[WDM] - Current google-chrome version is 102.0.5005\n",
      "[WDM] - Get LATEST chromedriver version for 102.0.5005 google-chrome\n",
      "[WDM] - Driver [C:\\Users\\lenovo\\.wdm\\drivers\\chromedriver\\win32\\102.0.5005.61\\chromedriver.exe] found in cache\n"
     ]
    },
    {
     "name": "stdout",
     "output_type": "stream",
     "text": [
      "Field Data Analyst (FDA)Cyient3.7(2809 Reviews)3-6 YrsNot disclosedHyderabad Update E-Data for D&Cs, engine removals or BSI / Asset attributes as required on daily ...Product engineeringApplication engineeringExcelReliability engineeringData analyticsData AnalystManagementData mining30+ Days Agosave\n",
      "Data analystAgreeYa Solutions3.5(121 Reviews)3-6 YrsNot disclosedGurgaon/Gurugram Education and Experience Requirements : Bachelors degree in Computer Science and Engine...data Analyticsrisk managementOracleBI developmentTeradatacommunicationSQL ServerSAS30+ Days Agosave\n",
      "ESG Data Analyst - Alternative Data (Japanese Speaking)Institutional Shareholder Services3.5(21 Reviews)2-7 YrsNot disclosedMumbai Strong academic qualifications (BA in relevant field, such as statistics, data analytic...Data analysisPDFExcelSocial mediaWorkflowData qualityData analyticsJapanese30+ Days Agosave\n",
      "Data Analyst ( Ad Tech & Analytics )Hotstar3.1(45 Reviews)2-5 YrsNot disclosedMumbai At Disney+ Hotstar, we are revolutionizing the way Indians consume Internet TV and our ...ExcelComputer ScienceData AnalystTableauData AnalyticsSql30+ Days Agosave\n",
      "Data Analyst Engineer_Walk-In InterviewSignals & Systems (India) Pvt Ltd.4.2(48 Reviews)20 June - 24 JuneNot disclosedChennai Handling Energy Meter data with various BCS Software, process the data to generate Bill...meter data analystmeter data entrymeter process analystGood In Excelmeter data processingmeter data validationmeter data verificationmeter report analystWALK-IN10 Days Agosave\n",
      "Data/Information Management AnalystCiticorp Finance3.8(862 Reviews)0-2 YrsNot disclosedChennai Bachelors / University degree or equivalent experience 2 years relevant experience Good...SASData analystData Analysis28 Days Agosave\n",
      "Data/Information AnalystCiticorp Finance3.8(862 Reviews)0-3 YrsNot disclosedChennai Bachelors / University degree or equivalent experience 2 years relevant experience Good...Data AnalysisSASData AdministratorData Analytics28 Days Agosave\n",
      "Data Management AnalystCBRE4.3(2220 Reviews)0-2 Yrs4,00,000 - 5,00,000 PA.Gurgaon/Gurugram Experience with all MS office products Word, Excel, PowerPointexceldata managementreal estatepowerpoint21 Days Agosave\n",
      "CP Analyst - Materials DataShell4.3(1088 Reviews)3-8 YrsNot disclosedChennai May work in different shifts to cater to the different time zones of the stakeholdersHe...materials managementSupply chainRoot cause analysisData qualityContinuous improvementwarehouse15 Days Agosave\n",
      "Data Scientist Business AnalystHaryana Texprints (Overseas) Ltd.4.3(5 Reviews)8-13 Yrs6,00,000 - 12,00,000 PA.Faridabad(Ballabhgarh) Analyze business data Work directly with management and users to gather requirements, p...Data AnalysisExcelSQL DatabaseProgramming knowledgeStatistics12 Days Agosave\n",
      "Senior Business Data AnalystHuquo Consulting Pvt. Ltd1-3 YrsNot disclosedGurgaon/Gurugram Creating Business Requirement documents which can be submitted for review and approvals...Operational ExcellenceProcess AutomationDesign DevelopmentFeasibility AnalysisData AnalysisSolution DesignStrong Communication SkillsBusiness Analysis28 Days Agosave\n",
      "Senior Business Data Analyst - BFSHuquo Consulting Pvt. Ltd1-3 YrsNot disclosedGurgaon/Gurugram Creating Business Requirement documents which can be submitted for review and approvals...RPAoperational excellenceprocess automationAutomationData AnalystRoboticsAnalytics28 Days Agosave\n",
      "Business  OR Data AnalystDYR Consulting  9-14 YrsNot disclosedGurgaon/Gurugram(WFH during Covid) Business Analysis , Agile , Lean , Kanban methodologies, SQLKanban methodologiesLeanAgileBusiness AnalysisSQL1 Day Agosave\n",
      "Senior Data AnalystGartner India Research &amp; Advisory Services Pvt Ltd4.2(166 Reviews)3-5 YrsNot disclosedMumbai, Gurgaon/Gurugram Bachelor s or Masters degree in Science, Math, Technology, Computer Science, or related...IT SkillsPythonData ScienceOracleComputer scienceData analysisMySQLData mining30+ Days Agosave\n",
      "Senior Data Analyst-Turbo Cross Sellidfc first bank4.0(4574 Reviews)3-6 YrsNot disclosedNavi Mumbai To understand the system enhancements required to better the existing processRetail bankingSenior Data AnalystManagementMIS Executive30+ Days Agosave\n",
      "Senior Data AnalystLandis+Gyr4.0(182 Reviews)5-6 YrsNot disclosedNoida Ability to work in Shifts UI / UX development experience using HTML, CSS & JavaScript, ...UnixPerformance tuningJavascriptHTMLScrumData AnalystTroubleshootingOracle30+ Days Agosave\n",
      "Senior Data AnalystsPratibha Analytics3-8 YrsNot disclosedHyderabad \"Senior Data Analysts Message SubmitTechnical product configurationc++CdesignMySQLJavaScriptintegration PHPHTML30+ Days Agosave\n",
      "Sr. Data Analyst, Data EngineeringPEPSI FOODS PRIV LIMITED4.6(35 Reviews)1-5 YrsNot disclosedHyderabad/Secunderabad Responsible to improve the quality of data in relation to defined expectations Perform ...Supply chainOperations managementData analysisDemand planningNetwork optimizationNetwork analysisWorkflowData Analyst30+ Days Agosave\n",
      "Data Analyst - Python/Artificial IntelligenceiMindYourBusiness0-2 YrsNot disclosedKolkata, Mumbai, Hyderabad/Secunderabad, Pune, Chennai, Bangalore/Bengaluru, delhi ncr Candidates must have ability to work from home and also in a position to use their pers...Artificial IntelligenceData AnalystPythonSQL serverC++VBAAdvanced ExcelIT Skills21 Days Agosave\n",
      "Data Analyst - Python/Artificial IntelligenceiMindYourBusiness0-2 YrsNot disclosedKolkata, Mumbai, Hyderabad/Secunderabad, Pune, Ahmedabad, Delhi / NCR, Bangalore/Bengaluru Candidates must have ability to work from home and also in a position to use their pers...PythonVBAC++Advanced ExcelSQL serverIT SkillsData ScienceArtificial Intelligence30+ Days Agosave\n",
      "\n"
     ]
    },
    {
     "name": "stderr",
     "output_type": "stream",
     "text": [
      "[WDM] - ====== WebDriver manager ======\n",
      "[WDM] - Current google-chrome version is 102.0.5005\n",
      "[WDM] - Get LATEST chromedriver version for 102.0.5005 google-chrome\n",
      "[WDM] - Driver [C:\\Users\\lenovo\\.wdm\\drivers\\chromedriver\\win32\\102.0.5005.61\\chromedriver.exe] found in cache\n"
     ]
    },
    {
     "name": "stdout",
     "output_type": "stream",
     "text": [
      "Data Analyst - Python/Artificial IntelligenceiMindYourBusiness0-2 YrsNot disclosedKolkata, Mumbai, Hyderabad/Secunderabad, Pune, Bangalore/Bengaluru Candidates must have ability to work from home and also in a position to use their pers...pythonSQL serverC++VBAAdvanced ExcelData ScienceArtificial IntelligenceData Analyst27 Days Agosave\n",
      "Data AnalystPathway Creators  1-5 Yrs4,00,000 - 8,00,000 PA.Bangalore/Bengaluru Good Excel knowledge (Functions, Pivot Tables etc.)ExcelSql Query Writingdigital marketingGoogle Analytics12 Days Agosave\n",
      "Data AnalystCINDREBAY SCHOOL OF FASHION & INTERIOR DESIGN4.8(3 Reviews)1-4 YrsNot disclosedHyderabad/Secunderabad, Coimbatore, Thodupuzha, Trivandrum/Thiruvananthapuram, Kochi/Cochin, Kolkata, Cannanore/Kannur, Indore, Nagpur, Pune, Lucknow, Calicut/Kozhikode, Bangalore/Bengaluru We are looking to hire experienced & certified Data Analysts to join our data team who ...Secondary DataDatabase Design DevelopmentBusiness Data AnalystData Collection SystemsData AnalysisData MiningInformation ManagementData Analytics30+ Days Agosave\n",
      "Data AnalystVola Finance5-9 Yrs5,00,000 - 7,00,000 PA.Bangalore/Bengaluru Experience with database database query tools (SQL)Vola is a Series A fast growing comp...Pythondata analysisPython Data AnalyticsMySQLStatistical Data Analysis21 Days Agosave\n",
      "Data AnalystConcerto.ai3-5 YrsNot disclosedBengaluru Role Summary: We are looking for energetic, self-motivated and exceptional Senior Data ...IT SkillsPythonCloudBig DataAWSPower BIAzureData analysis30+ Days Agosave\n",
      "Data Analyst - Python/SQLAffine4.0(55 Reviews)3-5 YrsNot disclosedBangalore/Bengaluru Experience in data mining techniques and methodologies (data prep / modeling, classific...DenodoPower BIMatillionIT SkillsPythonMachine LearningAWSData Analyst21 Days Agosave\n",
      "Data AnalystTalent Zone Consultant10-12 YrsNot disclosedBangalore/Bengaluru graduate degree in Data Science or other quantitative field is preferred Experience in ...Data ScienceBusiness IntelligenceRData ScientistC + +HadoopData AnalysisData Mining30+ Days Agosave\n",
      "Data AnalystSeven Consultancy (HR Solution)2-3 YrsNot disclosedBangalore/Bengaluru Assist the data scientist in development of new analytical tools and methods as and whe...Procurementdata sciencebig data analyticsAnalyticalConsultingData collectionbig data analystConsultancy30+ Days Agosave\n",
      "Data AnalystKlub1-4 YrsNot disclosedBangalore/Bengaluru Minimum 1 year of working experience as a Data Analyst or Business Data Analyst Knowled...Data ScienceSasDatabase Design DevelopmentBusiness Data AnalystEtl FrameworksData MiningProcess ImprovementData Collection30+ Days Agosave\n",
      "Data QA AnalystWebMD4.5(14 Reviews)4-9 YrsNot disclosedMumbai Proficient in SQL (analytical functions, trending, windowing) - Traditional (For e.g., ...Computer scienceProduct managementWeb analyticsAnalyticalPostgresqlHealthcareWellnessOracle5 Days Agosave\n",
      "Data Analyst - ETL/Python/SQLSteerLean3.6(2 Reviews)3-7 YrsNot disclosedBangalore/Bengaluru Good analytical and conceptual problem solving skills Background in data quality or dat...ETLBusiness IntelligenceData QualityETL ToolsData ManagementData AnalystSQLPython28 Days Agosave\n",
      "Data AnalystINTRAEDGE TECHNOLOGIES PRIVATE LIMITED 4.2(12 Reviews)9-14 Yrs13,00,000 - 23,00,000 PA.Bangalore/Bengaluru(WFH during Covid) Roles and Responsibilities Data mining/ ETLAnalyzing structured/unstructured data from ...data analyticssqlETLRedshiftAlteryxPowerBITableauDatabricks28 Days Agosave\n",
      "Data Analyst - Platform & SecurityNational Geographic4-6 YrsNot disclosedBangalore/Bengaluru Collect and Interpret data, analyze results, publish MIS reports, emailers and dashboar...Computer sciencetableauBusiness reportingLegal complianceNetwork securityData analyticsRisk managementOperations30+ Days Agosave\n",
      "Data AnalystCoinSwitch Kuber4.9(12 Reviews)4-9 YrsNot disclosedBangalore/Bengaluru What you will do Uses knowledge of business objectives, strategies, and needs to identi...Data ScienceGoogle AnalyticsData ManagementData AnalystTableauData WarehousingEtlPython30+ Days Agosave\n",
      "data analystTalent Zone Consultant2-8 YrsNot disclosedBangalore/Bengaluru Work with PAMA tools team and PA Data Analytics organization to get required data basis...Computer scienceData analysisData managementMachine learningbusiness rulesData qualityBusiness intelligenceData mining30+ Days Agosave\n",
      "Data Analystreferral2-5 YrsNot disclosedBangalore/Bengaluru Requirements : Strong problem solving ability - Candidate needs to exhibit structured t...Analytical skillsProcess orientationSenior managementConceptualizationData AnalystData analyticsdata visualizationMonitoring30+ Days Agosave\n",
      "Data Analyst - EdTechTalentStack2-6 YrsNot disclosedBangalore/Bengaluru Create engaging learning activities to increase learning experience of the students Dev...Data analyticsData AnalystAnalyticsSQLPython28 Days Agosave\n",
      "Data Analyst - ITYespired3-8 YrsNot disclosedBangalore/Bengaluru A minimum of 3 years of experience in the field of Data Analysis, Data VisualizationSki...Data VisualizationTableauData AnalyticsData AnalysisExcelSQLcommunicationIT Skills21 Days Agosave\n",
      "Global SCM Project & Data AnalystAptiv Technical Centre4.2(283 Reviews)3-8 YrsNot disclosedBangalore/Bengaluru Strong motivation, sense of urgency / proactivity, high-level of energy and problem-sol...ProcurementSupply chainSAPData managementProject managementBusiness analyticsData AnalystSCM21 Days Agosave\n",
      "Virtue Analytics - Data AnalystVirtue Analytics4.6(5 Reviews)3-5 YrsNot disclosedLucknow EDUCATION: Bachelors and above A keen ability to story board data and good communicatio...AnalyticsPredictive ModelingData ManagementData MiningData ModelingData AnalyticsMachine Learning26 Days Agosave\n",
      "\n"
     ]
    },
    {
     "name": "stderr",
     "output_type": "stream",
     "text": [
      "[WDM] - ====== WebDriver manager ======\n",
      "[WDM] - Current google-chrome version is 102.0.5005\n",
      "[WDM] - Get LATEST chromedriver version for 102.0.5005 google-chrome\n",
      "[WDM] - Driver [C:\\Users\\lenovo\\.wdm\\drivers\\chromedriver\\win32\\102.0.5005.61\\chromedriver.exe] found in cache\n"
     ]
    },
    {
     "name": "stdout",
     "output_type": "stream",
     "text": [
      "Data Analyst, Digital Policy Solution (DPS)BGRS3.8(43 Reviews)3-8 YrsNot disclosedBangalore/Bengaluru The Data Analyst, Digital Policy Solution /Rules, reporting to the Manager, Digital Pol...Communication SkillsData ManagementData AnalysisScienceMathematicsData GovernanceRecruitment30+ Days Agosave\n",
      "Data Analyst, Digital Policy Solution BGRS3.8(43 Reviews)3-8 YrsNot disclosedBangalore/Bengaluru The Data Analyst, Digital Policy Solution /Rules, reporting to the Manager, Digital Pol...Computer scienceCareer developmentData analysisExcelData managementData structuresWellnessData quality27 Days Agosave\n",
      "Data AnalystInference Labs3.6(11 Reviews)2-3 YrsNot disclosedBangalore/Bengaluru Experience in app-related / clickstream data analytics preferred (but not needed) The a...MISTableauPower BISQL queriesAdvanced ExcelIT SkillsPDFdata science30+ Days Agosave\n",
      "Data AnalystQuotient, Inc.1-3 YrsNot disclosedBengaluru Experience in designing, executing and measuring A / B tests for optimization models Pr...Product managementComputer sciencePublishingData managementAnalyticalHTMLData miningDistribution network30+ Days Agosave\n",
      "Data AnalystUnusual Hire1-4 YrsNot disclosedBengaluru Bachelor s degree from an accredited university or college in computer scienceWork expe...verbal communicationdata analyticswrittenrelational databasesComputer scienceAdministration managementData analysismetadata30+ Days Agosave\n",
      "Officer - Category Demand Management ( Data Analyst)referral2-6 YrsNot disclosedBangalore/Bengaluru Knowledge of statistics and experience using statistical packages for analysing large d...SASXMLJavascriptData AnalystSPSSData miningBusiness intelligenceOperations30+ Days Agosave\n",
      "DATA ANALYST, IMPACT MEASUREMENT AND MANAGEMENTUpaya Social Ventures1-3 YrsNot disclosedBangalore/Bengaluru Project and Data Management for Impact Surveys: Support in all aspects of partner surve...Data managementBusiness analyticsDirectorData qualityManagementMS OfficePortfolio managementInformation technology30+ Days Agosave\n",
      "Data AnalystParity Cube4.8(11 Reviews)1-3 YrsNot disclosedMumbai 1-2 years- experience working in an analytical role Knowledge of statistics and experie...PythonRData ManagementData MiningData ModelingData AnalyticsAnalyticsSQL21 Days Agosave\n",
      "Manager- Data AnalystBOLD Technology Systems4.3(65 Reviews)10-14 YrsNot disclosedDelhi / NCR Required Skills Understanding and experience using analytical concepts and statistical ...data analysisdata analyticsdata miningIT SkillsPythonCloud21 Days Agosave\n",
      "Data AnalystTLC Relationship Management Private Limited3.1(110 Reviews)2-7 YrsNot disclosedNew Delhi(Jasola) Responsible for tracking, reporting, and analyzing the performance of marketing activit...Data Analysismarketingcustomer insightsData ManagementData Analytics22 Days Agosave\n",
      "Data AnalystSeven Consultancy3-8 YrsNot disclosedHyderabad Collection and Collation of data Analysis and Interpretation of collected data Identify...Analytical skillsData analysisData managementReport writingData collectionConsultancyData analyticsData Analyst30+ Days Agosave\n",
      "Data AnalystOutsource Big Data5.0(2 Reviews)9-14 YrsNot disclosedBangalore/Bengaluru Hands on experience in web data extraction dimensional data from databases and web is a...IT servicesAutomationData managementData miningJIRAProject deliveryDigital marketingAnalytics30+ Days Agosave\n",
      "Data AnalystSeven Consultancy3-6 YrsNot disclosedBengaluru QUALIFICATION: Any graduate EXPERIENCE: 3 to 6 yearsLead generationInhouse salesManager PresalesManager TechnologySoftware salesData analyticsInside salesAccount planning30+ Days Agosave\n",
      "MI Data Management AnalystAMERICAN EXPRESS GLOBAL BUSINESS TRAVEL4.1(111 Reviews)2-6 YrsNot disclosedGurgaon/Gurugram Advance knowledge of MS Excel Access shall is preferable Knowledge of CAP, GMAX, aXis @...BackendAnalyticalReconciliationBillingSabreOperationsAnalyticsProduct support14 Days Agosave\n",
      "Data Analyst L5 - immediate To 15 days notice periodAnlage Infotech (I) Pvt. Ltd.   6-11 Yrs6,00,000 - 14,00,000 PA.Bangalore/Bengaluru Job Title: Portfolio Data Lead AnalystLevel: L5A (contractual Role)Reports To: Process ...Data VisualizationDAXJIRAdata modellingStatisticsDATA ANALYSISBusiness Analysis28 Days Agosave\n",
      "Data Analyst / Business AnalystSearch Advisers Services ( GUJ ) Pvt. Ltd.  4-9 Yrs15,00,000 - 16,00,000 PA.Bangalore/Bengaluru Experience: 4-6 yearsdata analysisAlteryxTableauETLBusiness AnalysisPivot TableVBAKPI30+ Days Agosave\n",
      "Business Analyst ( Data )MORE4.1(105 Reviews)5-7 YrsNot disclosedMumbai Bachelor s degree in business management or related field or an MBA Exceptional analyti...IT SkillsProject ManagementBPOproject managementData managementFinancial reportingMISBusiness analytics30+ Days Agosave\n",
      "MIS Executive / DATA AnalystJainam Invamed Pvt Ltd 1-2 Yrs2,25,000 - 3,00,000 PA.Vasai Preferably FEMALE candidates!Qualification: 12th Pass / Any GraduateMIS ReportingData MaintenanceAdvanced ExcelData EntryMis ExcelBackendExcelMIS27 Days Agosave\n",
      "Data Analyst/ScientistitForte Staffing Services Private Ltd.3-7 YrsNot disclosedGurgaon Data Analyst/ Scientist my itForte - Job Detail Data Analyst/ Scientist IT JOBS#205 Req...MS SQLAlgorithmsConsultingMachine learningData collectionToolsData AnalystTechnology solutions30+ Days Agosave\n",
      "Senior Data Analyst - R/Python - BFSIHuquo Consulting Pvt. Ltd3-7 YrsNot disclosedNoida Min 5 years of experience in a similar profileGood problem-solving skillsRData ManagementStatistical ModelingData MiningData ModelingData AnalyticsMachine LearningPython20 Days Agosave\n",
      "\n"
     ]
    },
    {
     "name": "stderr",
     "output_type": "stream",
     "text": [
      "[WDM] - ====== WebDriver manager ======\n",
      "[WDM] - Current google-chrome version is 102.0.5005\n",
      "[WDM] - Get LATEST chromedriver version for 102.0.5005 google-chrome\n",
      "[WDM] - Driver [C:\\Users\\lenovo\\.wdm\\drivers\\chromedriver\\win32\\102.0.5005.61\\chromedriver.exe] found in cache\n"
     ]
    },
    {
     "name": "stdout",
     "output_type": "stream",
     "text": [
      "Data Quality & Reporting Senior AnalystUpfield4.6(4 Reviews)7-12 YrsNot disclosedBangalore/Bengaluru Perform analysis and review the effectiveness of current ways of working to provide the...Data managementAnalyticalTrend analysisPackagingAgilebusiness rulesData qualityFMCG22 Days Agosave\n",
      "Urgent Hiring For Data Analyst - RemoteDzaro Solutions   2-7 YrsNot disclosedRemote Data analyst Senior US Healthcare data analyst. Understanding of EPIC, HL7, EDI, health...HL7EDIdata analystPythonRdata SQLOracleMATLAB7 Days Agosave\n",
      "Data Analyst - GurgaonTeam Plus Staffing Solution Pvt Ltd  3-8 Yrs10,00,000 - 18,00,000 PA.Noida, Gurgaon/Gurugram, Delhi / NCR Knowledge of programming languages like SQL, Oracle and Python - Basic to intermediate ...SQLHDFSHiveSQL databasesElastic StackPythonOracleIT Skills14 Days Agosave\n",
      "Data Analyst - NBFC Company - GurgaonPMS Consulting 5-10 Yrs12,00,000 - 15,00,000 PA.Delhi / NCR Management Plan reporting on Monthly basis. Preparation of Business review decks with d...data AnalystData Analysis11 Days Agosave\n",
      "Officer Data Information Mgt AnalystKelly Outsourcing and Consulting Group India  Priv  ate Limited2-5 Yrs15,00,000 - 18,00,000 PA.Chennai A flexible, positive and mature mindset to deal with ambiguities of complex business pr...SSRSMSBISQL ServerssisPower BiTableauQlikView20 Days Agosave\n",
      "Data AnalystMSys Tech India Pvt. Ltd.4.3(32 Reviews)4-7 Yrs12,00,000 - 20,00,000 PA.Pune, Chennai, Bangalore/Bengaluru Knowledge of statistics and experience using statistical packages for analyzing dataset...PandasData miningPythonData ModelsIT SkillsDatabasesDockerNumpy30+ Days Agosave\n",
      "Data Analystmilestone internet marketing pvt ltd3.5(21 Reviews)2-5 YrsNot disclosedAhmedabad, Bangalore/Bengaluru Experienced data analyst with a minimum 2+ years of hands-on experience in tracking imp...Google AnalyticsProject ManagementGoogle AdwordsData AnalysisSearch EngineDigital MarketingSemData Analyst30+ Days Agosave\n",
      "Associate Data AnalystOtis4.2(455 Reviews)3-8 YrsNot disclosedHyderabad/Secunderabad, Ahmedabad, Bangalore/Bengaluru This position is primarily responsible for: Functional and Technical Knowledge of Oracl...ERPAutomationSOASASData modelingHyperionData structuresTroubleshooting30+ Days Agosave\n",
      "Urgent Hiring For Data Analyst || WFH || Immediate Joiners !!360 Degree Cloud Technologies Private Limted3.1(47 Reviews)2-4 Yrs3,00,000 - 8,00,000 PA.Noida, Kolkata, Pune, Faridabad, Jaipur Looking to hire a data analyst with 2+ yrs exp as a data analyst and a deep understandi...Data Analystdata analysisAdvance ExcelcommunicationExcellent Communication skillsSalesforce12 Days Agosave\n",
      "Hiring Data Analyst For Pune & HyderabadSynechron4.1(1316 Reviews)5-10 Yrs12,00,000 - 19,00,000 PA.Hyderabad/Secunderabad, Pune We are hiring Data Analysts for Hyderabad and Pune LocationsExperience : 5- 12 yearsNot...hadoopDatajupyterFlaskTableauElasticsearchVisualisationSpark30+ Days Agosave\n",
      "Data Analyst - Data Science - NXSiemens4.2(3086 Reviews)1-5 YrsNot disclosedPune 3 years of experience using analytic techniques, structured approaches to problem solvi...Product managementData analysisProduct engineeringSimulationData modelingBusiness analysisAnalyticalBusiness intelligence30+ Days Agosave\n",
      "Data AnalystMyntra4.3(1107 Reviews)1-3 YrsNot disclosedBangalore/Bengaluru Bachelor s Degree from an accredited university or collegeExperience with advanced MS E...Communication SkillsRExcelData AnalystVerbal CommunicationAnalyticsSqlPython30+ Days Agosave\n",
      "Data AnalystMyntra4.3(1107 Reviews)1-2 YrsNot disclosedBangalore/Bengaluru B Tech / BE with 1-2 years of experienceQualifications ExperienceCommunication SkillsExcelProblem SolvingData VisualizationData AnalystReportingSqlPython30+ Days Agosave\n",
      "Data AnalystMyntra4.3(1107 Reviews)2-3 YrsNot disclosedBangalore/Bengaluru Roles Responsibilities Role: The recruit will be part of one of the sub-teams of the re...RSalesPower BiData VisualizationData AnalystTableauPythonSql30+ Days Agosave\n",
      "Data AnalystMyntra4.3(1107 Reviews)1-3 YrsNot disclosedBangalore/Bengaluru Bachelor s Degree from an accredited university or collegeExperience with advanced MS E...Communication SkillsRData AnalystMs ExcelManagementVerbal CommunicationAnalyticsPython30+ Days Agosave\n",
      "Data AnalystMyntra4.3(1107 Reviews)1-3 YrsNot disclosedBangalore/Bengaluru Responsibilities: Support business decision making by - formulating hypothesis, structu...Communication SkillsRData AnalystMs ExcelVerbal CommunicationAnalyticsSqlPython30+ Days Agosave\n",
      "Data AnalystMyntra4.3(1107 Reviews)1-3 YrsNot disclosedBangalore/Bengaluru The recruit will be part of the Customer Retention Team solving various analytical prob...RBusiness AnalystPower BiBi ToolsData VisualizationData AnalystTableauPython30+ Days Agosave\n",
      "Data AnalystMyntra4.3(1107 Reviews)1-3 YrsNot disclosedBengaluru Candidate should be proficient in SQL and should have basic understanding of R / Python...Supply chainProcess orientationConceptualizationMarket researchData Analystdata visualizationStakeholder managementMonitoring30+ Days Agosave\n",
      "Data AnalystMyntra4.3(1107 Reviews)1-3 YrsNot disclosedBangalore/Bengaluru Bachelor s Degree from an accredited university or collegeExperience with advanced MS E...Data analysisInterpersonal skillsExcelRevenue planningData AnalystRevenue managementManagementAnalytics30+ Days Agosave\n",
      "ServiceNow Data AnalystExxon Mobil Corporation3.6(269 Reviews)4-9 YrsNot disclosedBangalore/Bengaluru Flexible to work in shifts ( 1 PM 10 PM IST) Work with master service provider to desig...Business processData analysisChange managementEvent managementProcess improvementVLOOKUPData AnalystInformation technology21 Days Agosave\n",
      "\n"
     ]
    },
    {
     "name": "stderr",
     "output_type": "stream",
     "text": [
      "[WDM] - ====== WebDriver manager ======\n",
      "[WDM] - Current google-chrome version is 102.0.5005\n",
      "[WDM] - Get LATEST chromedriver version for 102.0.5005 google-chrome\n",
      "[WDM] - Driver [C:\\Users\\lenovo\\.wdm\\drivers\\chromedriver\\win32\\102.0.5005.61\\chromedriver.exe] found in cache\n"
     ]
    },
    {
     "name": "stdout",
     "output_type": "stream",
     "text": [
      "Data AnalystMyntra4.3(1107 Reviews)1-3 YrsNot disclosedBangalore/Bengaluru External Job Overview Responsibilities Planning of new user purchase experience project...Business IntelligenceExcelMisData ExtractionCampaign ManagementDashboardsPerformance ReportingStore Management30+ Days Agosave\n",
      "Data AnalystMyntra4.3(1107 Reviews)1-3 YrsNot disclosedBangalore/Bengaluru B Tech / BE in Computer Science or equivalent from a tier 1 college with 1-3 years of e...Business AnalystProblem SolvingAdvanced ExcelData AnalystDashboardsAnalyticsSqlBa30+ Days Agosave\n",
      "Data Analyst / UAT testing - Immediate Joiner - UK Shift (flexible)Hexaware Technologies3.8(2727 Reviews)7-12 Yrs16,00,000 - 22,50,000 PA.Pune, Chennai, Mumbai (All Areas)(WFH during Covid) In-depth domain knowledge of Financial Markets and a good understanding of Entity Secur...User Acceptance TestingData Analysisdata analystGap analysisEntity SecurityAgileSQLJira28 Days Agosave\n",
      "Data AnalystOLX, Inc4.1(455 Reviews)1-3 YrsNot disclosedGurgaon/Gurugram Good communication and interpersonal skills, problem solver, result oriented, and able ...Computer scienceProduct engineeringInterpersonal skillsExcelData AnalystMathematicsOperationsAnalytics22 Days Agosave\n",
      "Data Analyst, Trust and Safety, PaymentsGoogle4.4(449 Reviews)1-4 YrsNot disclosedHyderabad/Secunderabad Collaborate with cross-functional teams to evolve and improve enforcement strategy and ...analysisComputer scienceData analysisCodingMachine learningJavascriptPHPAnalytics30+ Days Agosave\n",
      "Professional 2 Data AnalystDXC Technology3.9(6329 Reviews)5-8 YrsNot disclosedNoida Bachelor s degree in Computer Science or similar field or equivalent work experience. 5...TWSverbal communicationInformatica Power ExchangePythonAWSSQLwrittenUNIX shell scripting25 Days Agosave\n",
      "Lead Data Analyst, Payments, Trust and SafetyGoogle4.4(449 Reviews)5-10 YrsNot disclosedHyderabad/Secunderabad Bachelors degree in a technical field, or equivalent practical experienceLead projects ...data analysisPythonanalyticsRSQLIT SkillsCloudProject Management30+ Days Agosave\n",
      "Data AnalystFreshworks4.0(118 Reviews)2-3 YrsNot disclosedChennai A Bachelors Degree in computer science, engineering or an equivalent combination of ski...IT SkillsPythonTableauPower BIComputer scienceAnalyticalData processingData quality30+ Days Agosave\n",
      "Analyst - Data Intelligence GroupTresVista Financial0-1 YrsNot disclosedMumbai, Pune, Bangalore/Bengaluru Preferably for tier 1 engineering college Experience in the analytics domain will be an...Computer scienceIndustry researchFund administrationpower biData analyticsDBMSQlikViewOperations30+ Days Agosave\n",
      "Data Analyst, FinTechUber4.1(524 Reviews)1-4 YrsNot disclosedHyderabad/Secunderabad We are looking for a skilled Data Analyst to join our FinTech - Data Analytics team at ...Computer scienceMiningRoot cause analysisFinancial reportingAnalyticaldata visualizationBioinformaticsDownstream30+ Days Agosave\n",
      "Data Analyst (3-5 Years)Redian Software Private Limited4.0(24 Reviews)3-5 Yrs5,00,000 - 11,00,000 PA.Gurgaon/Gurugram, Delhi / NCR Data Analyst, SQL, Oracle and Python, HDFS/Hive/Elastic Stack, SQL databases/Use of Ana...Oracle DBASQL Serverdata analystsqlData AnalysisPythonElastic StackHDFS17 Days Agosave\n",
      "KDB Data Analyst/Engineer Quantitative BrokersQuantitative Brokers1-4 YrsNot disclosedChennai We are looking for a highly analytical, motivated, and self-driven data engineer with a...UnixData analysisC++Data managementQuantitative researchLinuxFixed incomeAnalytical30+ Days Agosave\n",
      "Big Data Analyst - Part timeWrite Academy1-6 YrsNot disclosedChennai Preferred experience in BI technologies for building Reporting Frameworks 1+ years of e...NoSQLcassandrasparkMySQLbig data analystMongoDBOracleSQL30+ Days Agosave\n",
      "Strategy Analyst/ Data AnalystBarclays Shared Services (BSS)4.3(958 Reviews)1-5 YrsNot disclosedNoida Good communication skills, which will involve explanation of outputs created that will ...pythonsas sqlTableauData AnalyticsData SciencePower Bidata manipulation20 Days Agosave\n",
      "Data AnalystOptum4.2(1777 Reviews)2-6 YrsNot disclosedHyderabad/Secunderabad Bachelor s degree from an accredited Tier 1 / Tier 2 college / university - Full Time M...AnalyticsIT SkillsProject ManagementTableauBPOproject managementhindiSAS22 Days Agosave\n",
      "Master Data AnalystHarsco4.0(95 Reviews)4-7 YrsNot disclosedHyderabad/Secunderabad The information about this given above has been designed to indicate the general nature...Data analysisBaanExcelERP systemData modelingMaster data managementmanagementData Administrator22 Days Agosave\n",
      "Data AnalystRPA Infotech Pvt.Ltd3.9(8 Reviews)1-3 YrsNot disclosedGurgaon Job Description 1. 1-3 years of work experience, in the area of Business Analytics usin...BPOdata analysisMS SQLExcelBfsiBusiness analyticsPostgresqlMySQL30+ Days Agosave\n",
      "Data AnalystUtkarsh Small Finance Bank4.0(1427 Reviews)5-8 YrsNot disclosedMumbai Job Description Conducting full lifecycle analysis to include requirements, activities ...Process improvementData collectionData analyticsData AnalystManager Quality ControlManagementMonitoring30+ Days Agosave\n",
      "Data AnalystJio4.0(13323 Reviews)3-7 YrsNot disclosedMumbai, Thane Develop and implement databases, data collection systems, data analytics and other stra...Data AnalysisData CollectionPredictive AnalyticsStatistical ToolsData AnalyticsData Governance20 Days Agosave\n",
      "Data AnalystCWT4.3(304 Reviews)2-6 YrsNot disclosedGurgaon/Gurugram Other tasks and responsibilities as required As such the candidate will have experience...Business processService levelTravel managementBack officeManager Technologydata integrityData qualityMonitoring25 Days Agosave\n",
      "\n"
     ]
    },
    {
     "name": "stderr",
     "output_type": "stream",
     "text": [
      "[WDM] - ====== WebDriver manager ======\n",
      "[WDM] - Current google-chrome version is 102.0.5005\n",
      "[WDM] - Get LATEST chromedriver version for 102.0.5005 google-chrome\n",
      "[WDM] - Driver [C:\\Users\\lenovo\\.wdm\\drivers\\chromedriver\\win32\\102.0.5005.61\\chromedriver.exe] found in cache\n"
     ]
    },
    {
     "name": "stdout",
     "output_type": "stream",
     "text": [
      "Data AnalystToppr3.3(619 Reviews)1-3 YrsNot disclosedHyderabad/Secunderabad BTech / BE from recognized institutesMust be well-organized detail-oriented, and discip...Business StrategyCommunication SkillsSchoolBusiness AnalystManagement ConsultingProblem SolvingData AnalystSql30+ Days Agosave\n",
      "Lead Data AnalystBlinkit3.8(1037 Reviews)5-7 YrsNot disclosedGurgaon/Gurugram Bachelor/ Master s Degree in engineeringGood knowledge of Statistics, Hypothesis testin...RAnalytical SkillsProblem SolvingQlikviewData AnalystTableauSupply Chain ManagementStatistics30+ Days Agosave\n",
      "Data AnalystDHL4.2(894 Reviews)4-5 YrsNot disclosedMumbai Creating and Managing master data Experience - 4 to 5 yearsTranslationCodingKPICorporateData processingE-commerceGap analysisData Analyst30+ Days Agosave\n",
      "Environment Sustainability Data AnalystCapgemini3.9(21032 Reviews)2-4 YrsNot disclosedMumbai Graduate in Environmental Science, Energy management or related fields Ability to struc...Environmental scienceExcelSBUManagementEnergy management26 Days Agosave\n",
      "Associate Lead Data Analyst/Associate Lead Data AnalystBajaj Finserv4.1(12500 Reviews)1-4 YrsNot disclosedPune Minimum qualification required is BE or Post Graduates in IT with an experience of at l...SFDCsparkManagementSSISOperationsETL toolSLASAssociate Lead30+ Days Agosave\n",
      "Data AnalystPaytm3.7(4140 Reviews)2-5 YrsNot disclosedNoida, New Delhi, Gurgaon/Gurugram Responsibilities 1. Using automated tools to extract data from primary and secondary so...Analytical skillsData analysisPerformance managementCodingProject managementData Analystdata visualizationData warehousing30+ Days Agosave\n",
      "Data AnalystAdidas4.4(320 Reviews)1-6 YrsNot disclosedGurgaon Four-year college or university degree with focus on Business Administration or IT or r...Business administrationData analysisAnalyticalBrand marketingWindowsdata visualizationInformation technologyAnalytics30+ Days Agosave\n",
      "Opening For Data Analyst RoleCare Health Insurance (CHI)3.9(841 Reviews)2-7 Yrs3,00,000 - 7,00,000 PA.Gurgaon/Gurugram Bachelors Degree in Mathematics or Computer Engineering 3+ years Data mining experienceSASData AnalyticsSQLData Analysis21 Days Agosave\n",
      "Data AnalystAdidas4.4(320 Reviews)1-5 YrsNot disclosedGurgaon Four - year college or university degree with focus on Business Administration or IT or...Business administrationData analysisAnalyticalBrand marketingWindowsdata visualizationInformation technologyAnalytics30+ Days Agosave\n",
      "Data Analyst ( On Contract )EA Games (Electronic Arts)4.4(15 Reviews)2-3 YrsNot disclosedHyderabad 3 years of professional analytical experience, applying data to improve process improve...Analytical skillstableauManager Quality AssuranceJavascriptpower biData Analystdata visualizationmicrosoft30+ Days Agosave\n",
      "Data AnalystSchneider Electric4.2(3602 Reviews)3-8 YrsNot disclosedGurgaon/Gurugram PIM/EDMS/CDQT/DAL/BSL Data (Product Information Management) - Support the PIM Solutions...Product managementProcess automationData migrationFrenchEDMSAnalyticalSupport servicesCustomer support30+ Days Agosave\n",
      "Urgent hiring For Data Analyst in ChennaiHCL Technologies3.9(20627 Reviews)3-7 YrsNot disclosedChennai Shift timings: Must be flexible to work in ANY shift timings (including night shifts) A...Data analystReport GenerationMS officeExcelSAPData AnalysissharepointDashboards28 Days Agosave\n",
      "Data AnalystMichelin3.9(429 Reviews)1-4 YrsNot disclosedPune The e-Retail Digital Marketing Analyst position involves working directly with a dynami...BPOdata analysisRetailWeb analyticsdigital marketing analystData collectionE-commerceDigital marketing30+ Days Agosave\n",
      "SQL Hiring Data Analyst / Data Modeler || Immediate To 30 days JoinersSynechron4.1(1316 Reviews)5-10 Yrs12,00,000 - 18,00,000 PA.Pune Attention to detail SQL data analysts must be highly detail oriented to write SQL progr...SQL30+ Days Agosave\n",
      "Reference Data AnalystDeutsche Bank4.2(1799 Reviews)2-5 YrsNot disclosedJaipur Provide leadership, analysis and compliance policy guidance/support to facilitate and i...AnalystDue diligenceAudit complianceDiversity and InclusionBankingData AnalystSubject Matter ExpertTraining and Development30+ Days Agosave\n",
      "Data AnalystAdidas4.4(320 Reviews)4-8 YrsNot disclosedGurgaon/Gurugram Four-year college or university degree with focus on Business Administration or IT or r...global operationsBusiness administrationData analysisData modelingAnalyticalBrand marketingData Analystdata visualization30+ Days Agosave\n",
      "Data AnalystDatahub Technologies Research and Development Pvt    Ltd2-3 YrsNot disclosedKochi/Cochin(WFH during Covid) click link for detailed JD https://docs.google.com/document/d/1QzACsC3rX5pHTioeC8DHDFNg...Power BiInformaticasuperset toolsData AnalysisETL13 Days Agosave\n",
      "Looking For Data Analyst - Global internal audit - RAIN IndustriesRAIN INDUSTRIES LIMITED4.0(43 Reviews)2-6 Yrs4,00,000 - 8,00,000 PA.Hyderabad/Secunderabad(Srinagar Colony)(WFH during Covid) Job descriptionRole : Data Analyst - Global Internal AuditLocation : HyderabadCompany: ...Internal Auditdata analyticsData Analysisdata analyst26 Days Agosave\n",
      "Data AnalystPiLog4.0(24 Reviews)2-5 YrsNot disclosedHyderabad/Secunderabad(Gachibowli) Analyze and map data processes across the data cycle.Capture business and technical req...Data VisualizationsData SourcingData QualityAnalyticalData ProcessingData Integration18 Days Agosave\n",
      "Data Operations AnalystBLUME GLOBAL INDIA PRIVATE LIMITED 3.3(11 Reviews)0-3 Yrs1,00,000 - 3,50,000 PA.Bangalore/Bengaluru This is regular full time role with hands on experience of 6 months to 1 yearThe job re...Macroswritten communicationExcelVBverbalVBAData AnalysisData Analytics20 Days Agosave\n",
      "\n"
     ]
    },
    {
     "name": "stderr",
     "output_type": "stream",
     "text": [
      "[WDM] - ====== WebDriver manager ======\n",
      "[WDM] - Current google-chrome version is 102.0.5005\n",
      "[WDM] - Get LATEST chromedriver version for 102.0.5005 google-chrome\n",
      "[WDM] - Driver [C:\\Users\\lenovo\\.wdm\\drivers\\chromedriver\\win32\\102.0.5005.61\\chromedriver.exe] found in cache\n"
     ]
    },
    {
     "name": "stdout",
     "output_type": "stream",
     "text": [
      "ESG Junior Data Analyst (Mandarin Speaking)Institutional Shareholder Services3.5(21 Reviews)1-4 YrsNot disclosedMumbai Willingness to work beyond traditional working hours / days as required by the business...Root cause analysisEnvironmental scienceBusiness researchBusiness FinanceAnalyticalData collectionISSMS Office30+ Days Agosave\n",
      "Data Analyst & MISBusy Infotech Pvt. Ltd.4.0(42 Reviews)2-5 Yrs6,00,000 - 10,00,000 PA.Delhi / NCR Extensive experience in developing and managing dashboard in excel and visualization to...ExcelData AnalysissqlHadoopSQL ServerBusiness IntelligenceRDBMSTableau22 Days Agosave\n",
      "Associate/ Analyst- Data / MIS - TA Data AnalystProtiviti3.7(71 Reviews)2-5 YrsNot disclosedGurgaon/Gurugram Certification in Data Analytics / Visualization tools like Power Bi or Tableau will be ...data analysisdata analyticsATSchartsData VisualizationDashboards21 Days Agosave\n",
      "Guidewire Data Business AnalystFutureSoft (India)3.7(143 Reviews)5-7 YrsNot disclosedBangalore/Bengaluru Should possess good amount of experience in Source System Analysis and Requirement gath...data analysisdata migrationSource System Analysisdata warehouseBusiness AnalysisRequirement gatheringSQLdata mapping30+ Days Agosave\n",
      "Data/Business AnalystTrueCover4.7(5 Reviews)2-6 YrsNot disclosedBengaluru You can infer good information from data analysis Have good communication analytical sk...Analytical skillsData analysisVisual BasicExcelBusiness AnalystConsultingData analyticsTroubleshooting30+ Days Agosave\n",
      "Data Analyst / Senior Data Analyst - Gurgaon- WFHImpetus Hr Consultants Pvt. Ltd  2-7 Yrs5,50,000 - 14,00,000 PA.Gurgaon/Gurugram - Should be strong with statistical tools and data mining tools. - Well versed with han...Data AnalysisPythonStatistical ToolsStatistical AnalysisStatisticsAnalyticsR programming12 Days Agosave\n",
      "Senior Data AnalystSeven Consultancy (HR Solution)3-4 YrsNot disclosedHyderabad/Secunderabad 1. We are looking for a passionate certified Data Analyst. The successful candidate wil...Data analysisSASProcess improvementXMLJavascriptData collectionSPSSData mining30+ Days Agosave\n",
      "Senior Data AnalystSanmax Technologies (P) Limited1.0(3 Reviews)8-10 YrsNot disclosedJaipur This Senior Data Engineer will need to have a successful history of data analysis, desi...developmentrdbmstechnicalscalaPerlInformaticaSDLCsql30+ Days Agosave\n",
      "Senior Data AnalystPoshmark5.0(4 Reviews)2-5 YrsNot disclosedChennai Responsibilities This person will be focused on providing analytics support and data in...Data analysisInterpersonal skillsSenior Data AnalystData collectionHypothesis Testingdata visualizationPowerpointAnalytics30+ Days Agosave\n",
      "Senior Data AnalystPoshmark5.0(4 Reviews)2-5 YrsNot disclosedPune Responsibilities This person will be focused on providing analytics support and data in...Data analysisInterpersonal skillsSenior Data AnalystData collectionHypothesis Testingdata visualizationPowerpointAnalytics30+ Days Agosave\n",
      "Sr . Data AnalystDemandMatrix2.9(6 Reviews)5-8 YrsNot disclosedPune Must have strong analytical and critical thinking to resolve business problems using da...LinuxXMLPostgresqlHTMLJSONAgile methodologymicrosoftOpen source30+ Days Agosave\n",
      "Senior Data AnalystSaavn, LLC3-4 YrsNot disclosedGurgaon RESPONSIBILITES: Provide relevant data to the Sales team to help them in their conversa...analytics reportingadvanced analyticsData analysisMachine learningData AnalystmicrosoftData miningSQL Azure30+ Days Agosave\n",
      "Sr. Data AnalystAssimilate Solutions4.1(99 Reviews)5-10 YrsNot disclosedNoida, Gurgaon/Gurugram Good to have hands on knowledge on Informatica Cloud and SnowflakeBPOExcelCodingTechnical writingAnalyticalSenior Data AnalystInformaticaData warehousing30+ Days Agosave\n",
      "Senior Data AnalystData Radian Technologies Pvt Ltd5-10 Yrs15,00,000 - 20,00,000 PA.Remote Job responsibilities Design, develop and implement business intelligence solutions (ana...QlikBusiness Intelligencedata analysisdata miningdashboardssql18 Days Agosave\n",
      "Data Analyst / Sr . Data AnalystSymmetrical Global Search Pvt Ltd4.1(18 Reviews)2-4 YrsNot disclosedNoida Bachelors / Master degree in Statistics / Econometrics/ Economics / Operations Research...Operations researchSASData collectionHypothesis TestingHTMLSPSSData miningEconometrics30+ Days Agosave\n",
      "Senior Data AnalystSiCureMi Healthcare Technologies4-7 YrsNot disclosedDelhi Communicate and present data to the management team by developing reports. Qualificatio...analyticaldata modelingBusiness administrationEconomicsData AnalystMathematicsManagementInformation technology30+ Days Agosave\n",
      "SENIOR DATA ANALYSTSaffron Consultancy Services(scs)5-10 YrsNot disclosedUdaipur, Bhilwara Job Description: Candidate will be responsible for - 1. Data analysts need work with la...Help DeskCustomer Servicecustomer relationshipaccess controlsTelephony supportAsset ManagementVendor ManagementInformation30+ Days Agosave\n",
      "Senior Data Analyst With SAP HanaAnicalls4.7(2 Reviews)5-10 YrsNot disclosedNoida Create, design, and format technical specification documentation including architecture...SAPBusiness analysisWorkflowbusiness rulesData AnalystInformaticasap hanaOracle30+ Days Agosave\n",
      "Senior Data AnalystLaunch IT Consulting4.5(32 Reviews)5-10 YrsNot disclosedHyderabad/Secunderabad(WFH during Covid) A good understanding of DevOps pipelines and maintaining version control of code from d...Agile MethodologyPowerBIAzure Synapse AnalyticsDaxDevopsIT SkillsPythonTesting29 Days Agosave\n",
      "Everest Group - Senior Analyst - Data & AnalyticsEverest Group3.5(33 Reviews)2-4 YrsNot disclosedGurgaon/Gurugram, Bangalore/Bengaluru Bachelors degree MBA required (preferably from Tier-1 B-School) The candidate will be r...Data AnalyticsArtificial IntelligenceData ManagementResearchMicrosoft officeAnalytics30 Days Agosave\n",
      "\n"
     ]
    },
    {
     "name": "stderr",
     "output_type": "stream",
     "text": [
      "[WDM] - ====== WebDriver manager ======\n",
      "[WDM] - Current google-chrome version is 102.0.5005\n",
      "[WDM] - Get LATEST chromedriver version for 102.0.5005 google-chrome\n",
      "[WDM] - Driver [C:\\Users\\lenovo\\.wdm\\drivers\\chromedriver\\win32\\102.0.5005.61\\chromedriver.exe] found in cache\n"
     ]
    },
    {
     "name": "stdout",
     "output_type": "stream",
     "text": [
      "Senior Data AnalystXome4.2(104 Reviews)2-4 YrsNot disclosedChennai Must have good hands on experience on SQL/ T SQL, performance tuning, stored procedure ...Performance tuningDiversity and InclusionSSRSpower biData AnalystSSISBusiness intelligenceInformation technology30+ Days Agosave\n",
      "Data Analyst / Senior Data AnalystSTATXO3-8 YrsNot disclosedGurgaon/Gurugram Develop good visualization reports to communicate business insights from analysis and m...AlteryxPowerBIAzureTableauwritten communicationPowerPointDAXAdvanced Excel Macros30+ Days Agosave\n",
      "Senior Data AnalystVenator Holdings6-13 YrsNot disclosedHyderabad/Secunderabad Participate in Requirement Analysis discussions to understand and document data require...Data analysismetadataCloudData structuresDNBData AnalystManagementData architecture30+ Days Agosave\n",
      "senior Data AnalystSpectral Consultants5.0(4 Reviews)2-5 YrsNot disclosedPune Should have strong people management experienceShould have strong experience in regress...Logistic regressionData analysisFactor analysisAnalyticalConsultingManagement consultingTrend analysisBusiness advisory30+ Days Agosave\n",
      "Sr. Analyst, Data Analysis - GCCTransUnion4.4(109 Reviews)1-1 YrsNot disclosedPune Bachelors (4 year) degree in statistics, applied mathematics, financial mathematics, en...IT SkillsJavaPythonMachine LearningCloudProject ManagementBig DataData analysis30+ Days Agosave\n",
      "Sr. SQL Developer (data analyst)SAISYSTEMS TECHNOLOGY PRIVATE LIMITED4.3(4 Reviews)6-11 YrsNot disclosedPune(WFH during Covid) JD : Sr SQL Developer (Data Analyst)5+ years experience with SQL Server 2014/2016/20175...SSRSData AnalysisSQL ServerSSIST - SQLSQL queriesTroubleshootingSQL Server 2014 / 2016 / 201729 Days Agosave\n",
      "Senior Manager - Data Analystdentsu international3.1(8 Reviews)3-5 YrsNot disclosedMumbai Key responsibilities:Manages project tasks, timelines and deliverables; anticipate proj...Career developmentData AnalystManagement30+ Days Agosave\n",
      "Senior Data Engineering AnalystOptum4.2(1777 Reviews)2-7 YrsNot disclosedNoida Undergraduate degree or equivalent experience Streaming platform (Kafka preferred) 2+ y...KafkaPythonGCPAzureSparkDatabricksETL designAWS19 Days Agosave\n",
      "Data Analyst - FinTechPrimo Hiring1-2 YrsNot disclosedKolkata, Mumbai, Hyderabad/Secunderabad, Pune, Chennai, Bangalore/Bengaluru Knowledge of statistics and experience using statistical packages for analyzing dataset...Data AnalyticsConsulting - BFSIData ManagementData GovernanceStatisticsAnalyticsSQL25 Days Agosave\n",
      "Sr. BI Analyst - Data Engineeringcloudneeti4.1(100 Reviews)4-6 YrsNot disclosedMohali 5+ years of experience as a Data Engineer/BI Engineer 4+ experience in Python and SQL i...GITBI AnalystAccountingAnalyticalBillingForecastingData warehousingStatistics11 Days Agosave\n",
      "Senior Data Engineering AnalystOptum4.2(1777 Reviews)3-7 YrsNot disclosedHyderabad/Secunderabad Undergraduate degree or equivalent experienceSSISPL SQLETLSQL ServerSQLBig DataIT SkillsCloud12 Days Agosave\n",
      "Senior Data Engineering AnalystOptum4.2(1777 Reviews)4-9 YrsNot disclosedHyderabad/Secunderabad Undergraduate degree or equivalent experience Experience on Informatica Cloud, BigQuery...Informatica CloudBig DataBigQuerySQL QueriesPython PandasETLSQL ServerSQL13 Days Agosave\n",
      "Senior Data Engineering AnalystOptum4.2(1777 Reviews)1-3 YrsNot disclosedHyderabad/Secunderabad Undergraduate degree or equivalent experience 1 - 3 years of experienceData EngineeringSSMSSQLSSISStored procData Engineering AnalystTriggersStored procedure13 Days Agosave\n",
      "Sr Data Engineering AnalystOptum4.2(1777 Reviews)6-10 YrsNot disclosedNew Delhi Job Qualifications: 6+ years of total experience working on ETL or Technical Implementa...SQLExcelJavaScript.NetSSISPython19 Days Agosave\n",
      "Senior Data Engineering AnalystOptum4.2(1777 Reviews)2-7 YrsNot disclosedNoida Undergraduate degree or equivalent experience Streaming platform (Kafka preferred)2+ ye...ETL designPythonSparkAWSGCPKafkaAzureDatabricks19 Days Agosave\n",
      "Assistant Manager/Lead/Manager - Data Analyst - KPOHuquo Consulting Pvt. Ltd2-6 YrsNot disclosedGurgaon/Gurugram, Bangalore/Bengaluru Must have good technical experience in Pyspark, Scala, Hadoop, SQL, Python (cannot just...PysparkScalaHadoopData ManagementData ModelingData AnalyticsAnalyticsSQL21 Days Agosave\n",
      "Data Research Analyst (Morning Star)VIPSA TALENT SOLUTIONS PRIVATE LIMITED   0-2 Yrs2,00,000 - 3,00,000 PA.Navi Mumbai In this Manager Research, you will help shape the ways analysts can leverage our data t...ExcelData ResearchData Analysis6 Days Agosave\n",
      "Analyst - Data Science - Python/Machine Learning/AnalyticsHuquo Consulting Pvt. Ltd4-6 YrsNot disclosedGurgaon/Gurugram BTech, MTech or MCA degree from a reputed university Good power point presentation skil...Data ScienceStatistical ModelingData AnalyticsMachine LearningAnalyticsPythonSQL10 Days Agosave\n",
      "Data Entry AnalystDigi Verve Technologies Private Limited5.0(4 Reviews)0-2 YrsNot disclosedBengaluru Must have excellent working knowledge of R, Python MS Excel Proficient at manipulating ...MS ExcelPredictive modelingRMongoDBanalyticalPythonCustomer ProfilingIT Skills30+ Days Agosave\n",
      "Data Analyst - PythonVIAPROM Analytics2-3 YrsNot disclosedMumbai Should be excellent with Python language, sound knowledge of customer segmentation usin...PythonSQL queriescommunication skills14 Days Agosave\n",
      "\n"
     ]
    },
    {
     "name": "stderr",
     "output_type": "stream",
     "text": [
      "[WDM] - ====== WebDriver manager ======\n",
      "[WDM] - Current google-chrome version is 102.0.5005\n",
      "[WDM] - Get LATEST chromedriver version for 102.0.5005 google-chrome\n",
      "[WDM] - Driver [C:\\Users\\lenovo\\.wdm\\drivers\\chromedriver\\win32\\102.0.5005.61\\chromedriver.exe] found in cache\n"
     ]
    },
    {
     "name": "stdout",
     "output_type": "stream",
     "text": [
      "Data Analyst IDun & Bradstreet4.0(172 Reviews)1-4 YrsNot disclosedHyderabad/Secunderabad Key Requirements: Minimum bachelor s degree in computer science or related fieldLean / ...Computer scienceData analysismetadataCodingRDBMSAnalyticalAgileData structures30+ Days Agosave\n",
      "Data AnalystReliance Games3.1(10 Reviews)2-5 YrsNot disclosedPune Bachelor s Degree or MBA along with Data AnalyticalCritical Thinking: Data analysts mus...Communication SkillsRSocial MediaAnalytical SkillsData AnalysisData VisualizationData AnalystTableau30+ Days Agosave\n",
      "Data AnalystCyient3.7(2809 Reviews)2-3 YrsNot disclosedHyderabad/Secunderabad Experience using digital statistical modeling software - R, Revo R (Preferred), SAS Bas...MS SQLSASRDBMSXMLMySQLStored proceduresSSISData warehousing30+ Days Agosave\n",
      "Data Analyst 2PayPal4.3(324 Reviews)1-3 YrsNot disclosedChennai Bachelor s degree in Statistics, Mathematics, Computer Science, Economics, Engineering ...Computer scienceAnalyticalData AnalystRisk managementForecastingFinancial servicesMonitoringReporting tools30+ Days Agosave\n",
      "Data AnalystDella Group2.2(30 Reviews)2-6 YrsNot disclosedMumbai Bachelors degree in computer science, mathematics or economics degrees Proficient in Ad...Computer scienceEconomicsLead generationPDFWordpresspower biData AnalystAdvanced Excel30+ Days Agosave\n",
      "Data AnalystAgreeYa Solutions3.5(121 Reviews)3-11 YrsNot disclosedGurgaon/Gurugram Masters or bachelors degree in math, statistics, economics, computer science or analyti...analyticalSAS SQLSASSQLComputer scienceAnalytical skillsEconomicsData Analyst30+ Days Agosave\n",
      "Data AnalystDruva3.2(30 Reviews)3-6 YrsNot disclosedPune Experience defining requirements and using data and metrics to draw business insights B...IT SkillsTableauComputer scienceData analysisHP data protectorBusiness analysisBusiness analyticsAnalytical30+ Days Agosave\n",
      "PLM Data AnalystAgilent Technologies4.3(345 Reviews)8-11 YrsNot disclosedGurgaon/Gurugram, Manesar Post-graduate and / or certification/ license may be requiredBachelors or Masters Degre...PowerBI AccessExcelSpotfirePLMReport generationExecutiveDiagnosticsManager Technology30+ Days Agosave\n",
      "data analystDisha Consultants4.6(2 Reviews)4-8 YrsNot disclosedJaipur Required skills: Bachelors Degree in IT / Engineering 4 years of relevant work experien...AutomationtableauExcelSales operationsData AnalystManagementSQL scriptingAnalytics30+ Days Agosave\n",
      "Data Analyst IIDun & Bradstreet4.0(172 Reviews)6-8 YrsNot disclosedHyderabad As a Data Analyst within Dun & Bradstreet Enterprise Data Architecture team, you will b...Supply chainComputer scienceData analysismetadataInterpersonal skillsAnalyticalData structuresData Analyst30+ Days Agosave\n",
      "Developers Data AnalystAgreeYa3.5(121 Reviews)3-5 YrsNot disclosedNoida Role/Project Description Developers - Data Analyst Experience: 3-5 Years Job Location: ...Machine Learningsoftware development lifeWaterfallPL / SQLJOINData AnalysisCustomer Analyticscommunication30+ Days Agosave\n",
      "OFSAA-FSDF Data AnalystAgreeYa Solutions3.5(121 Reviews)4-7 YrsNot disclosedHyderabad Role/Project Description : The resource should be able to do data mapping and modelling...PLSQLData AnalystMOMdata mapping30+ Days Agosave\n",
      "Data AnalystUST Blueconch 3.8(141 Reviews)4-8 YrsNot disclosedPune(WFH during Covid) Linux or UNIX experience is preferred Experience working in a software / product develo...OracleETLSQLLinuxPostgreSQLC#MS SQLdata structure14 Days Agosave\n",
      "Data AnalystSHL4.1(33 Reviews)4-6 YrsNot disclosedGurgaon/Gurugram Job Title: Analyst, Improvement & Business IntelligenceReporting To: Continuous Improve...Excel VbaIT SkillsSoftware DevelopmentProject ManagementHTMLCSSJavascriptTableau13 Days Agosave\n",
      "Data AnalystP E Analytics  Ltd  4.0(40 Reviews)1-3 Yrs1,00,000 - 3,00,000 PA.New Delhi, Gurgaon/Gurugram, Delhi / NCR GraduateUnderstanding of requirements, responsibility and follow through with objective...excelSQLPython13 Days Agosave\n",
      "Data AnalystMONEYTOR2.8(2 Reviews)2-3 YrsNot disclosedMumbai(Colaba) Good understanding of advanced mathematics & statistics Skills RequiredpythonCommunicationWordPowerPointMLJiraanalyticsExcel12 Days Agosave\n",
      "Assistant Manager (Financial Data Analyst) (Night Shift)NIRVANA SOLUTIONS INDIA PRIVATE LIMITED3.7(33 Reviews)1-4 YrsNot disclosedGurgaon/Gurugram Job Title: Assistant Manager (Financial Data Analyst) (Night Shift)Experience - 2-5 Yea...relationship managementfund accountingmba financehedge fundsclient relationship15 Days Agosave\n",
      "Data AnalystUshta te Consultancy Services Llp4.3(9 Reviews)7-12 YrsNot disclosedGurgaon/Gurugram Ushta Te Consultancy is looking to hire a Data Analyst for a leading social media compa...HiveSQLPythonPower BiVBAAlteryxAdvanced ExcelTableau18 Days Agosave\n",
      "Data AnalystCROWN VETERINARY SERVICES PVT. LTD4.1(6 Reviews)3-5 Yrs5,50,000 - 7,50,000 PA.Mumbai(Nariman Point) Be a face to the stake holders for any requirement discussionsdata analysisAnalytical AbilityVBAAdvanced ExcelTableauPowerpoint19 Days Agosave\n",
      "Data Science AnalystDucima Analytics Private Limited4.9(58 Reviews)0-1 Yrs1,00,000 - 1,75,000 PA.Chennai We are currently hiring a Data Science Analyst to join our organaizationData ScienceIT SkillsMathematical ModelingData AnalysisR ProgramPython15 Days Agosave\n",
      "\n"
     ]
    },
    {
     "name": "stderr",
     "output_type": "stream",
     "text": [
      "[WDM] - ====== WebDriver manager ======\n",
      "[WDM] - Current google-chrome version is 102.0.5005\n",
      "[WDM] - Get LATEST chromedriver version for 102.0.5005 google-chrome\n",
      "[WDM] - Driver [C:\\Users\\lenovo\\.wdm\\drivers\\chromedriver\\win32\\102.0.5005.61\\chromedriver.exe] found in cache\n"
     ]
    },
    {
     "name": "stdout",
     "output_type": "stream",
     "text": [
      "Data Operations AnalystThird Bridge4.4(7 Reviews)2-6 YrsNot disclosedMumbai What we look for Excellent communication skills in English Excellent self-organisation ...Operations AnalystData managementProduct innovationProcess efficiencyManagement consultingMedical insuranceMS OfficePrivate equity12 Days Agosave\n",
      "JUNIOR BIG DATA ANALYST INSaffron Consultancy Services(scs)1-3 YrsNot disclosedBengaluru Proven expertise in high impact projects in Digital Analytics and good understanding of...Google AnalyticsWeb analyticsQuantitative researchMySQLData collectionData qualityOracleDigital marketing30+ Days Agosave\n",
      "Business Analyst -DataMichelin3.9(429 Reviews)1-4 YrsNot disclosedPune KEY EXPECTED ACHIEVEMENTS Within the DCAD central team (station A) or in the digital fa...IT SkillsProject ManagementBPOproject managementStationTranslationSoftware packagesBusiness Analyst30+ Days Agosave\n",
      "Data Scientist / AnalystUtsav Fashion3.4(71 Reviews)21 June - 24 June1,50,000 - 4,00,000 PA.Kolkata background in marketing analytics preferred ( FB, Google, criteo etc) knowledge of ML a...ML algorithmsdata scientistWALK-IN7 Days Agosave\n",
      "MIS executive - Data AnalystNippon Data Systems Ltd3.7(51 Reviews)5-10 YrsNot disclosedNew Delhi Works on Part Assignment, ECO, RoHS Information Processing Collection for all categorie...Excel spreadsheetData miningOracleSQL databaseIT SkillsMicrostrategyAutomationERP30+ Days Agosave\n",
      "Senior Analyst, Procurement Reporting(Power BI, VBA, Data Analytics)Northern Trust Corp.4.2(909 Reviews)3-5 YrsNot disclosedBangalore/Bengaluru A College or University degree in Business, Supply Chain Management or Finance and / or...ProcurementSupply chain managementAutomationBloombergSenior AnalystConsultingBusiness intelligenceOracle25 Days Agosave\n",
      "Senior Analyst-Data ManagementAccenture4.1(28676 Reviews)5-8 YrsNot disclosedHyderabad/Secunderabad Skill required: Data Management - AWS Architecture Designation: Senior Analyst Job Loca...Data analysisPublishingData managementConsultingAnalyticsArtificial IntelligenceClient relationshipDatabase management system29 Days Agosave\n",
      "Data Analyst (Immediate Joiners only)Choice Consultants  5-8 Yrs9,00,000 - 12,00,000 PA.Bangalore/Bengaluru(Sector 6 HSR Layout) 5+ Years of experience Ability to write complex performant SQL queries. Good understand...PandasNumpySQL queriesPythonIT Skillswrite complexdata analyst17 Days Agosave\n",
      "Data AnalystChangeleaders Consulting Private Limited3-5 Yrs5,00,000 - 13,00,000 PA.Hyderabad/Secunderabad, Chennai, Bangalore/Bengaluru Primary Skills: Postgre SQL, SQL, PLSQL, Oracle, Tuning, Unix Shell scripting or python...Postgre SQLUnix Shell scriptingpython scriptingDatabase modellingOraclePLSQLSQLStored Procedures19 Days Agosave\n",
      "Data Analyst / Data Source Engineer - SOQL/SOSLTalent Placers2-7 YrsNot disclosedBangalore/Bengaluru Demonstrated experience in handling large data sets and relational databases, preferabl...data cleansinghandling large dataData AnalyticsIT SkillsQuality AssuranceSalesforcemetadataExcel20 Days Agosave\n",
      "Data Analyst - CRM - Real Estate/HotelsThe Grand Group - HR Provider1-3 YrsNot disclosedGurgaon/Gurugram Have a strong understanding of CRM data planning and data query management in retail/ e...SASCRMSQLCRM AnalyticsData ManagementWeb AnalyticsData AnalyticsStatistics21 Days Agosave\n",
      "Job | Job Opportunity For Data Analyst -Gurgaon/Bangalore-C2HRANDSTAD INDIA PVT LTD  4-9 Yrs10,00,000 - 20,00,000 PA.Bangalore/Bengaluru, Delhi / NCR Expert in SQL (Sybase and Oracle), good to have: ETL, Tableau, and PythonExperience: 4+YrsOracleSybaseETLTableauPythonSQLSQL Queries27 Days Agosave\n",
      "Data AnalystCapital Placement Services1-6 YrsNot disclosedMumbai, Hyderabad/Secunderabad, Gurgaon/Gurugram, Bangalore/Bengaluru Experience in integrating Power BI reports into web applications using Power BI Service...Computer scienceData analysisPublishingExcelAnalyticalBusiness intelligenceDatabase Administratordigital transformation30+ Days Agosave\n",
      "Data AnalystNetlink3.5(16 Reviews)2-5 YrsNot disclosedBhopal, Pune, Chennai You must be able to understand not just the data, but the specific requirements of the ...SasData AnalysisDatabase DesignData MiningProcess ImprovementInformation ManagementData CollectionData Analyst30+ Days Agosave\n",
      "Data AnalystRelevance Lab Inc3.5(54 Reviews)5-10 YrsNot disclosedBangalore/Bengaluru Good to know the bitbucket or other version control system 5 - 7 years of proven workin...IT SkillsPythonStatistical programmingVersion controlBusiness Data AnalystXMLAnalyticalControl system30+ Days Agosave\n",
      "Data AnalystRWS Moravia3.8(66 Reviews)3-6 YrsNot disclosedIndore, Bangalore/Bengaluru, Mumbai (All Areas) Experience coordinating information requirements from across multiple systemsProven exp...SQL Server Reporting ServicesETL TechniquesData Analysis26 Days Agosave\n",
      "Data AnalystVEGA Intellisoft Private Limited4.2(18 Reviews)7-12 YrsNot disclosedBangalore/Bengaluru Skills : Position Overview: 7+ years of experience working as Data Analyst with extensi...IT SkillsProject ManagementTableauBPOproject managementBusiness objectsWealth managementDatabase design30+ Days Agosave\n",
      "Data AnalystData Semantics4.2(27 Reviews)5-10 YrsNot disclosedBangalore/Bengaluru Working experience on Python, R Programming, Scala, Apache Spark, AWS Redshift is mustB...IT SkillsPythonMachine LearningCloudProduct ManagementAWSTableauIT services30+ Days Agosave\n",
      "Power BI and Tableau Developer / Data analystLeading US MNC (analytics)3-8 Yrs8,00,000 - 18,00,000 PA.Gurgaon/Gurugram, Bangalore/Bengaluru, Delhi / NCR(WFH during Covid) Location : Gurgaon & Bangalore (Currently work from home) Analytics experience Power BI...power bidata analysisdaxTableauSQL30+ Days Agosave\n",
      "Data AnalystHotelHub4.6(12 Reviews)2-7 YrsNot disclosedPanaji/Panjim, Bangalore/Bengaluru Bachelor or Master degree in Science or Information Technology or Engineering domain fr...verbalwritten communicationsData MappingExcelSQLAgileData AnalysisUsage30+ Days Agosave\n",
      "\n"
     ]
    },
    {
     "name": "stderr",
     "output_type": "stream",
     "text": [
      "[WDM] - ====== WebDriver manager ======\n",
      "[WDM] - Current google-chrome version is 102.0.5005\n",
      "[WDM] - Get LATEST chromedriver version for 102.0.5005 google-chrome\n",
      "[WDM] - Driver [C:\\Users\\lenovo\\.wdm\\drivers\\chromedriver\\win32\\102.0.5005.61\\chromedriver.exe] found in cache\n"
     ]
    },
    {
     "name": "stdout",
     "output_type": "stream",
     "text": [
      "Lead Data AnalystBidgely Technologies Private Limited4.4(11 Reviews)5-10 YrsNot disclosedUnited States (USA), Bangalore/Bengaluru The Analytics and Insights Group (AIG) is part of the Data Science function and focuses...Data ScienceProject ManagementComputer ScienceData AnalystAb TestingMachine LearningStatisticsAnalytics30+ Days Agosave\n",
      "Data Protection Governance AnalystIG Infotech India4.1(35 Reviews)3-6 YrsNot disclosedBangalore/Bengaluru Experience working with external and internal audit teams and regulators Ability to wor...CismManager Internal AuditHP data protectorComplianceSenior AnalystAnalyticalInformation securityAgile7 Days Agosave\n",
      "Data Protection Governance AnalystIG Group4.2(9 Reviews)3-7 YrsNot disclosedBangalore/Bengaluru Experience working with external and internal audit teams and regulators Ability to wor...CismManager Internal AuditHP data protectorComplianceSenior AnalystAnalyticalInformation securityAgile7 Days Agosave\n",
      "Customer Growth Operations Data AnalystUshur3.7(3 Reviews)2-3 YrsNot disclosedBangalore/Bengaluru The Role: The Customer Growth team at Ushur is responsible for driving adoption and val...Process automationAnalytical skillsData analysisdata scienceSAASData Analystdata visualizationAnalytics21 Days Agosave\n",
      "Data Analyst - Data Mining | LululemonTALENT500 TECH (INDIA) PRIVATE LIMITED3.2(9 Reviews)5-8 YrsNot disclosedBangalore/Bengaluru Who we are? lululemon is a yoga-inspired technical apparel company up to big things. Th...Data MiningPython21 Days Agosave\n",
      "Lead Collections Data AnalystZeroFOX3.5(6 Reviews)1-4 YrsNot disclosedBangalore/Bengaluru As a Lead Collections Data Analyst at , you will join ZeroFox s Cyber Threat Intelligen...ArabicCyber SecurityJavascriptBig DataEnglish LanguagePythonThreat30+ Days Agosave\n",
      "Legal Data AnalystConsilio4.2(40 Reviews)1-5 YrsNot disclosedBangalore/Bengaluru Discovery Analytics certification such as Brainspace or Relativity Analytics preferredH...Document reviewStandard operating proceduresLegalFlexWorkflowData AnalystE-discoverySubject Matter Expert30+ Days Agosave\n",
      "Data AnalystWeGo5.0(2 Reviews)2-5 YrsNot disclosedBengaluru Tools we use (not absolutely necessary to have experience but familiarity with them a p...Cloud computingtableaugithubUsageStatistical analysisdata scienceData AnalystAnalytics30+ Days Agosave\n",
      "Data Analyst (Game Optimisation)KWALEE INDIA PRIVATE LIMITED2.3(4 Reviews)1-6 YrsNot disclosedBangalore/Bengaluru We firmly believe in creativity and innovation and that a fundamental requirement for a...pythondata analysisdata sciencesqlnosql27 Days Agosave\n",
      "Data analystGreytip Software3.8(52 Reviews)1-3 YrsNot disclosedBangalore/Bengaluru The ideal candidate should be highly skilled in all aspects of data analytics, includin...Computer scienceMiningStatistical programmingTechnical writingAnalyticalData AnalystData miningSQL28 Days Agosave\n",
      "Data AnalystIndium Software (India) Limited4.1(165 Reviews)1-6 YrsNot disclosedHyderabad/Secunderabad, Bangalore/Bengaluru(WFH during Covid) Should be an individual contributor for initial few months based on project movement te...pythonData VisualizationSQLIT Skillspowerbidata analyst13 Days Agosave\n",
      "Data AnalystTEKION4.1(44 Reviews)2-7 YrsNot disclosedBangalore/Bengaluru A drive to learn and master new technologies and techniques We re looking for someone w...Product DevelopmentRBusiness SolutionsAlgorithmsComputer ScienceBig DataData AnalystMachine Learning30+ Days Agosave\n",
      "Data AnalystNETRADYNE3.9(8 Reviews)1-4 YrsNot disclosedBangalore/Bengaluru Identify and formulate relevant metrics which will help to monitor not only business bu...Microsoft exceldata analyticsdevelopmentPythonSQLstatistical modellingcommunicationAWS30+ Days Agosave\n",
      "Data AnalystZ2Plus Placement & Security Agency Pvt. Ltd.2-5 YrsNot disclosedBangalore/Bengaluru Should be able to work in the areas of Business Excellence, Data Analytics, Statistical...Industry researchMarketing programsStatistical modelingSQL databaseData modelingmanagementBusiness excellenceData mining30+ Days Agosave\n",
      "Data AnalystRGF Professional Recruitment3.2(5 Reviews)4-8 YrsNot disclosedHyderabad/Secunderabad The data scientist/analyst will support DSS in the areas of advanced data analytics. Th...Power BiData ScientistHadoopData AnalysisData MiningData AnalystData AnalyticsStatistics30+ Days Agosave\n",
      "Data AnalystCoStrategix Technologies Pvt. Ltd.4.1(7 Reviews)5-10 YrsNot disclosedBengaluru Should be hands on writing complex queries Should have scripting knowledge on either Py...BPOdata analysisData validationAgilebusiness rulesData qualityData AnalystInformatica30+ Days Agosave\n",
      "Data Analystreferral2-5 YrsNot disclosedBangalore/Bengaluru Candidate should be proficient in SQL and should have basic understanding of R / Python...Supply chainProcess orientationConceptualizationMarket researchData Analystdata visualizationStakeholder managementMonitoring30+ Days Agosave\n",
      "Data AnalystBorderless Access4.2(34 Reviews)1-4 YrsNot disclosedBengaluru Create tabulation programs, data tables and other electronic outputs as required by ana...ExcelTechnical writingData AnalystSPSSResearchAnalyticsPython30+ Days Agosave\n",
      "Data AnalystMulti Recruit4.5(10 Reviews)2-4 YrsNot disclosedBangalore/Bengaluru Roles and Responsibility Bachelors degree in Computer Science, Engineering, Operations ...BpoBusiness IntelligenceCustomer ServiceExcelFinanceClient ServicingBusiness DevelopmentData Modeling30+ Days Agosave\n",
      "Data Analyst - ITXpheno3.0(34 Reviews)8-13 YrsNot disclosedBangalore/Bengaluru Bachelors Degree in computer science or equivalent Bachelor Degree or Equivalent Total ...Computer sciencePerformance tuningorchestrationPowershellData AnalystApacheAnalyticsSQL30+ Days Agosave\n",
      "\n"
     ]
    },
    {
     "name": "stderr",
     "output_type": "stream",
     "text": [
      "[WDM] - ====== WebDriver manager ======\n",
      "[WDM] - Current google-chrome version is 102.0.5005\n",
      "[WDM] - Get LATEST chromedriver version for 102.0.5005 google-chrome\n",
      "[WDM] - Driver [C:\\Users\\lenovo\\.wdm\\drivers\\chromedriver\\win32\\102.0.5005.61\\chromedriver.exe] found in cache\n"
     ]
    },
    {
     "name": "stdout",
     "output_type": "stream",
     "text": [
      "Lead Data AnalystMediaMath8-13 YrsNot disclosedBangalore/Bengaluru 8+ years of experience working at a start-up or tech company in an analytical role Expe...Predictive ModelingData ScienceDigital MediaData AnalysisStatistical ModelingData AnalystAnalyticsPython30+ Days Agosave\n",
      "Data Analyst , ProductMediaMath4-9 YrsNot disclosedBangalore/Bengaluru 4+ years of experience working at a start-up or tech company in an analytical role Expe...Data SciencePredictive ModelingDigital MediaData AnalysisStatistical ModelingData AnalystAnalyticsPython30+ Days Agosave\n",
      "Data Analyst/SQL - ImmediatePerficient4.3(117 Reviews)4-9 Yrs10,00,000 - 20,00,000 PA.Chennai, Bangalore/Bengaluru Location: Chennai, Bangalore & HyderabadNotice Period: ImmediateSkills required:5+ year...Data AnalysisData Modelingdata analystSQLcommunication21 Days Agosave\n",
      "Data Analyst - SaaS platformACI Group3-8 YrsNot disclosedUnited States (USA), Bangalore/Bengaluru Proficient in SQL for data analysis purposesExperience in the distribution industry is ...BPOcustomer servicedata analysistroubleshootingSAASWorkflowData ProcessorData Analyst30+ Days Agosave\n",
      "Data Analystinfoveave2-7 YrsNot disclosedBangalore/Bengaluru BE /B Tech / M Tech / MCA Candidate should have Good written and oral communication ski...VBAwrittenanalyticalAdvanced Exceloral communicationCommunication SkillsBusiness AnalystProblem Solving30+ Days Agosave\n",
      "Data AnalystSeven Consultancy (HR Solution)3-8 YrsNot disclosedChennai Assist the data scientist in development of new analytical tools and methods as and whe...Procurementdata sciencebig data analyticsAnalyticalData collectionbig data analystConsultancyManagement30+ Days Agosave\n",
      "Data AnalystSeven Consultancy (HR Solution)2-7 YrsNot disclosedMumbai Assist the data scientist in development of new analytical tools and methods as and whe...Procurementdata sciencebig data analyticsAnalyticalData collectionbig data analystConsultancyManagement30+ Days Agosave\n",
      "Data AnalystSeven Consultancy (HR Solution)1-3 YrsNot disclosedNew Delhi Assist the data scientist in development of new analytical tools and methods as and whe...Procurementdata sciencebig data analyticsAnalyticalData collectionbig data analystConsultancyManagement30+ Days Agosave\n",
      "Data AnalystSeven Consultancy (HR Solution)2-4 YrsNot disclosedNew Delhi Assist the data scientist in development of new analytical tools and methods as and whe...Procurementdata sciencebig data analyticsAnalyticalConsultingData collectionbig data analystManagement30+ Days Agosave\n",
      "Data Analyst, 2AllianceData4.3(37 Reviews)2-5 YrsNot disclosedBangalore/Bengaluru Bachelor s degree Bachelor s Degree (Required), Master s Degree Minimum Required Prefer...MicrostrategyComputer scienceCareer developmentSASBusiness analysisWellnessData miningFinancial services25 Days Agosave\n",
      "BI and Data Analyst (DOMO)Ignitho4-8 YrsNot disclosedChennai, Bangalore/Bengaluru Experienced working with technology or a related field, with experiences preferred in o...domodata analysisSQLPowerBITableaudata warehousesBIdata lakes25 Days Agosave\n",
      "Data AnalystUnocoin4.5(5 Reviews)2-6 YrsNot disclosedBangalore/Bengaluru Required Experience : Build Product Analytics and Marketing Analytics dashboards on the...Analytical skillsAutomationGoogle AnalyticsData modelingpower biweb crawlingData warehousingReporting tools30+ Days Agosave\n",
      "Data Analyst - Data Mining | LululemonTALENT500 TECH (INDIA) PRIVATE LIMITED3.2(9 Reviews)5-8 YrsNot disclosedBangalore/Bengaluru Who we are? lululemon is a yoga-inspired technical apparel company up to big things. Th...Data Mining26 Days Agosave\n",
      "Data AnalystAutomation Anywhere3.9(87 Reviews)4-6 YrsNot disclosedBangalore/Bengaluru Graduate degree (Engineering / Non-Engineering) from premier institutes with 4-6 years ...MiningProcess automationBackendData analysisAutomationSales operationsAnalyticalData Analyst30+ Days Agosave\n",
      "Data AnalystGlobals ITeS Pvt Ltd4.6(5 Reviews)3-5 YrsNot disclosedBangalore/Bengaluru Bachelor s degree from an accredited university or college in computer scienceExperienc...IT SkillsJavaPythonTableauPower BIComputer scienceStatistical programmingERP30+ Days Agosave\n",
      "Data AnalystGlobals Inc.3-5 YrsNot disclosedBangalore/Bengaluru Bachelor s degree from an accredited university or college in computer scienceExperienc...Computer scienceStatistical programmingERPDatabase designData collectionApplication developmentData miningOperations30+ Days Agosave\n",
      "Data AnalystThompsons HR Consulting2-7 YrsNot disclosedBangalore/Bengaluru Bachelor s degree in Information Systems, Business, or equivalent Programming experienc...XMLSSRSJavascriptASP.NetJSONData AnalystVisual StudioVisio30+ Days Agosave\n",
      "Data AnalystAARNA HR SOLUTIONS PVT. LTD.3-7 YrsNot disclosedBengaluru QlikView for dashboards and management reporting (preferred) Should be from Analytics/ ...reportsautomationbegood communication skillssql pl sqldata warehousingdashboardsdata analyst30+ Days Agosave\n",
      "Data AnalystDiverse Lynx3.0(67 Reviews)1-5 YrsNot disclosedBangalore/Bengaluru Experience in analyzing existing tools and databases and provide software solution reco...SQLassuranceIT SkillsQuality AssurancemetadataManager Quality AssuranceData AnalystManagement30+ Days Agosave\n",
      "Data Analyst I - Analytics ReportingSkill Lync3.8(84 Reviews)1-5 YrsNot disclosedBangalore/Bengaluru Proven experience with creating and maintaining Business /Operations daily performance ...Communication SkillsCustomer ExperienceWorkforce ManagementContact CenterData AnalystOperationsAnalyticsWfm30+ Days Agosave\n",
      "\n"
     ]
    },
    {
     "name": "stderr",
     "output_type": "stream",
     "text": [
      "[WDM] - ====== WebDriver manager ======\n",
      "[WDM] - Current google-chrome version is 102.0.5005\n",
      "[WDM] - Get LATEST chromedriver version for 102.0.5005 google-chrome\n",
      "[WDM] - Driver [C:\\Users\\lenovo\\.wdm\\drivers\\chromedriver\\win32\\102.0.5005.61\\chromedriver.exe] found in cache\n"
     ]
    },
    {
     "name": "stdout",
     "output_type": "stream",
     "text": [
      "SAS Data AnalystDiverse Lynx3.0(67 Reviews)2-6 YrsNot disclosedBengaluru Key skills: SAS Analyst SQL, Excel, Tableau, SQL ServerSQLExcelSAS AnalystSQL ServerTableauIT SkillsData Analyst30+ Days Agosave\n",
      "E commerce Data AnalystT & A Solutions1-4 YrsNot disclosedBangalore/Bengaluru Perform ad hoc analysis as required Knowledge of data analysis using large data sets pr...Computer scienceAnalytical skillsData analysisbusiness rulesE-commerceData AnalystAdvanced ExcelCustomer service30+ Days Agosave\n",
      "Data AnalystLKQ COPERATION3.6(23 Reviews)5-8 YrsNot disclosedBangalore/Bengaluru Job Description : Collects, analyzes and validates data in the enterprise data warehous...Business IntelligenceBiData AnalystReportingData Governance30+ Days Agosave\n",
      "Lead Data AnalystCASHFREE HOLIDAY PLANNERS6-9 YrsNot disclosedBangalore/Bengaluru 9 years of strong experience in SQL, BI tools and good analytical skills with Bachelors...Analytical skillsMediclaimAnalyticaldesign conceptualizationpower biE-commerceContinuous improvementCounselling30+ Days Agosave\n",
      "data analystEtomate Technology LLP2-7 YrsNot disclosedBengaluru Should score at least 8 out of Macros not a mustAge, Qualification, Experience: As long...ComRelationship ExecutiveExcelStarDatabaseData AnalystBusiness intelligenceMacros30+ Days Agosave\n",
      "Data AnalystLobotus Technology Private Limited4.0(9 Reviews)3-5 YrsNot disclosedBengaluru To achieve the target on daily basis or as when required To verify data from source doc...excelBuildingInternet surfingEnglish languageprocessTargetlevelVLOOKUP30+ Days Agosave\n",
      "Data AnalystPortcast1-3 YrsNot disclosedBangalore/Bengaluru as requiredCargoTradeMachine learningmarket dataData AnalystEntrepreneurLogistics30+ Days Agosave\n",
      "Product Data AnalystTarget4.4(342 Reviews)4-9 YrsNot disclosedBengaluru Target is an iconic brand , a Fortune 50 company and one of America s leading retailers...IT SkillsTestingProduct ManagementComputer scienceChange managementDatabase designTesting toolsData quality30+ Days Agosave\n",
      "Data AnalystRehoboth Academic Services3.6(2 Reviews)2-7 YrsNot disclosedBengaluru Experience in analysing quantitative and qualitative data using various statistical toolsExcelReport writingContent writingSEMData AnalystMS OfficeStatistics30+ Days Agosave\n",
      "Data Analyst RKHUSYS CONSULTING LIMITED4.1(23 Reviews)4-6 YrsNot disclosedBengaluru requiredTwo to Four years of work experience in fast paced environmentExperience workin...MIS reportingData analysisMS AccessStandardizationMacrosSQLData extractionComplex30+ Days Agosave\n",
      "Statistician/Data AnalystAuthenu2-7 YrsNot disclosedBengaluru Required Qualifications:.Doctorate (PhD) in Statistics from a recognized university Min...communicationUsageEmailData collectionData AnalystProblemSubject Matter ExpertResearch30+ Days Agosave\n",
      "Data AnalystNovoTree Minds Consulting Pvt. Ltd.3.6(7 Reviews)2-5 YrsNot disclosedBangalore/Bengaluru The ideal candidate will have a strong background in data analysis, including experienc...communicationSQLdata analysisIT SkillsProject ManagementBPOproject managementBusiness Intelligence Analyst30+ Days Agosave\n",
      "Data AnalystQ-DAT IT SOLUTIONS PVT. LTD.4.6(9 Reviews)2-5 YrsNot disclosedBengaluru Graduate in the analytical fields with strong academic credentials Excellent written an...verbal communicationadvance excelwrittenexcelMS OfficeAdvancedAnalyticalData Analyst30+ Days Agosave\n",
      "Clinical Data AnalystManipal Acunova Ltd.3.0(3 Reviews)3-8 YrsNot disclosedChennai, Bangalore/Bengaluru Leading a team and working independently from SAP with minimum guidance from the Biosta...Life SciencesBiostatisticianClinical ResearchSas MacrosEfficacyData AnalystClinical Development30+ Days Agosave\n",
      "Data AnalystFalcon Smart IT2-6 YrsNot disclosedBangalore/Bengaluru Write success stories and capture kaizens well versed in pptBPOdata analysisERPPublishingKaizenData AnalystAdvanced ExcelPowerpoint30+ Days Agosave\n",
      "Data Analyst - NLPRefinitiv4.2(165 Reviews)1-4 YrsNot disclosedBangalore/Bengaluru The data analyst should be ready to work in a dynamic environment and work in multi-tas...Test reportingStock exchangeFinanceHealthcareData AnalystNatural language processingAdvanced ExcelRecruitment30+ Days Agosave\n",
      "Data AnalystV-Align Technologies1-2 YrsNot disclosedBengaluru 4 Data Analyst Candidates with 1 to 2 years’ experience statistical data analysis. Grad...data analysisData AnalystStatistics30+ Days Agosave\n",
      "Sharepoint Developer ( Data Analyst )Jaguar Security Services Pvt Ltd4.4(122 Reviews)1-3 YrsNot disclosedBangalore/Bengaluru 1 to 3 years Experience in Share point online and MS365 apps, managing a share point si...TableauData WarehousingSQLAlteryxETL concepts27 Days Agosave\n",
      "Data AnalystTravel Centric Technology4.2(2 Reviews)2-7 YrsNot disclosedBangalore/Bengaluru 2 years relevant experience in Data Mapping Good knowledge in SQL and ExcelData AnalysisData Mappingwritten communicationsAgileExcelverbalSQLInterpersonal skills30+ Days Agosave\n",
      "Data AnalystT & A Solutions5-10 YrsNot disclosedBangalore/Bengaluru Managing and organizing work, developing individuals, and delegating day to day work an...Computer scienceMS SQLHelpdeskAnalyticalSSRSProgrammingData AnalystData quality30+ Days Agosave\n",
      "\n"
     ]
    },
    {
     "name": "stderr",
     "output_type": "stream",
     "text": [
      "[WDM] - ====== WebDriver manager ======\n",
      "[WDM] - Current google-chrome version is 102.0.5005\n",
      "[WDM] - Get LATEST chromedriver version for 102.0.5005 google-chrome\n",
      "[WDM] - Driver [C:\\Users\\lenovo\\.wdm\\drivers\\chromedriver\\win32\\102.0.5005.61\\chromedriver.exe] found in cache\n"
     ]
    },
    {
     "name": "stdout",
     "output_type": "stream",
     "text": [
      "Data AnalystsPrometheus Consulting3.4(3 Reviews)2-3 YrsNot disclosedBengaluru Try & Buy, Next Day Delivery, Alterations, Product Quality, Forward & Reverse Logistics...Supply chainProcess orientationBusiness analyticsAnalyticalConsultingMarket researchData AnalystCustomer experience30+ Days Agosave\n",
      "Data AnalystAARNA HR SOLUTIONS PVT. LTD.3-7 YrsNot disclosedBengaluru Job Description: About Position: Position: Data Analyst Experience: 3 to 7 years Qualif...AutomationRDBMSPLSQLData AnalystQlikViewMacrosBusiness ExecutiveAnalytics30+ Days Agosave\n",
      "Data AnalystGlance IT Solution1-4 YrsNot disclosedBangalore/Bengaluru Education: Bachelors or Masters in an analytical or technical fieldExperience in creati...ProcurementSupply chainMarket analysisData analysisAnalyticalData miningGamingAnalytics30+ Days Agosave\n",
      "Data AnalystGlassbeam, Inc1-3 YrsNot disclosedBengaluru Experience in formulating a query workflow from a data request Excellent written and ve...Data AnalysisData Analyst30+ Days Agosave\n",
      "Data AnalystEquifax Credit Information Services Pvt Ltd3.7(61 Reviews)4-5 YrsNot disclosedBangalore/Bengaluru Minimum 4-5 years experience in quantitative data analysis with the ability to interpre...unix linuxproject managementdata analysisanalyticalquantitativeproject management skillsmscsas programming30+ Days Agosave\n",
      "Python Developer - Data AnalystSkyislimit1-6 YrsNot disclosedErnakulam Interface and communicate with the onsite teams directly to understand the requirement ...IT SkillsPythonDevOpsCSSJavascriptTableauPower BIPython Developer30+ Days Agosave\n",
      "Data AnalystSierentz Global Merchants India Pvt Ltd7-12 YrsNot disclosedGurgaon/Gurugram Experience with databases, preferably PostgreSQLNo outsourcing to other companies (in-h...Python Data AnalyticsData Analysismachine learning26 Days Agosave\n",
      "Data AnalystFeathersoft Info Solutions Private Limited4.0(28 Reviews)1-4 YrsNot disclosedKochi/Cochin, Chennai Skills Required Hands on experience in Power BI / TableauGood command in oral and writtenTableauPower BIRSQLdata analyticswrittenPythonIT Skills30+ Days Agosave\n",
      "Data AnalystEnergyTech Ventures2-5 YrsNot disclosedKolkata Should be able to present data in charts, graphs, tables Should be able to prepare and ...Managed servicesExcelProcess improvementData collectionHTTPData analyticsData AnalystPowerpoint30+ Days Agosave\n",
      "Data AnalystJardine Lloyd Thompson4.0(340 Reviews)7-10 YrsNot disclosedMumbai, Pune We are looking for a driven, analytical minded data professional to join the CIS BI & A...Data analysisAutomationmetadataData managementAnalyticalAgileData qualityOpen source30+ Days Agosave\n",
      "Data AnalystFeathersoft Info Solutions Private Limited4.0(28 Reviews)1-4 YrsNot disclosedKochi/Cochin Hands on experience in Power BI / TableauGood command in oral and writtenPythondata analyticsPower BIwrittenTableauSQLRIT Skills30+ Days Agosave\n",
      "Master Data Management - Data AnalystHoffmann-La Roche2-5 YrsNot disclosedChennai Proficiency with one of the AWS development tools / products like AWS Glue, Amazon Reds...Computer scienceData analysisChange managementCodingPharmaAnalyticalSocial mediaInformatica30+ Days Agosave\n",
      "Data Analyst - Hive/Big DataAviation Indeed2.7(2 Reviews)2-5 YrsNot disclosedNoida Please note : Candidate who have 3+ years experience can only applySkill Required : Dat...Data ScienceHiveBig DataIT SkillsPythonMachine LearningCloudAWS21 Days Agosave\n",
      "Data Analyst (tableau/power B.I) consultantAnicalls4.7(2 Reviews)5-8 YrsNot disclosedChennai Must be able to manage multiple tasks in a fast-paced, dynamic work environment Experie...IT SkillsProject ManagementTableauBPOproject managementSASData managementCognos30+ Days Agosave\n",
      "Data AnalystVixplor Analytics3.8(2 Reviews)1-5 YrsNot disclosedKolkata Masters or PhD in Statistics, Mathematics, Computer Science, Information Technology or ...analyticalwritten communicationverbalComputer scienceData collectionPackagingData analyticsMathematics30+ Days Agosave\n",
      "Data AnalystUolo Edtech Private Limited 3.4(7 Reviews)2-6 YrsNot disclosedGurgaon/Gurugram Proficient in working with data engineers and investing in building right data infrastr...Data AnalyticsMarketing StrategyProduct AnalysisBusiness Analysis22 Days Agosave\n",
      "Urgently Opening For Data AnalystMerlin Projects Ltd4.0(27 Reviews)5-7 YrsNot disclosedKolkata Working experience should be minimum 5-7 yearsInformation Researchdata analysisAnalysisData Managementdata collectionSalesBusiness DevelopmentMarketing22 Days Agosave\n",
      "Manager - Recruitment & Data AnalystBusisol Sourcing India Pvt Ltd8-10 YrsNot disclosedBellary/Ballari This role is meant for someone who is an excellent multi-tasker and go-getter. We are l...information systemPayrollNetworkingLegal complianceTalent acquisitionStaffingHRISHR30+ Days Agosave\n",
      "Data Analyst - TechnologyVayaa Systems1-3 YrsNot disclosedHyderabad Strong knowledge of SQL (preferably MS SQL) and Excel is essentialExperience with Big D...MS SQLBig DataSQLvisualizationExcelHadoopTableauIT Skills30+ Days Agosave\n",
      "Data AnalystSeven Consultancy (HR Solution)3-8 YrsNot disclosedSurat Managing master data, including creation, updates, and deletion Managing users and user...Report generationOperations AnalystManager Quality AssuranceData managementData AnalystData miningTroubleshootingData warehousing30+ Days Agosave\n",
      "\n"
     ]
    },
    {
     "name": "stderr",
     "output_type": "stream",
     "text": [
      "[WDM] - ====== WebDriver manager ======\n",
      "[WDM] - Current google-chrome version is 102.0.5005\n",
      "[WDM] - Get LATEST chromedriver version for 102.0.5005 google-chrome\n",
      "[WDM] - Driver [C:\\Users\\lenovo\\.wdm\\drivers\\chromedriver\\win32\\102.0.5005.61\\chromedriver.exe] found in cache\n"
     ]
    },
    {
     "name": "stdout",
     "output_type": "stream",
     "text": [
      "Data AnalystLakshmi North East Solutions6-12 YrsNot disclosedGuwahati With 6 years of experience in similar assignments / projectsComputer scienceData analysisData validationData managementPrimary researchData AnalystBusiness intelligenceData mining30+ Days Agosave\n",
      "Data AnalystOportun Inc5.0(2 Reviews)1-3 YrsNot disclosedChennai We’re looking for an analytically minded and driven professional to join our Data Manag...Data analysisData managementMISIntellectual propertyRisk managementBusiness intelligenceData warehousingAnalytics29 Days Agosave\n",
      "Data AnalystOportun Inc5.0(2 Reviews)1-3 YrsNot disclosedChennai Bachelor s degree in computer science / data processing or equivalent Knowledge of fina...Computer scienceData analysisData managementMISReconciliationIntellectual propertyData processingRisk management29 Days Agosave\n",
      "Data AnalystBNYMellonInternationalOperations(India) PrivateLim    ited4.2(2399 Reviews)2-7 YrsNot disclosedPune Proven experience in problem solving, identifying new opportunities and making change h...Data Analyticsdata analysisPower BiAlteryxTableau30+ Days Agosave\n",
      "DATA ANALYSTKnowledge Excel3.4(8 Reviews)2-5 YrsNot disclosedDelhi, gaur Experience in data cleaning and data tabulation activities Experience in data processingTeam managementExcelData managementAnalyticalData processingData AnalystSPSSWinCross30+ Days Agosave\n",
      "Spend and Master Data AnalystPcura Consulting pvt ltd.3.0(3 Reviews)2-7 YrsNot disclosedMumbai Spend and Master Data Analyst Candidates having an experience of atleast 2 years in Sou...Master data managementE-sourcingData Analyst30+ Days Agosave\n",
      "Data Analyst- ProductBOLD Technology Systems4.3(65 Reviews)3-6 YrsNot disclosedNoida Experience in performing quantitative analysis, preferably for an internet or technolog...Google AnalyticsA/B TestingData AnalysisSQL ServerData AnalyticsIT SkillsPythonTableau26 Days Agosave\n",
      "Lead Data AnalystAdviserLogic2.1(2 Reviews)4-9 YrsNot disclosedMumbai Participate in other data and process related projects, like industry / market data col...IT SkillsPythonAutomationCorporate actionsData managementAnalyticalData collectionWorkflow30+ Days Agosave\n",
      "Data Analystikomet Technology Solutions Pvt. Ltd.5.0(2 Reviews)3-5 YrsNot disclosedChennai Demonstrated experience in design, develop and maintain BI reports, optimizing efficien...ExcelGCPdata reportingVLOOKUPdata privacyData analyticsData miningMacros30+ Days Agosave\n",
      "Data AnalystKline & Company3.8(12 Reviews)1-4 YrsNot disclosedHyderabad This technologist should have a minimum of two (2) years of experience working as a sub...Computer scienceExcelData managementBusiness analyticsConsultingData collectionMarket researchPLSQL30+ Days Agosave\n",
      "Data AnalystReubro4-6 YrsNot disclosedKochi, Cochin/ Kochi/ Ernakulam Should initiate and manage the data gathering and finding the problems and Data cleansi...IT SkillsData ScienceDBABig Datadata managementchaidstatistical techniquesdata mining30+ Days Agosave\n",
      "Data Analyst - Workforce Management PlanningTTEC4.1(676 Reviews)1-6 YrsNot disclosedAhmedabad 6 months or more data analysis experience Have a passion to solve work related puzzlesA...AnalystData analysisWorkforce managementStaffingTime managementProcess improvementWorkforce planningScheduling30+ Days Agosave\n",
      "Data Analyst - Workforce Management PlanningTTEC4.1(676 Reviews)1-6 YrsNot disclosedMumbai 6 months or more data analysis experience Have a passion to solve work related puzzlesA...AnalystData analysisWorkforce managementStaffingProcess improvementSMSSchedulingData Analyst30+ Days Agosave\n",
      "Data AnalystReubro4-6 YrsNot disclosedKochi Should initiate and manage the data gathering and finding the problems and Data cleansi...data managementchaidstatistical techniquesdata miningdocumentationsegmentationanalytical techniquesclustering30+ Days Agosave\n",
      "Data AnalystDiverse Lynx3.0(67 Reviews)1-5 YrsNot disclosedChennai Job Description Strong experience in working with Investment domain data and Data Manag...Master data managementData integrationData warehousingSQL queriesIT SkillsBig DataData AnalystInvestment banking30+ Days Agosave\n",
      "Data AnalystReubro4-6 YrsNot disclosedKochi Should initiate and manage the data gathering and finding the problems and Data cleansi...IT SkillsData ScienceDBABig Datadata managementchaidstatistical techniquesdata mining30+ Days Agosave\n",
      "Data Analyst HR Data Analytics - Opportunities STRING REAL ESTATE INFORMATION SERVICES3.7(79 Reviews)2-6 YrsNot disclosedMumbai This role will be responsible for working across two primary areas of focus, The first ...AutomationExcelHRISProcess improvementAnalyticalData collectionData qualitydata integrity30+ Days Agosave\n",
      "Data Privacy AnalystAxa XL3.7(179 Reviews)0-5 YrsNot disclosedSilokhera Gurgaon Experience in insurance industry preferredJunior data privacy counsel with a minimum of...Data Privacy Analyst15 Days Agosave\n",
      "Data Analyst & Business Analyst Fresher Experience Can ApplyFreelancer Varsha Abhijeet Kakde  0-2 YrsNot disclosedPune A Data Analyst interprets data and turns it into information which can offer ways to im...Data ScienceBusiness ConsultingData ManagementTableauBusiness Analysiscore and advance python programmingAlgorithmsPower Bi22 Days Agosave\n",
      "Data Analyst & Business Analyst FreshersFreelancer Varsha Abhijeet Kakde  0-2 Yrs2,75,000 - 5,50,000 PA.Pune A Data Analyst interprets data and turns it into information which can offer ways to im...Data ScienceAlgorithmsData Management And AnalysisBusiness AnalysisSQLBusiness Consultingcore and advance python programmingData Management28 Days Agosave\n",
      "\n"
     ]
    },
    {
     "name": "stderr",
     "output_type": "stream",
     "text": [
      "[WDM] - ====== WebDriver manager ======\n",
      "[WDM] - Current google-chrome version is 102.0.5005\n",
      "[WDM] - Get LATEST chromedriver version for 102.0.5005 google-chrome\n",
      "[WDM] - Driver [C:\\Users\\lenovo\\.wdm\\drivers\\chromedriver\\win32\\102.0.5005.61\\chromedriver.exe] found in cache\n"
     ]
    },
    {
     "name": "stdout",
     "output_type": "stream",
     "text": [
      "Data Warehousing Business analystNovoTree Minds Consulting Pvt. Ltd.4-9 YrsNot disclosedMumbai Willingness to Learn and understand the fundamentals of pharmaceutical domain such as i...Data WarehousingData WarehouseData Warehousing Business analystBusiness Intelligence ArchitectureEnterprise Data Warehousebusiness analysisbusiness intelligence11 Days Agosave\n",
      "Senior Data AnalystIdyllic Services Pvt Ltd7-12 YrsNot disclosedPune, Chennai, Gurgaon/Gurugram, Bangalore/Bengaluru Should have the skill to analyze data Banking Experience is a must Required Skills: Pyt...HadoopSQL queriesApache SparkLinux scriptUnixPySparkSQLPython30+ Days Agosave\n",
      "Senior Data Analyst - R/TableauJobs Accuracy5-7 YrsNot disclosedBangalore/Bengaluru Position : Sr Data AnalystReports To : Project ManagerHiring ManagerExperience : 5 - 7 ...Data AnalysisIT SkillsPythonTableauPower BIRDimensional ModelingData Analyst20 Days Agosave\n",
      "Senior Data Analyst - R/TableauJobs Accuracy5-7 YrsNot disclosedBangalore/Bengaluru Position : Sr Data AnalystReports To : Project ManagerHiring ManagerExperience : 5 - 7 ...TableauIT SkillsPythonPower BIRDimensional ModelingData AnalystQlikview20 Days Agosave\n",
      "Senior Data AnalystJobs Accuracy5-7 YrsNot disclosedBangalore/Bengaluru Reports To : Project Manager/Hiring ManagerWe are looking to hire Data Analyst on contr...SQLRPower BIDimensional ModelingData AnalystQlikviewData WarehousingTableau30+ Days Agosave\n",
      "Senior Data Analyst/BI DeveloperKARYA CONSULTANTS PRIVATE LIMITED8-11 YrsNot disclosedBangalore/Bengaluru Roles and Responsibilities As aSenior Data Analyst/BI Developerin Enquero’sData Analyti...AgileData AnalyticsIT SkillsTestingData Analysis30+ Days Agosave\n",
      "Senior Data AnalystCleint of Vision Unlimited2-7 Yrs4,00,000 - 6,50,000 PA.Mohali, Chandigarh High organizational skills and very detail-oriented: experience working with large data...Business AnalyticsData AnalysiskpoReportingData Analytics11 Days Agosave\n",
      "Data Entry AnalystOrcapod Consulting Services Private Limited2-3 YrsNot disclosedMumbai Functional Skills RequiredTechnical Skills Required Experience with data processing and...excelData Entry Analystpython18 Days Agosave\n",
      "Data Warehouse & ETL Test AnalystXpressBees4.1(970 Reviews)3-8 YrsNot disclosedPune, Bangalore/Bengaluru Must Have Skills : Data Warehouse & ETL Testing relevant work experience testing backen...Data WarehousingETL19 Days Agosave\n",
      "Data Engineer/Data AnalystMenerva Software1-5 YrsNot disclosedKochi Must Have: Expertise in Python, Java, SQL, the Apache Hadoop ecosystem and associated o...PythonSparkKafkaJavaHiveJavascriptApache HadoopAngularJS30+ Days Agosave\n",
      "Data AnalystEasy Trip Planners Pvt. Ltd4.4(330 Reviews)1-5 YrsNot disclosedNoida This exciting role offers opportunity to: Work directly with the sales and marketing te...Computer scienceData analysisExcelAnalyticalpower biAdvanced ExcelQlikViewMacros30+ Days Agosave\n",
      "Microsoft Power BI  Data AnalystEagle Information systems Pvt Ltd.4.1(38 Reviews)2-3 Yrs5,00,000 - 6,00,000 PA.Gurgaon/Gurugram Should be able to develop tabular and multidimensional models that are compatible with ...Power Bi DashboardsPower Bi Report ServerPower Bi ReportsData analystData Analysis Expressionspower bi desktop30+ Days Agosave\n",
      "Assistant Manager - Data Analyst (Risk)Manba Finance Ltd3.4(107 Reviews)2-7 YrsNot disclosedThane, Navi Mumbai, Mumbai (All Areas) clients credit history and should be able to come up with the solution to reduce risks ...data analysisnbfcFinancial Analysisadvanced excelRisk AnalysisBankingCredit Risk AnalysisBusiness Analysis30+ Days Agosave\n",
      "Data Analyst, Data EngineeringPEPSI FOODS PRIV LIMITED4.6(35 Reviews)1-4 YrsNot disclosedHyderabad/Secunderabad 1 years of strong Data Profiling experience ability to identify trends and anomalies in...Supply chainOperations managementData analysisDemand planningNetwork analysisNetwork optimizationWorkflowBusiness intelligence30+ Days Agosave\n",
      "DATA ANALYSTDCB3.9(1728 Reviews)2-5 YrsNot disclosedMumbai Responsbile for development of inhouse applications and customization of Core banking M...RelationshipData AnalystManagementCore banking30+ Days Agosave\n",
      "DATA ANALYSTDCB3.9(1728 Reviews)2-5 YrsNot disclosedNew Delhi Responsbile for development of inhouse applications and customization of Core banking M...RelationshipData AnalystManagementCore banking30+ Days Agosave\n",
      "Data AnalystSignify4.0(406 Reviews)3-5 YrsNot disclosedPune What you ll do Enrich product s technical and supply chain data on Ecommerce and Syndic...Supply chainCareer developmentData analysisSAP MMProduct life cycle managementWorkflowE-commerceData Analyst30+ Days Agosave\n",
      "Lead Data Management AnalystWells Fargo4.2(2987 Reviews)8-13 YrsNot disclosedBangalore/Bengaluru 8+ years of Data Management, Business Analysis, Analytics, Project Management experienc...Data ManagementIT SkillsTestingProject ManagementTableauBPOproject managementquality control development21 Days Agosave\n",
      "Analyst - Data AnalyticsMachintel3.5(31 Reviews)0-2 YrsNot disclosedPune GraduateExcelData AnalysisData AnalystData Analytics30+ Days Agosave\n",
      "Finance - Data AnalystIntas4.3(1944 Reviews)3-5 YrsNot disclosedAhmedabad Roles and Responsibilities Job Role and Key Responsibilities 1. Monthly report: Prepara...Financial StatementsB2B MISBudgeting And ForecastingPlanning And AnalysisLicensingCustomer collection30+ Days Agosave\n",
      "\n"
     ]
    },
    {
     "name": "stderr",
     "output_type": "stream",
     "text": [
      "[WDM] - ====== WebDriver manager ======\n",
      "[WDM] - Current google-chrome version is 102.0.5005\n",
      "[WDM] - Get LATEST chromedriver version for 102.0.5005 google-chrome\n",
      "[WDM] - Driver [C:\\Users\\lenovo\\.wdm\\drivers\\chromedriver\\win32\\102.0.5005.61\\chromedriver.exe] found in cache\n"
     ]
    },
    {
     "name": "stdout",
     "output_type": "stream",
     "text": [
      "GRA Data AnalystGSK4.3(1143 Reviews)4-9 YrsNot disclosedHyderabad/Secunderabad The primary purpose of this role is to support the Consumer Health Global Regulatory Af...ProcurementContent managementProject managementHealthcareClinical researchHTMLData qualityContinuous improvement30+ Days Agosave\n",
      "Junior Data Engineer / AnalystReval India Pvt. Ltd.0-2 YrsNot disclosedMumbai Gaining a good understanding of the Ion Analytics criteria in order to analyze and dete...IT SkillsPythonMachine LearningTableauSupply chainPublishingCodingFixed income30+ Days Agosave\n",
      "Junior Data Engineer / AnalystION3.6(7 Reviews)0-2 YrsNot disclosedMumbai Gaining a good understanding of the Ion Analytics criteria in order to analyze and dete...TableauPythonMS OfficeRSQLIT SkillsMachine LearningSupply chain30+ Days Agosave\n",
      "Junior Data Engineer / AnalystReval India Pvt. Ltd.0-2 YrsNot disclosedMumbai Gaining a good understanding of the Ion Analytics criteria in order to analyze and dete...TableauPythonMS OfficeRSQLSupply chainPublishingCoding30+ Days Agosave\n",
      "Data Analyst/MISLakshmi North East Solutions1-3 YrsNot disclosedGuwahati qualification - GraduationIndustry Front Office Executive Assistant Data Entry Work Exp...Process designFront Office ExecutiveMISLinguisticsMarket researchCommerceData AnalystCustomer service30+ Days Agosave\n",
      "Data Analyst  -  MIS ReportDiverse Lynx3.0(67 Reviews)8-10 YrsNot disclosedPune Job Description Accounting and Finance person having excellent knowledge in MIS Reporti...MIS reportingAccountingData Analyst30+ Days Agosave\n",
      "MIS & Data AnalystsInnovative IT Initiatives3-8 YrsNot disclosedMohali A bachelors or master s degree in B Com / MBA / BBA along with 2 3 years of work experi...Process automationReport generationMS AccessMISData collectiondata visualizationContinuous improvementInformation technology30+ Days Agosave\n",
      "Business Data Lead AnalystAnicalls4.7(2 Reviews)5-10 YrsNot disclosedBangalore/Bengaluru The candidate should be able to Writing/designing analytical reports with Tableau, Exce...IT SkillsPythonTestingData ScienceCloudAWSTableauTicketing30+ Days Agosave\n",
      "Lead Business Analyst - Data ScienceTEKION4.1(44 Reviews)2-6 YrsNot disclosedBangalore/Bengaluru Bachelors degree in Business, Engineering, Statistics, Computer Science, Mathematics or...IT SkillsPythonTestingData ScienceProject ManagementTableauPower BIBusiness Analyst30+ Days Agosave\n",
      "Business/Data/Product/Analyst - Analytics - eCommerce - IIT/NIT/BITSTalentStack1-3 YrsNot disclosedBangalore/Bengaluru Education - Tier-1 college mandatory- IIT, NIT-South(Surathkal / Warangal/Calicut / Rou...AnalyticsData ManagementData AnalyticsBusiness AnalysisSQLPython30+ Days Agosave\n",
      "Business Analyst - DataShell4.3(1088 Reviews)3-6 YrsNot disclosedBangalore/Bengaluru Proficient in Data analysis8 yrs of experience with proficiency in Data analysisExpert ...Data analysisMS AzureData LakesSite OperationWet Stock BusinessNFRLoyalty25 Days Agosave\n",
      "Senior Analyst, Data Quality Analytics (I6)Dell International Services IndiaPrivate Limited2-7 YrsNot disclosedBangalore/Bengaluru Essential Requirements Experience in business process measurement and change Experience...PowerBIIT SkillsData ScienceProject ManagementBig DataTableauBPOproject management29 Days Agosave\n",
      "Senior Data Engineering Analyst - ETLDun & Bradstreet4.0(172 Reviews)4-6 YrsNot disclosedChennai, Bangalore/Bengaluru(WFH during Covid) 4+ years experience as Data Engineer / Analyst role expertise in Talend, Airflow, Redsh...Snowflake / RedshiftSparkTalenddata engineeringsqldata analyticsairflowOracle30+ Days Agosave\n",
      "Data Preparation Analyst / Sr . AnalystXpheno3.0(34 Reviews)6-11 YrsNot disclosedGurgaon/Gurugram, Bangalore/Bengaluru Bachelors degree in Computer Science or related technical field Relevant working experi...Supply chainComputer sciencebusiness intelligence reportingCloud computingcustomer analyticsData managementGCPMySQL30+ Days Agosave\n",
      "Data Analyst - Online/eCommercePrimo Hiring3-6 YrsNot disclosedKolkata, Chennai, Bangalore/Bengaluru, Delhi / NCR SKILLS REQUIRED : - Previous experience in data analysis Knowledge of statistics and ex...Data AnalyticsSASData MiningStatisticsAnalytics25 Days Agosave\n",
      "Manager - Data AnalystHuquo Consulting Pvt. Ltd4-9 YrsNot disclosedGurgaon/Gurugram, Bangalore/Bengaluru, Delhi / NCR Data analysis or rigorous problem solving experience Experience working with large and ...ExcelSQLPythonData analysisanalyticalIT SkillsData AnalystData Analytics20 Days Agosave\n",
      "Manager - Data AnalystHuquo Consulting Pvt. Ltd4-8 YrsNot disclosedGurgaon/Gurugram, Bangalore/Bengaluru, Delhi / NCR Data analysis or rigorous problem solving experience Must haves : - Strong SQL and Exce...PythonanalyticalData analysisSQLExcelIT SkillsData Analyticsfinancial modeling21 Days Agosave\n",
      "Manager - Data Analyst - KPOHuquo Consulting Pvt. Ltd3-8 YrsNot disclosedGurgaon/Gurugram, Bangalore/Bengaluru Develop and maintain an integrated, subject-oriented, predominantly conceptual and logi...Code WritingMicrosoft ExcelSQLData mappingData AnalystData CollectionData ModelingData Analytics28 Days Agosave\n",
      "Manager - Data Analyst - KPOHuquo Consulting Pvt. Ltd2-7 YrsNot disclosedGurgaon/Gurugram, Bangalore/Bengaluru, Bangalore/Gurgaon/Gurugram Develop and maintain an integrated, subject-oriented, predominantly conceptual and logi...Data AnalyticsData ModellingExcelData CollectionData ModelingReportingAnalyticsSQL28 Days Agosave\n",
      "Data Analyst -For a Banking companyOntrack HR services Pvt Ltd  2-7 Yrs6,00,000 - 16,00,000 PA.Bangalore/Bengaluru Roles and Responsibilities The Data Intelligence & Analytics Analyst must demonstrate c...Data Analystdata intelligencedata analysisData ScientistHadoopSanctionData AnalyticsFinancial crime30+ Days Agosave\n",
      "\n"
     ]
    },
    {
     "name": "stderr",
     "output_type": "stream",
     "text": [
      "[WDM] - ====== WebDriver manager ======\n",
      "[WDM] - Current google-chrome version is 102.0.5005\n",
      "[WDM] - Get LATEST chromedriver version for 102.0.5005 google-chrome\n",
      "[WDM] - Driver [C:\\Users\\lenovo\\.wdm\\drivers\\chromedriver\\win32\\102.0.5005.61\\chromedriver.exe] found in cache\n"
     ]
    },
    {
     "name": "stdout",
     "output_type": "stream",
     "text": [
      "Data Analyst - SQL/PythonTalentStack2-5 YrsNot disclosedBangalore/Bengaluru Talk to industry experts and leaders to understand industry requirement and incorporate...SQLPythonanalyticalData MiningData AnalystData Analytics20 Days Agosave\n",
      "Data Analyst/Product Analyst - Tableau/PythonBenchire3-6 YrsNot disclosedBangalore/Bengaluru The ideal Candidate : - B Tech Graduate from good institutes, experience in product ana...Product AnalystData AnalystData Analyticsanalyticaldata analysisRRoot cause analysisStatistical Analysis30+ Days Agosave\n",
      "Data Analyst - MySQLTalentStack2-7 YrsNot disclosedBangalore/Bengaluru Create engaging learning activities to increase learning experience of the students Dev...MySQLData analyticsanalyticsExcelData Analystproject planning21 Days Agosave\n",
      "Data Analyst - MySQLTalentStack2-7 YrsNot disclosedBangalore/Bengaluru Create engaging learning activities to increase learning experience of the students Dev...MySQLData analyticsExcelData Analystproject planning20 Days Agosave\n",
      "Assistant Manager - Data AnalystHuquo Consulting Pvt. Ltd3-6 YrsNot disclosedBangalore/Bengaluru Develop and maintain an integrated, subject-oriented, predominantly conceptual and logi...Data AnalyticsData ModelingAnalyticsSQL29 Days Agosave\n",
      "Data Analyst - Alteryx - Banking domain - BangaloreIndihire HR Consultants Private Limited4-9 Yrs15,00,000 - 22,50,000 PA.Bangalore/Bengaluru Engage business stakeholder to understand the key data points required for the schema m...data analyticsAlteryxData Analysis30+ Days Agosave\n",
      "Manager - Data Analyst - KPOHuquo Consulting Pvt. Ltd5-9 YrsNot disclosedBangalore/Bengaluru Develop and maintain an integrated, subject-oriented, predominantly conceptual and logi...Data ModellingMicrosoft ExcelSQLData AnalystData AnalyticsAnalytics28 Days Agosave\n",
      "Assistant Manager / Lead / Manager - Data Analyst - KPOHuquo Consulting Pvt. Ltd2-6 YrsNot disclosedGurgaon/Gurugram, Bangalore/Bengaluru - Must have good technical experience in Pyspark, Scala, Hadoop, SQL, Python (cannot ju...PysparkScalaHadoopData ManagementData ModelingSQLPython28 Days Agosave\n",
      "Data AnalystHuquo Consulting Pvt. Ltd10-15 YrsNot disclosedGurgaon/Gurugram Candidate Profile: - Bachelors / Masters degree in Economics, Statistics, Mathematics, ...Data AnalyticsConsulting - BFSISASData ManagementStatisticsAnalytics29 Days Agosave\n",
      "Junior Data AnalystChecktronix India Pvt. Ltd.4.2(20 Reviews)2-4 YrsNot disclosedChennai Graduates / Post Graduates or Freshers from any streamExcept ME, M Tech, MBA)Good to HavePythonMySQLData AnalysisData ManipulationSnowflakewrittenBig Data Data ModelingIT Skills30+ Days Agosave\n",
      "Business Analyst/Senior Business Analyst - Data Analytics- BFSI DomainHuquo Consulting Pvt. Ltd2-5 YrsNot disclosedGurgaon/Gurugram, Delhi / NCR, Bangalore/Bengaluru Desired Experience :- 2-5 years of total experience of Data Analytics / Data Insights G...SASData Insights GenerationData ManagementData AnalyticsAnalytics28 Days Agosave\n",
      "Senior Business Analyst- Data Analytics/Data Insights Generation- BFSIHuquo Consulting Pvt. Ltd4-6 YrsNot disclosedDelhi / NCR Good communication / problem solving / analytical bent of mind Experience in credit car...SASData Insights GenerationData AnalyticsStatisticsAnalytics28 Days Agosave\n",
      "Lead Business Funtional Analyst - Data GovernanceDeutsche Bank4.2(1799 Reviews)4-8 YrsNot disclosedPune Understand the requirement of the group functions risk, finance, treasury, and regulato...Data managementDiversity and Inclusiondata governanceGermanProject planningData qualityHTMLTraining and Development30+ Days Agosave\n",
      "Senior Analyst - Data ScienceTiger Analytics India LLP    4.1(79 Reviews)1-6 YrsNot disclosedChennai(WFH during Covid) B Tech from Tier-1 college / MS or M Tech is preferred Proficient in a structured progr...PythonwrittenRverbal communicationIT SkillsData ScienceMachine LearningArtificial Intelligence21 Days Agosave\n",
      "Senior Data Science AnalystOtis4.2(455 Reviews)3-7 YrsNot disclosedHyderabad, Ahmedabad, Bengaluru Education: Bachelors or Masters in Engineering, data science, statistics, applied math ...data scienceMachine learningMarketing operationspower bidata mappingdata visualizationIndividual ContributorForecasting30+ Days Agosave\n",
      "Senior Analyst- Loyalty Data AnalyticsUnited Airlines4.5(16 Reviews)3-7 YrsNot disclosedGurgaon/Gurugram Prior experience in loyalty and marketing domainsThe Marketing department works to ensu...Campaign AnalyticsData Analysissql30+ Days Agosave\n",
      "Data Gov. & Stewardship Sr AnalystPEPSI FOODS PRIV LIMITED4.6(35 Reviews)1-5 YrsNot disclosedHyderabad/Secunderabad 2 years of strong Data Profiling experience ability to identify trends and anomalies in...Business processSupply chainData analysisBusiness transformationDemand planningData managementData collectionWorkflow25 Days Agosave\n",
      "Senior Data Science AnalystOtis4.2(455 Reviews)1-3 YrsNot disclosedBangalore/Bengaluru Bachelors or Masters in Engineering, data science, statistics, applied math or other re...TrainingAnalystSalesdata scienceMachine learningMarketing operationsIndividual ContributorForecasting30+ Days Agosave\n",
      "Web Analytics Data Insights Analyst / Sr. AnalystAbsolutData Research Analytics Solutions Pvt. Lt3.2(54 Reviews)4-8 YrsNot disclosedNew Delhi We are looking for a dynamic, detail oriented and versatile Web Analyst with strong bus...Data ScienceStatistical ModelingData MiningData VisualizationWeb AnalyticsTableauMachine LearningAdobe Analytics30+ Days Agosave\n",
      "Sr. Analyst Manufacturing Data Analytics-IndiaKennametal3.9(196 Reviews)5-8 YrsNot disclosedBangalore/Bengaluru graduate degree preferred) from an accredited college / university in Computer Science,...ERPSAPAerospaceNeural networksMachine learningData collectionData qualityData analytics30+ Days Agosave\n",
      "\n"
     ]
    },
    {
     "name": "stderr",
     "output_type": "stream",
     "text": [
      "[WDM] - ====== WebDriver manager ======\n",
      "[WDM] - Current google-chrome version is 102.0.5005\n",
      "[WDM] - Get LATEST chromedriver version for 102.0.5005 google-chrome\n",
      "[WDM] - Driver [C:\\Users\\lenovo\\.wdm\\drivers\\chromedriver\\win32\\102.0.5005.61\\chromedriver.exe] found in cache\n"
     ]
    },
    {
     "name": "stdout",
     "output_type": "stream",
     "text": [
      "Opening For Data AnalystSixsigma Softsolutions Private Limited 3-5 Yrs2,00,000 - 6,00,000 PA.Chennai Dear Candidates, Openings for \" Data Analyst \" - Chennai location. Educational qualific...data modellingSQLTableau12 Days Agosave\n",
      "Hiring For Data Analyst\n",
      "Sixsigma Softsolutions Private Limited 3-6 Yrs1,00,000 - 3,00,000 PA.Kochi/Cochin, Chennai Dear Candidates, Openings for Data Analyst for chennai/Kochi location. Experience: 3 - ...Data Analyst12 Days Agosave\n",
      "Data AnalystAllegis Services India Pvt. Ltd.      4-7 YrsNot disclosedHyderabad/Secunderabad 4+ years experience in Advance Excel Good experience in automating the regular tasks us...ExcelData AnalysisStakeholders ManagementQlik senseSQLPivot TablePowerBIUser Stories30+ Days Agosave\n",
      "Opening For Data AnalystSixsigma Softsolutions Private Limited 4-6 Yrs1,00,000 - 5,00,000 PA.Kochi/Cochin, Hyderabad/Secunderabad, Chennai Proper documents is mustData Analysis13 Days Agosave\n",
      "Opening For Data AnalystSixsigma Softsolutions Private Limited 4-6 Yrs1,00,000 - 5,00,000 PA.Kochi/Cochin, Hyderabad/Secunderabad, Chennai Dear Candidates, Openings for \" Data Analyst \" - Chennai location. Educational qualific...Mobile Testing13 Days Agosave\n",
      "Data AnalystDecisionTree Analytics and Services Private Limited4.8(10 Reviews)1-3 YrsNot disclosedGurgaon Job Responsibilities: Work as a member of the project team on analytics projects. Well-...quantitative analysisMicrosoft Exceldata miningModellingwritten communicationtrend analysisMySQLMS SQL30+ Days Agosave\n",
      "Data AnalystSkill Lync3.8(84 Reviews)1-6 Yrs3,50,000 - 6,00,000 PA.Chennai Proven experience with creating and maintaining Business /Operations daily performance ...dashboardsdata analysisData MiningAdvanced ExcelTableauroot cause analysisPythonSQL26 Days Agosave\n",
      "Data AnalystLending Tree Research Services LLP  5.0(2 Reviews)1-6 YrsNot disclosedRemote Strong in Data analytics: The candidate should be proficient in SQL and ExcelPreferred ...data insightdata analysisanalyticsRExceldataScientistData Analyst27 Days Agosave\n",
      "Data AnalystBigTapp Analytics Pte Ltd4.4(6 Reviews)5-10 YrsNot disclosedChennai Education: Bachelor s Degree in Computer Science, Mathematics, Information Systems, or ...IT SkillsPythonData ScienceCloudComputer scienceMarketing analyticsBusiness analyticsAnalytical30+ Days Agosave\n",
      "Data AnalystOliver Inhouse India Private Limited 5.0(2 Reviews)3-8 Yrs15,00,000 - 22,50,000 PA.Gurgaon/Gurugram Job Title: Data Analyst / Data ScientistLocation: Gurgaon, IndiaA LITTLE BIT ABOUT THE ...Data AnalysisPythonSQLData Extraction30+ Days Agosave\n",
      "Data AnalystCapital Placement Services2-4 YrsNot disclosedNew Delhi, Hyderabad/Secunderabad, Gurgaon/Gurugram Degree in Computer Science, Mathematics, Statistics, or other related technical fields ...Computer scienceData analysisExcelBusiness AnalystAnalyticalMarket researchmicrosoft azuredigital transformation30+ Days Agosave\n",
      "Data AnalystContinuum Global3.6(13 Reviews)2-4 YrsNot disclosedGurgaon/Gurugram Experience in handling large to very large data sets 10 GB or more, with 50 plus variab...Data SciencePredictive ModelingData ScientistHadoopBig DataData AnalystTableauSpark30+ Days Agosave\n",
      "Data AnalystUPSCALIO 3-5 YrsNot disclosedGurgaon/Gurugram We are looking to hire analytics expert who will work on everything data with the suppl...Computer scienceData analysisSupply chain managementMachine learningData collectionconsumer goodsAnalyticsCRM30+ Days Agosave\n",
      "Data Analyst - Financial DivisionsARDEM Data Services Private Limited3.7(38 Reviews)1-4 YrsNot disclosedLucknow You should be willing to work in any of our daily three shifts for our customers You sh...Application DevelopmentExcelTyping SpeedAccountingExpensesMs OfficeData AnalysisPayments30+ Days Agosave\n",
      "Data AnalystSeven Consultancy (HR Solution)1-3 YrsNot disclosedHyderabad/Secunderabad We are looking for a passionate certified Data Analyst. The successful candidate will t...Data analysisSASProcess improvementXMLJavascriptData collectionSPSSData mining30+ Days Agosave\n",
      "Data AnalystSeven Consultancy (HR Solution)3-8 YrsNot disclosedChennai Assist the data scientist in development of new analytical tools and methods as and whe...ProcurementAnalyticalData collectionDatabasebig data analystManagementResearchData mining30+ Days Agosave\n",
      "Data Analystdoubledutch1-3 YrsNot disclosedGurgaon/Gurugram Proven working experience in data analysisIT SkillsPower BIService deliveryHospitalityData analysisCodingEvent managementCloud30+ Days Agosave\n",
      "Financial Data AnalystHeartface2-7 YrsNot disclosedMumbai About the Data Analyst position.We are looking for a certified Data Analyst who will he...IT SkillsJavascriptBusiness objectsSASProcess improvementXMLData collectionManager Quality Control30+ Days Agosave\n",
      "Data AnalystGainsight4.5(32 Reviews)2-4 YrsNot disclosedHyderabad/Secunderabad Knowledge of statistics and experience using statistical packages for analyzing dataset...ETLanalyticalPower BITableauExcelIT SkillsVistaComputer science30+ Days Agosave\n",
      "FP & A Data AnalystL.E.K. Consulting3.5(7 Reviews)5-8 YrsNot disclosedMumbai Previous experience in a professional services environment, with experience at a consul...Business objectsSAPDatabase designProcess improvementConsultingManagement consultingData collectionData mining30+ Days Agosave\n",
      "\n"
     ]
    },
    {
     "name": "stderr",
     "output_type": "stream",
     "text": [
      "[WDM] - ====== WebDriver manager ======\n",
      "[WDM] - Current google-chrome version is 102.0.5005\n",
      "[WDM] - Get LATEST chromedriver version for 102.0.5005 google-chrome\n",
      "[WDM] - Driver [C:\\Users\\lenovo\\.wdm\\drivers\\chromedriver\\win32\\102.0.5005.61\\chromedriver.exe] found in cache\n"
     ]
    },
    {
     "name": "stdout",
     "output_type": "stream",
     "text": [
      "Jr Data Analystmycitybhopal2-3 YrsNot disclosedBhopal Job description Qualification: Any Graduate (or equivalent) - Math/CS would be added ad...ExcelJunior Data Analyst30+ Days Agosave\n",
      "Data AnalystAugmenterBizConsulting2-5 YrsNot disclosedMumbai Requirements Proven working experience as a business data analystMinimum 2 to 5 years o...Computer scienceUsageDatabase designBusiness Data AnalystProcess improvementConsultingData collectionData mining30+ Days Agosave\n",
      "Digital Data Analyst | Hyderabad/ Vadodara/ WFHDarshan Soft-Tech Pvt. Ltd4.0(29 Reviews)3-6 Yrs3,00,000 - 8,00,000 PA.Hyderabad/Secunderabad, Vadodara Ability to work from home or from our officesGoogle Analytics Advanced Certification ad...google data studiogoogle analyticscommunication skillsdata analysisBigqueryAdvanced Excelanalytical skills21 Days Agosave\n",
      "Data AnalystRight Step Consulting2-5 YrsNot disclosedGurgaon Brief Role : Job Description We are looking for a Data Analyst who will be responsible ...BPOERPData analysisBusiness AnalystData collectionSystem designData AnalystData quality30+ Days Agosave\n",
      "Data AnalystEnvision Webier Technologies India Pvt. Ltd2-7 YrsNot disclosedNoida, Ghaziabad Must have excellent working knowledge of R, Python MS Excel Proficient at manipulating ...MS ExcelPredictive modelingRMongoDBanalyticalPythonCustomer ProfilingIT Skills30+ Days Agosave\n",
      "Hiring-Associate Data Analyst/Data Analyst(Experience on Quantum must)Toluna India Pvt Ltd3.9(78 Reviews)2-6 Yrs3,00,000 - 6,00,000 PA.Gurgaon/Gurugram, Delhi / NCR The shift will be decided post selections and depending upon the teamFlexible to work i...data processingdata tabulationdata analysiswincrossdata validationData CleansingquantumSPSS28 Days Agosave\n",
      "Data AnalystDropthought8-10 YrsNot disclosedChennai An independent thinker able to execute on tasks with a minimum amount of direction and ...Tibco Spotfiredata visualizationETL frameworksMicrosoft ExcelExcelSQLdata mininganalytical30+ Days Agosave\n",
      "Data AnalystLakshmi North East Solutions2-7 YrsNot disclosedGuwahati Graduate Experience -Secondary DataTallyComputer OperatorCommerceData CollectionData AnalystMs ExcelInterpreting Data30+ Days Agosave\n",
      "Data Analyst-Tableau Power BIAutomotive Robotics India Pvt. Ltd.4.0(89 Reviews)2-5 YrsNot disclosedChennai Bachelors degree in Engineering or equivalent is a must Required skills Education Requi...Condition monitoringtableauAnalyticalProgrammingpower biData AnalystBusiness intelligencebig data30+ Days Agosave\n",
      "Operations Data Analyst - Pune IndiaPRECISIONxtract1-2 YrsNot disclosedPune 2 years experience (relevant internships will be considered) Bachelor s degree required...Computer scienceAutomationManager Quality AssuranceConflict resolutionbusiness rulesLegal documentationOperationsSecondary research22 Days Agosave\n",
      "Data AnalystVeeva Systems4.5(8 Reviews)3-6 YrsNot disclosedMumbai What Youll Do Understand how to translate high-level design/requirements or Proof of Co...SANAutomationData analysisLinuxMySQLAgileHTMLOracle30+ Days Agosave\n",
      "Data AnalystHitwicket1-2 YrsNot disclosedHyderabad Preference for working without a handbook, with a love for doing what s never been done...Analytical skillsData analysisDatabase designDesign developmentPerformance analysisData miningGamingMonitoring30+ Days Agosave\n",
      "Data Analyst - Walk-in Interview at ChennaiVestel Telecom Services1-2 Yrs1,75,000 - 3,00,000 PA.Chennai(Anna Nagar) Candidate should have completed degree in BE /BSc /ME in CSEImmediate joiners are only ...pythonData AnalysisMongoDBhadoopSQL26 Days Agosave\n",
      "Data AnalystNavgathi Marine Design & Constructions2-3 YrsNot disclosedKochi/Cochin A drive to learn and master new technologies and techniquesKnowledge and experience in ...deep learningPDFFront endNeural networksMachine learningOpenglData collectionData Analyst30+ Days Agosave\n",
      "Data AnalystNavgathi Marine Design & Constructions2-3 YrsNot disclosedKochi/Cochin A drive to learn and master new technologies and techniquesKnowledge and experience in ...deep learningPDFFront endNeural networksMachine learningOpenglData collectionData Analyst30+ Days Agosave\n",
      "Data AnalystUpMan Placements Pvt. Ltd.3.7(18 Reviews)1-4 YrsNot disclosedMumbai Core Purpose of the Role : Part of advisory automation project Design automated screene...AutomationtableauStaffingData AnalystAdvisoryRecruitmentSQLPython26 Days Agosave\n",
      "Data AnalystSkill Lync3.8(84 Reviews)2-5 YrsNot disclosedChennai Proven working experience in data analysisExperience in handling reporting packages lik...AutomationBusiness objectsData analysisDatabase designXMLJavascriptData miningMATLAB30+ Days Agosave\n",
      "Data AnalystContus4.1(39 Reviews)5-10 YrsNot disclosedChennai Must be data-driven with strong problem solving and analytical skills Bachelor s degree...BPOdata analysisComputer scienceAnalytical skillsSASInformation managementBusiness intelligenceMarketing Analyst30+ Days Agosave\n",
      "Data AnalystNational Geographic1-6 YrsNot disclosedMumbai Graduate / Post Graduate degree in Computer Science or EngineeringShould be able to wri...Computer scienceProcess designAutomationWeb technologiesAnalyticalSCALAData AnalystMonitoring30+ Days Agosave\n",
      "Passionate Data AnalystLogistics Now1.9(6 Reviews)1-3 YrsNot disclosedMumbai Experience with data analytics: analyse mountains of data in minutes and live deadlinesSupply chaintableauExcelStatistical analysisWeb developmentTroubleshootingSQLLogistics30+ Days Agosave\n",
      "\n"
     ]
    },
    {
     "name": "stderr",
     "output_type": "stream",
     "text": [
      "[WDM] - ====== WebDriver manager ======\n",
      "[WDM] - Current google-chrome version is 102.0.5005\n",
      "[WDM] - Get LATEST chromedriver version for 102.0.5005 google-chrome\n",
      "[WDM] - Driver [C:\\Users\\lenovo\\.wdm\\drivers\\chromedriver\\win32\\102.0.5005.61\\chromedriver.exe] found in cache\n"
     ]
    },
    {
     "name": "stdout",
     "output_type": "stream",
     "text": [
      "SQL Data AnalystHarmony Data Integration Technologies4.7(2 Reviews)3-6 YrsNot disclosedMohali Candidate should Produce ad hoc and project-based analysis to support client applicatio...C++AnalyticalBack officeProgrammingHealthcareData AnalystAnalyst 3Data warehousing30+ Days Agosave\n",
      "Data Analyst - Python/AWSAviation Indeed2.7(2 Reviews)3-5 YrsNot disclosedNoida Educational Qualifications : Graduate or Postgraduate in Economics, Statistics, Mathema...HiveCloud ComputingPower BIHadoopData AnalystSparkData ModelingAWS28 Days Agosave\n",
      "Data AnalystIB Monotaro Private Limited3.7(5 Reviews)1-4 Yrs3,00,000 - 7,00,000 PA.Delhi / NCR(Ghitorni) Eligibility Criteria: BE / BTech Graduates, Google Analytics, Advanced Analytics, Tech ...Business IntelligenceData AnalysisPythonData ScienceGoogle AnalyticsAnalytical SkillsWeb TechnologiesAdvanced Analytics26 Days Agosave\n",
      "Data AnalystNEXTWAVE MULTIMEDIA (P) LTD.4.2(9 Reviews)2-4 YrsNot disclosedChennai Requirements : Analyze KPI of mobile games on a day to day basis and translate data int...Analytical skillsStatistical analysisData modelingR ProgrammingData AnalystAnalyst 2GamingPerformance monitoring30+ Days Agosave\n",
      "Data AnalystANR Software Pvt. Ltd.3.5(101 Reviews)2-5 YrsNot disclosedNoida Job Description:Interpret data , analyse results using statistical techniques and provi...Computer scienceSASProcess improvementReport writingData collectionSPSSInformation managementManager Quality Control30+ Days Agosave\n",
      "Data AnalystZenoti3.9(44 Reviews)3-6 YrsNot disclosedHyderabad/Secunderabad Experience in delivering products as end-to-end data solutions (from data pipelining to...IT SkillsPythonTestingMachine LearningTableauPower BISimulationAnalytical30+ Days Agosave\n",
      "Data Analyst IVenator Holdings2-4 YrsNot disclosedHyderabad/Secunderabad Key Responsibilities: Perform detailed data analysis to understand data propagation thr...AgilePythonNoSQLRDBMSverbal communicationanalyticalLeanData Modelling30+ Days Agosave\n",
      "Data AnalystOneMagnify5.0(2 Reviews)3-5 YrsNot disclosedChennai Candidates should have good understanding on basic Supervised and Person should be flex...Basicdata scienceMachine learningProgrammingpower biData AnalystQlikViewIndividual Contributor30+ Days Agosave\n",
      "Data AnalystCoditas Technologies Pvt Ltd4.2(32 Reviews)1-4 YrsNot disclosedPune The ideal candidate should be experienced data pipeline builder and data wrangler who e...IT SkillsPythonData ScienceCloudBig DataAWSTableauBackend30+ Days Agosave\n",
      "Tableau SQL and Python Data AnalystMomenta Group Global3-8 YrsNot disclosedHyderabad/Secunderabad 8 years of experience in Python, SQL and Tableau with an exposure of data visualization...Power BiData VisualizationProcess ImprovementData AnalystTableauData GovernanceSqlPython30+ Days Agosave\n",
      "Data Backfill Audit - Data AnalystHyreFox Consultants Pvt Ltd3.7(21 Reviews)3-7 YrsNot disclosedNew Delhi Why do we need this role In Q4 2021, Chegg performed a historical data backfill of Adob...EconomicsData analysisadobe analyticsSchemaData processingData qualityData AnalystTroubleshooting30+ Days Agosave\n",
      "Technical Data AnalystVyrian, Inc4.0(2 Reviews)5-10 YrsNot disclosedIndore As a technical data analyst, you will utilize data analysis and statistical skills on v...Data ScienceRFinanceAdvanced AnalyticsData AnalysisStatistical ModelingData AnalystSql30+ Days Agosave\n",
      "Data AnalystION3.6(7 Reviews)3-6 YrsNot disclosedNoida What you ll need to know Accurately maintain data required to support client trading sy...verbalSQL ServerPythonwritten communicationExcelRSQLMicrosoft Power BI30+ Days Agosave\n",
      "Data AnalystReval India Pvt. Ltd.1-3 YrsNot disclosedNoida What you ll need to know: Accurately maintain data required to support client trading s...PythonData AnalysisRwritten communicationSQL ServerSQLverbalExcel30+ Days Agosave\n",
      "Spend and Master Data AnalystPcura Consulting Pvt. Ltd3.0(3 Reviews)2-5 YrsNot disclosedMumbai Spend and Master Data Analyst Candidates having a combined experience of atleast 2 year...assembly languagewebsiteCHTMLajaxjavascriptjquerySQL30+ Days Agosave\n",
      "Data Analyst HealthcareMILLIMAN3.9(49 Reviews)1-3 YrsNot disclosedNew Delhi, Gurgaon/Gurugram The successful candidate should have rich data analytics experience, awareness of US he...Computer scienceData analysisAnalyticalConsultingHealthcareMS OfficeInformation technologyFinancial services30+ Days Agosave\n",
      "Data AnalystDe facto Infotech Private Limited3.3(7 Reviews)8-10 Yrs12,00,000 - 18,00,000 PA.Mohali 10 years of work experience in Data Analysis, BI or Data Engineering roles with a quant...sparkdata miningData AnalysishadoopPythonIT SkillsCloudapache20 Days Agosave\n",
      "SQL Data Analyst - Data WarehousingHarmony Data Integration Technologies4.7(2 Reviews)2-6 YrsNot disclosedChandigarh Work from Home Workstation FurnitureCandidate should Produce ad hoc and project-based a...Data WarehousingData MartsSQLSQL QueryJavaC#communicationSCRUM28 Days Agosave\n",
      "Data Analyst: CPRRGF Professional Recruitment3.2(5 Reviews)2-7 YrsNot disclosedGurgaon Candidate should be an Engineering Graduate from Good College with strong academic reco...Defect analysisExcelAnalyticalIntellectual propertyManagement consultingData AnalystProperty managementAnalytics30+ Days Agosave\n",
      "Data Analyst R SASDEFTeam Solutions Private Limited4.5(14 Reviews)3-6 YrsNot disclosedHyderabad Develop descriptive and predictive models to solve business problems depending on the b...Data analysisSASLinuxAnalyticalMachine learningEngineering ManagerWindowsData mining30+ Days Agosave\n",
      "\n"
     ]
    },
    {
     "name": "stderr",
     "output_type": "stream",
     "text": [
      "[WDM] - ====== WebDriver manager ======\n",
      "[WDM] - Current google-chrome version is 102.0.5005\n",
      "[WDM] - Get LATEST chromedriver version for 102.0.5005 google-chrome\n",
      "[WDM] - Driver [C:\\Users\\lenovo\\.wdm\\drivers\\chromedriver\\win32\\102.0.5005.61\\chromedriver.exe] found in cache\n"
     ]
    },
    {
     "name": "stdout",
     "output_type": "stream",
     "text": [
      "Data Analyst - Hadoop/Power BIAviation Indeed2.7(2 Reviews)3-5 YrsNot disclosedNoida Graduate or Postgraduate in Economics, Statistics, Mathematics, or a related field full...Power BIHadoopMapReduceSparkmachine learningAdvanced ExcelData StructurePattern Mining21 Days Agosave\n",
      "Data Analyst (R/SAS)DEFTeam Solutions Private Limited4.5(14 Reviews)3-6 YrsNot disclosedKannur • Develop descriptive and predictive models to solve business problems depending on the...Data analysisSASLinuxAnalyticalMachine learningEngineering ManagerWindowsData mining30+ Days Agosave\n",
      "Data Analyst (R/SAS)DEFTeam Solutions Private Limited4.5(14 Reviews)3-6 YrsNot disclosedKannur • Develop descriptive and predictive models to solve business problems depending on the...Data analysisSASLinuxAnalyticalMachine learningEngineering ManagerWindowsData mining30+ Days Agosave\n",
      "Data AnalystMegma Services2-4 YrsNot disclosedDelhi / NCR We are looking for a Data Analyst to survey customer preferences and statistical data i...Data AnalysisplanningPurchaseSalesXcelTableau22 Days Agosave\n",
      "Proteomics Bioinformatics Data AnalystArraygen Technologies Pvt Ltd2-5 YrsNot disclosedPune Requirements:- Working knowledge of state- of- the- art bioinformatics, computational b...dynamicsde novo predictionmolecular dynamicsstructure visualizationDrug discoveryanalysisProteomicsLife sciences30+ Days Agosave\n",
      "Data AnalystSVKMs Narsee Monjee Institute of Management Studies - NMIMS3-5 YrsNot disclosedMumbai Previous experience working as a Data Analyst or similar domain in an education institu...Data analysisExcelSalesBusiness analyticsAnalyticalData collectionMS Office toolsPackaging30+ Days Agosave\n",
      "Salesforce Data AnalystFutureSoft (India)3.7(143 Reviews)4-8 YrsNot disclosedChennai Added advantage will be experience with any programming languages such as .NET C# and V...databasesintegrationVBASPCSSSalesforceAJAXSQL30+ Days Agosave\n",
      "Data AnalystWinZO 3.7(4 Reviews)1-3 YrsNot disclosedNew Delhi As a Data Analyst at WinZo, you will be working interpreting and analysing results .Pla...Data QualityAlgorithmsAnalytical SkillsDatabase DesignData MiningData AnalystTableauSql30+ Days Agosave\n",
      "Data AnalystAISpotters3-6 YrsNot disclosedMadurai Good command in English language and proficient in reading, writing and speakingMinimum...IT SkillsArtificial IntelligenceBPOTrainingMobile technologyData analysisInterpersonal skillsTOEFL30+ Days Agosave\n",
      "Credit Data AnalystION3.6(7 Reviews)1-4 YrsNot disclosedMumbai Reliable, helpful and a good team memberSupply chainFinancial statementsUsageFinancial accountingFixed incomeFinanceWorkflowData Analyst30+ Days Agosave\n",
      "Credit Data AnalystReval India Pvt. Ltd.1-3 YrsNot disclosedMumbai Key responsibilities Enter borrowers quarterly financial statements and accounts into s...ExcelSupply chainFinancial statementsUsageFinancial accountingFixed incomeFinanceWorkflow30+ Days Agosave\n",
      "Data AnalystAjira5-10 YrsNot disclosedChennai What We Look For Bring in a \"can-do\" attitude. Work together in a fast paced environmen...IT SkillsPythonTableauPower BIManager TechnologyData AnalystOpen sourcebig data30+ Days Agosave\n",
      "Contract Data AnalystEnlighta Solutions3.5(8 Reviews)2-7 YrsNot disclosedMumbai Minimum commitment for 2 yearsIT SkillsTestingQuality AssuranceQAManager Quality AssuranceWeb technologiesFunctional testingCompliance management30+ Days Agosave\n",
      "Data AnalystEnest Technologies Pvt Ltd3.7(10 Reviews)5-10 YrsNot disclosedMohali Proficiency in web analytics applications, strong database skills and technical underst...IT SkillsOracleTableauPower BIAutomationWeb analyticsBusiness analysisData modeling30+ Days Agosave\n",
      "Data AnalystAgreeYa Solutions3.5(121 Reviews)3-5 YrsNot disclosedNoida Mandatory Skills: Python, SQL, RDBMS JOIN Expert in writing SQL queries Excellent Knowl...Cloud WarehousePL / SQLsoftware development lifeSQL queriescommunicationOracleRDBMSPython30+ Days Agosave\n",
      "Data AnalystDiverse Lynx3.0(67 Reviews)1-5 YrsNot disclosedPune Experience as data analyst. Understanding of project life cycle. Understanding of chang...project life cycleMacro expressVBAAS400SQLchange managementMISBilling30+ Days Agosave\n",
      "Data AnalystCVM Solutions4.5(7 Reviews)1-4 YrsNot disclosedHyderabad/Secunderabad Essential Functions Reasonable accommodations may be made to enable individuals with di...IT SkillsQuality AssuranceComputer scienceData validationManager Quality AssuranceOperational excellenceHelpdeskOffice equipment30+ Days Agosave\n",
      "Clinical Data AnalystCLINAARC CLINICAL DATAMANAGEMENT PRIVATE LIMITED1-6 YrsNot disclosedNagpur Performs internal data audits and other project quality assurance activities and docume...Clinical Data Analyst30+ Days Agosave\n",
      "Data AnalystT & A Solutions1-6 YrsNot disclosedChandigarh A bachelor s degree is mustThe ideal candidate should have a strong understanding of da...Analytical skillsData analysisanalyticalData AnalystitData miningMS Officemicrosoft30+ Days Agosave\n",
      "Data AnalystThemessagegifts3-8 YrsNot disclosedJaipur Any bachelor degree from any university across India. Any Specialization Industry Type:...B2BExcelB2COnline salesData AnalystMS OfficePowerpointMS Office Word30+ Days Agosave\n",
      "\n"
     ]
    },
    {
     "name": "stderr",
     "output_type": "stream",
     "text": [
      "[WDM] - ====== WebDriver manager ======\n",
      "[WDM] - Current google-chrome version is 102.0.5005\n",
      "[WDM] - Get LATEST chromedriver version for 102.0.5005 google-chrome\n",
      "[WDM] - Driver [C:\\Users\\lenovo\\.wdm\\drivers\\chromedriver\\win32\\102.0.5005.61\\chromedriver.exe] found in cache\n"
     ]
    },
    {
     "name": "stdout",
     "output_type": "stream",
     "text": [
      "Data AnalystBeno Staffing1-2 YrsNot disclosedGhaziabad The financial data will be provided to be formulated into a representational format for...PDFFinancial projectionsFinancial reportingStaffingKPIData AnalystBudgetingManagement30+ Days Agosave\n",
      "Digital Data AnalystEITB GLOBAL INFOSOLUTIONS PRIVATE LIMITED 2-5 Yrs2,75,000 - 4,00,000 PA.Chennai Are you a Digital Data Analyst with proven experience looking for a role where you can ...gtmWebsite Analysisgoogle analyticsseoAdobe TargetIT SkillsTestingTableau26 Days Agosave\n",
      "Data AnalystASI-Apex Sourcing1-5 YrsNot disclosedDelhi Data collection / analysis and preparation of reports .Excellent knowledge of advanced ...excelcommunicationData collectionAdvanced ExcelData Analyst30+ Days Agosave\n",
      "Data AnalystAnicalls4.7(2 Reviews)5-10 YrsNot disclosedMumbai Create, design, and format technical specification documentation including architecture...IT SkillsOracleSAPBusiness analysisWorkflowbusiness rulesData AnalystInformatica30+ Days Agosave\n",
      "Data AnalystAdvanced Risk Analytics Private Limited2-6 YrsNot disclosedAhmedabad Candidate should have: Knowledge of catastrophe data collection like Flood data, Earthq...verbal communicationwrittenCVEnvironmental scienceImage processingTechnicalData collectionData processing30+ Days Agosave\n",
      "Data AnalystHEXONICA3-5 YrsNot disclosedPune Graduate or Post Graduate in Computer Science Should have the ability to prepare sample...SQLSQL queriesIT SkillsTestingComputer scienceData analysisData modelingBfsi30+ Days Agosave\n",
      "Data AnalystOcrolus East4.2(48 Reviews)2-5 YrsNot disclosedGurgaon/Gurugram Become an expert in Ocrolus rich data assets Partner with stakeholders and executives t...Computer scienceStatistical programmingAutomationData analysisData qualityAgile methodologyBusiness intelligenceStakeholder management27 Days Agosave\n",
      "Data AnalystGlowTouch Technologies3.3(26 Reviews)4-9 YrsNot disclosedMangalore You will be working directly on organization - wide core initiatives to help improve th...SQLwrittenverbal communicationISMSPDFBusiness AnalystManager TechnologyApplication development30+ Days Agosave\n",
      "Data Analyst R SASDEFTeam Solutions Private Limited4.5(14 Reviews)3-6 YrsNot disclosedNoida Design , build and Deploy data mining and data analysis solutions for big data sets. De...Data analysisSASLinuxAnalyticalMachine learningEngineering ManagerWindowsData mining30+ Days Agosave\n",
      "HR Data AnalystMace Group4.1(21 Reviews)3-7 YrsNot disclosedGurgaon/Gurugram The HR data analyst will be responsible for capturing business requirements, understand...PayrollManager Quality Assurancedata securitydata governanceHRData AnalystBusiness intelligencemicrosoft30+ Days Agosave\n",
      "SAP Hana Data AnalystAnicalls4.7(2 Reviews)5-10 YrsNot disclosedChennai Candidate should be able to: Participate in meetings with users, project managers, and ...IT SkillsOracleSAPBusiness analysisWorkflowbusiness rulesData AnalystInformatica30+ Days Agosave\n",
      "Data Analyst With SAP HanaAnicalls4.7(2 Reviews)5-10 YrsNot disclosedHyderabad/Secunderabad Candidate should be able to: Participate in meetings with users, project managers, and ...IT SkillsOracleSAPBusiness analysisWorkflowbusiness rulesData AnalystInformatica30+ Days Agosave\n",
      "Data AnalystREWISE ANALYTICS & TECHNOLOGIES PRIVATE LIMITED2.9(15 Reviews)3-6 YrsNot disclosedPune Flexibility to work in permanent US shiftWorking in the US shift hoursHands on experien...MS - ExcelMS OfficecommunicationAdvanced ExcelExcelData AnalystManagementHuman resource management30+ Days Agosave\n",
      "Data AnalystIpseity Group4.7(6 Reviews)1-3 YrsNot disclosedBhopal Location Bhopal Academic Qualification Graduate in any stream Experience 1-3 Years Repo...TrainingData analysisExcelProcess improvementXMLData collectionData qualityData Analyst30+ Days Agosave\n",
      "SQE Data AnalystTrimble4.3(97 Reviews)4-7 YrsNot disclosedChennai Job Summary The data analyst role is to support the SQE organization in analyzing the s...IT SkillsOracleAutomationoracle agileCognosAnalyticalSupply chain operationsQuality engineering30+ Days Agosave\n",
      "Data Analyst (ETL Tools)Alpha Analytics Services Pvt Ltd2-4 YrsNot disclosedPune Job Summary Responsibilities and Duties Responsible for importing, cleansing, transform...Data modelingConsultingData AnalystSchedulingInformaticaStored proceduresUnit testingPentaho30+ Days Agosave\n",
      "Data AnalystIpseity Group4.7(6 Reviews)1-3 YrsNot disclosedBhopal Graduate in any stream 1 - 3 Years Responsibilities .A data analyst might train employe...Data analysisWordProcess improvementXMLData collectionData AnalystData qualitystaff30+ Days Agosave\n",
      "Insurance Data AnalystXDuce1.6(5 Reviews)2-3 YrsNot disclosedAhmedabad, Remote The Data Analyst must be able to identify, define and employ an analytical strategy to ...IT SkillsTableauPower BIAnalystData analysisClaimsUnderwritingAnalytical28 Days Agosave\n",
      "Hiring For Data AnalystIOTA ANALYTICS PRIVATE LIMITED 3.8(3 Reviews)2-3 Yrs3,00,000 - 8,00,000 PA.Mohali(WFH during Covid) Shift - Night Shift Hands-on experience in hosting tasks like Promotions, Running STRs,...TroubleshootingRelativity Hosting28 Days Agosave\n",
      "Data AnalystLogicsoft International Private Limited4.8(17 Reviews)5-10 YrsNot disclosedNew Delhi Experience with Postgres database will be an advantage Good knowledge of Oracle AnalyticsPostgres databaseOracle databaseOracle AnalyticsIT SkillsOracleCodingProcess improvementdata governance30+ Days Agosave\n",
      "\n"
     ]
    },
    {
     "name": "stderr",
     "output_type": "stream",
     "text": [
      "[WDM] - ====== WebDriver manager ======\n",
      "[WDM] - Current google-chrome version is 102.0.5005\n",
      "[WDM] - Get LATEST chromedriver version for 102.0.5005 google-chrome\n",
      "[WDM] - Driver [C:\\Users\\lenovo\\.wdm\\drivers\\chromedriver\\win32\\102.0.5005.61\\chromedriver.exe] found in cache\n"
     ]
    },
    {
     "name": "stdout",
     "output_type": "stream",
     "text": [
      "Data AnalystRight Step Consulting1-3 YrsNot disclosedGurgaon Job Description Role and Responsibilities - Execute processes to monitor data governanc...ExcelAnalyticalMarket researchPHPData AnalystData qualityData miningForecasting30+ Days Agosave\n",
      "Data AnalystRight Step Consulting1-4 YrsNot disclosedGurgaon PG:Any Postgraduate, Post Graduation Not Required UG: Any Graduate - Any Specialization...MS AccessMySQLPHPData AnalystMS OfficeOracleBusiness intelligenceMacros30+ Days Agosave\n",
      "Data AnalystMirum India3.2(33 Reviews)3-4 YrsNot disclosedMumbai Experience with some of the modern relational databasesUsageSSASSSRSDatabaseData AnalystTroubleshootingSSISSQL30+ Days Agosave\n",
      "Data Analystdoubledutch3-7 YrsNot disclosedGurgaon/Gurugram Willing to work in US east coast shift Experience with Tableau data visualization requi...TableaucommunicationSSRSdata analysisanalyticalPowerpointMS ExcelSQL30+ Days Agosave\n",
      "Data AnalystMirum India (Formerly Social Wavelength)3.2(33 Reviews)3-4 YrsNot disclosedMumbai Experience with some of the modern relational databasesUsageSSASSSRSDatabaseData AnalystTroubleshootingSSISSQL30+ Days Agosave\n",
      "Data AnalystMirum3.2(33 Reviews)3-4 YrsNot disclosedMumbai Experience with some of the modern relational databasesUsageSSASSSRSDatabaseData AnalystTroubleshootingSSISSQL30+ Days Agosave\n",
      "Hiring  For DATA Analyst II MohaliChandigarh University3.4(289 Reviews)2-7 Yrs3,00,000 - 8,00,000 PA.Mohali/SAS Nagar Male and Female both can applyCandidate should be GraduatePreferred PowerBI certifiedPe...data analysis29 Days Agosave\n",
      "Data Analystdoubledutch1-3 YrsNot disclosedGurgaon/Gurugram specifically, Access, Excel (including pivot tables, analytical functions, and macros),...IT SkillsCloudSalesforceData analysisQuality standardsdata reportingConsultingData processing30+ Days Agosave\n",
      "Data analystPeer To Peer HR Services1-3 YrsNot disclosedUdaipur Qualification- Graduate / Post Graduate (MBA, PGDM in HR, IT, Finance, Marketing) BCom ...BiotechnologyData analysisBusiness AssociateContent writingHRData AnalystManagement30+ Days Agosave\n",
      "Web / Data AnalystDarshan Soft-Tech Pvt. Ltd4.0(29 Reviews)1-4 YrsNot disclosedVadodara Must have excellent analytical and problem solving skillsRequired Skills Proven e-comme...Career developmentPPCdigital analyticsGoogle AnalyticsWeb technologiesAnalyticalinternational travelE-commerce30+ Days Agosave\n",
      "Consultant - Data AnalystDynamic Elements4.7(2 Reviews)3-6 YrsNot disclosedAhmedabad Hands on experience on SSIS and Power BISSISPower BIInformaticaEtl ToolDatabase Design30+ Days Agosave\n",
      "BI / Data Analyst @ AlcorAlcor Solutions India Private Limited3.8(12 Reviews)3-8 YrsNot disclosedNoida Alcor Solutions is seeking to hire a BI / Data Analyst for India operations team. We ar...Power Bi TableauPower BiTableauPower Bi DashboardsERwinsparxSql AnalyticsSQL Development30+ Days Agosave\n",
      "Urgently Required Data Analyst with B2B ExperienceSelling Simplified4.0(61 Reviews)2-7 YrsNot disclosedNoida Bachelors degree in statistics, mathematics, computer science, information management, ...B2BLead GenerationData Analysiscommunicationanalytical30+ Days Agosave\n",
      "Associate, Campaign Marketing (Data Analyst)Basware India Pvt Ltd3.4(72 Reviews)2-5 YrsNot disclosedChandigarh The Associate, Campaign Marketing will be an integral part of the Digital Marketing tea...IT SkillsProject ManagementDigital MarketingPower BIBPOproject managementAutomationBusiness objects30+ Days Agosave\n",
      "Data AnalystMyVirtualDesks3-6 YrsNot disclosedPune We are looking for Freshers / Expereinced candidates proficient in Information analysis...AdministrationLead generationResearch LeadTranscriptionSocial mediaInternet researchData AnalystCRM30+ Days Agosave\n",
      "Data AnalystBOOM BUSINESS CONSULTING SOLUTIONS 5-10 YrsNot disclosedErode Qualification: MBA Managing master data, including creation, updates, and deletion. Man...warehouseIT SkillsQuality AssuranceSANmetadataUsageBusiness consultingHead Business Development30+ Days Agosave\n",
      "Data AnalystSahasya Global Solutions2.8(8 Reviews)5-8 YrsNot disclosedHyderabad Good knowledge of Azure technology is a mustAzureIT SkillsBiddingtechnicalManager TechnologyData qualityData AnalystMonitoring30+ Days Agosave\n",
      "Data Analystfundinfo AG4.2(24 Reviews)1-2 YrsNot disclosedChennai Good Analytical and Problem solving skillsExtract and provide various project-related r...Financial sectorMutual fundsAnalyticalMS OutlookData AnalystAsset managementMS Office30+ Days Agosave\n",
      "Data AnalystSamyak Infotech Pvt. Ltd4.8(14 Reviews)3-5 YrsNot disclosedAhmedabad E / BTech / MTech in Computer Science, Information Systems, Machine Learning, Statistic...IT SkillsMachine LearningCloudTableauComputer scienceData analysisMinitabCoding30+ Days Agosave\n",
      "Data AnalystAGRIM2.5(2 Reviews)1-3 YrsNot disclosedGurgaon/Gurugram Minimum 6 months of experience working as a Data Analyst or a similar role involving da...SANPDFSOCAnalyticalSMSData AnalystBusiness intelligenceAnalytics30+ Days Agosave\n",
      "\n"
     ]
    },
    {
     "name": "stderr",
     "output_type": "stream",
     "text": [
      "[WDM] - ====== WebDriver manager ======\n",
      "[WDM] - Current google-chrome version is 102.0.5005\n",
      "[WDM] - Get LATEST chromedriver version for 102.0.5005 google-chrome\n",
      "[WDM] - Driver [C:\\Users\\lenovo\\.wdm\\drivers\\chromedriver\\win32\\102.0.5005.61\\chromedriver.exe] found in cache\n"
     ]
    },
    {
     "name": "stdout",
     "output_type": "stream",
     "text": [
      "Data AnalystNAV TECHNOLOGIES1-4 YrsNot disclosedKochi Technology : Apache Spark Big DataBig DataApache SparkIT SkillssparkManager TechnologyData Analyst30+ Days Agosave\n",
      "Data Analyst (R/ SAS)DEFTeam Solutions Private Limited4.5(14 Reviews)3-6 YrsNot disclosedNoida Bachelor/ Master Degree in Statistics, Engineering, Operation ResearchDevelop descripti...IT SkillsMachine LearningBig DataData analysisSASLinuxAnalyticalEngineering Manager30+ Days Agosave\n",
      "Credit Data AnalystION3.6(7 Reviews)4-7 YrsNot disclosedMumbai Successful candidates will have a good knowledge of accountancy and finance through the...writtenExcelFinancial AnalysisPrivate EquityFinancial InstitutionsAccountingFinanceElectronic Trading30+ Days Agosave\n",
      "Data AnalystAlphaSense4.1(5 Reviews)1-3 YrsNot disclosedPune Experience collaborating deeply across an organization to understand department process...IT SkillsTableauBusiness IntelligenceFinanceData AnalysisData AnalystData ModelingAnalytics Reporting30+ Days Agosave\n",
      "Data AnalystHexanika2-5 YrsNot disclosedPune Graduate or Post Graduate in Computer Science Should have the ability to prepare sample...Computer scienceSQL queriesData analysisData modelingBfsiRelationshipData AnalystTroubleshooting30+ Days Agosave\n",
      "IT Vacancy in Delhi- Data AnalystRight Step Consulting2-6 YrsNot disclosedDelhi Experience in preparation of regulatory reports shall be an added advantageExcelStrong analytical skillsTechnicalDatabaseTechnical LeadCommerceSoftwareData Analyst30+ Days Agosave\n",
      "Procurement Analyst / Spend Data AnalystSTATXO3-8 YrsNot disclosedGurgaon/Gurugram Education: B.E./ B. Tech/ M. Tech/ MBA or other equivalent qualification Responsibiliti...PowerBIAdvanced Excel MacrosDAXPowerPointAlteryxAzureTableauverbal30+ Days Agosave\n",
      "Data Science/Data AnalystFindoc Finvest Private Limited4-7 YrsNot disclosedGurgaon/Gurugram 4 -7 Years of experience creating and using advanced machine learning algorithms and st...Text miningGoogle AnalyticsSimulationCodingNeural networksNetwork analysisMachine learningJavascript30+ Days Agosave\n",
      "Big Data AnalystFusion Analytics World2-5 YrsNot disclosedChennai Skill Required Experience in digital data sets, e.gGood written and verbal communicatio...GraphicsSASISOEvent managementData processingHTMLData miningRisk management30+ Days Agosave\n",
      "Data AnalystENTRO LABS PRIVATE LIMITED5.0(2 Reviews)2-7 YrsNot disclosedVijayawada Product development Envisage the product features as per requirement, plan and executeWeb technologiesCodingApplication programmingWeb developmentmodel developmentpower biData AnalystResearch30+ Days Agosave\n",
      "Data Analyst99Plus IT Solutions3-5 YrsNot disclosedVadodara Experience in datadriven problem solvingExperience of 35 years as a Data Analyst Experi...PPCMS SQLGoogle AnalyticsXMLAnalyticalJavascriptBusiness Development ExecutiveData mining30+ Days Agosave\n",
      "Data AnalystMyrsa Technology Solutions4.2(18 Reviews)1-4 YrsNot disclosedThane Develop and automate reports, iteratively build and prototype dashboards to provide ins...business intelligencegatheringanalyticalComputer sciencePrototypeConsultingData AnalystProject planning30+ Days Agosave\n",
      "Data AnalystDiya Systems (Mangalore) Pvt. Ltd.3.8(254 Reviews)4-9 YrsNot disclosedMangalore You will be working directly on organization-wide core initiatives to help improve the ...verbal communicationSQLwrittenEngineeringISMSBusiness AnalystWeb developmentManager Technology30+ Days Agosave\n",
      "Data Analyst IIVenator Holdings6-8 YrsNot disclosedHyderabad/Secunderabad As a Data Analyst within Dun Bradstreet Enterprise Data Architecture team, you will be ...Supply chainComputer scienceData analysismetadataInterpersonal skillsAnalyticalData structuresData Analyst30+ Days Agosave\n",
      "Data AnalystDiverse Lynx3.0(67 Reviews)1-5 YrsNot disclosedPune JD: Person must have working experience of 5 years as Data Analyst Must have knowledge ...communicationextractionOracleSQLIT SkillsBusiness AnalystOracle SQLData Analyst30+ Days Agosave\n",
      "DATA ANALYSTBlocklogy Edutech1-3 YrsNot disclosedMumbai Education: BE / BTech/any Graduate with experience is preferable but freshers with good...TrainingOutboundE-learningadvanced analyticsMedia managementOnline mediaData AnalystResearch analysis30+ Days Agosave\n",
      "Data AnalystEnmay1-6 YrsNot disclosedKolkata Experience: 6 m to 1 year over the data analyzing the experienceData analysisData researchSocial mediaData Analyst30+ Days Agosave\n",
      "Data AnalystLogicsoft Technologies5-10 YrsNot disclosedNew Delhi Experience with Postgres database will be an advantage Good knowledge of Oracle AnalyticsPostgres databaseOracle databaseOracle AnalyticsCodingProcess improvementdata governanceData AnalystManagement30+ Days Agosave\n",
      "Data AnalystVegazva Engineering Pvt. Ltd.3.7(37 Reviews)5-10 YrsNot disclosedGurgaon/Gurugram Experience working with cloud technologies and environments such as AWS (S3 / EC2), Azu...CloudDeploymentData AnalystManagementData warehousingAWSTeaching30+ Days Agosave\n",
      "Data AnalystVegazva Engineering Pvt. Ltd.3.7(37 Reviews)2-5 YrsNot disclosedNoida Write complex SQL queries and ETL to integrate heterogeneous data sources to provide da...Data AnalystAnalyst IIInformaticaOracleSSISBusiness intelligenceAdobeData mining30+ Days Agosave\n",
      "\n"
     ]
    },
    {
     "name": "stderr",
     "output_type": "stream",
     "text": [
      "[WDM] - ====== WebDriver manager ======\n",
      "[WDM] - Current google-chrome version is 102.0.5005\n",
      "[WDM] - Get LATEST chromedriver version for 102.0.5005 google-chrome\n",
      "[WDM] - Driver [C:\\Users\\lenovo\\.wdm\\drivers\\chromedriver\\win32\\102.0.5005.61\\chromedriver.exe] found in cache\n"
     ]
    },
    {
     "name": "stdout",
     "output_type": "stream",
     "text": [
      "Urjent Data AnalystKD Group of Industries3.3(4 Reviews)1-2 YrsNot disclosedGhaziabad ability to Quickly Pick Up New Skills/ technical Abilities as Required within Excel is ...Analytical skillsAutomationData analysisExcelProgrammingData AnalystMacrosAnalytics30+ Days Agosave\n",
      "Associate Data AnalystHUSYS CONSULTING LIMITED4.1(23 Reviews)2-5 YrsNot disclosedHyderabad Should be able to handle all the database queries Mango DB, Oracle DBHelp DeskCustomer Servicedata analysiscustomer relationshipaccess controlsTelephony supportAsset ManagementVendor Management30+ Days Agosave\n",
      "Data Analystmycitynagpur1-5 YrsNot disclosedNagpur Candidate should be B.Tech / BE / BCA / MCA / B.Sc IT / Graduate. Should have good comm...Help DeskCustomer Servicedata analysiscustomer relationshipaccess controlsTelephony supportAsset ManagementVendor Management30+ Days Agosave\n",
      "Data AnalystEnest Services4-5 YrsNot disclosedMohali We are looking for a passionate certified Data AnalystShould assume the responsibilitie...IT servicesBusiness objectsSASData collectionJavascriptSPSSInformation managementData mining30+ Days Agosave\n",
      "Data Analystmycitynagpur3-7 YrsNot disclosedNagpur Candidate should be MBA (Finance) or M.Com Statistic. Should have 3 yrs of experience i...OMCdata reportingData AnalystMIS generation30+ Days Agosave\n",
      "Data Analyst HRS3.5(11 Reviews)2-5 YrsNot disclosedChandigarh POSITION We are looking out for an India based Data Analyst Finance to be based out of ...MicrostrategyProcurementSupply chainBusiness AnalystSchemaData qualityBudgetingBusiness intelligence30+ Days Agosave\n",
      "Data AnalystAceNet4.5(2 Reviews)10-15 YrsNot disclosedNew Delhi Participate in the requirements analysis, design, conceptualization and implementation ...Analytical skillstableauSalesdesign conceptualizationpower biE-commerceMentorData Analyst30+ Days Agosave\n",
      "Data AnalystDiverse Lynx3.0(67 Reviews)1-5 YrsNot disclosedChennai DWH experience with good knowledge on Experience in working in Banking Domain Experienc...Data AnalysisHadoopSQL ServerData MappingData ProfilingOracleDWHData modelling30+ Days Agosave\n",
      "Data AnalystUniqLeads4.1(4 Reviews)2-3 YrsNot disclosedKochi Purpose of the Position We at UniqLeads use out of the box techniques to carefully extr...Direct marketingExcelSalesWeb technologiesProject managementMarketing planningData AnalystResource management30+ Days Agosave\n",
      "NECSWS Data AnalystRave Technologies (India) Pvt Ltd3.7(103 Reviews)2-5 YrsNot disclosedMumbai What we re looking for: A minimum hand-on experience of 1+ years on data analyst or equ...IT SkillsQuality AssuranceCloudAWSPower BIAutomationDue diligenceManager Quality Assurance30+ Days Agosave\n",
      "Alteryx Data Analystdotsolved4.5(3 Reviews)5-10 YrsNot disclosedChennai Bachelors Degree in Accounting, Business, Computer Science, or related fieldHands-on ex...Alteryx TableauSOXdata reconciliationAlteryxUS GAAPPower BISQLNetSuite30+ Days Agosave\n",
      "Data AnalystDecisionTree Analytics and Services Private Limited4.8(10 Reviews)1-3 YrsNot disclosedGurgaon Position Summary: DecisionTree is looking for a Data Analyst to manage services deliver...verbalMS SQLanalysisPostGreSQLdata miningwritten communicationMySQLBusiness Analytics30+ Days Agosave\n",
      "Associate Data AnalystWebMD4.5(14 Reviews)1-2 YrsNot disclosedNavi Mumbai Bachelor s degree in data analytical fields or at least 4 years additional experience i...Google AnalyticsExcelMS AccessWeb analyticsAnalyticalWeb developmentHealthcareOmniture30+ Days Agosave\n",
      "Data AnalystGalytix3.5(14 Reviews)2-5 YrsNot disclosedGurgaon A Data Analyst assists us in processing, analysing and synthesising information related...AnalyticalFinanceData qualityData AnalystFinancial Analyst30+ Days Agosave\n",
      "Data AnalystWalbroSoft2-7 YrsNot disclosedNagpur Must be able to coordinate, track and manage requirementsAny graduate who has computer ...ExcelInternet researchData collectionData AnalystManagementMS OfficePowerpointData Entry Operator30+ Days Agosave\n",
      "Data AnalystZ2Plus Placement & Security Agency Pvt. Ltd.2-3 YrsNot disclosedPanaji/Panjim Should be able to work in the areas of Business Excellence, Data Analytics, Statistical...Supply chainData modelingProject managementSSRSBusiness excellencedata visualizationSSISBusiness intelligence30+ Days Agosave\n",
      "Data AnalystSAGE IT, INC3.8(26 Reviews)2-5 YrsNot disclosedMumbai, Pune Provide technical expertise plus SME guidance to capture and document technical solutio...data AnalysisVisioLucidBusiness processSalesArchitectureBroadcastingData Analyst30+ Days Agosave\n",
      "Reporting and Data Analyst - ProductBUZZBOARD INC3.5(13 Reviews)1-3 YrsNot disclosedHyderabad/Secunderabad Should have worked on MIS Report Automation projects in the past 1-2 years QA reports f...Analytical skillsMIS reportingData analysisAutomationdata integrityAdvanced ExcelManager Quality ControlMacros30+ Days Agosave\n",
      "Data Analyst - eCommerceTurning Pro Network 3-8 YrsNot disclosedMumbai Roles and Responsibilities: Go through the various data sources of the company i.e. Goo...Data analystOrm ToolGoogle Analyticssentiment analysise commerceormdashboardssales trends18 Days Agosave\n",
      "Data Analyst ECCENTRIC ENGINE PVT. LTD.4.6(6 Reviews)3-8 YrsNot disclosedMumbai Must have the aptitude and desire to learn new competencies and skills Skills required ...Data analysisExcelProcess improvementAnalyticalData collectionData processingAdvanced ExcelBusiness intelligence30+ Days Agosave\n",
      "\n"
     ]
    },
    {
     "name": "stderr",
     "output_type": "stream",
     "text": [
      "[WDM] - ====== WebDriver manager ======\n",
      "[WDM] - Current google-chrome version is 102.0.5005\n",
      "[WDM] - Get LATEST chromedriver version for 102.0.5005 google-chrome\n",
      "[WDM] - Driver [C:\\Users\\lenovo\\.wdm\\drivers\\chromedriver\\win32\\102.0.5005.61\\chromedriver.exe] found in cache\n"
     ]
    },
    {
     "name": "stdout",
     "output_type": "stream",
     "text": [
      "Data AnalystECCENTRIC ENGINE PVT. LTD.4.6(6 Reviews)3-8 YrsNot disclosedMumbai Must have the aptitude and desire to learn new competencies and skills Skills required ...written communicationTableauExcelMicrosoft ExcelSQLCommunicationBusiness IntelligenceIT Skills30+ Days Agosave\n",
      "Data Analyst with AI and MLCentroid Systems7-10 YrsNot disclosedHyderabad/Secunderabad Objectives of this Role Improve, execute, and effectively communicate significant analy...AutomationSASXMLJavascriptData collectionData processingSPSSData mining30+ Days Agosave\n",
      "Data AnalystNetCreativeMind Solutions Private Limited3.3(30 Reviews)2-5 YrsNot disclosedDelhi Exceptional quantitative or logical reasoning skills with good command on English writt...CommunicationPowerPointBI toolExcel PowerpointExcelSQLMSFT WordQuery Database30+ Days Agosave\n",
      "Data AnalystPleasant Inc.2-5 YrsNot disclosedSurat Certification sponsorshipdevelopmentcdomsoftwaresponsorshippayData AnalystManagement30+ Days Agosave\n",
      "Data AnalystMulti Recruit4.5(10 Reviews)3-5 YrsNot disclosedChennai Demonstrated experience in handling large data sets and relational High-level experienc...data cleansingAssurancemetadataData modelingApplication programmingConsultingData Analystdata integrity30+ Days Agosave\n",
      "Clinical Data AnalystEli Lilly and Company4.3(205 Reviews)3-5 YrsNot disclosedBengaluru Job Description Education Requirements Minimum Bachelors degree in Computer Science, En...Computer scienceCROData modelingPharmaHealthcarehealthcare analyticsDBMSData mining30+ Days Agosave\n",
      "Data Migration AnalystEpiqsystems India Private Limited4.2(76 Reviews)1-3 YrsNot disclosedHyderabad/Secunderabad This role is a full-time, permanent position. It reports to the Director of Information...Data MigrationIT SkillsProject ManagementBPOproject managementWindows OSdata storageMicrosoft Office11 Days Agosave\n",
      "Data Engineering AnalystOptum4.2(1777 Reviews)3-5 YrsNot disclosedNoida, Hyderabad/Secunderabad Undergraduate degree or equivalent experienceTranslate the business requirement into th...Data EngineeringUnixJavaScalaData Engineering AnalystBig Data toolsBig DataHDFS12 Days Agosave\n",
      "Hiring For Analyst experience in EMR/EHR data working in US HealthcareSonata Software4.0(498 Reviews)5-10 Yrs5,00,000 - 14,00,000 PA.Hyderabad/Secunderabad, Bangalore/Bengaluru(WFH during Covid) Experience in writing Sql queries, HL 7 certified3+ Yrs Experience working in US Health...HL7sql queriesbusiness analysisEMRehrEHR datacommunicationAnalytical13 Days Agosave\n",
      "Data AnalystLegalwiz4.8(3 Reviews)1-3 YrsNot disclosedAhmedabad A drive to learn and master new technologies and techniquesBachelor s / Masters degree ...Computer scienceAnalytical skillsComputer languagesExcelCodingdata visualizationData miningBusiness intelligence30+ Days Agosave\n",
      "Data AnalystAriprus3-7 YrsNot disclosedMumbai Experience : 3 to 7 years Qualification : BE, ME, MSc, MBA (Mechanical /Electronics /CS...UnixC++LinuxScrumData miningSDLCAnalyticsAutomotive30+ Days Agosave\n",
      "Data AnalystFIGMD3.4(169 Reviews)3-5 YrsNot disclosedPune Graduate or equivalent qualification with experience in recognized, global IT services ...JIRAHIPAAAllscriptsEHR database mappingdata structurePythonConfluenceLinux30+ Days Agosave\n",
      "Data AnalystsAtulya group2-5 YrsNot disclosedMumbai Proficient in the use of mySQL, HTML, Visual Basic Scripting, MS Access, and MS Excel U...Computer scienceVisual BasicExcelMS AccessMySQLClassic ASPHTMLData mining30+ Days Agosave\n",
      "Informatica Master Data Analyst (MDM)Rich Graviss Products4.3(89 Reviews)4-9 YrsNot disclosedPune Roles and Responsibilities -Responsible for leading the enhancement and maintenance of ...Informatica MDMJavaAPIETLMicrosoft officeAzure Devops30+ Days Agosave\n",
      "IO - CR - Reg Reporting - Data AnalystM&amp;G plc1-4 YrsNot disclosedMumbai Execute the operational processes for reporting data to Clients, sourcing, verifying an...Business transformationOperational riskManagement consultingdata governanceActuarialData qualityCustomer serviceInformation technology30+ Days Agosave\n",
      "IO - CR - Reg Reporting - Data AnalystMG GLOBAL2-5 YrsNot disclosedMumbai The key responsibilities of this position are to work within a team which is responsibl...Business transformationOperational riskManagement consultingdata governanceActuarialData qualityCustomer serviceInformation technology30+ Days Agosave\n",
      "Category Manager/ Data AnalystRusset Studio3-6 YrsNot disclosedMumbai Good communication and presentation skills Prior work experience in Category Manager or...ProcurementAnalystExcelSalesAnalyticalSales analysisE-commerceCustomer service30+ Days Agosave\n",
      "Data Visualization/ Project Management AnalystTaskUs3.9(337 Reviews)2-5 YrsNot disclosedMohali, Indore, Gurgaon/Gurugram(WFH during Covid) Bachelors Degree in Computer Science, Mathematics, Statistics, programming background (...JIRAproject coordinationproject documentation19 Days Agosave\n",
      "Data Privacy Analystsynchronoss India4.5(88 Reviews)4-7 YrsNot disclosedBangalore/Bengaluru Bachelors degree in Computer Science, Information Systems, Engineering, or a related fi...GISComputer scienceAutomationCisaHP data protectorInformation securitydata privacyManagement19 Days Agosave\n",
      "Senior Business Analyst/Data Engineer - Python/AWS/SQLHuquo Consulting Pvt. Ltd3-6 YrsNot disclosedBangalore/Bengaluru Expert in Python, with good knowledge of business logic in Python Experience in Azure A...Application DesigningPySparkAzure DatabricksSnowflake DBData WarehousingORMData AnalyticsAWS21 Days Agosave\n",
      "\n"
     ]
    },
    {
     "name": "stderr",
     "output_type": "stream",
     "text": [
      "[WDM] - ====== WebDriver manager ======\n",
      "[WDM] - Current google-chrome version is 102.0.5005\n",
      "[WDM] - Get LATEST chromedriver version for 102.0.5005 google-chrome\n",
      "[WDM] - Driver [C:\\Users\\lenovo\\.wdm\\drivers\\chromedriver\\win32\\102.0.5005.61\\chromedriver.exe] found in cache\n"
     ]
    },
    {
     "name": "stdout",
     "output_type": "stream",
     "text": [
      "AM/Business Analyst - Data Analytics - SQL - KPOSearch Light3-7 YrsNot disclosedBangalore/Bengaluru Independently performing analysis using tools like SQL, MicroStrategy, Tableau and R. Q...Data AnalyticsSQL codingSQLBusiness IntelligenceMS ExcelAnalyticsBusiness Analysis28 Days Agosave\n",
      "Data Scientist / Analystopen data fabric4-9 YrsNot disclosedBangalore/Bengaluru University / college degree in Computer Science, Engineering or relevant field 4+ Years...Data AnalyticsPower - BIData ScienceBig Data TechnologiescommunicationSQLPythonGit30+ Days Agosave\n",
      "Data Scientist and AnalystDiverse Lynx3.0(67 Reviews)2-6 YrsNot disclosedPune Must Have Knowledge and experience in python, tableau, deep learning, machine learning,...natural languagetableaupythondeep learningSQLBusiness AnalyticsStatistical Modelingmachine learning30+ Days Agosave\n",
      "Data Analyst / Senior Data AnalystDreambig-it solutions pvt ltd1-3 YrsNot disclosedNoida Data Analyst / Senior Data AnalystRequired Exp. - 1-3 yrsNotice Period - Immediate Join...statistical analysisIT SkillsProduct ManagementTableauBig QuerySASData Studiodata modelling30+ Days Agosave\n",
      "Senior Analyst Programmer - Oracle Database & Data warehouseAugusta Infotech  4-7 YrsNot disclosedGurgaon/Gurugram(WFH during Covid) Hiring, Analyst Programmers in the below areas • BE / B-Tech / MCA• 4 -7 Years of Exper...sql queriesRDBMSinformaticaPL / SQLPerformance tuningData warehouseETLverbal3 Days Agosave\n",
      "Sr Manager / Manager / DM - Data Analyst – Portfolio RiskRiverForest Connections Private Limited3-8 YrsNot disclosedMumbai Roles and Responsibilities Job Purpose: Data procurement, processing, segmentation, ana...Logistic RegressionSegmentationFactor AnalysisLinear RegressionData AnalysisDashboardsscorecard buildingDecision Trees30+ Days Agosave\n",
      "Data Analyst (Location : Hyderabad)Manning Consulting 3-8 Yrs6,00,000 - 12,00,000 PA.Hyderabad/Secunderabad Skills : Excel, Advanced Excel, SQL, SQL query Location : Hyderabad Salary : 6-12 LPA E...advanced excelSQLexcel4 Days Agosave\n",
      "Data AnalystACZ Global Private Limited4-7 YrsNot disclosedKochi/Cochin, Trivandrum/Thiruvananthapuram Experience working with Business leaders / leadership groupsMS Office skills: Advanced ...Data Analysispower bi15 Days Agosave\n",
      "Analyst, Ethics and Compliance Data Analytics and MonitoringWestern Digital4.1(93 Reviews)2-6 YrsNot disclosedBangalore/Bengaluru BA or equivalent degree from an accredited college or universityAbility to work effecti...Data analysistableauVisual BasicComplianceVLOOKUPData analyticsManagementSQL30+ Days Agosave\n",
      "Data Extraction Analyst - Data MiningiAastha0-1 YrsNot disclosedNavi Mumbai Data Extraction Engineer : - Full time Our right candidate has experience in programmin...Data MiningData ExtractionPythoncrawlingCSSJavaScriptHTMLIT Skills21 Days Agosave\n",
      "Data Extraction Analyst - Data MiningiAastha0-1 YrsNot disclosedNavi Mumbai Data Extraction Engineer : Navi Mumbai, India - Full time Our right candidate has exper...Data MiningPythonHTMLCSSdata crawlingapplicationsJavaScriptIT Skills30+ Days Agosave\n",
      "data science analystCRED4.1(17 Reviews)1-3 YrsNot disclosedBangalore/Bengaluru experience in hadoop, hive, HDFS, spark, AWS redshift, presto, and other distributed pr...Analytical skillsHealth insurancedata scienceData qualityData miningbig dataOperationsMonitoring30+ Days Agosave\n",
      "Data Quality Analyst - A.P. MaerskMaersk4.4(1665 Reviews)3-8 Yrs25,00,000 - 35,00,000 PA.Pune Description:Do you love working with analyzing data? Are you a solver whos good at seek...Six SigmaData QualitySAPRoot Cause AnalysisExceldata analysisS4HData Analyst21 Days Agosave\n",
      "Data/ Statistical AnalystQUANTUM INTERNATIONAL PRIVATE LIMITED3.6(6 Reviews)0-5 YrsNot disclosedNoida Good command of English language both in spoken and written form is requiredSQL. Exposure to any BI tool will be an  additional recommended asset.report generationCandidate must have an operational knowledge of spreadsheets software  applications such as ExcelPowerPointstatistical modelingACCESSBusiness Analysis22 Days Agosave\n",
      "Global Procurement Data & Analytics Analyst (AVP)Deutsche Bank4.2(1799 Reviews)6-11 YrsNot disclosedJaipur The person will be required to think on his feet, good with numbers and able to deliver...ProcurementAutomationPerformance managementInfrastructure managementProject managementConsultingStakeholder managementAnalytics25 Days Agosave\n",
      "Data Processing Analyst IArrow Electronics3.7(265 Reviews)3-5 YrsNot disclosedNew Delhi, Gurgaon/Gurugram Should be comfortable to work in shifts combine and rearrange data from source emails w...ExcelSalesManagement systemsManager TechnologyElectronicsData Processing Analystdata integrityDocument management19 Days Agosave\n",
      "Data Management AnalystWells Fargo4.2(2987 Reviews)2-7 YrsNot disclosedSerilingampally 2+ years of Data Management, Business Analysis, Analytics, Project Management experienc...Data ManagementData Management AnalystProject Managementdata governancebusiness analysis21 Days Agosave\n",
      "Junior Data AnalystKARYA CONSULTANTS PRIVATE LIMITED1-3 YrsNot disclosedBangalore/Bengaluru 3 years of experience with Python Data Analysis Packages(Pandas, NumPy, Matplotlib, Sci...IT SkillsPythonTableauPower BIData Analysis30+ Days Agosave\n",
      "Data Governance Business Analyst - Information AssetInformation Asset1.0(2 Reviews)7-12 YrsNot disclosedVijayawada Bachelor s degree and / or equivalent work experience 5+ years experience working with ...Business AnalystData Governance30+ Days Agosave\n",
      "Business Analyst (Data Modelling & Interpretation)LOCUS SOLUTION2-5 YrsNot disclosedGurgaon/Gurugram Problem structuring, project planning and execution of business research projectsExtens...Data ModellingBloombergHooversDialogProFactivaData interpretation26 Days Agosave\n",
      "\n"
     ]
    },
    {
     "name": "stderr",
     "output_type": "stream",
     "text": [
      "[WDM] - ====== WebDriver manager ======\n",
      "[WDM] - Current google-chrome version is 102.0.5005\n",
      "[WDM] - Get LATEST chromedriver version for 102.0.5005 google-chrome\n",
      "[WDM] - Driver [C:\\Users\\lenovo\\.wdm\\drivers\\chromedriver\\win32\\102.0.5005.61\\chromedriver.exe] found in cache\n"
     ]
    },
    {
     "name": "stdout",
     "output_type": "stream",
     "text": [
      "Business Analyst Data Modelling & InterpretationLocus Solution2-5 YrsNot disclosedGurgaon/Gurugram Problem structuring, project planning and execution of business research projectsExtens...buisness analystBloombergData modelling & Data interpretationHooversDialogProFactiva30+ Days Agosave\n",
      "Data Business AnalystDiverse Lynx3.0(67 Reviews)1-5 YrsNot disclosedGurgaon Proposing structural and non-structural changes as required by projects and BAUIT SkillsTestingBusiness AnalystComplianceConsultingManager TechnologyBusiness managementGap analysis30+ Days Agosave\n",
      "Senior Data and Reporting AnalystDOCS4-9 YrsNot disclosedChennai, Bangalore/Bengaluru Bachelor / Master degree in any disciplineMinimum of 4 years of data analysis / dashboa...Analytical skillsData analysisReporting AnalystQuality checkmanagementdata reportingProcess improvementMetrics analysis30+ Days Agosave\n",
      "Senior Data & amp ; Reporting AnalystDOCS4-9 YrsNot disclosedChennai, Bangalore/Bengaluru Bachelor / Master degree in any disciplineMinimum of 4 years of data analysis / dashboa...Analytical skillsData analysisSenior managementQuality checkReporting Analystdata reportingProcess improvementMetrics analysis30+ Days Agosave\n",
      "Senior Analyst, Data AnalyticsWirewebs Digital Solutions3-6 YrsNot disclosedAhmedabad Strong knowledge of and experience with Excel, databases (Redshift, Oracle etc.)Finance...RPythonRedshiftExcelSQL queriesOracleDatawarehousingData Modelling30+ Days Agosave\n",
      "Data Quality Senior AnalystDell International Services IndiaPrivate Limited3-5 YrsNot disclosedHyderabad/Secunderabad Develop good relationships with users across the firm and interact with them to resolve...SQLData QualityExcelPower BiData ManagementData AnalysisData VisualizationMachine Learning27 Days Agosave\n",
      "Senior Analyst - Data Strategy & InfrastructurePhenom Placement Consultancy5.0(7 Reviews)2-4 YrsNot disclosedBengaluru Bachelor s / Master s degree in engineering, information systems, finance, statistics o...Data validationSenior AnalystHyperionAnalyticalServer managementInvestment bankingInformaticaPrincipal30+ Days Agosave\n",
      "Data Analyst role.ERM Placement Services (P) Ltd. 2-7 YrsNot disclosedKolkata, Hyderabad/Secunderabad, Bangalore/Bengaluru Experience in building semi supervised / supervised models (Ex: customer segment models...Data AnlalyticsData VisualizationPythonSQL29 Days Agosave\n",
      "Data Analyst - R/Python/SQLJobs Accuracy2-5 YrsNot disclosedBangalore/Bengaluru Along with this, you will be expected to have a very good handle on different data stre...RPythonSQLIT SkillsTableauPower BIBusiness IntelligenceDimensional Modeling20 Days Agosave\n",
      "Manager - Data AnalystHuquo Consulting Pvt. Ltd3-8 YrsNot disclosedGurgaon/Gurugram, Bangalore/Bengaluru, Delhi / NCR Data analysis or rigorous problem solving experience Must haves : - Strong SQL and Exce...data analysisPythonanalyticalSQLExcelIT Skillsanalyticsdata quality22 Days Agosave\n",
      "Data AnalystJobs Accuracy2-5 YrsNot disclosedBangalore/Bengaluru Required abilities / Competencies : - Attention to detail and strong data orientation A...Power BIQlikviewTableauDatastudioBusiness IntelligenceRDimensional ModelingData Analyst30+ Days Agosave\n",
      "Data Analyst - R/Python/SQLJobs Accuracy2-5 YrsNot disclosedBangalore/Bengaluru Position: Data AnalystReports To: Project ManagerHiring ManagerAbout the role : - Data ...RSQLPythonIT SkillsTableauPower BIData AnalystQlikview28 Days Agosave\n",
      "Data AnalystOrcapod Consulting Services Private Limited   3-8 Yrs10,00,000 - 15,00,000 PA.Ahmedabad, Bangalore/Bengaluru Bachelor is required Advanced experience with scripting language Python or Shell is a m...pythonsql queriesTableauhivedata analysishadoop30+ Days Agosave\n",
      "Senior Analyst - Data ServicesRF Managed Services India Pvt Ltd2.6(30 Reviews)3-5 YrsNot disclosedChennai Graduates / Post Graduates in any stream Skill Set / Competencies Required Laterals wit...ERPData conversionManaged servicesData managementRFBusiness process improvementMISProcess improvement30+ Days Agosave\n",
      "Data AnalystSearch Advisers Services ( GUJ ) Pvt. Ltd.  4-9 Yrs15,00,000 - 16,00,000 PA.Bangalore/Bengaluru Experience: 4-6 yearsdata analysisAlteryxTableauETLBusiness AnalysisPivot TableVBAKPI30+ Days Agosave\n",
      "Associate Data AnalystBlueOptima 1-2 YrsNot disclosedBangalore/Bengaluru BlueOptimas vision is to become the global reference for the optimisation of the perfor...pythonStatisticsIT SkillsSoftware DevelopmentData ScienceTableaudata analysisSQL25 Days Agosave\n",
      "Data Analyst For a leading Home Security Solutions CompanyAcme Services   3-7 Yrs5,00,000 - 7,00,000 PA.Bangalore/Bengaluru(Sarjapur) Minimum 6 months to 1-year experience in Python scripting.Excellent communication, Good...Advanced ExcelData ReportsBusiness AnalystData InterpretationConditional FormattingDashboardData CollectionSQL30+ Days Agosave\n",
      "Data Analyst - SQL/ETL/Data Modeling ToolsHuquo Consulting Pvt. Ltd4-7 YrsNot disclosedBangalore/Bengaluru Proficient in data modeling techniques as well as capability of discussing and communic...ETLData Modeling ToolsSQLIT SkillsOracleClient ManagementPowerDesignerER/Studio21 Days Agosave\n",
      "Data Analyst SQL with an Ecommerce company, Bangalore (WFO)CIEL HR Services Pvt Ltd 1-6 Yrs5,00,000 - 6,00,000 PA.Bangalore/Bengaluru Desired Candidate Profile Min 1 yr exp in data analysis and good exp in SQL, Power BI a...analysisSQLBPOdata analysisdataPower BIextractiontransformation25 Days Agosave\n",
      "Immediately hiring For Data Analyst/ BALakshya Software Technologies Private Limited 5-10 YrsNot disclosedChennai, Bangalore/Bengaluru(WFH during Covid) Financial experience especially in an investment management or credit risk sector requi...data analysisPower Bisqlinvestment managementfinance26 Days Agosave\n",
      "\n"
     ]
    },
    {
     "name": "stderr",
     "output_type": "stream",
     "text": [
      "[WDM] - ====== WebDriver manager ======\n",
      "[WDM] - Current google-chrome version is 102.0.5005\n",
      "[WDM] - Get LATEST chromedriver version for 102.0.5005 google-chrome\n",
      "[WDM] - Driver [C:\\Users\\lenovo\\.wdm\\drivers\\chromedriver\\win32\\102.0.5005.61\\chromedriver.exe] found in cache\n"
     ]
    },
    {
     "name": "stdout",
     "output_type": "stream",
     "text": [
      "Immediately hiring For Data Analyst/ BALakshya Software Technologies Private Limited 5-10 YrsNot disclosedChennai, Bangalore/Bengaluru(WFH during Covid) Financial experience especially in an investment management or credit risk sector requi...data analysisPower Bisqlinvestment managementfinance26 Days Agosave\n",
      "Data Analyst - SQL - B2C Fintech DomainConnexions1-4 YrsNot disclosedBangalore/Bengaluru Seeking Candidates from B2C Product companiesRole: Product Analyst Data Analyst - With ...SQLProduct AnalystMicrostrategyData AnalystData Visualization ToolsStatistical AnalystQlikviewTableau28 Days Agosave\n",
      "Data Analyst with leading Indian MNCSKILLVENTORY5-10 YrsNot disclosedHyderabad/Secunderabad, Bangalore/Bengaluru Experience working in an agile environmentagilemetricsagile environmentBusiness UnderstandingKPIsData AnalystsAnalytics30+ Days Agosave\n",
      "Data AnalystBigshyft Hiring for Indium Software3-6 Yrs10,00,000 - 20,00,000 PA.Hyderabad/Secunderabad, Bangalore/Bengaluru What makes you a great fit:2+ years of Analytics with predominant experience in SQL, SA...Power BIData VisualizationTableaudata analystSQL30+ Days Agosave\n",
      "Data AnalystBigshyft Hiring for Indium Software3-6 Yrs10,00,000 - 20,00,000 PA.Hyderabad/Secunderabad, Bangalore/Bengaluru What makes you a great fit:2+ years of Analytics with predominant experience in SQL, SA...Power BIData VisualizationTableaudata analystSQL30+ Days Agosave\n",
      "Data Engineering AnalystPeopleplus Professional Services Pvt. Ltd. 3-7 YrsNot disclosedHyderabad/Secunderabad, Pune, Bangalore/Bengaluru Job Summary: We are Australia's leading telecommunications and technology company, with...AngularjsMicroservice Based ArchitectureJava FullstackIT SkillsJavaTestingCloudDevOps11 Days Agosave\n",
      "HR Data Analyst - Python/Power BIHuquo Consulting Pvt. Ltd5-7 YrsNot disclosedGurgaon/Gurugram Analytical mindset and must have good technical skills related to the field of data ana...Power BIHRPythonverbalwritten communicationAdvance excelAnalyticalMicrosoft Office21 Days Agosave\n",
      "HR Data Analyst - Python/Power BIHuquo Consulting Pvt. Ltd5-7 YrsNot disclosedGurgaon/Gurugram Roles and responsibilities :- Manages HR metrics and data from multiple sources like ex...PowerBIAdvanced ExcelPythonDashboard ToolsData VisualizationData AnalystData Visualization ToolsData Analytics20 Days Agosave\n",
      "Data Analyst - Machine/Deep Learning AlgorithmsHuquo Consulting Pvt. Ltd2-7 YrsNot disclosedGurgaon/Gurugram, Delhi NCR Very strong analytical skills with the demonstrated ability to research and make decisi...Data AnalystData AnalyticsMachine LearningAlgorithmDeep LearningPythonSQL22 Days Agosave\n",
      "Data Analyst - R/Python/ML AlgorithmsHuquo Consulting Pvt. Ltd3-5 YrsNot disclosedDelhi / NCR Min 5 years of experience in a similar profileGood problem-solving skillsRData ModelingPythonIT SkillsMachine LearningData StrategyData MiningStatistical Analyst26 Days Agosave\n",
      "Data Analyst - Machine/Deep Learning AlgorithmsHuquo Consulting Pvt. Ltd2-7 YrsNot disclosedGurgaon/Gurugram, Delhi / NCR Very strong analytical skills with the demonstrated ability to research and make decisi...Machine LearningIT SkillsPythonData ScienceTensorflowData AnalystData AnalyticsAlgorithm29 Days Agosave\n",
      "Data AnalystSIGNITY CORPORATE SOLUTIONS PRIVATE LIMITED3-7 YrsNot disclosedHyderabad/Secunderabad, Chennai BTech /BE / MTech or MCA degree from a reputed universityComputer science background is...Data AnalysisTableauPythonIT SkillsREvent MonitoringTechnical SkillsComputer Science30+ Days Agosave\n",
      "Data Analyst - R/Python/Machine Learning AlgorithmsHuquo Consulting Pvt. Ltd3-5 YrsNot disclosedDelhi / NCR Min 5 years of experience in a similar profileGood problem-solving skillsdata analysisRPythonFactor Analysismathematical modellingdata miningdata modellingPredictive analysis28 Days Agosave\n",
      "Data AnalystHuquo Consulting Pvt. Ltd5-6 YrsNot disclosedDelhi / NCR Min 5 years of experience in the similar profileGood problem-solving skillsNLPStatistical ModelingData MiningData VisualizationData ModelingData AnalyticsMachine LearningAnalytics28 Days Agosave\n",
      "Data AnalystMATRIX HR TECHNOLOGIES PRIVATE LIMITED  2-5 Yrs2,00,000 - 4,00,000 PA.Hyderabad/Secunderabad(WFH during Covid) Define the data elements and data structure that our team should leverage to enable ana...advanced exceldashboardsdata analysisdata analyticscommunication skills22 Days Agosave\n",
      "Data Analyst - FinTechPrimo Hiring1-3 YrsNot disclosedNoida, Ghaziabad, Faridabad, Gurgaon/Gurugram, Delhi / NCR SKILLS REQUIRED : - Previous experience in data analysis Knowledge of statistics and ex...Data AnalyticsConsulting - BFSISASData MiningStatisticsAnalytics25 Days Agosave\n",
      "SAP MDM (Master Data Management) Data AnalystCareerist management Consultants Pvt. Ltd. 6-11 Yrs22,50,000 - 25,00,000 PA.Remote 7yr and above years of systems/ data analysis/ configuration experience in a large inte...data analysissap mdmSAP ERP ImplementationSAP Implementationmaster data managementSAP ECCMDMSap Hana30+ Days Agosave\n",
      "Data Analyst- (SAS&SQL) - Banking /Financial domainMastermind Network   3-5 YrsNot disclosedDelhi / NCR Must have good exposure in SAS & SQLExp: 3-5 yrs in Reporting and Analytics -with Good ...Data AnalystData ValidationSASData MigrationData ManipulationData AnalysisData ExtractionReporting28 Days Agosave\n",
      "Data Analyst -Metrics Management with renowned NBFC orgnisation-PuneSKILLVENTORY10-15 YrsNot disclosedPune Roles and Responsibilities 1)Generate Insights and Data Models-Propensity model for Cus...AutomationBI toolsdata modellingData AnalysisPredictive modellingmetric management30+ Days Agosave\n",
      "Lead - Data Integration Consultant - Informatica / Data AnalystHuquo Consulting Pvt. Ltd8-12 YrsNot disclosedBangalore/Bengaluru Basic FunctionThe Enterprise Application Integration Developer is responsible for the d...RESTful APIInformaticaData IntegrationIT SkillsJavaSoftware DevelopmentCloudOracle21 Days Agosave\n",
      "\n"
     ]
    },
    {
     "name": "stderr",
     "output_type": "stream",
     "text": [
      "[WDM] - ====== WebDriver manager ======\n",
      "[WDM] - Current google-chrome version is 102.0.5005\n",
      "[WDM] - Get LATEST chromedriver version for 102.0.5005 google-chrome\n",
      "[WDM] - Driver [C:\\Users\\lenovo\\.wdm\\drivers\\chromedriver\\win32\\102.0.5005.61\\chromedriver.exe] found in cache\n"
     ]
    },
    {
     "name": "stdout",
     "output_type": "stream",
     "text": [
      "Data Analytics AnalystKelly Outsourcing and Consulting Group India  Priv  ate Limited2-5 Yrs15,00,000 - 19,00,000 PA.Chennai, Bangalore/Bengaluru Bachelors / University degree or equivalent experience 5 years experience using tools f...SASReportingSQLdata analyticsstatistical modeling8 Days Agosave\n",
      "Data Science/Analyst internAutoCAD4.4(87 Reviews)2-4 YrsNot disclosedBangalore/Bengaluru We are looking for a Data Science / Analyst intern to join the Commissions team in Digi...IT SkillsData ScienceAnalystData analysisConstructionInternArchitectureData collection30+ Days Agosave\n",
      "Data Quality Analyst (Work from Office- Hybrid)Smartstream Technologies India Private Limited3.6(80 Reviews)2-4 YrsNot disclosedBangalore/Bengaluru Derivatives and Capital Market understanding is mustTechnical Skills Required: o SQL St...EquityDerivativesFixed IncomeSQLPythonJavaCorporate ActionsUnix Shell Scripting13 Days Agosave\n",
      "Data AnalystEverest Fleet Pvt. Ltd. 3.9(3 Reviews)1-3 Yrs2,00,000 - 3,00,000 PA.Thane, India Google Sheet, Excel . Should know Queries, Lookups, conditional if functions Dashboard ...Google Sheets Advance Excel 10 Days Agosave\n",
      "Analyst - DataPayU4.2(194 Reviews)2-5 YrsNot disclosedBangalore/Bengaluru Open to work in shifts Graduate degree with 2-5 years of experience in an MIS & Reporti...MS SQLBackendRisk assessmentAnalyticalData collectionIncident managementFinancial servicesReporting tools30+ Days Agosave\n",
      "Lead Analyst, Data Management Quantitative AnalysisBNY Mellon4.2(2399 Reviews)5-7 YrsNot disclosedPune Bachelors degree or the equivalent combination of education and experience7 years exper...Data managementAnalyticalFinanceManager TechnologyRepresentativeLead AnalystSQLQuantitative analysis30+ Days Agosave\n",
      "Reference Data Management - AnalystInstitutional Shareholder Services3.5(21 Reviews)2-5 YrsNot disclosedMumbai Develop and maintain deep understanding of reference and master data sets mentioned abo...Manager Quality AssuranceCapital IQData managementBloombergData collectionData qualitymicrosoftAnalytics30+ Days Agosave\n",
      "Senior Business Analyst - Product Management/Data InsightsConsult ShekharPandey4-9 YrsNot disclosedBangalore/Bengaluru Experience Requirements: - Engineering graduate with an MBA, preferably Experience in u...AgileanalyticalIT SkillsProduct ManagementUser StoryBusiness AnalystUATData Analytics30+ Days Agosave\n",
      "MIS Executive | Data AnalystMegara InfoTech Pvt. Ltd. 0-1 Yrs1,50,000 - 2,50,000 PA.Noida, Meerut, Faridabad, Gurgaon/Gurugram, Jaipur, Delhi / NCR Practical Knowledge in MIS & Data Analyst. Knowledge in Advance Excel with Formulas. Kn...mis executiveMISmis managerExcel DashboardsVLOOKUPFormulasAdvanced ExcelMacros20 Days Agosave\n",
      "Data Scientist AnalystBeacon Solutions 2-5 Yrs6,00,000 - 10,00,000 PA.Aurangabad, Mumbai (All Areas) Roles and Responsibilities Industry experience in predictive modelling, data science, a...algorithmsNLPPythonPython Data AnalyticsMachine learningComputerVisionDeep Learning30+ Days Agosave\n",
      "Senior Data AnalystTALCHEMY SOLUTIONS LLP  2-6 Yrs7,00,000 - 12,00,000 PA.Noida - Good experience using R to interrogate large datasets and undertake complex behaviora...R ProgramPythonSQL11 Days Agosave\n",
      "Senior Lead Analysts - Data Management and ModelingThomson Reuters4.3(1241 Reviews)5-7 YrsNot disclosedHyderabad/Secunderabad Competencies: Effective at communications across various levels, including Executives, ...BPOprocess improvementData managementAnalyticalDiversity and InclusionSchemaTaxationmicrosoft30+ Days Agosave\n",
      "Senior Associate, Senior Reporting Analyst, Data Management Pfizer4.2(2037 Reviews)4-7 YrsNot disclosedChennai As a Senior Associate, your knowledge and skills will contribute towards the goals and ...Operational excellenceEDCManagement systemsClinical trialsHealthcareDocument managementdata visualizationAnalytics30+ Days Agosave\n",
      "Data Management AnalystRandstad India Private Limited 4-7 YrsNot disclosedHyderabad/Secunderabad, Bangalore/Bengaluru Proficient in Requirements gathering and working with multiple data ownersexperience wo...data managementTeradataSQLdata qualitydata governanceMetadataData Warehousing22 Days Agosave\n",
      "Looking For Data AnalystManpowerGroup Services India Private Limited  5-10 Yrs10,00,000 - 20,00,000 PA.Hyderabad/Secunderabad(WFH during Covid) Good math and analytical skills including statistics, simulation, and optimizationYou s...Power Bidata visualizationsqlmicrosoft power biRms exceldata analysisdashboards26 Days Agosave\n",
      "Data Visualization Analyst - Tableau/ Power BIPPD4.5(137 Reviews)4-8 YrsNot disclosedBangalore/Bengaluru(WFH during Covid) Summarized Purpose:The PPD Data Visualization Analyst, working along with supervision, ...Power BiData VisualizationDashboard Developmenttableau softwaresqlR languagedata analysisdata analytics28 Days Agosave\n",
      "Data Engineer and AnalystCyient3.7(2809 Reviews)2-3 YrsNot disclosedHyderabad/Secunderabad We are looking for a developer who will join us at our Hyderabad location and perform d...IT SkillsPythonCloudMS SQLBig DataAWSSharepointAutomation30+ Days Agosave\n",
      "Analyst , Data Mgmt & GovernanceCardinal Drugs Ltd.4-7 YrsNot disclosedBangalore/Bengaluru Implements and maintains decision support or master data management solutionsBachelors ...Direct salesGlobal sourcingOperational excellenceNutritionPharmacyData qualityCustomer serviceBusiness intelligence21 Days Agosave\n",
      "OLM Analyst - Data & AnalyticsShell4.3(1088 Reviews)5-7 YrsNot disclosedBangalore/Bengaluru The RoleMobility (earlier Retail) is one of the rapidly growing businesses in Downstrea...Data visualization toolsPowerBIincluding LabelsData ModellingCSSSACJavaScriptChartsHTML25 Days Agosave\n",
      "Analyst, Data Quality AnalyticsDell International Services IndiaPrivate Limited2-3 YrsNot disclosedBangalore/Bengaluru Analyst, Data Quality AnalyticsData Science is all about breaking new ground to enable ...SQLIT SkillsData ScienceBig DataTableauPower BIMS ExcelDell Data Lake27 Days Agosave\n",
      "\n"
     ]
    },
    {
     "name": "stderr",
     "output_type": "stream",
     "text": [
      "[WDM] - ====== WebDriver manager ======\n",
      "[WDM] - Current google-chrome version is 102.0.5005\n",
      "[WDM] - Get LATEST chromedriver version for 102.0.5005 google-chrome\n",
      "[WDM] - Driver [C:\\Users\\lenovo\\.wdm\\drivers\\chromedriver\\win32\\102.0.5005.61\\chromedriver.exe] found in cache\n"
     ]
    },
    {
     "name": "stdout",
     "output_type": "stream",
     "text": [
      "Data Operations AnalystepiFi Technologies2-3 YrsNot disclosedBangalore/Bengaluru Graduate with at least 2-3 years of work experience is a plusBachelor s degree in Econo...IT SkillsPythonAWSTableauData analysisAutomationUS GAAPData management30+ Days Agosave\n",
      "Data Management AnalystE2open, LLC4.0(159 Reviews)4-7 YrsNot disclosedBangalore/Bengaluru Analyze data related to Global Trade received in different formats such as text, excel,...Data conversionISOXMLData qualitydata integritydata management analystmicrosoftOracle30+ Days Agosave\n",
      "ETL Developer (Data and Reporting Analyst)TeamPlus Staffing Solution Pvt Ltd5.0(3 Reviews)5-10 YrsNot disclosedDelhi, Bengaluru Purpose of the role : The Data & Reporting team is responsible for Pacific operational ...AutomationPrototypeData managementScrumSSISBusiness intelligencemicrosoftStakeholder management30+ Days Agosave\n",
      "Associate Data Management AnalystE2open, LLC4.0(159 Reviews)3-6 YrsNot disclosedBangalore/Bengaluru Analyze data related to Global Trade received in different formats such as text, excel,...PLSQLverbalExcelwritten communicationSQLdata managementMicrosoft SuiteIT Skills30+ Days Agosave\n",
      "Data / Operations AnalystTech Wynk It Solutions LLP3-8 YrsNot disclosedBangalore/Bengaluru Proficient in Tableau and Microsoft Power BI Minimum 3 years as an analyst in a profess...Business processAnalytical skillsOperations AnalystInterpersonal skillsWorkflowChannel managementpower biData analytics30+ Days Agosave\n",
      "Data Engineer / AnalystAgreeYa3.5(121 Reviews)3-7 YrsNot disclosedNoida Experience with data analysis (aggregations, trends, patterns) required SQL / Hive and ...OracleSQLdata visualizationdata analysisRHiveIT SkillsOracle SQL30+ Days Agosave\n",
      "ETL Developer ( Data and Reporting Analyst) TeamPlus Staffing Solution Pvt Ltd5.0(3 Reviews)5-10 YrsNot disclosedBangalore/Bengaluru Experience developing dashboards using Tableau and MS Excel Experience conducting end-t...AutomationPrototypeData managementScrumSSISBusiness intelligencemicrosoftStakeholder management30+ Days Agosave\n",
      "Data Analyst / DeveloperDeutsche Bank4.2(1799 Reviews)2-6 YrsNot disclosedBangalore/Bengaluru Technical skills Working knowledge and practical experience in enterprise Transaction M...Data analysisWealth managementCodingProject managementAnalyticalAnti money launderingCash managementFinancial services30+ Days Agosave\n",
      "Data AnalystDeutsche Bank4.2(1799 Reviews)2-5 YrsNot disclosedBangalore/Bengaluru Technical skills Working knowledge and practical experience in enterprise Transaction M...Data analysisWealth managementCodingProject managementAnalyticalAnti money launderingCash managementFinancial services30+ Days Agosave\n",
      "Data Analyst - SQL / Tableau / Python / JavaScriptingJobsTV India4-6 Yrs10,00,000 - 14,00,000 PA.Hyderabad/Secunderabad, Chennai, Bangalore/Bengaluru 3+ years of exp in SQL / Tableau / Python / JavaScripting Bug tracking tools Exp in tro...Bug Tracking toolsTrouble Shooting expTableauSQLPythonJavaScriptingtroubleshootingIT Skills15 Days Agosave\n",
      "Data AnalystKPMG3.8(3229 Reviews)1-3 YrsNot disclosedBangalore/Bengaluru Hands on experience in Data Analysis ( Data Modelling/ Mapping) Hands on experience in ...EtlSql Queries30+ Days Agosave\n",
      "Data Governance AnalystStateStreet Global Advisor Pvt Ltd3.9(133 Reviews)7-12 YrsNot disclosedHyderabad/Secunderabad, Bangalore/Bengaluru Responsibilities: You will be key member of Data Governance Implementation program for ...Process automationAnalystremediationmetadataWorkflowData qualityInvestment managementBusiness intelligence26 Days Agosave\n",
      "Data AnalystXentricx Technologies Private Limited2.0(3 Reviews)0-6 YrsNot disclosedSolapur Required Skills Candidate should have good typing skills and MS Office applications kno...communicationMS OfficeData Analyst30+ Days Agosave\n",
      "Data AnalystInternet Brands0-3 YrsNot disclosedMumbai build solutions to have maximum scale and self-service ability by partnersMust be profi...Data analysisWeb technologiesVLOOKUPAnalyticalSMBAdvanced ExcelBusiness intelligenceAutomotive30+ Days Agosave\n",
      "Job Opportunity For the position of Financial Data AnalystNIRVANA SOLUTIONS INDIA PRIVATE LIMITED3.7(33 Reviews)0-2 Yrs50,000 - 1,50,000 PA.Gurgaon/Gurugram Job Title - Financial Data Analyst. Experience Required - 0 - 2 years. Job Location - G...excelmba financeReconciliationfinancial analysisCapital MarketFinancial ReportingInvestment BankingFinance27 Days Agosave\n",
      "Analyst, Data Governance IIInvesco4.1(186 Reviews)3-8 YrsNot disclosedHyderabad/Secunderabad Job Purpose (Job Summary): To provide analyst capabilities, in order to govern data, as...Data GovernanceWordCollibraEDCAxonVisioService NowSQL22 Days Agosave\n",
      "Configuration and Data Integration Analyst WPP IT3-6 YrsNot disclosedChennai As we progress on this journey, The Configuration and Data Integration team will be cus...IT servicesData analysisAutomationManager Quality AssuranceBusiness analyticsAnalyticalWorkflowContinuous improvement26 Days Agosave\n",
      "Analyst - Master Data Management (Material & Service)Nayara Energy Limited4.2(856 Reviews)4-8 YrsNot disclosedJamnagar BE/ B Tech / Diploma Mechanical or Any Graduate with MBA in Material management Prepare...SAP MMexcelSAP ERPmaster data management30+ Days Agosave\n",
      "Data & Reporting Analyst IIIcon Clinical Research4.1(238 Reviews)2-3 YrsNot disclosedChennai Bachelors Degree Minimum of 2 years of extracting data analysis in excel (Strong excel ...Unixelectronic tradingMISAnalyticalSoftware development life cyclePerlTroubleshootingFinancial services30+ Days Agosave\n",
      "Data Tranformation Analyst IIIHS Markit4.1(470 Reviews)3-6 YrsNot disclosedGurgaon/Gurugram skills required to succeed in this role) Minimum - intermediate skill level in Office (...Web servicesData researchIHSTime managementAnalyticalmarket dataAnalyst IIResearch30+ Days Agosave\n",
      "\n"
     ]
    },
    {
     "name": "stderr",
     "output_type": "stream",
     "text": [
      "[WDM] - ====== WebDriver manager ======\n",
      "[WDM] - Current google-chrome version is 102.0.5005\n",
      "[WDM] - Get LATEST chromedriver version for 102.0.5005 google-chrome\n",
      "[WDM] - Driver [C:\\Users\\lenovo\\.wdm\\drivers\\chromedriver\\win32\\102.0.5005.61\\chromedriver.exe] found in cache\n"
     ]
    },
    {
     "name": "stdout",
     "output_type": "stream",
     "text": [
      "Data Research AnalystMorningstar4.3(376 Reviews)2-5 YrsNot disclosedMumbai Experience working with Morningstar s internal database tools and data collection proce...Process automationExcelFixed incomeProcess improvementData collectionData Research AnalystIssue resolutionData Analyst30+ Days Agosave\n",
      "Data Visualisation AnalystPulsus Healthtech3.0(142 Reviews)3-5 YrsNot disclosedHyderabad Create robust, reusable data querying, transformation, and visualization processes in S...Data analysisAutomationPDFData managementPharmaAnalyticalHealthcareQlikView30+ Days Agosave\n",
      "Analyst - Data ScienceMerkle Inc.1-6 YrsNot disclosedPune Hands-on experience of building statistical models like regression, decision tree, rand...IT SkillsPythonData ScienceTableauPower BIData validationSASTechnology solutions30+ Days Agosave\n",
      "Data Engineering AnalystDeutsche Bank4.2(1799 Reviews)6-12 YrsNot disclosedPune This division consist of many domain and sub-domains like Trade management, Investor sp...Service managementAutomationCorporate actionsTrade financeAnalyticalBillingData processingGerman30+ Days Agosave\n",
      "Data Visualization AnalystTaskUs3.9(337 Reviews)2-7 YrsNot disclosedMohali, Indore, Gurgaon/Gurugram As Data Visualization Analyst, you will mainly work on developing dashboards and report...BPOComputer scienceBusiness objectsoperational supportAnalyticalpower biQlikViewdata visualization30+ Days Agosave\n",
      "Data Transformation Analyst IIIHS Markit4.1(470 Reviews)2-3 YrsNot disclosedGurgaon/Gurugram Minimum of 3 years of industry related experienceAssociate s degree with concentration ...WordMicrosoft OfficeAnalyticalverbal communicationExcelIT SkillsSalesforceComputer science30+ Days Agosave\n",
      "Data AnalystBusiness Brio1-3 YrsNot disclosedKolkata Minimum undergraduate degree from a reputed university, preferably in STEM subjects or ...GraphicsMinitabFront endRDBMSMySQLWorkflowSPSSMacros30+ Days Agosave\n",
      "Senior Data AnalystMobile Premier League (MPL)2.8(30 Reviews)3-6 YrsNot disclosedBangalore/Bengaluru Heres what you will do - Working with different departments and business heads to bring...Data AnlalyticsBusiness Analyticspredictive analyticsData ModelingSQL30+ Days Agosave\n",
      "Senior Data Analystjupiter3.4(10 Reviews)2-6 YrsNot disclosedBengaluru Should be a quick learner with ability to learn new tools / technology quicklyRequired ...Statistical programmingdata scienceRisk analyticsAnalyticalSchemaCMSHTMLData warehousing30+ Days Agosave\n",
      "Sr . BI Analyst - Data Engineeringcloudneeti4.1(100 Reviews)4-6 YrsNot disclosedMohali Experience with Data Warehousing and Modeling best practices in Snowflake The candidate...Supply chainProcess automationGITEnterprise applicationsAnalyticalData qualityForecastingSQL25 Days Agosave\n",
      "Sr. Quality Analyst - DataAssimilate Solutions4.1(99 Reviews)4-9 YrsNot disclosedNoida, Gurgaon/Gurugram 4+ years of experience in Data Quality assurance across systemsBPOManager Quality AssuranceETL testingReconciliationDatabaseSenior Quality AnalystManager TechnologyData quality30+ Days Agosave\n",
      "Sr Data Warehouse AnalystAnicalls4.7(2 Reviews)5-10 YrsNot disclosedNoida Candidate should be able to: Support and improve production data integration system and...testingSSASSSRSanalyticalMicrosoft BIdatabase performance tuningOracleSSIS30+ Days Agosave\n",
      "Senior Analyst, Marketing Data and Insightsdoubledutch2-5 YrsNot disclosedGurgaon/Gurugram Centralized Marketing Data Warehouse platform maintenance and management, hosted on Sno...IT SkillsTestingCloudAWSTableauSalesforceB2B MarketingQuery Optimization30+ Days Agosave\n",
      "Data Analyst (Data Sets, Statistical Models) - Engineering ConsultancyThe Search House (A Div of JSD Search House Pvt. L td.)3-8 Yrs5,00,000 - 8,00,000 PA.Gurgaon/Gurugram Qualifications : Graduation in Engineering, Computer Science or Statistics with Post-gr...statistical modelsHadoopdata setsJavaVBMatlabPythonC++20 Days Agosave\n",
      "Analyst - Big Data TechnologiesConfidential2-3 YrsNot disclosedHyderabad/Secunderabad, Chennai Education: Masters degree in Comp Total experience - 2 to 3 years Solid Big-Data Techno...JavaPostgreSQLScalaPythonPostgresCommunicationSparkSQL7 Days Agosave\n",
      "Data Analyst - R/ Python/ Machine Learning AlgorithmsHuquo Consulting Pvt. Ltd3-5 YrsNot disclosedDelhi / NCR Min 5 years of experience in a similar profileGood problem-solving skillsRMachine LearningPythondata analysismathematical modellingdata analyticsFactor Analysisdata mining21 Days Agosave\n",
      "Data AnalystEC2 Consulting3-5 YrsNot disclosedSurat Skill Requirements:- Proven working experience as a Data Analyst of 3 to 5 years experi...SQL ServerPower BIMS Power BIPythonMicrosoft Power BIIT SkillsBI DesktopWeb Technologies25 Days Agosave\n",
      "Data Analyst - Machine/Deep Learning AlgorithmsHuquo Consulting Pvt. Ltd2-7 YrsNot disclosedGurgaon/Gurugram, Delhi / NCR, Delhi NCR Very strong analytical skills with the demonstrated ability to research and make decisi...XGBoostKerasTensorFlowIT SkillsPythonData ScienceMachine LearningData Analyst26 Days Agosave\n",
      "Data Analyst - Machine/Deep Learning AlgorithmsHuquo Consulting Pvt. Ltd2-7 YrsNot disclosedDelhi / NCR Very strong analytical skills with the demonstrated ability to research and make decisi...IT SkillsPythonData ScienceMachine LearningTensorflowXgboostKerasKnn28 Days Agosave\n",
      "Data Analyst- DSCHANGE LEADERS CONSULTING8-13 YrsNot disclosedDelhi / NCR Should have excellent verbal and written communication skill experience of developing A...Rwritten communicationverbalSparkPythonSQLPySparkMLFlow30+ Days Agosave\n",
      "\n"
     ]
    },
    {
     "name": "stderr",
     "output_type": "stream",
     "text": [
      "[WDM] - ====== WebDriver manager ======\n",
      "[WDM] - Current google-chrome version is 102.0.5005\n",
      "[WDM] - Get LATEST chromedriver version for 102.0.5005 google-chrome\n",
      "[WDM] - Driver [C:\\Users\\lenovo\\.wdm\\drivers\\chromedriver\\win32\\102.0.5005.61\\chromedriver.exe] found in cache\n"
     ]
    },
    {
     "name": "stdout",
     "output_type": "stream",
     "text": [
      "Data Analyst - R/SQL/PySparkHuquo Consulting Pvt. Ltd4-9 YrsNot disclosedGurgaon/Gurugram, Delhi / NCR No hand holding required) Write queries of any Language (Preferably SQL Scala) Excel (P...RPySparkSQLPL-SQLBig DataData VisualizationData AnalystData Visualization Tools21 Days Agosave\n",
      "Trade Compliance Data AnalystManpower Resources India Private Limited 4-6 Yrs8,00,000 - 12,00,000 PA.Pune(Talegaon) Job descriptionManpower Resources India Pvt. Ltd is a leading Executive Search & Select...Free Trade AgreementSAP GTTrade ComplianceFTAbill of materialData AnalystSAPGT21 Days Agosave\n",
      "Urgent Hiring For Spotfire/Qliksense data analystSAR HR Consultancy  3-8 Yrs6,00,000 - 12,00,000 PA.Delhi / NCR Experience with scalable, state-of-the-art data exploration and visualization toolsdata analysisspotfireqliksensedashboardsql30+ Days Agosave\n",
      "Data AnalystMastermind Network1-5 Yrs5,50,000 - 10,00,000 PA.Delhi / NCR Experience of working in the high-performance data engineering team environment Overall...data analysisdata reportingdata extractionpower bi25 Days Agosave\n",
      "Urgently looking For the position of Data Analyst SAS !Talent Sketchers 2-6 YrsNot disclosedNavi Mumbai Suggest & implement ideas to optimize processing time for existing & new dashboards by ...SASData AnalysisSAS Scripts27 Days Agosave\n",
      "Urgent Openings For Data Analyst SAS!Talent Sketchers 2-5 YrsNot disclosedNavi Mumbai Suggest & implement ideas to optimize processing time for existing & new dashboards by ...SASData Analysis28 Days Agosave\n",
      "Manager - Data Analyst - BFSHuquo Consulting Pvt. Ltd3-5 YrsNot disclosedGurgaon/Gurugram Creating Business Requirement documents which can be submitted for review and approvals...Process AutomationAutomationData AnalystRoboticsAnalytics28 Days Agosave\n",
      "Data AnalystAnlage Infotech (I) Pvt. Ltd.   4-6 Yrs5,00,000 - 7,00,000 PA.Chennai GraduateExperience: minimum 4 years in ATM/ Banking/ Finance/ Payment industrydata analystdata analysis30+ Days Agosave\n",
      "Associate Data Analyst(Experion)TAMCHERRY TECHNOLOGIES PRIVATE LIMITED3-5 YrsNot disclosedKochi/Cochin, Trivandrum/Thiruvananthapuram Roles and Responsibilities Associate Data Analyst(Experion)Exp: 3 - 5 YearsSkills:Pytho...TableauRGlueInformaticaTalendPythonGoogle Data StudioQlikView30+ Days Agosave\n",
      "Data Analyst - MS SQL ServerBristlecone3.8(292 Reviews)3-4 YrsNot disclosedBangalore/Bengaluru Your experience as SQL Data Engineer should include key technologies like Core Programm...SANAutomationMS SQLDatabase designInformation securitySSRSConsultingDatabase administration21 Days Agosave\n",
      "Data Analyst (Risk Research) - Risk AnalyticsGojek4.3(18 Reviews)3-4 YrsNot disclosedBangalore/Bengaluru Minimum 3-4 years of work experience in analytical, problem-solving roles within a fast...Computer scienceText miningRisk analyticsGCPAnalyticalNetwork analysisRisk managementFinancial services30+ Days Agosave\n",
      "Reporting Data AnalystConfluent4.0(2 Reviews)3-5 YrsNot disclosedBangalore/Bengaluru Hands-on experience developing and maintaining dashboards in Tableau and Tableau Server...Computer sciencetableauSales operationsTroubleshootingBusiness intelligenceOperationsInformation technologyAnalytics30+ Days Agosave\n",
      "Data AnalystCalsoft3.6(146 Reviews)6-8 YrsNot disclosedPune, Bengaluru 8 years experienceAnalyticaldata scienceGCPsparkMachine learningAWSAnalyticsPython30+ Days Agosave\n",
      "Data reporting analystRegalix India Pvt Ltd3.2(181 Reviews)1-4 YrsNot disclosedHyderabad/Secunderabad Pulling data to develop reports Building dashboards for managers to show results Mainta...TrainingData analysisAutomationUsageExcelBusiness reportingReporting Analystdata reporting30+ Days Agosave\n",
      "Data Analyst 2PayPal4.3(324 Reviews)5-8 YrsNot disclosedBangalore/Bengaluru Formulate propose solutions to ensure optimal balance between user experience, business...Product managementLegal complianceStrategic partnershipsWellnessCredit riskManagementRisk managementOperations30+ Days Agosave\n",
      "Data Transformation AnalystUST Blueconch3.8(141 Reviews)5-8 YrsNot disclosedPune(WFH during Covid) Description:As a Data Transformation Analyst, youll research, analyze, design and build...JavaTIBCOInformaticaDell BoomiPythonanalyticalShell ScriptingAPIs14 Days Agosave\n",
      "Data Visualization AnalystAnicalls4.7(2 Reviews)5-10 YrsNot disclosedHyderabad/Secunderabad Portfolio to demonstrate the work products highly preferredExperience with Tableau Serv...SOQLTableauPythonTableau PrepTableau ServerSAQLRSQL14 Days Agosave\n",
      "Associate Analyst, Data ProcessingenVista2-5 YrsNot disclosedHyderabad/Secunderabad Ensure associate is meeting required target metrics while maintaining proper quality of...QAUsagePDFAssociate AnalystData processingQA AssociateManagementFreight15 Days Agosave\n",
      "Senior Business Analyst - Data Analytics/Data Insights GenerationHuquo Consulting Pvt. Ltd4-6 YrsNot disclosedGurgaon/Gurugram, Delhi / NCR Desired Experience: - 4-6 years of total experience of Data Analytics / Data Insights G...ExcelVBASASProblem SolvingData AnalyticsBusiness Analysis21 Days Agosave\n",
      "Data Processing Executive / Data AnalystAssociated Road Carriers Ltd.4.2(177 Reviews)1-6 Yrs1,50,000 - 3,25,000 PA.Hyderabad/Secunderabad B.Sc ( Computer Science)/ BCA Graduate with data analytic skill, experience in data pro...FoxProData ProcessingOracleXlsSQL28 Days Agosave\n",
      "\n"
     ]
    },
    {
     "name": "stderr",
     "output_type": "stream",
     "text": [
      "[WDM] - ====== WebDriver manager ======\n",
      "[WDM] - Current google-chrome version is 102.0.5005\n",
      "[WDM] - Get LATEST chromedriver version for 102.0.5005 google-chrome\n",
      "[WDM] - Driver [C:\\Users\\lenovo\\.wdm\\drivers\\chromedriver\\win32\\102.0.5005.61\\chromedriver.exe] found in cache\n"
     ]
    },
    {
     "name": "stdout",
     "output_type": "stream",
     "text": [
      "Sr Data Analyst roleBRIDGE WAVES 4-9 Yrs5,00,000 - 12,00,000 PA.Kolkata requirement for post of Sr Data analyst role with skills: min relevant exp 3 years plus...SQLtableauMS excelanalyticsIT SkillsData ManagementData Analytics26 Days Agosave\n",
      "Data Management Analyst-GhaziabadABG Group 1-3 Yrs3,50,000 - 6,50,000 PA.Ghaziabad Data entry should be reliable Rectification In-house FMS entry In-house pending decisio...Advanced Excelgoogle scriptingText AnalyticsData ManagementData Management And AnalysisFormulasGoogle AdWordsHLOOKUP14 Days Agosave\n",
      "Data Management Analyst-Delhi NCRABG Group 1-3 Yrs3,50,000 - 6,50,000 PA.Ghaziabad Data entry should be reliable Rectification In-house FMS entry In-house pending decisio...Advanced Excelgoogle scriptingText AnalyticsData ManagementData Management And AnalysisFormulasGoogle AdWordsHLOOKUP19 Days Agosave\n",
      "Principal Analyst - Data ScienceGCC SERVICES INDIA PRIVATE LIMITED3.9(20 Reviews)2-5 Yrs18,00,000 - 25,00,000 PA.Pune, Chennai, Bangalore/Bengaluru Level of educational attainment required: B Tech in any branch, or Masters in Statistic...Data Science25 Days Agosave\n",
      "Analyst - Data ScienceNuware  Systems Pvt Ltd4.2(31 Reviews)3-6 YrsNot disclosedBengaluru Good knowledge into reportingData Scientist with Machine Learning, Python & R Programmi...analysisData ScienceData AnalysisSQL Seam frameworkExcelMachine LearningPythonPIVOT30+ Days Agosave\n",
      "Data Mining AnalystAnicalls4.7(2 Reviews)5-10 YrsNot disclosedBangalore/Bengaluru Associates, Bachelors or equivalent education / experience5+ years of data manipulation...IT SkillsSAPglobal operationsExcelECCSenior Analystdata manipulationAnalytical30+ Days Agosave\n",
      "ETL Developer - Data and Reporting Analyst - 2TeamPlus Staffing Solution Pvt Ltd5.0(3 Reviews)4-8 YrsNot disclosedBangalore/Bengaluru Experience developing dashboards using Tableau and MS Excel Experience conducting end-t...Data analysisPrototypeMachine learningScrumSSISBusiness intelligencemicrosoftStakeholder management30+ Days Agosave\n",
      "ETL Developer - Data and Reporting AnalystTeamPlus Staffing Solution Pvt Ltd5.0(3 Reviews)3-5 YrsNot disclosedBangalore/Bengaluru 3 years of experience directly related to the role 3 years End-to-End Microsoft BI Stac...Data analysisPrototypedata scienceMachine learningScrumSSISBusiness intelligencemicrosoft30+ Days Agosave\n",
      "Associate Data Processing AnalystE2open, LLC4.0(159 Reviews)2-7 YrsNot disclosedBangalore/Bengaluru Bachelors or Masters in relevant fieldAbility to work with minimum supervisionData extr...TradeManaged servicesPDFExcelQuality auditData Processing AnalystMS WordMonitoring30+ Days Agosave\n",
      "Data Quality AnalystSocure India4.7(3 Reviews)2-3 YrsNot disclosedChennai Self-starter, able to work under tight timetables and high-pressure situations, fluidly...Business processTelecomData analysisPayrollPublishingData managementGamingFinancial services30+ Days Agosave\n",
      "Big Data Engineering AnalystDataBeat3.9(7 Reviews)2-7 YrsNot disclosedHyderabad/Secunderabad Responsibilities: Develop code for transformation logic in Spark, Pig, Hive, Sqoop etc....BPOdata analysisAutomationData managementData modelingHadoopData qualitybig data30+ Days Agosave\n",
      "Data analytics_SR AnalystLowes Services India Private limited4.3(318 Reviews)1-6 YrsNot disclosedBangalore/Bengaluru Bachelors / Master s in Business, FinanceHands-on experience in executing Finance / dat...Supply chainMicrostrategyAutomationUsageAnalyticalData collectionBusiness intelligenceMerchandising30+ Days Agosave\n",
      "Big Data Engineering Analyst DataBeatDataBeat3.9(7 Reviews)2-7 YrsNot disclosedHyderabad/Secunderabad Responsibilities: Develop code for transformation logic in Spark, Pig, Hive, Sqoop etc....BPOdata analysisAutomationData managementNetworkingData modelingData qualitybig data30+ Days Agosave\n",
      "Data Quality Analyst - Informatica/ BI ToolsHuquo Consulting Pvt. Ltd2.0(4 Reviews)3-5 YrsNot disclosedBangalore/Bengaluru Bachelor Degree or equivalent experienceEducation Requirements : - Bachelors degree Exp...IT SkillsOracleSAPUnixBusiness IntelligenceData QualityBusiness AnalystIDQ28 Days Agosave\n",
      "ILM Data Management AnalystEpiq Systems, Inc.4.2(76 Reviews)4-8 YrsNot disclosedHyderabad/Secunderabad In addition Epiq will take affirmative action for minorities, women, covered veterans a...Computer scienceManager Quality AssuranceLitigation supportdata management analystDocument managementTroubleshootingContinuous improvementMonitoring30+ Days Agosave\n",
      "Junior Data AnalystAdidas4.4(320 Reviews)1-6 YrsNot disclosedGurgaon/Gurugram Apprentice ship successfully completed in relevant IT area Proficient spoken and writte...Software DevelopmentSoftware DeveloperFinanceMaintenanceSoftware DesignTest ScriptsMarketing30+ Days Agosave\n",
      "Business Analyst/Data AnalystCHANGE LEADERS CONSULTING6-9 YrsNot disclosedBangalore/Bengaluru Roles and Responsibilities JD-Business analyst “Business or Data Analyst profiles with ...SQLData AnalysisBusiness Analysis30+ Days Agosave\n",
      "Business Analyst - Data MiningTalpro1-3 YrsNot disclosedGurgaon/Gurugram Experience with clickstream data is strongly desired BTech/ BE /MTech Graduate in Compu...T - SQLPythonMS ExcelMySQLSQLRIT SkillsBusiness Analyst25 Days Agosave\n",
      "Business Analyst - Data ScienceHuquo Consulting Pvt. Ltd2.0(4 Reviews)4-7 YrsNot disclosedGurgaon/Gurugram Key Requirement for the Position Requirement Gathering & Traceability understanding in ...Data ScienceIT SkillsTestingBusiness AnalystProject ManagementWire framingFSD Documentation21 Days Agosave\n",
      "Business Analyst - Data ScienceHuquo Consulting Pvt. Ltd2.0(4 Reviews)4-6 YrsNot disclosedGurgaon/Gurugram Key Requirement for the Position Requirement Gathering & Traceability understanding in ...Data SciencePRDBRDIT SkillsTestingGap AnalysisUse CasesFSD28 Days Agosave\n",
      "\n"
     ]
    },
    {
     "name": "stderr",
     "output_type": "stream",
     "text": [
      "[WDM] - ====== WebDriver manager ======\n",
      "[WDM] - Current google-chrome version is 102.0.5005\n",
      "[WDM] - Get LATEST chromedriver version for 102.0.5005 google-chrome\n",
      "[WDM] - Driver [C:\\Users\\lenovo\\.wdm\\drivers\\chromedriver\\win32\\102.0.5005.61\\chromedriver.exe] found in cache\n"
     ]
    },
    {
     "name": "stdout",
     "output_type": "stream",
     "text": [
      "Senior Analyst - Data AnalyticsHuquo Consulting Pvt. Ltd2-7 YrsNot disclosedGurgaon/Gurugram Bachelors / Masters degree in Economics, Statistics, Mathematics, Analytics, Computer S...Business Intelligence ToolsRetail BankingCredit Card DomainSASData AnalysisData AnalyticsStatisticsVerbal Communication21 Days Agosave\n",
      "Senior Analyst - Data AnalyticsHuquo Consulting Pvt. Ltd3-8 YrsNot disclosedGurgaon/Gurugram Role Title: Consultant II/ Senior Consultant/ Project ManagerRole Overview:We are hirin...Data analysisSASData AnalyticsanalyticalIFRSCCARcommunication skills28 Days Agosave\n",
      "Data AnalystHoneybeez Consultancy 1-5 Yrs5,00,000 - 8,00,000 PA.Thane Skills required:Accuracy, speed and attention to detailMS ExceltableauSQL8 Days Agosave\n",
      "Data Science Analyst - WFHPES HR Services a div of AMAL INFOSYSTEMS Pvt Ltd 1-6 YrsNot disclosedChennai, Bangalore/Bengaluru(WFH during Covid) Opportunity to work with leading MNC across globe Candidate should have 1 -6 years expe...Data ScienceNLPBertPythonNatural Language ProcessingFew Hours Agosave\n",
      "Data Analyst - Global Market Regulatory ITBNP Paribas4.0(1530 Reviews)2-5 YrsNot disclosedMumbai Whilst able to work independently, should be a true team playerMust be able to work clo...Wealth managementCodingBusiness analysisProject managementAnalyticalManager Quality ControlTroubleshootingOracle30+ Days Agosave\n",
      "Data AnalystCubez Probtech Pvt Ltd1-3 YrsNot disclosedCoimbatore(WFH during Covid) We are looking for a Data Entry Operator to update and maintain information on our data...We are looking12 Days Agosave\n",
      "Data AnalystGoogle4.4(449 Reviews)1-3 YrsNot disclosedHyderabad/Secunderabad Responsibilities Work with cross-functional groups such as Product Management, Engineer...IT SkillsProduct ManagementAutomationDebuggingConsultingJavascriptWorkflowManager Quality Control30+ Days Agosave\n",
      "Data AnalystIGW INDIA TECHNOLOGIES PRIVATE LIMITED3.7(9 Reviews)5-10 YrsNot disclosedPune •Uses a range of data tools to provide analysis and reports within a reporting framewor...Power BiSap Analytics CloudSap HanaQlikETLMicrosoft SsisTableauSQL14 Days Agosave\n",
      "Data Analyst, Trust and Safety, AdSpamGoogle4.4(449 Reviews)1-3 YrsNot disclosedHyderabad/Secunderabad Responsibilities Learn to use tools that analyze datasets that are scaleable. Prevent f...Computer scienceCodingMachine learningJavascriptPHPAnalyticsAndroidPython30+ Days Agosave\n",
      "Analyst: Data Science InsightsTIGER ANALYTICS INDIA CONSULTING PRIVATE LIMITED4.1(79 Reviews)1-4 YrsNot disclosedChennai B Tech / B Sc (Statistics, Mathematics, Economics) from Tier-1 college OR MBA (with spe...Power BiData scienceTableauMachine LearningR shinyPython21 Days Agosave\n",
      "Sr IT Data AnalystSyneos Health4.2(203 Reviews)3-5 YrsNot disclosedHyderabad/Secunderabad, Gurgaon/Gurugram Roles and Responsibilities Work independently to process information by loading / extra...Azure DatabricksSQLPythonSalesVeevaData warehouse29 Days Agosave\n",
      "Sr. Big Data AnalystAnicalls4.7(2 Reviews)5-10 YrsNot disclosedNoida Education: Bachelors degree Candidate should have Superior oral, and written communicat...IT SkillsPythonBig DataComputer sciencePerformance tuningGITSASSCALA30+ Days Agosave\n",
      "Sr Data AnalystACI Worldwide4.2(85 Reviews)3-7 YrsNot disclosedPune General - Must Have Experience of data quality (DQ) process and framework Understanding...AutomationCodingAnalyticalProgrammingData structuresData qualityInformaticaHigh level design25 Days Agosave\n",
      "Data Quality Analyst - BI ToolsHuquo Consulting Pvt. Ltd3-5 YrsNot disclosedDelhi / NCR, Bangalore/Bengaluru Bachelor Degree or equivalent experience Bachelors degree Experience in data profiling ...Data QualityData ManagementConsultingIT SkillsOracleSAPData ProfilingQuality Consultant21 Days Agosave\n",
      "Female Fresher Data Analyst - Work from HomeUnimax 0-0 YrsNot disclosedNoida, New Delhi, Delhi / NCR Interview for the Post of Female Fresher Data Analyst - Work from Home Company: eBookin...Data ScienceBusiness AnalystData AnalystData EngineeringTraineeData AnalysisInternet SurfingFresher27 Days Agosave\n",
      "Data/Information Management AnalystKelly Outsourcing and Consulting Group India  Priv  ate Limited3-5 Yrs15,00,000 - 19,00,000 PA.Bangalore/Bengaluru Roles and Responsibilities The company is a global analytics community driving data led...TableauSQLPythonIT SkillsProject ManagementOracleBPOproject management20 Days Agosave\n",
      "Data Management Analyst (BPR)RS Consultants3-8 YrsNot disclosedPune Roles and Responsibilities Implementing process improvements as needed to create effici...RPAVBAData ManagementSAPData CollectionData analyticsTableauUI path30+ Days Agosave\n",
      "Data Quality Analyst - Informatica/ Data ProfilingHuquo Consulting Pvt. Ltd3-5 YrsNot disclosedBangalore/Bengaluru Bachelor Degree or equivalent experience Experience in data profiling and data quality ...data profilingTrilliumOracleSAPdata quality analysisSQLInformaticaIT Skills28 Days Agosave\n",
      "Data AnalystHotstar3.1(45 Reviews)1-3 YrsNot disclosedMumbai Graduate / Post Graduate degree in Computer Science or EngineeringShould be able to wri...EngineeringDBAEngineerTechnologyComputer ScienceDatabaseSQL30+ Days Agosave\n",
      "Data Analyst 2PayPal4.3(324 Reviews)5-8 YrsNot disclosedChennai Work and establish good working relationships with other product / product analytics te...Data analysisExcelFront endInstrumentationQlikViewTeradataAnalyticsFinancial services30+ Days Agosave\n",
      "\n"
     ]
    },
    {
     "name": "stderr",
     "output_type": "stream",
     "text": [
      "[WDM] - ====== WebDriver manager ======\n",
      "[WDM] - Current google-chrome version is 102.0.5005\n",
      "[WDM] - Get LATEST chromedriver version for 102.0.5005 google-chrome\n",
      "[WDM] - Driver [C:\\Users\\lenovo\\.wdm\\drivers\\chromedriver\\win32\\102.0.5005.61\\chromedriver.exe] found in cache\n"
     ]
    },
    {
     "name": "stdout",
     "output_type": "stream",
     "text": [
      "Data Analyst 2PayPal4.3(324 Reviews)5-8 YrsNot disclosedChennai Formulate propose solutions to ensure optimal balance between user experience, business...Product managementLegal complianceStrategic partnershipsWellnessCredit riskManagementRisk managementOperations30+ Days Agosave\n",
      "Lead data analystAgreeYa Solutions3.5(121 Reviews)5-9 YrsNot disclosedGurgaon/Gurugram Education and Experience Requirements : Bachelors degree in Computer Science and Engine...IT SkillsOracleTableauComputer scienceAnalyticalConsultingFMCGdata visualization30+ Days Agosave\n",
      "Business Data Analyst | Immediate joinerCareer Konnection 3-8 Yrs10,00,000 - 20,00,000 PA.Gurgaon/Gurugram Perform exploratory data analysis Developed & deployed data-backed solutions in the dom...Data AnalysisUnstructured Data basesSQLData structure & AlgorithmsSemi structured22 Days Agosave\n",
      "Lead Business Analyst for RiBB data sourcing (CB Focus)Deutsche Bank4.2(1799 Reviews)2-6 YrsNot disclosedMumbai As part of our flexible scheme, here are just some of the benefits that you ll enjoy Be...Process automationAutomationManager Quality AssuranceVBALead Business AnalystDiversity and InclusionInfrastructureLiquidity management25 Days Agosave\n",
      "Senior Technical Applications Analyst (Big Data Testing ,HBase, Hive)VISA4.1(81 Reviews)4-7 YrsNot disclosedBangalore/Bengaluru Key Responsibilities Configuring, testing, and analyzing large volume high performant f...UnixManager Quality AssuranceRDBMSShell scriptingDebuggingBillingTest casesOracle26 Days Agosave\n",
      "Data Analyst with HadoopAllegis Services India Pvt. Ltd.      3-6 YrsNot disclosedBangalore/Bengaluru Roles and Responsibilities:The successful candidate will use cross-functional team coor...HadoopTableauMacrosExcelvbaSQL28 Days Agosave\n",
      "Data Analyst IIIF5 Networks, Inc4.3(31 Reviews)2-5 YrsNot disclosedBangalore/Bengaluru Ability to excel in a face paced, challenging, operations environment with 24 / 7 shift...VMwareInformation securityPHPIncident managementSSHHTTPCustomer serviceAnalytics30+ Days Agosave\n",
      "Data AnalystSpringRole3.3(5 Reviews)3-6 YrsNot disclosedBengaluru You will train and mentor Junior Analysts and build their proficiency in the ETL proces...SASCodingDatabase designSMSSSISBusiness intelligencemicrosoftAnalytics30+ Days Agosave\n",
      "Data AnalystNu108-13 YrsNot disclosedBangalore/Bengaluru Healthcare or pharmaceutical experience preferred Experience with a BI tool preferred (...PowerBIPythonTableauSQL scriptingSQL30+ Days Agosave\n",
      "Data AnalystNextGrowth Labs1-4 YrsNot disclosedBangalore/Bengaluru Bachelor s and Master s Computer Science, Mathematics, Statistics, Operations Research ...SQLPythondatabase managementIT SkillsComputer sciencedeep learningOperations researchUsage30+ Days Agosave\n",
      "Data AnalystEtomate Technology LLP1-4 YrsNot disclosedBangalore/Bengaluru Should score at least 8 out of Macros not a mustBusiness processProcess automationERPprocess integrationProject managementBusiness analyticsBusiness intelligenceMacros30+ Days Agosave\n",
      "Data AnalystMulti Recruit4.5(10 Reviews)3-7 YrsNot disclosedBangalore/Bengaluru Financial experience and Marketing background is a plus In this role, you should have a...BpoPower Bi DeveloperBusiness IntelligenceCustomer ServiceExcelE - CommerceDigital MarketingSql30+ Days Agosave\n",
      "Data Analyst - MDM | LululemonTALENT500 TECH (INDIA) PRIVATE LIMITED3.2(9 Reviews)5-8 YrsNot disclosedBangalore/Bengaluru ResponsibilitiesUses structured tools for analysis and presentation of concepts and mod...JavaSQL30+ Days Agosave\n",
      "Data Science AnalystPrincipal Global Investors2-6 YrsNot disclosedPune Responsibilities This individual contributor position is responsible for answering busi...machine learningpythontuningData Analysis26 Days Agosave\n",
      "Data AnalystTMD - The Modern Dimension3-8 YrsNot disclosedNew Delhi, Bangalore/Bengaluru 3 years- experience using a business intelligence (BI) tool, creating dashboards using ...Business IntelligenceRPower BiSql ServerTableauOracle30+ Days Agosave\n",
      "Analyst - Data Quality and AnalyticsFullContact4.4(13 Reviews)3-8 YrsNot disclosedKochi/Cochin The desired candidate must have intermediate to advanced Python skills - he / she must ...IT SkillsPythonRoot cause analysisData analysisAutomationSAASData qualityData Analyst30+ Days Agosave\n",
      "Financial, Data Modeling & Research AnalystideaTree5.0(2 Reviews)1-5 YrsNot disclosedMumbai Please submit your CV and motivation / cover letter in English onlyRequired education: ...EnglishData modelingBillingToolsStoresBusiness intelligenceCardsMicrosoft Excel30+ Days Agosave\n",
      "Data Research AnalystAdviserLogic2.1(2 Reviews)1-3 YrsNot disclosedMumbai Experience working with Morningstar s internal database tools and data collection proce...Process automationExcelFixed incomeProcess improvementData collectionData Research AnalystIssue resolutionData Analyst30+ Days Agosave\n",
      "Data/Research AnalystPCDS InfoTech2-5 YrsNot disclosedMumbai, Hyderabad Candidate Profile: Be a Graduate/ Post Graduate in Statistics or Maths Be strong in anl...Data Research AnalystResearchMS OfficeBusiness ExecutiveStatistics30+ Days Agosave\n",
      "Data / Research AnalystPCDS Infotech (P). Ltd2-5 YrsNot disclosedMumbai, Hyderabad Candidate Profile: Be a Graduate / Post Graduate in Statistics or Maths Be strong in an...MS - officetopToolsData Research AnalystReport preparationResearchMS OfficeLogic30+ Days Agosave\n",
      "\n"
     ]
    },
    {
     "name": "stderr",
     "output_type": "stream",
     "text": [
      "[WDM] - ====== WebDriver manager ======\n",
      "[WDM] - Current google-chrome version is 102.0.5005\n",
      "[WDM] - Get LATEST chromedriver version for 102.0.5005 google-chrome\n",
      "[WDM] - Driver [C:\\Users\\lenovo\\.wdm\\drivers\\chromedriver\\win32\\102.0.5005.61\\chromedriver.exe] found in cache\n"
     ]
    },
    {
     "name": "stdout",
     "output_type": "stream",
     "text": [
      "Data Operations AnalystCoupa Software Inc.3.7(31 Reviews)3-6 YrsNot disclosedPune Responsibilities: Apply existing knowledge and internal best practices to analyze enter...AutomationData analysismetadataAnalyticalData qualitydata mappingSpend managementBusiness operations25 Days Agosave\n",
      "Analyst - Data Procurement & PanelsNepa Production India Pvt Ltd2-4 YrsNot disclosedMumbai You have a bachelors degree in engineering / technology or a bachelor of commerce + MBA...market researchCollaborationProcurement ManagementGlobal Procurementcollection managementProcurement PlanningMarket IntelligenceMarketing Analytics26 Days Agosave\n",
      "Data Mining AnalystAnicalls4.7(2 Reviews)5-10 YrsNot disclosedNoida Associates, Bachelors or equivalent education / experience Education: Bachelors degree ...ECCcommunicationCRManalyticaldata miningHANASAP CRMPivotTables30+ Days Agosave\n",
      "Data/Research AnalystPCDS InfoTech5-9 YrsNot disclosedMumbai, Hyderabad/Secunderabad, Hyderabad/Secunderabad, Mumbai Be a Graduate/Post Graduate in Statistics or Mathsmathsanalysingdata researchstatistical toolsresearch analystlogicknowledge of computersresearch projects30+ Days Agosave\n",
      "Analyst - Data Research & AnalysisBlack  Veatch Consulting1-2 YrsNot disclosedMumbai Graduation in science or engineering, some exposure to data analytics preferred Bachelo...Data analysisExcelData researchTalent acquisitionInfrastructureWellnessProject deliveryResearch analysis30+ Days Agosave\n",
      "Data & Reporting AnalystIcon Pharmaceutical s4.1(238 Reviews)5-7 YrsNot disclosedChennai Bachelors Degree Minimum of 2 years of extracting data analysis in excel (Strong excel ...Testing30+ Days Agosave\n",
      "Financial, Data Modeling & Research AnalystePaisa - enabling commerce5.0(2 Reviews)1-5 YrsNot disclosedMumbai Please submit your CV and motivation / cover letter in English onlyRequired education: ...EnglishData modelingBillingToolsStoresBusiness intelligenceCardsMicrosoft Excel30+ Days Agosave\n",
      "Banking . Data and Documents AnalystCitco3.1(221 Reviews)1-4 YrsNot disclosedHyderabad/Secunderabad Bachelor in Law, Business Administration, or a related / equivalent disciplineMust have...Career developmentData analysisDue diligenceExcelOnline bankingCorporate governancedata integrityInternet banking30+ Days Agosave\n",
      "Data/Research AnalystPCDS InfoTech2-7 YrsNot disclosedMumbai, Hyderabad Job Description: To analyse data for the research projects and prepare reports. Candida...Data Research AnalystResearchMS OfficeBusiness ExecutiveStatistics30+ Days Agosave\n",
      "Big Data AnalystGLOBAL PHARMA TEK INDIA PRIVATE LIMITED 3.3(11 Reviews)5-10 YrsNot disclosedBangalore/Bengaluru Roles and Responsibilities Skills:- BigData, Spark, Scala/Python/DB Fundamental/SQL wri...sparkGreenplumSCALABig DataPythonBigDataSQLDB230+ Days Agosave\n",
      "Analyst, Index Data OperationsIntercontinental Exchange3.8(46 Reviews)4-8 YrsNot disclosedHyderabad/Secunderabad Undergraduate degree, preferably in Math, Finance, Economics or TechnologyCollection, a...Corporate actionsSenior AnalystFixed incomeAnalyticalConsultingWorkflowData qualityOperations30+ Days Agosave\n",
      "Data Science Analyst -ForecastingPattern3-6 YrsNot disclosedPune Associate or Bachelors degree in Computer Science, Math, Statistics, Logistics, or clos...Computer scienceComputer languagesdata scienceInfrastructureGeneticsOracleAdobeSQL30+ Days Agosave\n",
      "Data Research AnalystAnalytiX DS3-5 YrsNot disclosedAhmedabad Should have knowledge about data market analysisList building List research as per requ...BloombergEmail marketingMISSocial mediaInternet researchHealthcareMarket researchOutsourcing30+ Days Agosave\n",
      "Data Mining AnalystAnicalls4.7(2 Reviews)5-10 YrsNot disclosedMumbai Associates, Bachelors or equivalent education / experience5+ years of data manipulation...analyticalPivotTablesECCSAP ECCdata miningHANAMacrosExcel ECC30+ Days Agosave\n",
      "Data Mining AnalystAnicalls4.7(2 Reviews)5-10 YrsNot disclosedHyderabad/Secunderabad Associates, Bachelors or equivalent education / experience5+ years of data manipulation...ECCCRMHANAPivotTablesMacroscommunicationanalyticalSAP CRM30+ Days Agosave\n",
      "Data Mining AnalystAnicalls4.7(2 Reviews)5-10 YrsNot disclosedChennai Associates, Bachelors or equivalent education / experience5+ years of data manipulation...PivotTablesECCSAP ECCExcel ECCdata mininganalyticalExcelCRM30+ Days Agosave\n",
      "Data Quality AnalystBloomberg UTV1-3 YrsNot disclosedMumbai You will work with the Change Management and Engineering teams to design and build the ...Market analysisChange managementBloombergFixed incomeSwapsData Quality AnalystOperationsMonitoring30+ Days Agosave\n",
      "Data Quality AnalystIntegriChain4.8(12 Reviews)5-10 YrsNot disclosedPune to learn from each other in the team and each experience day-to-day minimum 5+ years ha...IT SkillsPythonTestingQuality AssuranceCloudDevOpsAutomation TestingBusiness process30+ Days Agosave\n",
      "Data Research AnalystGateway Group of Companies2.9(68 Reviews)1-5 YrsNot disclosedAhmedabad Any GraduationShould be able to company research Skills Required IT background OR relev...Data researchManual Data miningwordMicrosoft officePower pointExcelSocial mediaData Research Analyst30+ Days Agosave\n",
      "Associate Analyst  -  Consumer Data ProjectsGD Research Center Pvt Ltd3.9(183 Reviews)2-4 YrsNot disclosedHyderabad Should have strong analytical skills and the ability to think independentlyShould have ...Analytical skillsAssociate AnalystData researchmarket dataInformation researchResearchMS OfficeResearch Associate30+ Days Agosave\n",
      "\n"
     ]
    },
    {
     "name": "stderr",
     "output_type": "stream",
     "text": [
      "[WDM] - ====== WebDriver manager ======\n",
      "[WDM] - Current google-chrome version is 102.0.5005\n",
      "[WDM] - Get LATEST chromedriver version for 102.0.5005 google-chrome\n",
      "[WDM] - Driver [C:\\Users\\lenovo\\.wdm\\drivers\\chromedriver\\win32\\102.0.5005.61\\chromedriver.exe] found in cache\n"
     ]
    },
    {
     "name": "stdout",
     "output_type": "stream",
     "text": [
      "Data/Research AnalystPCDS InfoTech2-7 YrsNot disclosedMumbai Candidate Profile: Be a Graduate/ Post Graduate in Statistics or Maths Be strong in anl...good communication skillsbemathsdata researchstatistical toolsresearch analystknowledge of computersresearch projects30+ Days Agosave\n",
      "SAP Data Archiving Analyst  Squircle IT Consulting Services Pvt Ltd5-10 YrsNot disclosedHyderabad JD given below:Should have strong knowledge in SAP Data ArchivingMust have strong Funct...Change managementprocessSAPStrong analytical skillsSenior AnalystArchivingTroubleshootingBusiness Executive30+ Days Agosave\n",
      "Application Data Base AnalystColruyt IT Consultancy India Pvt. Ltd.4.4(84 Reviews)6-11 YrsNot disclosedHyderabad *desired standard \" documentation should be functionally meaningful and timely) Overall...IT SkillsSoftware DevelopmentDBAOracleData dictionaryAnalystApplication designProject development30+ Days Agosave\n",
      "Analyst - Data SecurityM&amp;G plc1-4 YrsNot disclosedMumbai Output from new data shares scanned to be sent to the relevant Data Share Owners Event ...remediationBusiness transformationSecurity managementdata securityManagement consultingActuarialCustomer serviceManagement30+ Days Agosave\n",
      "Analyst - Data SecurityMG GLOBAL2-5 YrsNot disclosedMumbai Output from new data shares scanned to be sent to the relevant Data Share Owners Event ...remediationBusiness transformationSecurity managementdata securityManagement consultingActuarialCustomer serviceManagement30+ Days Agosave\n",
      "Data Warehouse AnalystAnicalls4.7(2 Reviews)5-10 YrsNot disclosedHyderabad/Secunderabad Education: Bachelors degree Bachelors or Masters Degree in Computer Science / Engineeri...verbalRDBMSPowerBIdata warehousewritten communicationsRelational Database Management SystemsSQLInformatica30+ Days Agosave\n",
      "Business/Data Systems Analyst 3PayPal4.3(324 Reviews)6-9 YrsNot disclosedChennai The System Analyst Engineer will be based out of PayPal India office and will support i...UnixLinuxCodingAnalyticalResource allocationWellnessInformaticaData mining30+ Days Agosave\n",
      "Data Scientist / AnalystDeutsche Bank4.2(1799 Reviews)2-6 YrsNot disclosedBangalore/Bengaluru What we ll offer you As part of our flexible scheme, here are just some of the benefits...Data analysisWealth managementCodingProject managementAnalyticalAnti money launderingCash managementFinancial services30+ Days Agosave\n",
      "Senior Analyst & AI Lead - Data ScienceHuquo Consulting Pvt. Ltd2-7 YrsNot disclosedFaridabad, Gurgaon/Gurugram JOB SUMMARY :A subject matter expert responsible for end to end ownership of designing,...Artificial IntelligenceData ScienceRNLPData ScientistMachine LearningCloud InfrastructureDeep Learning28 Days Agosave\n",
      "Senior Analyst - Data Science - IIT/NIT/IIM/XLRI/FMSHuquo Consulting Pvt. Ltd2-5 YrsNot disclosedGurgaon/Gurugram Must have strong capabilities in problem solving, managing own work diligently, thoroug...Data ScienceSASTableaudata analysisR ShinyRwrittenQlik21 Days Agosave\n",
      "Senior Analyst - Data Science - IIT/NIT/IIM/XLRI/FMSHuquo Consulting Pvt. Ltd2-5 YrsNot disclosedGurgaon/Gurugram Must have strong capabilities in problem solving, managing own work diligently, thoroug...Data ScienceRPythonTableauverbal communicationsSASdata analysisQlik20 Days Agosave\n",
      "Senior Analyst - Data ScienceHuquo Consulting Pvt. Ltd2-6 YrsNot disclosedGurgaon/Gurugram Must have strong capabilities in problem solving, managing own work diligently, thoroug...RQlikSQLData ScienceSASTableauMachine LearningStatistics21 Days Agosave\n",
      "Senior Analyst - Data ScienceHuquo Consulting Pvt. Ltd2-5 YrsNot disclosedGurgaon/Gurugram Must have strong capabilities in problem solving, managing own work diligently, thoroug...Data Sciencedata analysisR ShinyRwrittenTableauQlikSQL22 Days Agosave\n",
      "Senior Analyst - Data Science - IIT/NIT/IIM/XLRI/FMSHuquo Consulting Pvt. Ltd2-5 YrsNot disclosedGurgaon/Gurugram Must have strong capabilities in problem solving, managing own work diligently, thoroug...Data ScienceRPythondata analysisTableauwrittenSASR Shiny28 Days Agosave\n",
      "Analyst/Sr. Analyst For Data Management For Bangalore  with MNCTalent HR Networks Pvt Ltd  2-6 Yrs4,00,000 - 7,00,000 PA.Bangalore/Bengaluru Attend meetings when required, and provide feedback of discussionsOnly processing reque...SSIReference DataData Management27 Days Agosave\n",
      "Quality Analyst (Data)Changeleaders Consulting Private Limited1-4 Yrs8,00,000 - 13,00,000 PA.Noida, Chennai Manual, Automation (QA), Test Planning (Mocking framework for C#/.NET), Test Case, Unit...RESTMocking frameworkWeb APITest PlanningGITUnit TestMicrosoft SQL Server 2008Automation3 Days Agosave\n",
      "Data Management AnalystEra IT Solution  2-5 Yrs3,00,000 - 6,00,000 PA.Noida Strong in Excel VBA, Excel Formulas, Google app script, Google data studio, Google site...google scriptJavascript3 Days Agosave\n",
      "Data Visualization Specialist/Analyst Or BAPRUDENT GLOBALTECH SOLUTIONS PRIVATE LIMITED   2-4 YrsNot disclosedHyderabad/Secunderabad 2+ years of experience in building data visualizations - reports, graphs, maps, and das...pythonTableauBigdata warehousesPower BIvisual CommunicationhiveAnalyticalLooker13 Days Agosave\n",
      "Data Mining AnalystTime Legend IT and HR Consulting Solutions Pvt Ltd 2-7 Yrs3,00,000 - 5,00,000 PA.Pune Good knowhow on MS Excel / Power Point / Wordles and ResponsibilitiesSocial MediaDigital MediaMarketingData Mining14 Days Agosave\n",
      "Data AnalystSaama Technologies4.0(140 Reviews)4-8 YrsNot disclosedPune 4 to 8 Yrs of Experience as Data Analyst with experience in Insurance Domain Very Good ...ETLData MappingSQLAWSAgileUAT TestingData VaultData Analysis30+ Days Agosave\n",
      "\n"
     ]
    },
    {
     "name": "stderr",
     "output_type": "stream",
     "text": [
      "[WDM] - ====== WebDriver manager ======\n",
      "[WDM] - Current google-chrome version is 102.0.5005\n",
      "[WDM] - Get LATEST chromedriver version for 102.0.5005 google-chrome\n",
      "[WDM] - Driver [C:\\Users\\lenovo\\.wdm\\drivers\\chromedriver\\win32\\102.0.5005.61\\chromedriver.exe] found in cache\n"
     ]
    },
    {
     "name": "stdout",
     "output_type": "stream",
     "text": [
      "Data AnalystLandis Gyr4.0(182 Reviews)3-6 YrsNot disclosedNoida Solid development experience in Python in projects like Automation, ETL, Web applicatio...UnixPerformance tuningHTML;JavascriptBackendAutomationWeb applicationScrumTroubleshooting30+ Days Agosave\n",
      "MI Data Management AnalystGBT India Private Limited5.0(2 Reviews)4-7 YrsNot disclosedGurgaon/Gurugram Advance knowledge of MS Excel Access shall is preferable Knowledge of CAP, GMAX, aXis @...BackendAnalyticalReconciliationBillingSabreOperationsAnalyticsProduct support18 Days Agosave\n",
      "Data Analyst/Data EngineerNR Consulting  3-8 YrsNot disclosedHyderabad/Secunderabad, Pune, Chennai, Bangalore/Bengaluru Strong knowledge & experience in Databricks, Spark with Python, developing and deployin...Data ScienceData AnalysisBig DataData BricksSparkPythonRedshiftBigdata21 Days Agosave\n",
      "Analyst - Data Analytics/SQLHuquo Consulting Pvt. Ltd2-7 YrsNot disclosedGurgaon/Gurugram, Delhi / NCR Bachelors / Masters degree in economics, mathematics, computer science / engineering, o...Data VisualizationData AnalyticsAnalyticsSQLPython20 Days Agosave\n",
      "Analyst - Data Analytics/SQLHuquo Consulting Pvt. Ltd2-7 YrsNot disclosedGurgaon/Gurugram, Delhi / NCR, Delhi NCR/Gurgaon/Gurugram Candidate Profile: - Bachelors / Masters degree in economics, mathematics, computer sci...Data AnalyticsData VisualizationAnalyticsSQLPython28 Days Agosave\n",
      "Research Analyst - Data Reporting & Visualization - KPOHuquo Consulting Pvt. Ltd1-6 YrsNot disclosedGurgaon/Gurugram Education: An undergraduate degree in relevant field or / and postgraduate from a respe...data cleaningData VisualizationData ReportingBusiness IntelligencePower BITableauData Analytics21 Days Agosave\n",
      "Research Analyst - Data Reporting & Visualization - KPOHuquo Consulting Pvt. Ltd2-6 YrsNot disclosedGurgaon/Gurugram Education: An undergraduate degree in relevant field or / and postgraduate from a respe...Data VisualizationResearchData ReportingBusiness Intelligencesecondary researchPowerBIdata cleaningTableau28 Days Agosave\n",
      "Lead Data Science Analyst - Python/SparkHuquo Consulting Pvt. Ltd6-10 YrsNot disclosedGurgaon/Gurugram Qualifications - B Tech or MTechKey Requirement for the Position : - At least 2-year de...Data ScienceSparkPythonNLPData ScientistData ManagementNeural NetworksDeep Learning26 Days Agosave\n",
      "Data AnalystAzine Web Technologies Private Limited3.9(15 Reviews)2-7 Yrs3,00,000 - 5,50,000 PA.Mumbai, Ahmedabad, Mumbai (All Areas) We are looking for a Data Analyst to analyze large amounts of raw data to find patterns...Data AnalysisTableauvisualizationHadoopSQLIT SkillsBusiness IntelligenceNoSQL28 Days Agosave\n",
      "Subject Matter Expert - Data Analyst and Data Mining IT!AMICI Global Solutions Pvt Ltd4.2(25 Reviews)1-6 Yrs1,00,000 - 6,00,000 PA.Remote Seeking experienced Freelance Academic Writers (Data Analysts)Must have at least 1 year...DataData MiningData AnalystITInformation Technology20 Days Agosave\n",
      "Sr. Data AnalystWSD CONSULTANT PRIVATE LIMITED    6-8 Yrs4,00,000 - 9,00,000 PA.Gurgaon/Gurugram Data collection, cleaning Running SQL & no-SQL queries Creating visualizations, includi...SQLOracle DBAVldbOracle30 Days Agosave\n",
      "Data AnalystAllegis Services India Pvt. Ltd.      4-7 YrsNot disclosedPune Qualifications and Experience Required 4+ years experience in Advance Excel Good experi...Excel PowerpointQlikViewJIRAMacrosExcelPlanningRecoverybilling30+ Days Agosave\n",
      "Data AnalystLazzaro HR Solutions Pvt. Ltd.  2-5 YrsNot disclosedNoida, Gurgaon/Gurugram, Delhi / NCR Knowledge of Reporting concepts and familiar with business reporting. Skills Required- ...Excel VbaSQL13 Days Agosave\n",
      "SAP Master Data Analyst\n",
      "ESPERER ENGINEERING SERVICES 3-5 Yrs4,00,000 - 5,00,000 PA.Chennai SAP MM modules including basicIn collaboration with subject matter experts and data ste...Sap Mm Materials ManagementSAP MMSAP MM Module13 Days Agosave\n",
      "Data AnalystMerrin and Associates 5-10 YrsNot disclosedChennai Analytical thinking, problem solving and a high level of comfort with numbers Proficien...AnalysisMySQLMicrosoft ExcelGoogle sheetsR / pythonIT SkillsPythonExcel14 Days Agosave\n",
      "Data Analyst For Investment consulting DomainVirtuoso Staffing Solutions Pvt Ltd  1-6 YrsNot disclosedDelhi / NCR(WFH during Covid) The role will focus on various aspects of institutional investing, including data colle...VBAMacrosVba CodingVba Automationvba macros17 Days Agosave\n",
      "Data AnalystWM Global Technology Services India Pvt Ltd 4.6(2 Reviews)3-6 YrsNot disclosedChennai Experience as a business / data analyst in e-commerce or retail Experience on Data visu...AZUREHiveGCPTableauMs Sql ProgrammingBig dataMS SQLverbal communication25 Days Agosave\n",
      "Engineer/Data Analystmycitynagpur5-8 YrsNot disclosedNagpur Candidate should be Computer/IT/B.Sc/ M.Sc. Experience required but fresher can also . ...Data Analyst30+ Days Agosave\n",
      "Data AnalystSkill Lync3.8(84 Reviews)1-6 YrsNot disclosedChennai Proven experience with creating and maintaining Business /Operations daily performance ...lyncRoot cause analysisAnalystWorkforce managementOperationsMonitoringRTACapacity planning21 Days Agosave\n",
      "Data AnalystEdunuts3.9(3 Reviews)2-5 YrsNot disclosedNew Delhi Duties and Responsibilities, Research and verify the accuracy of the data from source d...DatabaseData AnalystTimeResearchMS Office30+ Days Agosave\n",
      "\n"
     ]
    },
    {
     "name": "stderr",
     "output_type": "stream",
     "text": [
      "[WDM] - ====== WebDriver manager ======\n",
      "[WDM] - Current google-chrome version is 102.0.5005\n",
      "[WDM] - Get LATEST chromedriver version for 102.0.5005 google-chrome\n",
      "[WDM] - Driver [C:\\Users\\lenovo\\.wdm\\drivers\\chromedriver\\win32\\102.0.5005.61\\chromedriver.exe] found in cache\n"
     ]
    },
    {
     "name": "stdout",
     "output_type": "stream",
     "text": [
      "Data Analyst99Plus IT Solutions2-5 YrsNot disclosedVadodara Experience of 3- 5 years as a Data Analyst Experience in data- driven problem solving. ...Data Analyst30+ Days Agosave\n",
      "Data AnalystCaaStle4.5(7 Reviews)2-4 YrsNot disclosedNew Delhi Experience in A / B testing and measure performance of experiments Advanced degree in C...EngineeringSoftware Developmenttechnologyweb applications30+ Days Agosave\n",
      "Data Analyst - Home LoansAgreeYa3.5(121 Reviews)3-5 YrsNot disclosedGurgaon/Gurugram We need to hire a data analyst, offshore with these qualifications: Bachelor's degree i...Business processLoansSASAnalyticalConsultingRisk managementAnalyticsFinancial services30+ Days Agosave\n",
      "Data AnalystEPI-USE Systems Limited3.9(7 Reviews)1-4 YrsNot disclosedKochi/Cochin EPI-USE services for AWS is an Advanced tier AWS consulting partner and a Managed servi...IT SkillsCloudAWSTableauPower BIData analysisPayrollFrench30+ Days Agosave\n",
      "Data AnalystCoupa Software Inc.3.7(31 Reviews)3-6 YrsNot disclosedPune Bachelors degree in Computer Science or Data Analysis Masters degree a plus Experience ...Visual BasicWeb developmentJavascriptAgilePHPHTMLSDLCSQL25 Days Agosave\n",
      "Data Analyst/ Power BIE-Cloud Aeon Software Technology Private limited2-5 YrsNot disclosedPune Data AnalystLooking for immediate joiners Job descriptionWe are looking for a Data Anal...data analysisPower BiSSRSPower QueryPythonMicrosoft ExcelPower AppR25 Days Agosave\n",
      "Data AnalystCLINAARC CLINICAL DATAMANAGEMENT PRIVATE LIMITED2-3 YrsNot disclosedNagpur Should have done BTech / MCADemonstrated experience in handling large data sets and rel...Data Analyst30+ Days Agosave\n",
      "Data Analystfundinfo AG4.2(24 Reviews)2-7 YrsNot disclosedChennai Fresher Extract and provide various project-related reports as required by the managerP...Service deliveryTime managementFinancial sectorMutual fundsAnalyticalMS OutlookFinanceForensic30+ Days Agosave\n",
      "Data AnalystDr Vaidyas Herbolab India Pvt Ltd3.7(2 Reviews)2-4 YrsNot disclosedMumbai(Tardeo) Have knowledge about web analytics tool (Google Analytics and Google Tag Manager are pr...data studiosentiment analysisweb analyticsAnalytical27 Days Agosave\n",
      "Financial Data AnalystsC-MOTS Infotech pvt ltd2.8(27 Reviews)2-4 YrsNot disclosedChennai Financial Data Analysts Schedule: Full Time City:Chennaiassembly languageSix SigmaJavaScriptReal Time Operating Systems.NETHTMLOraclePython30+ Days Agosave\n",
      "Data AnalystAlphaExpression Technologies1-3 YrsNot disclosedTrivandrum/Thiruvananthapuram Should be able to communicate effectively with clients and developersPreferred skills P...Data Analyst30+ Days Agosave\n",
      "Data AnalystPeer To Peer HR Services1-3 YrsNot disclosedUdaipur JOB DESCRIPTION Understand the data and identify the approach to sanitize the dataData AnalystHR30+ Days Agosave\n",
      "Data Analyst - Permanent RemoteMHK TECH INC7-12 Yrs20,00,000 - 30,00,000 PA.Remote Must have experience with agile and scrum 5+ years of experience in data, consulting, a...gap analysisPythoncommunicationanalyticaldata analysisdata visualizationagilescrum30+ Days Agosave\n",
      "Data AnalystGroundTruth4.2(22 Reviews)1-3 YrsNot disclosedNoida, Gurgaon/Gurugram, Delhi / NCR Role : Data AnalystLocation : Gurugram, IndiaA bit about youThis will be an exciting an...AnalyticsSQLIT SkillsPythonCloudAWSTableau30+ Days Agosave\n",
      "Data Analystdotsolved4.5(3 Reviews)5-10 YrsNot disclosedChennai Working experience with cloud MPP databases such as Snowflake or Redshift Some experien...pythonSnowflakeTableauRedshiftSQLcommunicationMPPIT Skills30+ Days Agosave\n",
      "Data Analystinfibusiness solution1-2 YrsNot disclosedVadodara We have an opening for a Data Analyst. Major responsibility includes interpreting data ...Data Analyst30+ Days Agosave\n",
      "Data AnalystCapital Placement Services1-5 YrsNot disclosedGurgaon, haryana Data Analyst We are a high growth startup focused on mapping and payments. We are looki...Data Analyst30+ Days Agosave\n",
      "Power Bi/ SQL Tableau Developer/Data analystBusisol Sourcing India Pvt Ltd6-8 YrsNot disclosedHospet/Hosapete 8 Years of Business Intelligence /SQL Developer and Data Analyst with Bachelor of Engin...MS SQLProduction supportRDBMSBusiness analysisXMLSSRSStored proceduresSSIS30+ Days Agosave\n",
      "Data Analyst - Power Bi | Advance Auto PartsTALENT500 TECH (INDIA) PRIVATE LIMITED3.2(9 Reviews)4-7 YrsNot disclosedHyderabad/Secunderabad Job SummaryThis position is within the Data & Analytics organization, responsible for d...sql30+ Days Agosave\n",
      "Data AnalystSquircle IT Consulting Services Pvt Ltd3-7 YrsNot disclosedPune Share only 2 best profilesExperience must be in creating macros and not in recording ma...Technical product configurationc++CdesignMySQLJavaScriptintegration PHPHTML30+ Days Agosave\n",
      "\n"
     ]
    },
    {
     "name": "stderr",
     "output_type": "stream",
     "text": [
      "[WDM] - ====== WebDriver manager ======\n",
      "[WDM] - Current google-chrome version is 102.0.5005\n",
      "[WDM] - Get LATEST chromedriver version for 102.0.5005 google-chrome\n",
      "[WDM] - Driver [C:\\Users\\lenovo\\.wdm\\drivers\\chromedriver\\win32\\102.0.5005.61\\chromedriver.exe] found in cache\n"
     ]
    },
    {
     "name": "stdout",
     "output_type": "stream",
     "text": [
      "Lead Analyst - Employee Lifecycle Operations/Data ManagementTechnipFMC3.9(617 Reviews)5-10 YrsNot disclosedNoida Note: Applicants should be flexible working in shiftsShould have minimum 5-8 years work...Employee LifecycleData ManagementHR OperationsRAMCOOracle26 Days Agosave\n",
      "Associate Tax Data AnalystAvalara4.1(89 Reviews)1-4 YrsNot disclosedPune A bachelors degree with no experience Verify the form meets the governmental and custom...saleswrittenverbal communicationanalyticalMS WordMicrosoft ExcelMS Excelcommunication21 Days Agosave\n",
      "Data AnalystOneMagnify5.0(2 Reviews)1-4 YrsNot disclosedChennai Qualifications Required A Bachelors or Master s degree in Engineering/ Computer Science...Computer scienceSales planningDb2Financial accountingUnix scriptingInformaticaOracleTeradata30+ Days Agosave\n",
      "Data Analyst / Support Operations AssociateT & A Solutions2-3 YrsNot disclosedChandigarh Bachelor s Degree from an accredited college or university (BBA) Should be able to auth...Business processoperational supportAnalyticalConsultingWorkflowOracleVBOperations30+ Days Agosave\n",
      "Big Data AnalystR3coder1-6 YrsNot disclosedAhmedabad Role Description : Lead the effort to design, build and configure applications, acting ...Big Data AnalyticsScala Programming LanguageHadoopSpark ProgrammingIT SkillsBig DataCore JavaNoSQL30+ Days Agosave\n",
      "Data AnalystFE fundinfo4.2(24 Reviews)1-2 YrsNot disclosedChennai Good Analytical and Problem solving skillsExtract and provide various project-related r...English CommunicationCommunication SkillsAnalystMs OfficeTechnical Skills30+ Days Agosave\n",
      "Data AnalystsCapital Market Publishers India Pvt. Ltd.2.4(7 Reviews)3-6 YrsNot disclosedChennai We are inviting candidates for a six-week internship to: Analysing current and past fin...ExcelVBAAccountingFinanceReconciliationCommerceDatabase maintenanceInternship30+ Days Agosave\n",
      "Data Analyst with strong SQLAnika Technologies3-5 YrsNot disclosedPune Ability to do business requirement gathering Experience in Power bi Very strong Skills ...acceptanceUATsystem integration testingMS SQLdevelopment life cycleSDLCPower biIT Skills30+ Days Agosave\n",
      "Data Analyst/Business system analysts with GCP -Bangalore-Pune-GurgoanXoriant4.4(882 Reviews)5-8 YrsNot disclosedPune, Gurgaon/Gurugram, Bangalore/Bengaluru Data Analyst / Business system analysts with GCP experience (fair exposure on data anal...GCPBusiness system analystsData Analystdata analysisdata composerGCP related services GCP servicesdataprocbigquerypubsub4 Days Agosave\n",
      "Data Analyst- Compensation Benchmarking / Rewards (HR Analytics)Virtuoso Staffing Solutions Pvt Ltd  2-5 Yrs6,00,000 - 7,00,000 PA.Bangalore/Bengaluru Excellent hands-on Excel Should have worked on Large Data Ability to draw insights from...Data AnalysisExcelCompensation Benchmarking26 Days Agosave\n",
      "Data AnalystManek Consulting1-6 Yrs5,00,000 - 10,00,000 PA.Navi Mumbai, Pune, Mumbai (All Areas) Maintaining developed dashboard applications by handling change requests for modificati...Data AnalysisQlikSAP BIIT SkillsSAPUATQlik NprintingLicense Utilization28 Days Agosave\n",
      "Data Engineering AnalystTelstra4.1(84 Reviews)3-7 YrsNot disclosedBangalore/Bengaluru As a Data Engineering Analyst, you bridge the hardware-software boundary. You create, o...NoSQLProduction supportTesting toolsdevopsFlexAgileSecurity testingManager Technology30+ Days Agosave\n",
      "Scientific Data Research AnalystE-Merge tech Global Services Pvt Ltd1.9(29 Reviews)0-3 YrsNot disclosedChennai Masters / Engineering Required Qualification Good Knowledge in Research Study Design, A...communicationTranslationTranscriptionData Research AnalystBiochemistryResearchMolecular biology30+ Days Agosave\n",
      "SAP Master Data Governance AnalystNVIDIA4.2(267 Reviews)4-7 YrsNot disclosedBangalore/Bengaluru What you will be doing: Strong experience with Master data on S/4 and or ECC. Gather re...Business processProcess designApplication supportSAPdata governanceScrumApplication securityData quality30+ Days Agosave\n",
      "Business Analyst, Data IntegrationEvolent Health4.4(112 Reviews)2-7 YrsNot disclosedPune Shifts: Will need 3-4 hours of overlap with US timings 8:00 AM Central to 11 AM Central...Data IntegrationRequirements ManagementMedicareBrdProviding TrainingCallingMedicaidTest Cases28 Days Agosave\n",
      "Data Artist / Business AnalystAppSmartz3-4 YrsNot disclosedMohali Lead daily status meetings with project teams to understand the bigger picture of each ...IT SkillsQuality AssuranceAnalytical skillsManager Quality AssuranceBusiness AnalystProcess improvementManager TechnologyMarket research30+ Days Agosave\n",
      "SAP Master Data Senior AnalystSAGE IT, INC3.8(26 Reviews)4-8 YrsNot disclosedBangalore/Bengaluru Facilitate the setup and maintenance of Global Local Master Data Experience and underst...SAP Master DataSAPIT SkillsAnalystRetailSupply chain managementData qualityVendor30+ Days Agosave\n",
      "Data Analyst (3-4 yrs. Exp.)+sql/statistics/excelSpectral Consultants -Search and Recruitments Firm 3-4 YrsNot disclosedPune, Gurgaon/Gurugram, Bangalore/Bengaluru Preferred experience in another consulting firm/ market research- specifically having w...SQLBusiness AnalysisRegression AnalysisTableauRSASExcelanalytics25 Days Agosave\n",
      "Analyst - R/SAS/Data StructureHuquo Consulting Pvt. Ltd3-7 YrsNot disclosedDelhi / NCR The client has a strong set of independent board members and advisors including profess...IT SkillsPythonTestingTableauRSASAnalyticsData Structure28 Days Agosave\n",
      "Analyst - R/sas/data StructureHuquo Consulting Pvt. Ltd3-7 YrsNot disclosedDelhi / NCR, Others Translate business requirement into technical work with the help of Leads and Managers ...RSASTableauAnalyticsData StructureSQLPython28 Days Agosave\n",
      "\n"
     ]
    },
    {
     "name": "stderr",
     "output_type": "stream",
     "text": [
      "[WDM] - ====== WebDriver manager ======\n",
      "[WDM] - Current google-chrome version is 102.0.5005\n",
      "[WDM] - Get LATEST chromedriver version for 102.0.5005 google-chrome\n",
      "[WDM] - Driver [C:\\Users\\lenovo\\.wdm\\drivers\\chromedriver\\win32\\102.0.5005.61\\chromedriver.exe] found in cache\n"
     ]
    },
    {
     "name": "stdout",
     "output_type": "stream",
     "text": [
      "Lead Data Science Analyst - Python/SparkHuquo Consulting Pvt. Ltd6-11 YrsNot disclosedGurgaon/Gurugram Qualifications - B Tech or MTechKey Requirement for the Position : - At least 2-year de...IT SkillsPythonData ScienceMachine LearningNLPAlgorithmsData EngineeringNatural Language Processing21 Days Agosave\n",
      "Data Processing Analyst IIArrow Electronics3.7(265 Reviews)2-5 YrsNot disclosedBangalore/Bengaluru Proficient in MS Office Suite Excel is Must Typically requires a 4 year degree and 2 4 ...Supply chainMS Office suiteAnalyticalManager TechnologyIssue resolutionData Processing AnalystAnalyst IITechnology solutions30+ Days Agosave\n",
      "Data Processing Analyst IIArrow Electronics3.7(265 Reviews)2-4 YrsNot disclosedBangalore/Bengaluru Proficient in MS Office Suite Excel is Must Typically requires a 4 year degree and 2-4 ...Supply chainMS Office suiteAnalyticalManager TechnologyIssue resolutionData Processing AnalystAnalyst IITechnology solutions30+ Days Agosave\n",
      "Senior Business Analyst/Data Engineer - Python & Cloud ComputingHuquo Consulting Pvt. Ltd2-4 YrsNot disclosedDelhi / NCR, Delhi / NCR Experience in building scalability in testing automation Enterprise level coding experi...AzureAWSPythonIT SkillsTestingBusiness AnalystClouddata microservices22 Days Agosave\n",
      "Senior Business Analyst/Asst.Manager - Big DataHuquo Consulting Pvt. Ltd2-5 YrsNot disclosedDelhi / NCR Must be able to articulate benefits of Big Data Hands Spark is a must have Essential Sk...ScalaSparkJavaHiveSASBusiness AnalystHadoopCloud27 Days Agosave\n",
      "Senior Business Analyst/Data Engineer - Python & Cloud ComputingHuquo Consulting Pvt. Ltd2-4 YrsNot disclosedDelhi / NCR Experience in building scalability in testing automation Enterprise level coding experi...Database optimizationPythonAzureAWSIT SkillsTestingBusiness AnalystCloud27 Days Agosave\n",
      "Data Scientist ( Analyst )Scienaptic Systems3.2(8 Reviews)3-7 YrsNot disclosedBangalore/Bengaluru The Data Scientist role will enable you to be at the forefront of latest cutting-edge t...AnalystBusiness analyticsManager Technology30+ Days Agosave\n",
      "Sr. Data Analyst (SQL/Qlik/PowerBI) Business Systems II,- EI&GCompuCom4.1(278 Reviews)7-12 Yrs19,00,000 - 22,50,000 PA.Pune(WFH during Covid) Sr. Data Analyst (SQL/Qlik/PowerBI) Business Systems II, Level III - EI&G Team Knowledg...Power BiIT SkillsTestingMachine LearningArtificial IntelligenceOracle3 Days Agosave\n",
      "Workplace Data Analyst, P&F Business IntelligenceRefinitiv4.2(165 Reviews)3-5 YrsNot disclosedBangalore/Bengaluru Proficient in working in MS excel managing and analysing large quantity of data Profici...data cleansingData analysisManager Quality AssuranceData managementHealthcareData qualityBusiness intelligenceOperations15 Days Agosave\n",
      "Opening For Data AnalystJobuss Resources Pvt.Ltd  2-7 Yrs2,75,000 - 4,00,000 PA.Thane, Navi Mumbai, Mumbai (All Areas) We have Opening for Data Anlayst Job Description: 1. Working experience in advance exce...Data AnalysisMISdata analystMs acess24 Days Agosave\n",
      "Data AnalystSKILLLABS RESOURCE SERVICES Pvt Ltd2-5 Yrs14,00,000 - 18,00,000 PA.New Delhi As a dataanalyst, you will be able to work with large data set generated by millions of...Relational DatabasesData AnalysisProcess ImprovementData AnaystSQL30+ Days Agosave\n",
      "Data Analyst - Fintech CoTalent Destination 2-5 YrsNot disclosedGurgaon/Gurugram Must have 2 - 5 years exp as Data Analyst using ETL tools. Managing master data, includ...Data AnalysisETLdata analyistData Cleansingdata maining28 Days Agosave\n",
      "Data AnalystManning Consulting 2-7 YrsNot disclosedHyderabad/Secunderabad Hiring for Leading Indian MNC Hyderabad Work Form Office Notice period - 30 Days Rotati...MIS ReportingMISData22 Days Agosave\n",
      "Data Measurement & Reporting AnalystCigna TTK3.8(148 Reviews)3-5 YrsNot disclosedBangalore/Bengaluru Core Responsibilities Execution of daily, weekly, and monthly data analysis through SAS...Data analysisManager Quality AssuranceClaimsSASCodingProcess improvementReconciliationHealthcare30+ Days Agosave\n",
      "Data Engineering AnalystTelstra4.1(84 Reviews)3-7 YrsNot disclosedHyderabad/Secunderabad, Pune Required Skills Proficient in the ETL (Extraction, Transformation, Loading) processData analysisSCALAAgileFlexManager TechnologyEffort estimationWorkflowOperations20 Days Agosave\n",
      "Sr Data Engineering Analyst - PentahoAperture Credentialing LLC2.9(3 Reviews)4-9 YrsNot disclosedHyderabad/Secunderabad Should have strong knowledge on Pentaho PDI (3+ years exp.)Must have good communication...UnixRelationship managementTrainingDiversity and InclusionHealthcareData qualityPentahoEngineering Analyst22 Days Agosave\n",
      "Senior Analyst - Data ProcessingMetrixLab3.5(30 Reviews)5-10 YrsNot disclosedHyderabad/Secunderabad Bachelor s Any Graduate, Bachelor of Science / Computer Science/ Business Information S...Computer scienceAnalytical skillsAnalystPDFSASProduct innovationConsumer insightsData processing30+ Days Agosave\n",
      "Senior Analyst Data EngineeringSmart Cube3.8(82 Reviews)3-8 YrsNot disclosedNoida Should have some CPG business understanding to be able to contribute right ideas Experi...AnalystStatistical modelingMachine learningSchedulingNatural language processingDigital marketingbig dataBusiness understanding30+ Days Agosave\n",
      "Analyst/Senior Analyst - Data ProcessingMetrixLab3.5(30 Reviews)5-10 YrsNot disclosedHyderabad Responsibilities: Ability to work on an assigned project through completion Knowledge o...Analytical skillsAnalystAdministrationPDFSASProduct innovationData processingMarket research30+ Days Agosave\n",
      "Senior Analyst - AI/RPA, Lending, Big Data and AnalyticsCedar Consulting7-9 YrsNot disclosedMumbai Bachelor s or master s degree from a top-tier university Good appreciation of emerging ...Primary researchSenior AnalystAnalyticalConsultingManagement consultingResearchAnalyticsSecondary research30+ Days Agosave\n",
      "\n"
     ]
    },
    {
     "name": "stderr",
     "output_type": "stream",
     "text": [
      "[WDM] - ====== WebDriver manager ======\n",
      "[WDM] - Current google-chrome version is 102.0.5005\n",
      "[WDM] - Get LATEST chromedriver version for 102.0.5005 google-chrome\n",
      "[WDM] - Driver [C:\\Users\\lenovo\\.wdm\\drivers\\chromedriver\\win32\\102.0.5005.61\\chromedriver.exe] found in cache\n"
     ]
    },
    {
     "name": "stdout",
     "output_type": "stream",
     "text": [
      "Senior Analyst - Data EngineeringSmart Cube3.8(82 Reviews)3-8 YrsNot disclosedNoida Should have some CPG business understanding to be able to contribute right ideas Experi...Statistical modelingMachine learningSchedulingNatural language processingDigital marketingbig dataBusiness understandingData warehousing30+ Days Agosave\n",
      "Data AnalystCHANGE LEADERS CONSULTING5-9 YrsNot disclosedMumbai Requirement Gathering DocumentationMySQLTableauPythonMS ExcelSQL30+ Days Agosave\n",
      "Analyst - Data Science - Python/Machine Learning/AnalyticsHuquo Consulting Pvt. Ltd4-7 YrsNot disclosedGurgaon/Gurugram BTech, MTech or MCA degree from a reputed university Good power point presentation skil...Data ScienceStatistical ModelingData AnalyticsMachine LearningAnalyticsPythonSQL20 Days Agosave\n",
      "Data Processing Analyst IArrow Electronics3.7(265 Reviews)3-5 YrsNot disclosedGurgaon/Gurugram Should be comfortable to work in shifts combine and rearrange data from source emails w...ExcelSalesManagement systemsManager TechnologyElectronicsData Processing Analystdata integrityDocument management21 Days Agosave\n",
      "APAC Compliance Business Intelligence Data Analyst #2038Credit Suisse3.9(540 Reviews)3-5 YrsNot disclosedPune, Pune Bachelor s Degree or higher in Business Administration, Computer Science, Computer Engi...BIData AnalystTableauPython30+ Days Agosave\n",
      "Data Scientist  /  AnalystAdoro2-5 YrsNot disclosedMumbai Basic understanding of statistic and Experience manipulating large data sets through st...Computer scienceBasicSenior AnalystStatistical softwareMATLABStatisticsSQLPython30+ Days Agosave\n",
      "Data Scientist / AnalystAdoro2-5 YrsNot disclosedMumbai Basic understanding of statistic and Experience manipulating large data sets through st...Computer scienceComputer visiondeep learningAnalystOpencvStatistical softwareMATLABSQL30+ Days Agosave\n",
      "Data Scientist Associate/Analyst/ConsultantONPASSIVE Technologies Pvt. Ltd4.5(4 Reviews)2-7 YrsNot disclosedHyderabad/Secunderabad Job Description:Need to have atleast 2+ Years experience.Experienced Data Scientist wit...PythonRNNsAILSTMsMachine LearningCNNsLearningIT Skills21 Days Agosave\n",
      "Data Scientist - Data Analysis and Simulation ProfessionalSiemens4.2(3086 Reviews)3-6 YrsNot disclosedBangalore/Bengaluru You have Masters / PhD in Computer Science or a related discipline from a reputed insti...Computer scienceData analysisMedical imagingDiagnosticsConsultingMachine learningHealthcareHTML15 Days Agosave\n",
      "Data Excel AnalystVEGA Intellisoft Private Limited4.2(18 Reviews)3-8 YrsNot disclosedBangalore/Bengaluru Should know how to operate computer Candidate should be proficient in English to go thr...AnalystExcelSaving30+ Days Agosave\n",
      "Azure Data Lead AnalystAnicalls4.7(2 Reviews)5-10 YrsNot disclosedBangalore/Bengaluru Bachelor s degree in Computer Science or a related analytical field or equivalent exper...Azure Data LakeAzure Data FactoryPySparkAzureAzure SQL DW / SynapsePythoncommunicationverbal30+ Days Agosave\n",
      "Data Quality AnalystTekFortune Inc.5.0(3 Reviews)5-10 YrsNot disclosedBangalore/Bengaluru 10 years of IT experiencePrior hands-on experience with Data Mapping from one data sour...Javascript30+ Days Agosave\n",
      "Data Visualization AnalystUnusual Hire1-3 YrsNot disclosedBengaluru Bachelor s or Master s degree in Computer Science or related field, 1-3 year(s) of equi...writtenanalyticalCommunicationGraphicsComputer scienceAnalytical skillsAnalystAdministration30+ Days Agosave\n",
      "Associate Data Programming Analyst E2open, LLC4.0(159 Reviews)1-2 YrsNot disclosedBangalore/Bengaluru Bachelors or master s degree in relevant fieldDetail-oriented and capable of working wi...TradeManaged servicesExcelPDFProgrammer AnalystSQL databaseDatabase AssociateQuality audit30+ Days Agosave\n",
      "Data and Financial AnalystArena Investors LP1-4 YrsNot disclosedBangalore/Bengaluru Transaction-related Research Support Researching specific industries / sectors as part ...AdministrationLead generationDue diligencePublishingLitigationFinanceFinancial AnalystManagement30+ Days Agosave\n",
      "Lead - IT Data Science AnalystMomentive Performance Materials Inc.4.4(36 Reviews)4-8 YrsNot disclosedBangalore/Bengaluru This position is responsible for architecture, design and Implementing solutions in Dat...AnalystAutomationdata scienceData modelingMySQLArchitectural designContinuous improvementProject execution30+ Days Agosave\n",
      "Data Quality Analyst(ETL Testing+Python Automation)Accion labs India Private Limited   4.0(169 Reviews)4-9 YrsNot disclosedHyderabad/Secunderabad, Pune, Bangalore/Bengaluru, Mumbai (All Areas) SDET role mainly focused on ETL/backend testing using SQL , PythonExpertise in testing ...Automation TestingETL TestingSQLPythonHadoopTSQLbig dataSpark29 Days Agosave\n",
      "Data Operations Analyst Instawork3.6(2 Reviews)1-3 YrsNot disclosedBangalore/Bengaluru Bachelors (Preferred) Qualification ExperienceCommunication SkillsLinkedinExcelYahooAnalytical SkillsFinanceSql30+ Days Agosave\n",
      "Data Entry AnalystsEminent Minds Technologies pvt Ltd.4.7(126 Reviews)1-3 YrsNot disclosedBengaluru Job Description:- Planning, developing and implementing effective marketing communicati...SalesMarketing campaignsMarket researchBudgetingManagementMarketing communicationAdvertisingMonitoring30+ Days Agosave\n",
      "Sr.Executive Assistant - Business AnalystDATA PATTERNS (I) PVT LTD3.9(69 Reviews)7-9 YrsNot disclosedChennai Able to work independently with minimal supervision, experience in MIS using Excelanalytics reportingData analysisDatabase designAerospaceMISAssistant Business AnalystElectronicsData analytics30+ Days Agosave\n",
      "\n"
     ]
    },
    {
     "name": "stderr",
     "output_type": "stream",
     "text": [
      "[WDM] - ====== WebDriver manager ======\n",
      "[WDM] - Current google-chrome version is 102.0.5005\n",
      "[WDM] - Get LATEST chromedriver version for 102.0.5005 google-chrome\n",
      "[WDM] - Driver [C:\\Users\\lenovo\\.wdm\\drivers\\chromedriver\\win32\\102.0.5005.61\\chromedriver.exe] found in cache\n"
     ]
    },
    {
     "name": "stdout",
     "output_type": "stream",
     "text": [
      "Data Analyst EngineerEthos Capital0-3 YrsNot disclosedBangalore/Bengaluru Design standard data access layers for both real-time and batch use casesMinimum of 4 y...BackendInterpersonal skillsdata scienceData modelingDiversity and Inclusiondata governanceData AnalystOpen source21 Days Agosave\n",
      "Data Analyst EngineerEthos Life0-3 YrsNot disclosedBangalore/Bengaluru Design standard data access layers for both real-time and batch use casesBackendInterpersonal skillsdata scienceData modelingDiversity and Inclusiondata governanceData AnalystOpen source21 Days Agosave\n",
      "Business Data AnalystBhakti Consultaants 5-10 Yrs10,00,000 - 20,00,000 PA.Pune(Talegaon Dabhade) Business Functional experience: Quality, Engineering, Human Resources, Supply Chain, Op...business analystIfs ErpBusiness Intelligencedata warehousePower Bimicrosoft BISSRSdata storytelling30+ Days Agosave\n",
      "Product Data Analyst / Senior Product Data AnalystCarousell2-7 Yrs40,000 - 55,000 PA.Bangalore/Bengaluru Must have demonstrated team working capability Has deep expertise and working knowledge...pythonAb Testingsqlbig data7 Days Agosave\n",
      "Data Engineer AI/Advance AnalystAnicalls4.7(2 Reviews)8-12 YrsNot disclosedNoida Data science, AI / ML, or statistics understanding and experience Experience in network...MLAInetwork operationsCybersecurity Data scienceIT SkillsData ScienceManager TechnologyStatistics30+ Days Agosave\n",
      "Data Annotation AnalystSquadRun, Inc4.2(57 Reviews)1-2 YrsNot disclosedNew Delhi Bachelor s or equivalent degree mandatoryDegrees in computer science or statistics or m...PythonSQLcommunicationComputer scienceAnalystBengaliSANQuality check27 Days Agosave\n",
      "Data Science AnalystShell4.3(1088 Reviews)3-8 YrsNot disclosedChennai Good interpersonal skills, ability to work in virtual teams with diverse backgroundsData ScienceRExcelAlteryxAzure DatabricksMachine LearningAnalyticsPython28 Days Agosave\n",
      "Pricing Analyst - Data ScienceAdvance Auto Parts4.3(41 Reviews)2-4 YrsNot disclosedHyderabad/Secunderabad Looking for Data Scientist with strong knowledge in Math and Statistics to join our Pri...Computer scienceText miningSystem architecturedeep learningMachine learningPredictive modelingData miningForecasting30+ Days Agosave\n",
      "Data QA AnalystWebMD4.5(14 Reviews)6-9 YrsNot disclosedMumbai Minimum 4 years experience in Minimum 1 year experience with databases such as Proficie...Data analysisMS AccessWeb analyticsWeb developmentHealthcareOracleMacrosOperations30+ Days Agosave\n",
      "Data Migration AnalystEpiq Systems, Inc.4.2(76 Reviews)1-3 YrsNot disclosedHyderabad/Secunderabad This role is a full-time, permanent position. It reports to the Director of Information...BasicData migrationWindows OSExcelProject managementPLSQLForensicWindows30+ Days Agosave\n",
      "Associate/Analyst, Data VisualizationMetrixLab3.5(30 Reviews)3-7 YrsNot disclosedHyderabad/Secunderabad Proficient in PPTGood understanding of inputs from project stake holdersVery good writt...Associate AnalystExcelPackagingMarket researchE-commercedata visualizationManager Quality ControlMarketing communication30+ Days Agosave\n",
      "Data Engineering AnalystAnicalls4.7(2 Reviews)5-10 YrsNot disclosedNoida Candidate should have: Worked collaboratively with cross-functional teams and stakehold...IT SkillsPythonCloudBig DataAWSAzureData migrationArchitecture30+ Days Agosave\n",
      "Data Migration AnalystAugusta Infotech3.1(9 Reviews)2-5 YrsNot disclosedTrivandrum Minimum Qualification and Experience : Graduate with experience of 2-4 years in Data Mi...IT SkillsPythonAnalystData migrationBusiness analysisPowershellConsultingMicrosoft Dynamics30+ Days Agosave\n",
      "Data Entry Associate/Quality AnalystT & A Solutions1-3 YrsNot disclosedChandigarh Willing to work in rotational shifts Qualification Graduate in any discipline with rele...ExcelVLOOKUPAnalyticalFinanceCommerceAssociate Quality AnalystData entry30+ Days Agosave\n",
      "DATA RESEARCH ANALYSTD Plus Concept1-3 YrsNot disclosedPune Be a Graduate / Post Graduate in Statistics or MathsMS - officeData Research Analyst30+ Days Agosave\n",
      "Data Research AnalystRoverpath ITES pvt Ltd1-4 YrsNot disclosedPune End to end research on the given specifications. Intensive research on research portals...Typing speedData Research AnalystResearch30+ Days Agosave\n",
      "Data and Imaging Analyst II - OpportunitiesSTRING REAL ESTATE INFORMATION SERVICES3.7(79 Reviews)3-8 YrsNot disclosedMumbai Essential Job Functions [Responsibilities the person in this role will be accountable f...T-SQLPDFAnalyticalMySQLAnalyst IIMS OfficeOperationsBusiness operations30+ Days Agosave\n",
      "Data entry analystJSK Industrial Supply1-3 YrsNot disclosedVadodara Records time for project billing and payroll as required Must be proficient with MS Exc...Administrative assistanceAdministrationPayrollExcelProject billingHP data protectorProcess improvementInventory30+ Days Agosave\n",
      "Analyst - AI/RPA, Lending, Big Data and AnalyticsCedar Consulting3-4 YrsNot disclosedMumbai Bachelor s or master s degree from a top-tier university Good appreciation of emerging ...Primary researchAnalyticalConsultingManagement consultingBankingManager TechnologyResearchSecondary research30+ Days Agosave\n",
      "Lead Analyst - AI/ RPA, Lending, Big Data and Analytics Cedar Consulting7-9 YrsNot disclosedMumbai Strong education background with a management degree from good B-school a must, profess...AnalyticalProject managementConsultingManagement consultingResearchAnalyticsSecondary researchFinancial services30+ Days Agosave\n",
      "\n"
     ]
    },
    {
     "name": "stderr",
     "output_type": "stream",
     "text": [
      "[WDM] - ====== WebDriver manager ======\n",
      "[WDM] - Current google-chrome version is 102.0.5005\n",
      "[WDM] - Get LATEST chromedriver version for 102.0.5005 google-chrome\n",
      "[WDM] - Driver [C:\\Users\\lenovo\\.wdm\\drivers\\chromedriver\\win32\\102.0.5005.61\\chromedriver.exe] found in cache\n"
     ]
    },
    {
     "name": "stdout",
     "output_type": "stream",
     "text": [
      "Associate Analyst, Data ProcessingenVista2-5 YrsNot disclosedHyderabad/Secunderabad Candidate should be willing / flexible to work in night shift (we don t have rotational...Relationship managementTrainingManagement AssociateUsageComplianceRelationshipData processingData quality30+ Days Agosave\n",
      "Content Writer - Data AnalystAnivale Pvt Ltd0-2 Yrs80,000 - 1,25,000 PA.Mangaluru/Mangalore Requirement: - Ideate on the product content - Manage assigned tasks on data or content...Communication SkillsEnglish WritingStrategic ThinkingAnalytical Skills11 Days Agosave\n",
      "Sr. Analyst-- Data VisualizationIndihire HR Consultants Private Limited3-6 Yrs10,00,000 - 16,00,000 PA.Gurgaon/Gurugram Roles and Responsibilities Develop organisational and divisional dashboards/scorecards ...IT SkillsPower BItransformation programsCorporate Sustainabilitydata modellingData VisualizationData MaintenanceDashboards28 Days Agosave\n",
      "Senior Analyst/Assistant Manager - Data EngineeringHuquo Consulting Pvt. Ltd2-5 YrsNot disclosedNoida, Faridabad, Gurgaon/Gurugram, Delhi NCR Build the infrastructure required for optimal extraction, transformation, and loading o...data modellingdesignAWSIT SkillsCloudMS SQLBig DataTableau22 Days Agosave\n",
      "Senior Analyst/Assistant Manager - Data EngineeringHuquo Consulting Pvt. Ltd2-5 YrsNot disclosedNoida, Faridabad, Gurgaon/Gurugram, Delhi / NCR Build the infrastructure required for optimal extraction, transformation, and loading o...Data EngineeringIT SkillsCloudMS SQLBig DataAWSTableauPower BI29 Days Agosave\n",
      "Sr CLR Data Analyst-2Target4.4(342 Reviews)3-8 YrsNot disclosedBengaluru Experience with SQL statements and building and managing ETLs DOMO, Greenfield and BigR...IT SkillsPythonBig DataData managementBusiness analysisAnalyticalLegalRisk management30+ Days Agosave\n",
      "Data Analyst, Regulatory Risk and ComplianceGoogle4.4(449 Reviews)4-9 YrsNot disclosedHyderabad/Secunderabad Minimum Qualifications: Bachelors degree in Computer Science, Mathematics, Statistics, ...IT SkillsMachine LearningProject ManagementBPOproject managementComputer scienceComplianceBusiness analysis5 Days Agosave\n",
      "Managed Services Specialist (Data Analyst/Reporting)IHS Markit4.1(470 Reviews)3-6 Yrs6,00,000 - 9,00,000 PA.Delhi / NCR Department overview:IHS Markits Platforms and Regulatory Compliance group offers best-i...Presentation Skillsmanagement reData VisualizationAdvanced ExcelIT SkillsTestingTableauR25 Days Agosave\n",
      "Sr/ Data Analyst, Business Intelligence, Tableau, SQL_Gurugram/GurgaonHR CENTRAL 2-6 YrsNot disclosedGurgaon/Gurugram Good to Have - Build Marketing-Mix and Multi-Touch attribution models using a range of ...Business Intelligence ReportingTableauSQLVisualizationDashboardsAttribution model22 Days Agosave\n",
      "Data Analyst/MIS sales supportCarlsberg4.1(282 Reviews)9-14 YrsNot disclosedMumbai(Mumbra) Roles and Responsibility*Strong understanding of Data crunching, Power BI, Excel, *Mang...excelSales SupportMISData AnalysisDashboardssales coordination12 Days Agosave\n",
      "Data Analyst - Business IntelligencePredera Technologies4.4(2 Reviews)1-4 YrsNot disclosedHyderabad/Secunderabad Proven experience working in a particular domain (HealthCare, Finance, CRM etc) Knowled...Data MiningData AnalystTableauBusiness IntelligenceData QualitySASDatabase DesignData Visualization25 Days Agosave\n",
      "Business Intelligence, Data AnalystT & A Solutions3-4 YrsNot disclosedMumbai Job Description:- - Develop and maintain the Business Intelligence platform which allow...Data modelingData AnalystData miningBusiness intelligencebig dataQuantitative analysis30+ Days Agosave\n",
      "MIS Executive | Data Analyst | Back office ExecutiveMegara InfoTech Pvt. Ltd. 0-1 Yrs1,50,000 - 2,50,000 PA.Noida, Kanpur, Lucknow, Faridabad, Gurgaon/Gurugram, Delhi / NCR Practical Knowledge in MIS & Data Analyst. Knowledge in Advance Excel with Formulas. Kn...mis executiveMISmis managerExcel DashboardsVLOOKUPFormulasAdvanced ExcelMacros14 Days Agosave\n",
      "Analyst - Data VisualizationIkon Staffing Solutions Pvt. Ltd3-6 YrsNot disclosedHyderabad/Secunderabad, Gurgaon/Gurugram, Bangalore/Bengaluru Requirement gathering and evaluation of clients business situations in order to impleme...Data VisualizationIT SkillsPythonTableauPower BIRAlteryxData studio28 Days Agosave\n",
      "Senior Analyst-Clinical Data Management (CDM)Accenture4.1(28676 Reviews)5-8 YrsNot disclosedBangalore/Bengaluru Skill required: Clinical Data Management (CDM) - Study Build Designation: Senior Analys...Test scriptsReconciliationConsultingUnit testingClinical data managementIT SkillsTestingCloud1 Day Agosave\n",
      "Senior Analyst-Clinical Data Management (CDM)Accenture4.1(28676 Reviews)5-8 YrsNot disclosedBangalore/Bengaluru Skill required: Clinical Data Management (CDM) - Study Build Designation: Senior Analys...Test scriptsReconciliationConsultingUnit testingClinical data managementIT SkillsTestingCloud6 Days Agosave\n",
      "Senior Analyst-Data ManagementAccenture4.1(28676 Reviews)5-8 YrsNot disclosedBangalore/Bengaluru You will be required to utilize the existing frameworks, standards, patterns to create ...PublishingData managementMySQLConsultingAnalyticsIT SkillsArtificial IntelligenceArchitecture6 Days Agosave\n",
      "Senior Analyst-Data ScienceAccenture4.1(28676 Reviews)5-8 YrsNot disclosedBangalore/Bengaluru You will be required to utilize the existing frameworks, standards, patterns to create ...PublishingData managementArtificial IntelligenceConsultingMachine learningArchitecturedata scienceBusiness Economics22 Days Agosave\n",
      "Pharma Data AnalystConformanceX Consulting Pvt Ltd2-5 Yrs7,50,000 - 13,00,000 PA.Delhi / NCR Vast amounts of meaningful Pharma commercial data made accessible through analytical an...ExcelVBAPower BiQlikView19 Days Agosave\n",
      "Data Analyst-MDMShell4.3(1088 Reviews)5-8 YrsNot disclosedBangalore/Bengaluru The RoleMDM Dat Anayst is primarily responsible for the design, development, and suppor...MDMdata qualitysql queriesdata modelingidqdata governanceetlmaster data managementTodaysave\n",
      "\n"
     ]
    },
    {
     "name": "stderr",
     "output_type": "stream",
     "text": [
      "[WDM] - ====== WebDriver manager ======\n",
      "[WDM] - Current google-chrome version is 102.0.5005\n",
      "[WDM] - Get LATEST chromedriver version for 102.0.5005 google-chrome\n",
      "[WDM] - Driver [C:\\Users\\lenovo\\.wdm\\drivers\\chromedriver\\win32\\102.0.5005.61\\chromedriver.exe] found in cache\n"
     ]
    },
    {
     "name": "stdout",
     "output_type": "stream",
     "text": [
      "Order Management & Procurement Data AnalystMotorola Solutions India Private Ltd4.0(35 Reviews)3-5 YrsNot disclosedBangalore/Bengaluru Experience in delivery data analytical reporting and bringing data to life through enha...ProcurementOrder managementData analysisProject managementdata visualizationOracleOperationsMotorola30+ Days Agosave\n",
      "Data Analyst - Business Intelligence Solutions - Tableau/SQL/HiveHuquo Consulting Pvt. Ltd4-7 YrsNot disclosedBangalore/Bengaluru Experience with connecting multiple data sources in Tableau to implement working report...TableauBusiness IntelligenceSQLIT SkillsHiveRDBMSAnalysis Data ModelData Analyst28 Days Agosave\n",
      "Senior Analyst-Data MaintenanceAccenture4.1(28676 Reviews)5-8 YrsNot disclosedBangalore/Bengaluru You will have to perform discrepancy review & perform Self-Evident Corrections per DRP ...ReconciliationConsultingClinical researchMacrosSQLBase SASStatistical programmingTest scripts7 Days Agosave\n",
      "Senior Analyst-Data MaintenanceAccenture4.1(28676 Reviews)5-8 YrsNot disclosedBangalore/Bengaluru Skill required: Data Maintenance - Clinical Data Management Designation: Senior Analyst...Data managementPharmacyReconciliationConsultingClinical data managementTest scriptsTest case creation8 Days Agosave\n",
      "Senior Analyst-Data ManagementAccenture4.1(28676 Reviews)5-8 YrsNot disclosedBangalore/Bengaluru Skill required: Data Management - SQL (Structured Query Language) Designation: Senior A...Data managementConsultingmicrosoftAnalyticsSQLIT SkillsArtificial IntelligencePower BI7 Days Agosave\n",
      "Senior Analyst-Data MaintenanceAccenture4.1(28676 Reviews)5-8 YrsNot disclosedBangalore/Bengaluru You will have to perform discrepancy review & perform Self-Evident Corrections per DRP ...Test scriptsPharmacyReconciliationConsultingClinical data managementIT SkillsCloudClient relationship8 Days Agosave\n",
      "Supply Chain Management Data AnalystSquircle IT Consulting Services Pvt Ltd3-5 YrsNot disclosedBengaluru Should be able to build a process map to deliver desired resultsShould be ready for sho...Order managementData analysisSupply chain managementSAP CRMWritten communicationMS Office toolsData AnalystSCM30+ Days Agosave\n",
      "Data/Fraud Analyst Required - Any GraduateAegis Global3.5(4496 Reviews)0-1 Yrs2,00,000 - 2,75,000 PA.Noida Should be flexible for night shiftExperience in working in 24x7 environment is a mustVe...Good Communication In EnglishGood Knowledge of Excel and SQLKnowledge of Telecom industryBPOcustomer servicehindi11 Days Agosave\n",
      "Hiring - Data Research Analyst - Equity OperationsMorningstar4.3(376 Reviews)0-1 Yrs3,50,000 - 4,50,000 PA.Mumbai(Sector 30A Vashi) Title: Data Research Analyst, Equity OperationsTeam : Fundamentals & Non fundamentalsSh...FundamentalsData ResearchFinancial AnalysisFinanceResearch AnalysisEquityData Collection3 Days Agosave\n",
      "Senior MIS Executive / Data AnalysisSSP SOLUTIONS 6-9 Yrs3,50,000 - 5,00,000 PA.Kolkata Supporting sales team to improve productivity Advance Excel, Macros, Data Analysis Anal...Advance ExcelPower Bi DashboardsData AnalysisFMCGMacrosSales AnalysisMIS GenerationSales CoordinationTodaysave\n",
      "Senior Analyst-Data MaintenanceAccenture4.1(28676 Reviews)5-8 YrsNot disclosedBangalore/Bengaluru You will have to perform discrepancy review & perform Self-Evident Corrections per DRP ...SASReconciliationConsultingAnalyticsSQLIT SkillsCloudStatistical programming12 Days Agosave\n",
      "Senior Analyst-Data MaintenanceAccenture4.1(28676 Reviews)5-8 YrsNot disclosedBangalore/Bengaluru Skill required: Data Maintenance - Clinical Data Management Designation: Senior Analyst...Data managementPharmacyReconciliationConsultingClinical data managementTest scriptsTest case creationclinical data13 Days Agosave\n",
      "Senior Analyst-Data ManagementAccenture4.1(28676 Reviews)5-8 YrsNot disclosedBangalore/Bengaluru You will be required to utilize the existing frameworks, standards, patterns to create ...SAPPublishingData managementConsultingMarket researchExcelArchitectureArtificial Intelligence13 Days Agosave\n",
      "Senior Analyst-Clinical Data Management (CDM)Accenture4.1(28676 Reviews)5-8 YrsNot disclosedBangalore/Bengaluru Skill required: Clinical Data Management (CDM) - Study Build Designation: Senior Analys...ReconciliationConsultingAgileUnit testingClinical data managementIT SkillsTestingCloud14 Days Agosave\n",
      "Senior Analyst-Data ManagementAccenture4.1(28676 Reviews)5-8 YrsNot disclosedBangalore/Bengaluru You will be required to utilize the existing frameworks, standards, patterns to create ...Google AnalyticsPublishingData managementArtificial IntelligenceConsultingArchitecturegreenplumManagement14 Days Agosave\n",
      "Sales operations data  Analyst Excel Sql CRM TableauAcesoft Labs (India) Pvt Ltd 3-8 YrsNot disclosedBangalore/Bengaluru Should have a strong strategic mindset and will be collaborating with multiple teams to...excelsales operation analystsqlpythontableauData VisualizationpowerpointSalesforce CRM3 Days Agosave\n",
      "Sales operations data  Analyst Excel Sql CRM TableauAcesoft Labs (India) Pvt Ltd 3-8 YrsNot disclosedBangalore/Bengaluru Should have a strong strategic mindset and will be collaborating with multiple teams to...excelsales operation analystsqlIT SkillsPythonProject ManagementTableauSalesforce3 Days Agosave\n",
      "Data Analyst InternPortcast0-1 YrsNot disclosedBangalore/Bengaluru Proficient in Python, SQL - able to write reusable, scalable code as required Experienc...Supply chainAutomationManager Quality AssuranceData managementAnalyticalMachine learningAnalyticsSQL8 Days Agosave\n",
      "Advanced Data Analysis engineerSiemens Gamesa Renewable Energy4.3(620 Reviews)2-7 YrsNot disclosedBangalore/Bengaluru Is responsible for the realization of the system with the required functionality, prepa...ProcurementTrainingData analysisSiemensMATLABOperationsPythonLogistics30+ Days Agosave\n",
      "Performance Data AnalystDeutsche Bank4.2(1799 Reviews)2-6 YrsNot disclosedMumbai Responsibilities: The Real Estate Analyst will mainly focus on the setup of Real Estate...Corporate actionsVisual BasicPerformance managementReconciliationCash flowAsset managementInvestment managementMS Office30+ Days Agosave\n",
      "\n"
     ]
    },
    {
     "name": "stderr",
     "output_type": "stream",
     "text": [
      "[WDM] - ====== WebDriver manager ======\n",
      "[WDM] - Current google-chrome version is 102.0.5005\n",
      "[WDM] - Get LATEST chromedriver version for 102.0.5005 google-chrome\n",
      "[WDM] - Driver [C:\\Users\\lenovo\\.wdm\\drivers\\chromedriver\\win32\\102.0.5005.61\\chromedriver.exe] found in cache\n"
     ]
    },
    {
     "name": "stdout",
     "output_type": "stream",
     "text": [
      "Data Analyst Intern Operations ExcellenceMerkle Inc.0-1 YrsNot disclosedPune Have an unmatched analytics experience that allows you to work on bleeding-edge technol...Data analysisAutomationData Analystdata visualizationData miningDigital marketingAnalyticsCRM30+ Days Agosave\n",
      "Business Operations Analyst (Data Stewardship)NASDAQ4.5(43 Reviews)1-2 YrsNot disclosedBangalore/Bengaluru Your role and responsibilities: Data Stewardship: Help ensure data leveraged in Nasdaq ...Data analysisData managementProduction supportVLOOKUPpower biCorporate financeInformation managementInformation technology25 Days Agosave\n",
      "Analyst - Data Science - Python/Machine Learning/AnalyticsHuquo Consulting Pvt. Ltd4-6 YrsNot disclosedGurgaon/Gurugram BTech, MTech or MCA degree from a reputed university Good power point presentation skil...Machine LearningAnalyticsPythonLogistic RegressionDecision TreeLinear RegressionsMySQLData science20 Days Agosave\n",
      "Data Science AnalystBean HR Consulting 2-6 YrsNot disclosedGurgaon/Gurugram Graduate / Post-graduate in Statistics / Economics / Mathematics / Computer Science / O...predictive modelingstatistical modelingstatical analysispredictive analysisdata analysisClusteringsqlPython30+ Days Agosave\n",
      "Analyst - Operation - Algorithm & Investment Management - Data CenterHuquo Consulting Pvt. Ltd1-3 YrsNot disclosedDelhi / NCR BS / MS in Computer Science or a related technical field for top tier college CCNA cert...Production Change ControlData CenterIT Project Managementteam managementanalyticalwrittenproject managementLinux21 Days Agosave\n",
      "Analyst - C++/Linux/Data Structure - L2 SupportHuquo Consulting Pvt. Ltd2-5 YrsNot disclosedDelhi / NCR Ready to work on shift - early morning (6 AM) late night (2 AM)Preferred Location is so...C++gdbLINUXData StructureValgrind L2 Support21 Days Agosave\n",
      "Urgent Opening For Senior Data Analyst-Power BI For GurgaonVanguard HR Associates Pvt Ltd.  5-7 YrsNot disclosedGurgaon/Gurugram(Sohna Road) Experience / Skills Required Experience: 5-7 YrsPower Bi DashboardsPower BIdata analyticsTodaysave\n",
      "Sr IT Data Analyst (DevOps/Support)Syneos Health4.2(203 Reviews)3-5 YrsNot disclosedHyderabad/Secunderabad, Gurgaon/Gurugram Roles and Responsibilities Provide day to day support of scheduled and adhoc deliverabl...Azure DatabricksSQLUnixdata warehouseVeevaSalesforce CRMPython29 Days Agosave\n",
      "Sr QA/Data AnalystBytes To Bots Consultancy Services Private Limited5-7 YrsNot disclosedBangalore/Bengaluru Requirement Analysis, Data Profiling, Test Strategy, Test Planning, Strong SQLExperienc...Data AnalysisPlanningData ProfilingHiveUnixTalendPigSQL19 Days Agosave\n",
      "Senior Analyst-Data ManagementAccenture4.1(28676 Reviews)5-8 YrsNot disclosedBangalore/Bengaluru You will be required to utilize the existing frameworks, standards, patterns to create ...PublishingData managementArchitectureArtificial IntelligenceConsultingIT SkillsManagementDatabase management system20 Days Agosave\n",
      "Senior Analyst-Clinical Data Management (CDM)Accenture4.1(28676 Reviews)5-8 YrsNot disclosedBangalore/Bengaluru Skill required: Clinical Data Management (CDM) - Study Build Designation: Senior Analys...ReconciliationConsultingClinical Data ManagementRoot Cause AnalysisUnit TestingEDCSubject Matter ExpertiseTest Scripts21 Days Agosave\n",
      "Senior Analyst-Data MaintenanceAccenture4.1(28676 Reviews)5-8 YrsNot disclosedBangalore/Bengaluru You will have to perform discrepancy review & perform Self-Evident Corrections per DRP ...PharmacyReconciliationConsultingTest Case CreationManualClinical Data ManagementTest Scripts21 Days Agosave\n",
      "Senior Analyst-Data MaintenanceAccenture4.1(28676 Reviews)5-8 YrsNot disclosedBangalore/Bengaluru You will have to perform discrepancy review & perform Self-Evident Corrections per DRP ...ReconciliationConsultingClinical Data ManagementDesign DevelopmentTest Case CreationManualTest Scripts21 Days Agosave\n",
      "Senior Analyst-Data ManagementAccenture4.1(28676 Reviews)5-8 YrsNot disclosedBangalore/Bengaluru You will be required to utilize the existing frameworks, standards, patterns to create ...PublishingData managementArchitectureArtificial IntelligenceConsultingIT SkillsManagementDatabase management system21 Days Agosave\n",
      "Senior Analyst-Data MaintenanceAccenture4.1(28676 Reviews)5-8 YrsNot disclosedBangalore/Bengaluru You will have to perform discrepancy review & perform Self-Evident Corrections per DRP ...Test scriptsReconciliationConsultingTest case creationClinical data managementIT SkillsCloudDesign development22 Days Agosave\n",
      "Senior Analyst-Data ManagementAccenture4.1(28676 Reviews)5-8 YrsNot disclosedBangalore/Bengaluru You will be required to utilize the existing frameworks, standards, patterns to create ...PublishingData managementConsultingData miningAnalyticsArchitectureDatastageData architecture29 Days Agosave\n",
      "Senior Analyst-Finance Data MaintenanceAccenture4.1(28676 Reviews)5-8 YrsNot disclosedGurgaon/Gurugram In Master Data Management, you will be working on architecting master data solutions ac...Content managementPublishingConsultingAccount managementBalance SheetIT SkillsCloudProcess orientation1 Day Agosave\n",
      "Senior Analyst-Data MaintenanceAccenture4.1(28676 Reviews)5-8 YrsNot disclosedHyderabad/Secunderabad You will have to perform discrepancy review & perform Self-Evident Corrections per DRP ...Data managementPharmacyReconciliationConsultingClinical data managementIT SkillsCloudTest scripts2 Days Agosave\n",
      "Senior Analyst-Data ManagementAccenture4.1(28676 Reviews)5-8 YrsNot disclosedBangalore/Bengaluru Skill required: Data Management - Alteryx Designation: Senior Analyst Job Location: Ben...PublishingData managementArtificial IntelligenceConsultingSSISIT SkillsCloudArchitecture20 Days Agosave\n",
      "Senior Analyst-Data ScienceAccenture4.1(28676 Reviews)5-8 YrsNot disclosedMumbai You will be required to utilize the existing frameworks, standards, patterns to create ...PublishingData managementArtificial IntelligenceConsultingMachine learningIT SkillsData ScienceCloud26 Days Agosave\n",
      "\n"
     ]
    },
    {
     "name": "stderr",
     "output_type": "stream",
     "text": [
      "[WDM] - ====== WebDriver manager ======\n",
      "[WDM] - Current google-chrome version is 102.0.5005\n",
      "[WDM] - Get LATEST chromedriver version for 102.0.5005 google-chrome\n",
      "[WDM] - Driver [C:\\Users\\lenovo\\.wdm\\drivers\\chromedriver\\win32\\102.0.5005.61\\chromedriver.exe] found in cache\n"
     ]
    },
    {
     "name": "stdout",
     "output_type": "stream",
     "text": [
      "Data Analyst - ProjectsFE fundinfo4.2(24 Reviews)1-2 Yrs3,50,000 - 4,50,000 PA.Chennai Job Location Chennai, IndiaWork Experience 0.6 - 2 years experienceQualifications Any d...Effective Communicationdata managementExcelData AnalysisClient HandlingIT SkillsTestingPresentation Skills18 Days Agosave\n",
      "Data Analyst-KeralaEY3.8(5391 Reviews)0-1 Yrs1,50,000 - 2,50,000 PA.Kerala Bachelor / Masters in Computer Applications, Information Systems or related discipline ...ETL27 Days Agosave\n",
      "Senior Analyst-Data MaintenanceAccenture4.1(28676 Reviews)7-11 YrsNot disclosedHyderabad/Secunderabad You will have to perform discrepancy review & perform Self-Evident Corrections per DRP ...Test scriptsReconciliationConsultingTest case creationClinical data managementIT SkillsCloudmanagement7 Days Agosave\n",
      "Data Analysis and Simulation ProfessionalSiemens4.2(3086 Reviews)8-12 YrsNot disclosedBangalore/Bengaluru 8 year Experience in Design and implementation of robust end-to-end modern Data pipelin...Cloud computingData analysisSimulationAgileHealthcareProject planningScrumTroubleshooting6 Days Agosave\n",
      "Data Analysis and Simulation ProfessionalSiemens4.2(3086 Reviews)5-10 YrsNot disclosedBangalore/Bengaluru 5 year Experience in Design and implementation of robust end-to-end modern Data pipelin...Data analysisSimulationData modelingCloudSiemensHealthcareTroubleshootingData warehousing6 Days Agosave\n",
      "Systems and Data AnalystRAPID GLOBAL BUSINESS SOLUTIONS INDIA PVT.LTD.3.7(53 Reviews)7-12 YrsNot disclosedBangalore/Bengaluru Solid experience in SAP Production Planning and MRP in large and complex business envir...Data analystSAPSAP PPHANA21 Days Agosave\n",
      "Sales Operations Data AnalystPATRA INDIA BPO SERVICES PRIVATE LIMITED3.8(477 Reviews)5-10 YrsNot disclosedChennai, Bangalore/Bengaluru, Mumbai (All Areas)(WFH during Covid) Shift Timings: Rotational shifts (US Business hours) A graduate in statistics or applie...sales operationsData MiningCRMBPOdata entrydata analysisExcelHubspot30+ Days Agosave\n",
      "Retail Data Analyst InternEran Innovations LLP0-2 YrsNot disclosedIndore Eran Innovations a part of Eran Group is looking for an effective and skilled Retail Da...data managementexceldata analysis3 Days Agosave\n",
      "Data Analyst TraineeADDEND ANALYTICS LLP 0-1 Yrs3,00,000 - 3,50,000 PA.Indore, Navi Mumbai Understanding and capturing clients requirement to design data analytics solutions Good...data analyticsSQLRelational DatabasesPower BIDatawarehouseIT SkillsData Sciencebusiness analytics6 Days Agosave\n",
      "Back Office / Data Analyst/GurgaonAsap Staffing Solutions 0-1 Yrs50,000 - 2,25,000 PA.New Delhi, Gurgaon/Gurugram Profile:- Junior Consultant Backend /Backoffice - Data Creation / Research Analyst Prof...Non Voice Processdata analystfresherBack Officegood communication skillcustomer serviceInternational BusinessVoice Process21 Days Agosave\n",
      "Big Data AnalystYuva HR Services 3-6 Yrs11,00,000 - 15,00,000 PA.Pune 3+ Years exp. in Hadoop Big Data, SQL, HIVE, RDBMS, Spark, HDFS and Scala. Hive with HQ...SPARKHIVESCALASpark AnalyticsBig Data HadoopHadoopTableauHadoop Big Data26 Days Agosave\n",
      "Junior MIS Executive cum Data AnalysisSSP SOLUTIONS 1-3 Yrs2,00,000 - 2,50,000 PA.Kolkata Supporting sales team with data analysis Work with Macro, Power BI dashboard, Microsoft...Advance ExcelPower Bi DashboardsSales CoordinationfmcgMacrosMIS Reporting1 Day Agosave\n",
      "HCL hiring Sr. Data Engineer/Data Analysis in PuneVME VHIRE SOLUTIONS PRIVATE LIMITED  5-7 Yrs8,00,000 - 18,00,000 PA.Pune Notice period preferred range: Immediate to 30 days Sql / Plsql experience in Oracle or...Data EngineerhadoopPlsqlData AnalysisNifiUnixSqlOracle11 Days Agosave\n",
      "Sr Data Product AnalystPayPal4.3(324 Reviews)4-8 YrsNot disclosedBangalore/Bengaluru The role will involve understanding business use cases, ability to translate implement ...Computer scienceMicrostrategymetadataData modelingData processingWellnessTeradataDistribution system30+ Days Agosave\n",
      "Senior Analyst-Finance Data MaintenanceAccenture4.1(28676 Reviews)5-8 YrsNot disclosedGurgaon/Gurugram In Master Data Management, you will be working on architecting master data solutions ac...Content managementPublishingConsultingIncident managementOperationsIT SkillsCloudBusiness administration13 Days Agosave\n",
      "Technical Data Analystcliqhr.com7-12 YrsNot disclosedHyderabad/Secunderabad, Pune, Chennai, Bangalore/Bengaluru Proven experience (7+ years) in leading large software development programmes / project...digital transformationIT SkillsSoftware DevelopmentDevOpsDigital Marketingdata analysismarketing transformationTechnical Data Analyst5 Days Agosave\n",
      "Tech Data AnalystManfra, Hiring for Premier EV Solutions Company3-8 YrsNot disclosedBangalore/Bengaluru Automated tools to extract data Interpreting data using statistical techniques Database...Data ExtractionStatistical Techniques24 Days Agosave\n",
      "Data Analyst, Supply Chain DesignFlipkart4.2(9989 Reviews)2-5 YrsNot disclosedBangalore/Bengaluru Should be able to understand Standard operating procedure & train the trainersis a must...Supply chainERPMISHealthcareSQLNetwork designAutoCADQlikView7 Days Agosave\n",
      "Machine Learning & Data Analysis Engineer For Robotics Education FirmPhoenix International  0-5 Yrs2,00,000 - 4,50,000 PA.Mumbai Suburban Role of a Robotics Trainer and/or Curriculum Designer in Machine Learning and Data Anal...machine learningdatamininghuman computer interaction6 Days Agosave\n",
      "Cyber Security Data AnalystStateStreet Global Advisor Pvt Ltd3.9(133 Reviews)1-3 YrsNot disclosedMumbai A Bachelors degree in a computer science or math related field or equivalent experience...Computer scienceData analysiscyber securityAgileData Analystdata visualizationBusiness intelligenceProject delivery30+ Days Agosave\n",
      "\n"
     ]
    },
    {
     "name": "stderr",
     "output_type": "stream",
     "text": [
      "[WDM] - ====== WebDriver manager ======\n",
      "[WDM] - Current google-chrome version is 102.0.5005\n",
      "[WDM] - Get LATEST chromedriver version for 102.0.5005 google-chrome\n",
      "[WDM] - Driver [C:\\Users\\lenovo\\.wdm\\drivers\\chromedriver\\win32\\102.0.5005.61\\chromedriver.exe] found in cache\n"
     ]
    },
    {
     "name": "stdout",
     "output_type": "stream",
     "text": [
      "Analyst-Finance Data MaintenanceAccenture4.1(28676 Reviews)3-5 YrsNot disclosedBangalore/Bengaluru In Master Data Management, you will be working on architecting master data solutions ac...Content managementPublishingConsultingFinancial planningOperationsIT SkillsCloudBusiness administration7 Days Agosave\n",
      "Back Office Operation/backend /data Entry/analystFUTUREPRO GLOBAL OUTSOURCING PRIVATE LIMITED0-2 YrsNot disclosedJaipur He / she must be able to work collaboratively with teams to execute tasks within define...BPOLegal process outsourcingBackendData analysisPDFData managementBack officeScheduling30+ Days Agosave\n",
      "Analyst-Data MaintenanceAccenture4.1(28676 Reviews)3-5 YrsNot disclosedBangalore/Bengaluru You will have to perform discrepancy review & perform Self-Evident Corrections per DRP ...Test scriptsPharmacyReconciliationConsultingClinical data managementIT SkillsCloudManual7 Days Agosave\n",
      "Data Analysis Intern-- MISAkums Drugs &  Pharmaceuticals Limited4.1(1274 Reviews)0-1 YrsNot disclosedNew Delhi Should have good understanding of excel but more importantly enthusiasm to learnData AnalysisMIS Reporting26 Days Agosave\n",
      "Data Analysis Intern-- MISAkums Drugs &  Pharmaceuticals Limited4.1(1274 Reviews)0-1 YrsNot disclosedNew Delhi Should have good understanding of excel but more importantly enthusiasm to learnData AnalysisMIS Reporting26 Days Agosave\n",
      "Senior Performance Data AnalystDeutsche Bank4.2(1799 Reviews)3-7 YrsNot disclosedMumbai Responsibilities: As Assistant Portfolio Manager (Data Analytics), Real Estate, you wil...AccountancyIT riskAnalyticalAsset managementInvestment managementPerformance analysisMS OfficePortfolio management30+ Days Agosave\n",
      "Senior Analyst-Data ManagementAccenture4.1(28676 Reviews)5-8 YrsNot disclosedGurgaon/Gurugram Skill required: Data Management - SQL (Structured Query Language) Designation: Senior A...PublishingData managementConsultingSSISAnalyticsArchitectureArtificial IntelligenceSQL Server integration services21 Days Agosave\n",
      "Senior Analyst-Data ManagementAccenture4.1(28676 Reviews)5-8 YrsNot disclosedMumbai You will be required to utilize the existing frameworks, standards, patterns to create ...PublishingData managementConsultingSQLPythonIT SkillsArtificial IntelligenceCloud21 Days Agosave\n",
      "Senior Analyst-Data ManagementAccenture4.1(28676 Reviews)5-8 YrsNot disclosedMumbai You will be required to utilize the existing frameworks, standards, patterns to create ...BackendData managementDatabase designConsultingAnalyticsIT SkillsArtificial IntelligenceCloud21 Days Agosave\n",
      "Senior Analyst-Finance Data MaintenanceAccenture4.1(28676 Reviews)5-8 YrsNot disclosedNoida In Master Data Management, you will be working on architecting master data solutions ac...Content managementPublishingMaster data managementConsultingOperationsIT SkillsCloudFinancial operations21 Days Agosave\n",
      "Senior Analyst-Data ManagementAccenture4.1(28676 Reviews)5-8 YrsNot disclosedMumbai You will be required to utilize the existing frameworks, standards, patterns to create ...BackendData managementDatabase designConsultingAnalyticsIT SkillsArtificial IntelligenceCloud21 Days Agosave\n",
      "Senior Analyst-Data MaintenanceAccenture4.1(28676 Reviews)5-8 YrsNot disclosedHyderabad/Secunderabad You will have to perform discrepancy review & perform Self-Evident Corrections per DRP ...Test scriptsPharmacyReconciliationConsultingClinical data managementIT SkillsCloudManual21 Days Agosave\n",
      "Senior Analyst-Data MaintenanceAccenture4.1(28676 Reviews)5-8 YrsNot disclosedHyderabad/Secunderabad You will have to perform discrepancy review & perform Self-Evident Corrections per DRP ...Test scriptsReconciliationConsultingTest case creationClinical data managementManualClient relationship21 Days Agosave\n",
      "Senior Analyst-Data MaintenanceAccenture4.1(28676 Reviews)5-8 YrsNot disclosedHyderabad/Secunderabad You will have to perform discrepancy review & perform Self-Evident Corrections per DRP ...Test scriptsReconciliationConsultingTest case creationClinical data managementDesign developmentManual21 Days Agosave\n",
      "Senior Analyst-Data MaintenanceAccenture4.1(28676 Reviews)5-8 YrsNot disclosedHyderabad/Secunderabad You will have to perform discrepancy review & perform Self-Evident Corrections per DRP ...Data managementTest scriptsReconciliationConsultingClinical data managementClient relationshipTest case creation22 Days Agosave\n",
      "Senior Analyst-Clinical Data Management (CDM)Accenture4.1(28676 Reviews)5-8 YrsNot disclosedMumbai Skill required: Clinical Data Management (CDM) - Study Build Designation: Senior Analys...ReconciliationConsultingAccount managementUnit testingClinical data managementIT SkillsTestingCloud22 Days Agosave\n",
      "Senior Analyst-Data MaintenanceAccenture4.1(28676 Reviews)5-8 YrsNot disclosedChennai You will have to perform discrepancy review & perform Self-Evident Corrections per DRP ...PharmacyReconciliationConsultingClinical data managementclinical dataTest scriptsTest case creation20 Days Agosave\n",
      "Urgent Hiring- MSBI _Data Analyst For a Leading MNCMumbai Rozgaar Private Limited  4-8 Yrs6,00,000 - 16,00,000 PA.Bangalore/Bengaluru Job Title: MSBIJob Description :1. Role- Data Analyst2. SQL3. SSAS Tabular Model4. Powe...SSASPower BiSSRSSQLIT SkillsData AnalysisMSBIData Modeling7 Days Agosave\n",
      "Supply Chain Data and Analytics Solutions AnalystIntel4.4(341 Reviews)3-6 YrsNot disclosedBangalore/Bengaluru Works closely with business to develop required training, change management and operati...ScrumOracleTeradataAnalyticsSQLSupply chainData analysisChange management6 Days Agosave\n",
      "Data Analyst TraineeQuickxpert infotech2.8(14 Reviews)0-5 Yrs1,50,000 - 6,50,000 PA.Mumbai, Mumbai Suburban, Thane We have immediate openings for Data Analyst Trainees for our clients. don;t call apply ...bcomfresherbscbbaBcapythonC++C4 Days Agosave\n",
      "\n"
     ]
    },
    {
     "name": "stderr",
     "output_type": "stream",
     "text": [
      "[WDM] - ====== WebDriver manager ======\n",
      "[WDM] - Current google-chrome version is 102.0.5005\n",
      "[WDM] - Get LATEST chromedriver version for 102.0.5005 google-chrome\n",
      "[WDM] - Driver [C:\\Users\\lenovo\\.wdm\\drivers\\chromedriver\\win32\\102.0.5005.61\\chromedriver.exe] found in cache\n"
     ]
    },
    {
     "name": "stdout",
     "output_type": "stream",
     "text": [
      "Big Data Analysis Tool and Techniques Application DeveloperAccenture4.1(28676 Reviews)4-6 YrsNot disclosedBangalore/Bengaluru Professional Attributes : a: Should have Good Communication Skills leadership skills b:...UnixMultithreadingRDBMSAgileSDLCJava MultithreadingCommunicationData Structure13 Days Agosave\n",
      "Technical Data AnalystvConstruct Private Limited4.2(47 Reviews)3-6 YrsNot disclosedPune vConstruct, a Pune based international engineering and construction services firm seeks...pythonPower BiSnowflake / RedshiftoracleTsql DevelopmentSQL DatabaseJSONSQL Server12 Days Agosave\n",
      "SEO specialist & Data AnalystAnsio Solutions Private Limited2-5 Yrs4,00,000 - 8,00,000 PA.Remote Work remotely: Yes, it is a work from home role Must be able to understand advertisemen...E-commerce SEO SpecialistSocial media marketingKeyword Analysisad campaignOnline salesmarketingSalesand Advertising.13 Days Agosave\n",
      "Process Data AnalystApplied Data Finance4.0(6 Reviews)3-5 YrsNot disclosedChennai Experience in FinTech industry is an added advantage Good knowledge of Lean Six Sigma, ...KaizenNetworkingSix sigma projectsData AnalystSavingContinuous improvementStakeholder managementForecasting14 Days Agosave\n",
      "Process Data Analyst (Six Sigma)ADF Data Science Private Limited4.4(23 Reviews)3-5 YrsNot disclosedRemote Experience in FinTech industry is an added advantageGood knowledge of Lean Six Sigma, K...Continuous ImprovementSix Sigma ProjectsLean Six SigmaPerformance MetricsMonthly ReportsKaizenThinking SkillsData Analysis15 Days Agosave\n",
      "Data Analyst InternNiva Bupa3.9(665 Reviews)0-1 Yrs50,000 - 1,75,000 PA.Gurgaon/Gurugram Roles and Responsibilities.Deep dive analysis across a business dynamic, which will inc...Python Data AnalyticsData AnalyticsPythonData AnlalyticsAdvance exceldata analysisPerforming Analysis12 Days Agosave\n",
      "Data Analyst InternMindshare India Pvt Ltd3.8(32 Reviews)0-2 YrsNot disclosedGurgaon/Gurugram Become proficient with data management / visualization platforms and media analytics co...Computer scienceData validationManager Quality AssuranceData managementRDBMSSocial mediaAgileInvestment management18 Days Agosave\n",
      "Analyst-Clinical Data Management (CDM)Accenture4.1(28676 Reviews)3-5 YrsNot disclosedBangalore/Bengaluru Skill required: Clinical Data Management (CDM) - Study Build Designation: Analyst Job L...ReconciliationConsultingAccount managementUnit testingClinical data managementRoot cause analysisTest scriptsEDC14 Days Agosave\n",
      "Analyst-Data MaintenanceAccenture4.1(28676 Reviews)3-5 YrsNot disclosedBangalore/Bengaluru Please note this role may require you to work in rotational shiftsYou will have to perf...Data MaintenanceIT SkillsTestingUser Acceptance TestingUATClinical Data ManagementClinical Database Testing18 Days Agosave\n",
      "Analyst-Data MaintenanceAccenture4.1(28676 Reviews)3-5 YrsNot disclosedBangalore/Bengaluru Skill required: Data Maintenance - Clinical Data Management (CDM) Designation: Analyst ...Hospitality managementPharmacyReconciliationConsultingClinical data managementAnalytical skillsTest scriptsTest case creation19 Days Agosave\n",
      "Sr Analyst  Data EngineerDeutsche Bank4.2(1799 Reviews)2-6 YrsNot disclosedPune The candidates will design and develop application code, implements technical solutions...UnixMicrostrategySASAgilePLSQLApplication developmentScrumInformatica30+ Days Agosave\n",
      "Senior Data Quality Assurance AnalystMorningstar4.3(376 Reviews)4-7 YrsNot disclosedMumbai Bachelor / Master s degree in finance / business with an exceptional academic recordMai...RCACorporate actionsFinancial reportingProcess improvementAnalyticalData collectionEquityData quality30+ Days Agosave\n",
      "Technical Data Analystcliqhr.com7-9 YrsNot disclosedHyderabad/Secunderabad, Pune, Chennai, Bangalore/Bengaluru Proven experience (7+ years) in leading large software development programmes / project...Data AnalysisIT SkillsSoftware DevelopmentDevOpsDigital MarketingProject ManagementAgilecommunication skills20 Days Agosave\n",
      "Data Information AnalystRWS Group Company3.6(4 Reviews)1-3 Yrs2,00,000 - 5,00,000 PA.Bangalore/Bengaluru, Mumbai (All Areas) About The Role:The Group IT Data Analyst will help to translate business problems using...Data AnalysisProcess ImprovementData CollectionIT SkillsSharepointInformation AnalysisProcess ExcellenceAdvanced ExcelFew Hours Agosave\n",
      "Data Analyst - Driver PlatformGojek4.3(18 Reviews)3-9 YrsNot disclosedBangalore/Bengaluru At least 2 years of professional experience in data analytics and business intelligence...Statistical analysisBusiness analysisFormulationFinanceMachine learningdata visualizationBusiness intelligenceFinancial services14 Days Agosave\n",
      "WEB / DATA ANALYST\n",
      "BACKDarshan Soft-Tech Pvt. Ltd4.0(29 Reviews)1-5 YrsNot disclosedVadodara Must have excellent analytical and problem solving skillsRequired SkillsProven e- comme...Career developmentPPCdigital analyticsGoogle AnalyticsAnalyticalServiceSEOLuxuryguest house30+ Days Agosave\n",
      "Sales Operations Data AnalystBloom Energy India Pvt Ltd4.1(32 Reviews)3-5 YrsNot disclosedMumbai Manage and update data within Salesforce.com Creating new records/importing third party...ExcelSalesSales operationsBusiness analyticsBack officedata visualizationInformation technologyForecasting30+ Days Agosave\n",
      "Engineer - Data AnalysisBloom Energy India Pvt Ltd4.1(32 Reviews)1-3 YrsNot disclosedMumbai Experience with algorithm development and implementation (Python desired) Hands on expe...Computer scienceData analysisSASAnalyticalFailure analysisMachine learningSchedulingMATLAB30+ Days Agosave\n",
      "Data Analyst - InternFullContact4.4(13 Reviews)0-2 YrsNot disclosedKochi/Cochin Experience Must have worked on data analytics project(s) as part of College Academic pr...IT SkillsPythonRoot cause analysisData analysisAnalyticalData collectionData AnalystCustomer experience30+ Days Agosave\n",
      "DIGITAL DATA ANALYST INTERNDG73.5(16 Reviews)0-1 YrsNot disclosedMumbai, Vasai Preparing and maintaining master report for entire set of activities, including daily a...IT SkillsPythonTestingDigital MarketingTableauData analysisData managementSocial media30+ Days Agosave\n",
      "\n"
     ]
    },
    {
     "name": "stderr",
     "output_type": "stream",
     "text": [
      "[WDM] - ====== WebDriver manager ======\n",
      "[WDM] - Current google-chrome version is 102.0.5005\n",
      "[WDM] - Get LATEST chromedriver version for 102.0.5005 google-chrome\n",
      "[WDM] - Driver [C:\\Users\\lenovo\\.wdm\\drivers\\chromedriver\\win32\\102.0.5005.61\\chromedriver.exe] found in cache\n"
     ]
    },
    {
     "name": "stdout",
     "output_type": "stream",
     "text": [
      "Analyst-Finance Data MaintenanceAccenture4.1(28676 Reviews)3-5 YrsNot disclosedBangalore/Bengaluru In Master Data Management, you will be working on architecting master data solutions ac...PublishingConsultingData ManagementContent ManagementVisual BasicExcelMySQLMaster Data Management21 Days Agosave\n",
      "Analyst-Clinical Data Management (CDM)Accenture4.1(28676 Reviews)3-5 YrsNot disclosedBangalore/Bengaluru Skill required: Clinical Data Management (CDM) - Study Build Designation: Analyst Job L...ReconciliationConsultingUnit testingInformation technologyClinical data managementIT SkillsTestingCloud21 Days Agosave\n",
      "Analyst-Finance Data MaintenanceAccenture4.1(28676 Reviews)3-5 YrsNot disclosedBangalore/Bengaluru In Master Data Management, you will be working on architecting master data solutions ac...Content managementPublishingData managementConsultingMySQLIT SkillsCloudVisual Basic22 Days Agosave\n",
      "Analyst-Data ManagementAccenture4.1(28676 Reviews)3-5 YrsNot disclosedBangalore/Bengaluru Skill required: Data Management - SQL (Structured Query Language) Designation: Analyst ...PublishingData managementConsultingAnalyticsSQLIT SkillsArtificial IntelligenceTableau29 Days Agosave\n",
      "Analyst-Data MaintenanceAccenture4.1(28676 Reviews)3-5 YrsNot disclosedHyderabad/Secunderabad Skill required: Data Maintenance - Clinical Data Management (CDM) Designation: Analyst ...Data managementTest scriptsReconciliationConsultingClinical data managementIT SkillsCloudManual2 Days Agosave\n",
      "Analyst-Finance Data MaintenanceAccenture4.1(28676 Reviews)3-5 YrsNot disclosedGurgaon/Gurugram In Master Data Management, you will be working on architecting master data solutions ac...Content managementPublishingConsultingIncident managementOperationsBusiness administrationMaster data managementManagement2 Days Agosave\n",
      "Analyst-Finance Data MaintenanceAccenture4.1(28676 Reviews)3-5 YrsNot disclosedGurgaon/Gurugram In Master Data Management, you will be working on architecting master data solutions ac...Content managementPublishingConsultingAccount managementOperationsMaster data managementFinancial operationsClient relationship4 Days Agosave\n",
      "Aurora Data Migration for Connected Systems AnalystKimberly-Clark Lever Limited4.4(136 Reviews)3-8 YrsNot disclosedBangalore/Bengaluru This role will serve as the Digital Technology Solution (DTS) data migration for connec...Supply chainComputer sciencedata cleansingSystem testingData migrationDTSData conversionBusiness transformation19 Days Agosave\n",
      "Analyst-Data MaintenanceAccenture4.1(28676 Reviews)3-5 YrsNot disclosedBangalore/Bengaluru You will have to perform discrepancy review & perform Self-Evident Corrections per DRP ...Test scriptsPharmacyReconciliationConsultingClinical data managementManualHome scienceTest case creation20 Days Agosave\n",
      "Business Data Analyst General LedgerDiverse Lynx3.0(67 Reviews)5-10 YrsNot disclosedMumbai 12 years of Data / Business analyst experienced in reconciliation and analysis, identif...IT SkillsTestingInterpersonal skillsBusiness AnalystConflict resolutionBusiness Data AnalystReconciliationTransfer pricing30+ Days Agosave\n",
      "Business Intelligence (Data & Analytics) Business AnalystAgreeYa Solutions3.5(121 Reviews)4-6 YrsNot disclosedGurgaon/Gurugram About this role: Problem solving and analytical tasks Experience on data visualization ...qlik senseBusiness AnalystAnalyticalpower biData analyticsAgile methodologydata visualizationBusiness intelligence30+ Days Agosave\n",
      "Senior Data Analyst - User TrustBukuwarung2-4 YrsNot disclosedBangalore/Bengaluru Experience in data visualization and storytelling(Good to have) Ability to analyze data...Computer scienceAnalytical skillsAnalyticalMarketing operationsData AnalystData analyticsdata visualizationAnalytics30+ Days Agosave\n",
      "Data Analyst - Senior Partner BrandsFabindia4.1(801 Reviews)3-4 YrsNot disclosedDelhi / NCR Bachelors Degree requiredWork with partner brand to understand business KPIs and design...data analysisanalyticsbusiness intelligence12 Days Agosave\n",
      "Hiring For Data Analyst - Power BI Developer - HyderabadFlex4.1(2123 Reviews)2-7 Yrs8,00,000 - 12,00,000 PA.Hyderabad/Secunderabad Self-starter with minimum supervision Bachelors degree in Mathematics, Statistics, Econ...Power BIETLPython7 Days Agosave\n",
      "Hiring - Team Lead Data Quality Assurance AnalystMorningstar4.3(376 Reviews)5-8 Yrs7,00,000 - 10,00,000 PA.Navi Mumbai, Mumbai (All Areas)(Sector 30A Vashi) Position: Team Lead Data Quality Assurance AnalystDepartment: Equity, Quality and Trans...Data ResearchData AnalysisFinancial Statement AnalysisEquityqualityPower BiAccountingChartered Financial AnalystFew Hours Agosave\n",
      "Data Analyst-/ Reporting  (SAS&SQL) - Banking /Financial domainMastermind Network   1-4 YrsNot disclosedDelhi / NCR Must have good exposure in SAS & SQLExp: 1-4 yrs in Reporting and Analytics -with Good ...Data AnalystData ValidationSASData MigrationData ManipulationData AnalysisData ExtractionReporting20 Days Agosave\n",
      "Data Analyst TraineeQuickxpert infotech2.8(14 Reviews)0-5 YrsNot disclosedMumbai, Mumbai Suburban, Thane We have immediate openings for Data Analyst Trainees for our clients. Interested candid...SQLpythonC++Cittraineedata analystbcom21 Days Agosave\n",
      "Analyst-Data MaintenanceAccenture4.1(28676 Reviews)3-5 YrsNot disclosedHyderabad/Secunderabad You will have to perform discrepancy review & perform Self-Evident Corrections per DRP ...Data managementPharmacyReconciliationConsultingClinical data managementTest scriptsClient relationshipTest case creation7 Days Agosave\n",
      "Associate Data Quality Assurance AnalystAdviserLogic2.1(2 Reviews)0-2 YrsNot disclosedMumbai Effective cross-team communication and is a good coordinator Education: Post-Graduate w...IT SkillsQuality AssuranceQuality Assurance AnalystRCAFinancial statementsQuality improvementCorporate actionsFinancial reporting30+ Days Agosave\n",
      "Senior Business AnalystIndegene Private Limited3.9(493 Reviews)0-7 YrsNot disclosedBangalore/Bengaluru Bachelor s or Master s degree in computer science, business, IT, management, administra...IT SkillsQuality AssuranceProject ManagementTableauBPOproject managementVersion controlSAS1 Day Agosave\n",
      "\n"
     ]
    },
    {
     "name": "stderr",
     "output_type": "stream",
     "text": [
      "[WDM] - ====== WebDriver manager ======\n",
      "[WDM] - Current google-chrome version is 102.0.5005\n",
      "[WDM] - Get LATEST chromedriver version for 102.0.5005 google-chrome\n",
      "[WDM] - Driver [C:\\Users\\lenovo\\.wdm\\drivers\\chromedriver\\win32\\102.0.5005.61\\chromedriver.exe] found in cache\n"
     ]
    },
    {
     "name": "stdout",
     "output_type": "stream",
     "text": [
      "Master data Management Coordinator (data analysis)Anlage Infotech (I) Pvt. Ltd.   1-3 Yrs1,00,000 - 3,50,000 PA.Bangalore/Bengaluru MDM(Master Data Management) is must to have 6 months to 2 years of experience into MDM(...sapMaster Data ManagementData AnalysisExcelcommunicationMDMMS officeIT Skills25 Days Agosave\n",
      "Business Analyst -Data Mining ExpertDishTV3.8(1765 Reviews)3-6 Yrs8,00,000 - 14,00,000 PA.Greater Noida Knowledge of GA Google Analytics is a mustSolid experience in data analysis and reporti...Data Miningdata analysisMiningTableauGoogle AnalyticsAnalyticalproject managementSAS6 Days Agosave\n",
      "Data Science Business Analyst-Wealth Management TechnologyMorgan Stanley4.1(498 Reviews)7-10 YrsNot disclosedJapan, Mumbai Job Profile Interpret data, analyze results using statistical techniques and provide on...Business objectsWealth managementDatabase designAgileInformaticaInvestment bankingTeradataData mining4 Days Agosave\n",
      "Data Analyst - Senior ManagerStateStreet Global Advisor Pvt Ltd3.9(133 Reviews)6-8 YrsNot disclosedHyderabad/Secunderabad Enlighten COE champion works with the global COE team to ensure post program governance...MIS reportingData analysisExcelData managementProcess improvementBankingdata governanceData Analyst30+ Days Agosave\n",
      "Senior Analyst-Data ScienceAccenture4.1(28676 Reviews)5-8 YrsNot disclosedBangalore/Bengaluru You will be required to utilize the existing frameworks, standards, patterns to create ...PublishingArtificial IntelligenceConsultingData miningPythonIT SkillsData ScienceCloud5 Days Agosave\n",
      "Data Research Analyst/ Lead Generation/ Inside SalesSaletify Marketing Pvt. Ltd. 1.0(2 Reviews)1-5 Yrs1,75,000 - 3,00,000 PA.Pune(Hadapsar)(WFH during Covid) Urgent requirement of Inside Sales with min 1 yrs of work exp in Lead Generation, marke...Inside SalesData ResearchFixing AppointmentsPresalesEmail MarketingAppointment GenerationContact DiscoveryLead Generation25 Days Agosave\n",
      "Data Analysis / Data ScienceNaukri Premium - Employer Services2-7 Yrs8,00,000 - 15,00,000 PA.Chennai, Bangalore/Bengaluru, Mumbai (All Areas) The role under consideration offers a good mix of research and practice the selected ca...data analysisbig data analyticsConjointTurf AnalysesMax diffMachine LearningSAScommunicationFew Hours Agosave\n",
      "Good data Analysis / Design SkillsD&B Technologies & Data Services2.4(3 Reviews)1-5 YrsNot disclosedChennai, Bangalore/Bengaluru Bachelors degree in Computer Science, Computer Engineering, or related fieldStrong prog...Computer scienceData analysisdata scienceAnalyticalDebuggingMachine learningSCALASales analytics4 Days Agosave\n",
      "Analytics Professional-Data Analysis & VisualizationKyndryl4.0(425 Reviews)3-6 YrsNot disclosedBangalore/Bengaluru They should have substantial experience in data exploration, construction of integrated...Data analysisChange managementDb2Project managementAnalyticalSPSSdata visualizationAnalyticsFew Hours Agosave\n",
      "Data Analyst : Leading Product Based Startup : BangaloreGlobal Talent Acquisition Partners  3-5 Yrs18,00,000 - 20,00,000 PA.Bangalore/Bengaluru Looking for Data analyst who meets below criteria's - 1. Must have managed data of 2000...Data AnalystProduct basedStartup HiringStartupInformation TechnologyBangalore30+ Days Agosave\n",
      "Data Engineer (Data Modelling & Analysis)VEGA Intellisoft Private Limited4.2(18 Reviews)8-10 YrsNot disclosedHyderabad/Secunderabad, Pune, Chennai, Bangalore/Bengaluru Work with DB developer to get the right datasets required for desired visualizationsData ModellingData analysisData modelingDatabaseData analyticsManagementTesting13 Days Agosave\n",
      "Data Analyst NON Voice @ Freshers - 17k SalKVC Consultants Ltd..0-3 Yrs2,75,000 - 3,00,000 PA.Gurgaon/Gurugram Greetings, If you are a BCOM / BBA / BA / M.Com / MBA Fresher or Experienced and are lo...BCOMfinancial analysisgurgaonfactivamcomfaridabadkalkajigenpact11 Days Agosave\n",
      "Senior Analyst-Data ScienceAccenture4.1(28676 Reviews)5-8 YrsNot disclosedBangalore/Bengaluru Skill required: Data Science - Predictive Modeling and Analytics Designation: Senior An...PublishingConsultingPredictive modelingData miningAnalyticsIT SkillsData ScienceMachine Learning7 Days Agosave\n",
      "Senior Analyst-Data VisualizationAccenture4.1(28676 Reviews)5-8 YrsNot disclosedBangalore/Bengaluru You will be required to utilize the existing frameworks, standards, patterns to create ...PublishingArtificial IntelligenceConsultingmicrosoftAnalyticsArchitecturepower bidata visualization7 Days Agosave\n",
      "Senior Analyst-Data VisualizationAccenture4.1(28676 Reviews)5-8 YrsNot disclosedBangalore/Bengaluru You will be required to utilize the existing frameworks, standards, patterns to create ...PublishingArchitectureConsultingAnalyticsSQLIT SkillsArtificial IntelligenceTableau7 Days Agosave\n",
      "Senior Analyst-Data ScienceAccenture4.1(28676 Reviews)5-8 YrsNot disclosedBangalore/Bengaluru You will be required to utilize the existing frameworks, standards, patterns to create ...PublishingConsultingMachine learningAnalyticsSQLIT SkillsData ScienceArtificial Intelligence7 Days Agosave\n",
      "GIS Analyst Geoinformatics and Data AnalysisHire  Freeze Manpower Solution  1-2 Yrs3,00,000 - 4,50,000 PA.Chennai Hands on Experience in software Packages: Arc GIS, Qgis, MicrostationGISGeoinformaticsSpatial Data AnalysisPoint Cloud dataIT SkillsCloudARCPYQGIS  PIX4D7 Days Agosave\n",
      "Big Data Analysis Tool and Techniques Application DeveloperAccenture4.1(28676 Reviews)4-6 YrsNot disclosedPune Work Experience : 4-6 yearsMicrostrategyBusiness objectsData analysisConsultingPythonDataikuAzure Data FactoryTableau28 Days Agosave\n",
      "Data Analyst, Global Risk and Compliance ControlsGSK India4.3(1138 Reviews)8-10 YrsNot disclosedBangalore/Bengaluru This role will perform and support testing of IT General Controls and Automated Control...ProcurementERPApplication supportSAPISOHealthcareApplication securityRisk management28 Days Agosave\n",
      "Manager - Data AnalysisTesco4.2(908 Reviews)8-10 YrsNot disclosedBangalore/Bengaluru 7 years of experience in Leading analytics projects in any one of domains like retail c...RetailTableauMachine LearningSQLPythonHiveAdvGitHub11 Days Agosave\n",
      "\n"
     ]
    },
    {
     "name": "stderr",
     "output_type": "stream",
     "text": [
      "[WDM] - ====== WebDriver manager ======\n",
      "[WDM] - Current google-chrome version is 102.0.5005\n",
      "[WDM] - Get LATEST chromedriver version for 102.0.5005 google-chrome\n",
      "[WDM] - Driver [C:\\Users\\lenovo\\.wdm\\drivers\\chromedriver\\win32\\102.0.5005.61\\chromedriver.exe] found in cache\n"
     ]
    },
    {
     "name": "stdout",
     "output_type": "stream",
     "text": [
      "Break the Break - Conde Nast Data Analysis - Bangalore/ChennaiCONDE NAST (INDIA) PRIVATE LIMITED3.9(35 Reviews)3-8 YrsNot disclosedChennai, Bangalore/Bengaluru The program is open to applicants who have 2+ years of relevant experience for the role...IT SkillsPythonTableaudata miningData Analysis11 Days Agosave\n",
      "Break the Break - Conde Nast Data Analysis - Bangalore/ChennaiCONDE NAST (INDIA) PRIVATE LIMITED3.9(35 Reviews)3-8 YrsNot disclosedChennai, Bangalore/Bengaluru The program is open to applicants who have 2+ years of relevant experience for the role...IT SkillsPythonTableaudata miningData Analysis11 Days Agosave\n",
      "Data Analyst - Team LeadPaytm3.7(4140 Reviews)1-3 YrsNot disclosedNoida, New Delhi, Gurgaon/Gurugram Job Responsibilities: Designing Business strategies based on data findings and complete...Analytical skillsData analysisExcelStatistical analysisManager Program ManagementData AnalystForecastingSecondary research30+ Days Agosave\n",
      "Big Data Analysis Tool and Techniques Application DeveloperAccenture4.1(28676 Reviews)8-10 YrsNot disclosedPune Additional Information : Must have-Big Data Analysis Tool and Techniques, Spark, Java, ...Business processData analysisAnalyticalConsultingPythonsparkSCALAProgramming21 Days Agosave\n",
      "ESG Data Analyst, AVPDeutsche Bank4.2(1799 Reviews)5-9 YrsNot disclosedMumbai Define minimum standards to allow for (regional) comparison of data Knowledge about sus...MISDiversity and InclusionBankingData qualityInvestment managementdata visualizationTraining and DevelopmentData mining30+ Days Agosave\n",
      "Hiring For HCL-Data AnalysisHCL Technologies3.9(20627 Reviews)7-9 Yrs7,00,000 - 13,00,000 PA.Chennai To be responsible for managing technology in projects and providing technical guidance ...data analysis27 Days Agosave\n",
      "Job Opportunity For Data Analyst Role ( NT )  at General MillsGeneral Mills4.4(435 Reviews)1-4 YrsNot disclosedMumbai Job DutiesThe ITQ Coordinator supports the Bell Institute of Health and Nutrition (BIHN...Mis ExcelMISData EntryPowerpointMIS ReportingdataMIS Updation28 Days Agosave\n",
      "Data Analyst InternCalcutta Consultancy0-2 YrsNot disclosedAhmedabad(WFH during Covid) Post successful completion, the interns will receive a completion certificate and may a...Critical ThinkingPresentation Skillsquantitative aptitudecommunication skills18 Days Agosave\n",
      "Data Analyst Lead DeveloperAgreeYa Solutions3.5(121 Reviews)3-7 YrsNot disclosedNoida Experience in integrating Power BI reports into web applications using Power BI Service...powerbiIT SkillsPythonPower BIAzuredata analysisData Analyticssql19 Days Agosave\n",
      "Analyst-Data ManagementAccenture4.1(28676 Reviews)3-5 YrsNot disclosedMumbai Skill required: Data Management - Python Programming Language Designation: Analyst Job ...PublishingData managementConsultingSQLPythonArchitectureArtificial IntelligenceManagement21 Days Agosave\n",
      "Analyst-Finance Data MaintenanceAccenture4.1(28676 Reviews)3-5 YrsNot disclosedGurgaon/Gurugram In Master Data Management, you will be working on architecting master data solutions ac...PublishingContent ManagementConsultingIT SkillsCloudMaster Data ManagementIncident ManagementManagement21 Days Agosave\n",
      "Analyst-Clinical Data Management (CDM)Accenture4.1(28676 Reviews)3-5 YrsNot disclosedMumbai Skill required: Clinical Data Management (CDM) - Study Build Designation: Analyst Job L...ReconciliationConsultingAccount managementUnit testingClinical data managementRoot cause analysisTest scriptsEDC22 Days Agosave\n",
      "Amex is hiring For Business Analyst(Data Visualization expert)AMERICAN EXPRESS4.4(1956 Reviews)3-8 YrsNot disclosedGurgaon/Gurugram Masters / Graduate degree from a reputed collegeStrong technical knowledge on SAS, SQL,...TableausqlcodesExcelSASData VisualizationDashboardingPython15 Days Agosave\n",
      "Functional Analyst - HR Data ManagementDYR Consulting  4-9 Yrs10,00,000 - 18,00,000 PA.Bangalore/Bengaluru(WFH during Covid) Strong understanding of Google suite (gsite, data studio, etc.) Experience with Workday...Workdaydata studioGoogle suiteVBAMS ExcelPRISMMacrosgsite27 Days Agosave\n",
      "Sr. Research Associate -  Bioinformatics  (NGS Data Analysis) Xcelris diagnostics2-4 YrsNot disclosedAhmedabad Profound experience in analyzing data generated on Illuminas platforms;Proficiency and ...electronicsfresherelectricltechnical activitiesMonitoring Technical30+ Days Agosave\n",
      "Data Analyst ManagerAllegis Services India Pvt. Ltd.      10-17 YrsNot disclosedKochi/Cochin, Kolkata, Hyderabad/Secunderabad, Pune, Chennai, Bangalore/Bengaluru, Delhi / NCR, Trivandrum/Thiruvananthapuram Post graduate degree in Management or equivalent with a preference for a specialization...Predictive ModelingData AnalyticsIT SkillsPythonTestingTableauPower BISAP30+ Days Agosave\n",
      "Data AnalysisSofttek4.0(119 Reviews)5-10 Yrs7,50,000 - 14,00,000 PA.Bangalore/Bengaluru Greeting from Softtek !!Skill: Data Analysis Exp: 4 to 6 YearsShift: 6:30 PM to 3:30 PM...sqldata analysisPower BIEnglishdata testingIT SkillsTestingQa Process12 Days Agosave\n",
      "Data Analyst (Supply Chain) - CR - MumbaiZodiac  HR Consultants (I) Pvt Ltd.5-10 YrsNot disclosedMumbai Demonstrated experience in handling large data sets and relational databasesExperience ...ExcelRelational DatabasesData AnalysisDaxPower Bi DesktopSupply ChainAnalytics30+ Days Agosave\n",
      "Big Data Analysis Tool And Techniques AgreeYa3.5(121 Reviews)7-12 YrsNot disclosedGurgaon Project Role Description : Design, build and configure applications to meet business pr...RubyPythonNoSQLMongoDBSparkRDBMSJavaHive30+ Days Agosave\n",
      "Manager, Data Management & Quantitative AnalysisBNY Mellon4.2(2399 Reviews)0-3 YrsNot disclosedChennai Bachelors degree or the equivalent combination of education and experience is required ...MiningService levelData managementManager Technologymarket dataRepresentativeFinancial servicesManagement reporting15 Days Agosave\n",
      "\n"
     ]
    },
    {
     "name": "stderr",
     "output_type": "stream",
     "text": [
      "[WDM] - ====== WebDriver manager ======\n",
      "[WDM] - Current google-chrome version is 102.0.5005\n",
      "[WDM] - Get LATEST chromedriver version for 102.0.5005 google-chrome\n",
      "[WDM] - Driver [C:\\Users\\lenovo\\.wdm\\drivers\\chromedriver\\win32\\102.0.5005.61\\chromedriver.exe] found in cache\n"
     ]
    },
    {
     "name": "stdout",
     "output_type": "stream",
     "text": [
      "Sr. Analyst - Applied Data ScientistTesco4.2(908 Reviews)3-5 YrsNot disclosedBangalore/Bengaluru 4 years Experience in analytics delivery in any one of domains like retail, cpg, teleco...pythonTableauMachine LearningsqlStatistical ModelingR shinyHiveAdv Excel11 Days Agosave\n",
      "Business Requirement Analysis Data Centre OperatorAccenture4.1(28676 Reviews)4-6 YrsNot disclosedPune Professional Attributes : 1 Good to have fluent communication skills2 Candidate should ...Performance managementConsultingAgileGap analysisJIRAVerbalcommunicationProcess design21 Days Agosave\n",
      "Urgent Hiring - Business Analyst | Data QA & CMSEvalueserve3.7(608 Reviews)1-3 YrsNot disclosedGurgaon/Gurugram Evalueserve is a global professional services provider offering research, analytics, an...QA AnalysisContent Management SystemCMS30+ Days Agosave\n",
      "Data Analyst US Communication- Senior Associate 1ACZ Global Private Limited4-8 YrsNot disclosedKolkata, Hyderabad/Secunderabad, Bangalore/Bengaluru Creating automations to streamline processes by using automation tools such as Alteryx ...power bitalkwalkerMeltwatersocial media toolscommunication and mediaCisionTableautags30+ Days Agosave\n",
      "Senior Analyst - Data EngineerMeredith Corporation4.3(21 Reviews)3-6 YrsNot disclosedBangalore/Bengaluru Experience in ETL tasks like extracting data from multiple sources, join multiple table...AnalystDatabase marketingGITLinuxdata scienceMachine learningSchedulingAnalyticsFew Hours Agosave\n",
      "Sr.Data Science Analyst  || Exp- 7+ yrs || Delhi ( SultanPur)B4S Solutions Pvt Ltd 7-10 Yrs5,00,000 - 12,00,000 PA.Delhi / NCR(Sultanpur) Experience in Data Science Analysis, Experience of Artificial Intelligence & Machine Le...Python Data AnalyticsData MiningData SciencePredictive AnalyticsPythonArtificial IntelligenceTableauMachine Learning22 Days Agosave\n",
      "Senior Analyst-Data VisualizationAccenture4.1(28676 Reviews)5-8 YrsNot disclosedBangalore/Bengaluru You will be required to utilize the existing frameworks, standards, patterns to create ...PublishingConsultingJavascriptHTMLAnalyticsArchitectureSVGArtificial Intelligence21 Days Agosave\n",
      "Senior Analyst-Data VisualizationAccenture4.1(28676 Reviews)5-8 YrsNot disclosedBangalore/Bengaluru You will be required to utilize the existing frameworks, standards, patterns to create ...PublishingConsultingmicrosoftSQLSalesforceIT SkillsArtificial IntelligenceCloud22 Days Agosave\n",
      "Senior Analyst-Data VisualizationAccenture4.1(28676 Reviews)5-8 YrsNot disclosedBangalore/Bengaluru You will be required to utilize the existing frameworks, standards, patterns to create ...PublishingConsultingmicrosoftAnalyticsSQLArchitectureArtificial Intelligencepower bi22 Days Agosave\n",
      "Senior Analyst-Data VisualizationAccenture4.1(28676 Reviews)5-8 YrsNot disclosedBangalore/Bengaluru You will be required to utilize the existing frameworks, standards, patterns to create ...PublishingConsultingBusiness intelligenceAnalyticsSQLArchitectureArtificial Intelligencedata visualization22 Days Agosave\n",
      "Senior Analyst-Data VisualizationAccenture4.1(28676 Reviews)5-8 YrsNot disclosedBangalore/Bengaluru You will be required to utilize the existing frameworks, standards, patterns to create ...PublishingArchitectureConsultingBusiness intelligenceAnalyticsIT SkillsArtificial Intelligencedata visualization22 Days Agosave\n",
      "Senior Analyst-Data VisualizationAccenture4.1(28676 Reviews)5-8 YrsNot disclosedBangalore/Bengaluru You will be required to utilize the existing frameworks, standards, patterns to create ...PublishingConsultingBusiness intelligencemicrosoftAnalyticsExcelArchitecturedata visualization29 Days Agosave\n",
      "Senior Analyst-Data VisualizationAccenture4.1(28676 Reviews)5-8 YrsNot disclosedBangalore/Bengaluru You will be required to utilize the existing frameworks, standards, patterns to create ...PublishingArchitectureConsultingmicrosoftAnalyticsBusiness administrationpower bidata visualization29 Days Agosave\n",
      "Senior Analyst-Data ScienceAccenture4.1(28676 Reviews)5-8 YrsNot disclosedBangalore/Bengaluru You will be required to utilize the existing frameworks, standards, patterns to create ...PublishingArtificial IntelligenceConsultingAnalyticsPythonBusiness administrationArchitecturedata science29 Days Agosave\n",
      "Senior Analyst-Data VisualizationAccenture4.1(28676 Reviews)5-8 YrsNot disclosedMumbai Skill required: Data Visualization - Tableau Designation: Senior Analyst Job Location: ...PublishingArchitectureConsultingdata visualizationAnalyticsIT SkillsArtificial IntelligenceCloud2 Days Agosave\n",
      "Senior Data Quality Assurance AnalystAdviserLogic2.1(2 Reviews)3-5 YrsNot disclosedMumbai Bachelor / Master s degree in finance / business with an exceptional academic recordMai...IT SkillsQuality AssuranceProject ManagementBPOproject managementRCACorporate actionsFinancial reporting30+ Days Agosave\n",
      "Market Research Data AnalystRobas Research5.0(4 Reviews)2-5 YrsNot disclosedBengaluru The ability to manage multiple tasks simultaneously Explaining the results to research ...BPOUsagePresalesMarket researchAccount managementSales processResearchRFQ30+ Days Agosave\n",
      "Data Analyst ManagerDTDHI HEALTH INDIA PRIVATE LIMITED 7-9 YrsNot disclosedBangalore/Bengaluru Proficiency in querying large relational databases and ability to build and maintain pr...data analysisBusiness Intelligencepythondata scienceSASPLSQLMongoDBTableau26 Days Agosave\n",
      "Data Analyst - Excel OperatorsOutsource Big Data5.0(2 Reviews)9-14 YrsNot disclosedBangalore/Bengaluru Any degree or BTech / BE in any Engineering Stream/ MCA / Bachelor s degree2 years expe...IT servicesAutomationData managementAnalyticalData AnalystOutsourcingData miningDigital marketing30+ Days Agosave\n",
      "Consultant Big data analysisZunopy Technologies pvt Ltd3-6 YrsNot disclosedBengaluru We're looking for engineers or applied scientists with experience implementing data min...Text miningC++Data analysisMachine learningInformation retrievalNatural language processingData miningBioinformatics30+ Days Agosave\n",
      "\n"
     ]
    },
    {
     "name": "stderr",
     "output_type": "stream",
     "text": [
      "[WDM] - ====== WebDriver manager ======\n",
      "[WDM] - Current google-chrome version is 102.0.5005\n",
      "[WDM] - Get LATEST chromedriver version for 102.0.5005 google-chrome\n",
      "[WDM] - Driver [C:\\Users\\lenovo\\.wdm\\drivers\\chromedriver\\win32\\102.0.5005.61\\chromedriver.exe] found in cache\n"
     ]
    },
    {
     "name": "stdout",
     "output_type": "stream",
     "text": [
      "Lead - Data AnalysisTesco Bengaluru4.2(908 Reviews)4-7 YrsNot disclosedBangalore/Bengaluru Space, Range, Merchandising, Store Ops, Forecasting, Customer Insights, Digital, Market...ExcelHadoopData AnalysisDue DiligenceForecastingPythonSql30+ Days Agosave\n",
      "Sr Business AnalystCBRE Group4.3(2220 Reviews)2-6 YrsNot disclosedBangalore/Bengaluru JOB SUMMARY We are seeking a data analyst to join the Global Transformation team within...Computer scienceglobal operationsBusiness AnalystBusiness analyticsData structuresmodel developmentData analyticsData Analyst30+ Days Agosave\n",
      "Data Analysis ExecutiveMech Choice Tools2-6 Yrs2,50,000 - 2,75,000 PA.Jalandhar Specialized in collecting data, organizing data, and analyzing the data Analyzing data ...Presentation SkillsData ManagementExcel SheetCritical ThinkingData VisualizationsStatistical Data Analysis8 Days Agosave\n",
      "Job Opportunity For Business Analyst at Rystad EnergyRYSTAD ENERGY INDIA PRIVATE LIMITED3.7(6 Reviews)0-5 Yrs8,00,000 - 15,00,000 PA.Bangalore/Bengaluru A bachelors degree Additional qualifications that are desirable: End to end analytics, ...AnalyticsPython Data AnalyticsData AnalysisData MiningData AnalyticsPredictive Analytics12 Days Agosave\n",
      "Data Analyst Executive, AMEATrend Micro3.9(13 Reviews)1-4 YrsNot disclosedNew Delhi work effectively and productively with minimum supervisionThe ideal candidate for this ...Data analysisProject managementInformation securityMISMQLTrend microdata mappingData mining18 Days Agosave\n",
      "Senior Business Analyst-Anblicks Cloud Data Engg CoANBLICKS CLOUD DATA ENGG PRIVATE LIMITED4.6(19 Reviews)5-10 YrsNot disclosedVijayawada, Hyderabad/Secunderabad, Ahmedabad(WFH during Covid) Senior Business Analyst Job DescriptionA highly skilled and experienced individual with...Business AnalyticsIT SkillsTestingBusiness ResearchBrdUMLSoftware Testing Life CycleFRD30+ Days Agosave\n",
      "Senior Business Analyst-Anblicks Cloud Data Engg CoANBLICKS CLOUD DATA ENGG PRIVATE LIMITED4.6(19 Reviews)5-10 YrsNot disclosedVijayawada, Hyderabad/Secunderabad, Ahmedabad(WFH during Covid) Senior Business Analyst Job DescriptionA highly skilled and experienced individual with...Business AnalyticsBusiness ResearchBrdUMLSoftware Testing Life CycleFRDagilesdlc30+ Days Agosave\n",
      "Sr. Business Systems AnalystData Axle3.8(7 Reviews)4-6 YrsNot disclosedPune Roles Responsibilities: We are looking for a Business Systems Analyst who will be an in...IT SkillsSoftware DevelopmentQuality Assuranceunica campaignManager Quality AssuranceProcess improvementAnalyticalAdobe30+ Days Agosave\n",
      "Manager, Business Analyst, Finance Data StrategyStateStreet Global Advisor Pvt Ltd3.9(133 Reviews)9-12 YrsNot disclosedHyderabad/Secunderabad Attention to detail and problem solving a must Bachelor s Degree in technology, finance...Supply chainFront officeProject managementIssue resolutionVisioBusiness solutionsFinancial servicesBalance Sheet11 Days Agosave\n",
      "Assistant Manager, Business Analyst, Finance Data StrategyStateStreet Global Advisor Pvt Ltd3.9(133 Reviews)5-10 YrsNot disclosedHyderabad/Secunderabad Attention to detail and problem solving a must Bachelor s Degree in technology, finance...Supply chainFront officeProject managementIssue resolutionVisioBusiness solutionsFinancial servicesBalance Sheet11 Days Agosave\n",
      "Senior Analyst - Murex Data Reporting - IT Consulting FirmMegma Services10-15 YrsNot disclosedMumbai, Gurgaon/Gurugram, Bangalore/Bengaluru Bachelors degree in Business or Economics or related discipline 5+ years of experience ...Murextroubleshootingtroubleshooting skillsdata reportingfront officeback officemiddle officetest cases20 Days Agosave\n",
      "Senior Analyst, Data Steward (L09)Synchrony4.4(686 Reviews)1-4 YrsNot disclosedHyderabad/Secunderabad Role Summary The Senior Analyst, Data Steward is responsible for execution of capabilit...PDFSASCodingAnalyticalmicrosoftRisk managementInformation technologyPortfolio managementJust Nowsave\n",
      "Senior Analyst-Data ScienceAccenture4.1(28676 Reviews)5-8 YrsNot disclosedMumbai You will be required to utilize the existing frameworks, standards, patterns to create ...PublishingArchitectureConsultingMachine learningAnalyticsIT SkillsData ScienceArtificial Intelligence7 Days Agosave\n",
      "Senior Analyst-Data VisualizationAccenture4.1(28676 Reviews)5-8 YrsNot disclosedMumbai Skill required: Data Visualization - Tableau Designation: Senior Analyst Job Location: ...customer analyticsPublishingConsultingAnalyticsSQLAnalytical skillsArchitecturedata visualization7 Days Agosave\n",
      "Senior Analyst-Data ScienceAccenture4.1(28676 Reviews)5-8 YrsNot disclosedMumbai Skill required: Data Science - Python Programming Language Designation: Senior Analyst ...PublishingArtificial IntelligenceConsultingAnalyticsPythonIT SkillsData ScienceCloud7 Days Agosave\n",
      "Senior Analyst-Data VisualizationAccenture4.1(28676 Reviews)5-8 YrsNot disclosedGurgaon/Gurugram You will be required to utilize the existing frameworks, standards, patterns to create ...PublishingMySQLSSRSConsultingAnalyticsArchitectureArtificial Intelligencedata visualization7 Days Agosave\n",
      "Senior Analyst-Data ScienceAccenture4.1(28676 Reviews)5-8 YrsNot disclosedMumbai Skill required: Data Science - Python Designation: Senior Analyst Job Location: Mumbai ...MySQLConsultingAnalyticsSQLPythonPublishingArchitecturedata science8 Days Agosave\n",
      "Senior Analyst-Data VisualizationAccenture4.1(28676 Reviews)5-8 YrsNot disclosedMumbai Skill required: Data Visualization - Qlik Sense Designation: Senior Analyst Job Locatio...PublishingConsultingBusiness intelligenceAnalyticsSQLIT SkillsArtificial IntelligenceCloud7 Days Agosave\n",
      "Senior Analyst-Data ScienceAccenture4.1(28676 Reviews)5-8 YrsNot disclosedMumbai Skill required: Data Science - Python Designation: Senior Analyst Job Location: Mumbai ...PublishingConsultingForecastingAnalyticsPythonArchitecturedata scienceArtificial Intelligence11 Days Agosave\n",
      "SFMC (primary), SQL, Data analysis Vensysco Technologies1-2 YrsNot disclosedPune, Delhi / NCR Skills (Primary + Secondary) Brief Job Description Role (Dev / Ops / Admin) SFMC (prima...SfmcData analysisSQL4 Days Agosave\n",
      "\n"
     ]
    },
    {
     "name": "stderr",
     "output_type": "stream",
     "text": [
      "[WDM] - ====== WebDriver manager ======\n",
      "[WDM] - Current google-chrome version is 102.0.5005\n",
      "[WDM] - Get LATEST chromedriver version for 102.0.5005 google-chrome\n",
      "[WDM] - Driver [C:\\Users\\lenovo\\.wdm\\drivers\\chromedriver\\win32\\102.0.5005.61\\chromedriver.exe] found in cache\n"
     ]
    },
    {
     "name": "stdout",
     "output_type": "stream",
     "text": [
      "Assistant Manager - Data AnalysisVenus Remedies Ltd.4.3(248 Reviews)3-8 Yrs1,75,000 - 4,00,000 PA.Panchkula More than 4-7 years experience in MIS management. Must have handled MIS for management ...Excel DashboardsVLOOKUPExcel Data ManagementMacrosExcel Report Preparation6 Days Agosave\n",
      "Lead Data Analyst - Power BI SpecialistVIZLAKE  ANALYTICS PRIVATE LIMITED2-4 Yrs2,50,000 - 6,00,000 PA.Kochi/Cochin, Thodupuzha Experience in building Power BI data models, reports using charts, slicers, pivots and ...Design SpecificationsBusiness IntelligencePower BiTechnical DesignData ModelingBIPower Querydata warehousing7 Days Agosave\n",
      "Urgent Hiring For VBA Micros &SQL(Data Analysis) @ AtosAtos3.8(6201 Reviews)2-5 YrsNot disclosedPune Shift time-Night Shift 1 Build macros / applications in VBA Generate the various custom...VBA MacrosVba ExcelvbaData ManagementData Management And AnalysisData Analyticssql8 Days Agosave\n",
      "Data Analyst ManagerGoibibo4.2(111 Reviews)1-5 Yrs10,00,000 - 15,00,000 PA.Gurgaon/Gurugram Work with cross functional stakeholders to prioritize business and information needs Dr...data analyticsDatabase Design And Developmentpythonmacrosdata analysissql queriesGoogle AnalyticsSAS30+ Days Agosave\n",
      "Technical Data programmer / analystEnfys Technologies5-10 YrsNot disclosedBangalore/Bengaluru Looking for a Data programmer/analyst who has experience in Oracle PL/SQL, Big Data, Py...Big DataOracle PL / SQLJavaSparkHivePythonIT SkillsOracle30+ Days Agosave\n",
      "Lead Analyst/Process Lead-Data ManagementFMC4.1(225 Reviews)4-8 YrsNot disclosedNoida Good communication, analytical and management skillsAbility to multi task and should be...Data ManagementSAP/Oracleshared serviceshire to retireemployee life cycleHR Operations11 Days Agosave\n",
      "Senior Business AnalystFlipkart4.2(9989 Reviews)4-6 YrsNot disclosedBangalore/Bengaluru Ability to understand business nuances and its implications on customer experience Expe...Data analysisSASAnalyticalQlikViewPythonCycle time reductionpower biCustomer experience7 Days Agosave\n",
      "Executive (Data Analysis)SVKMs Narsee Monjee Institute of Management Studies - NMIMS6-11 YrsNot disclosedMumbai Candidates with experience in Educational Institutes / Trusts / Universities/ Corporate...Computer scienceAdministrationData analysisExecutiveCorporateSuperintendentAdvanced ExcelManagement30+ Days Agosave\n",
      "M.com, B.com, Fresher, Analyst, Finance, Accounts, MIS,Data Analytics0-5 Yrs2,00,000 - 3,50,000 PA.Mumbai, Mumbai Suburban, Mumbai (All Areas) Flexi Work from Home after 3 months based on performance00 pm to 4:00 am (night shift) ...bcomaccountantAdvanced Excelaccountingnight shiftfresherUS ShiftMIS18 Days Agosave\n",
      "Senior Analyst - Data EngineerTime Analytic &amp; Shared Services Private Limited4.8(7 Reviews)3-6 YrsNot disclosedBangalore/Bengaluru Experience in ETL tasks like extracting data from multiple sources, join multiple table...AnalystDatabase marketingGITLinuxdata scienceMachine learningSchedulingAnalyticsFew Hours Agosave\n",
      "Senior Analyst-Data ScienceAccenture4.1(28676 Reviews)5-8 YrsNot disclosedMumbai Skill required: Data Science - Python Designation: Senior Analyst Job Location: Mumbai ...PublishingConsultingAnalyticsSQLPythonArchitecturedata scienceArtificial Intelligence14 Days Agosave\n",
      "Sr. Analyst Hadoop _Data EngineerGeneral Mills4.4(435 Reviews)3-6 YrsNot disclosedMumbai Analyze existing processes and user development requirements to ensure maximum efficien...hadoophivesparkscalasqoopPython15 Days Agosave\n",
      "Data Analyst (Fresher)Growth Guide1-6 Yrs1,75,000 - 2,00,000 PA.Noida Bachelor / Master (PhD is a plus) in Statistics, Computer Science, Economics, Quant Fin...PythonMultivariate AnalysisAcademic ResearchFactor AnalysisAdvanced ExcelEducational ContentRegression AnalysisAcademic Writing13 Days Agosave\n",
      "Analyst-Data VisualizationAccenture4.1(28676 Reviews)3-5 YrsNot disclosedBangalore/Bengaluru Skill required: Data Visualization - Qlik Sense Designation: Analyst Job Location: Beng...PublishingConsultingBusiness intelligenceAnalyticsSQLArchitectureArtificial Intelligencedata visualization7 Days Agosave\n",
      "National Researcher - Data Analysis and VisualizationInternational Water management Institute (IWMI)4.2(5 Reviews)5-7 YrsNot disclosedNew Delhi Master s or Bachelor s in Data Science, Mathematics, Statistics, Economics, Engineering...GraphicsGISSASData modelingCodingHTMLApplication developmentPhotoshop15 Days Agosave\n",
      "Data Analyst-PlatformBOLD Technology Systems4.3(65 Reviews)2-6 YrsNot disclosedDelhi / NCR Good analytical and problem solving skills Should be able to work in challenging enviro...Data MonitoringGoogle AnalyticsSQLIT SkillsPython19 Days Agosave\n",
      "Analyst-Data VisualizationAccenture4.1(28676 Reviews)3-5 YrsNot disclosedBangalore/Bengaluru Skill required: Data Visualization - Qlik Sense Designation: Analyst Job Location: Beng...PublishingConsultingBusiness intelligenceAnalyticsSQLIT SkillsArtificial IntelligenceArchitecture7 Days Agosave\n",
      "Sr. Business AnalystSeven Consultancy3-6 YrsNot disclosedBengaluru Knowledge of statistical modeling and experience using R and / or Python for descriptiv...Customer acquisitionStatistical modelingGoogle AnalyticsData managementBusiness AnalystBusiness analysisAnalyticalData Analyst30+ Days Agosave\n",
      "Analyst - US OPS - C&RM AdvisoryGrant Thornton India Pvt Ltd4.0(396 Reviews)0-1 YrsNot disclosedBangalore/Bengaluru The Capacity and Resource Management (C&RM) Team Analyst will be an integral member of ...AnalystData analysisData managementStaffingTeam AnalystResource managementForecastingAdvisory19 Days Agosave\n",
      "Senior Analyst-Data VisualizationAccenture4.1(28676 Reviews)5-8 YrsNot disclosedGurgaon/Gurugram You will be required to utilize the existing frameworks, standards, patterns to create ...PublishingArchitectureArtificial IntelligenceConsultingAnalyticsBusiness administrationExceldata visualization21 Days Agosave\n",
      "\n"
     ]
    },
    {
     "name": "stderr",
     "output_type": "stream",
     "text": [
      "[WDM] - ====== WebDriver manager ======\n",
      "[WDM] - Current google-chrome version is 102.0.5005\n",
      "[WDM] - Get LATEST chromedriver version for 102.0.5005 google-chrome\n",
      "[WDM] - Driver [C:\\Users\\lenovo\\.wdm\\drivers\\chromedriver\\win32\\102.0.5005.61\\chromedriver.exe] found in cache\n"
     ]
    },
    {
     "name": "stdout",
     "output_type": "stream",
     "text": [
      "Senior Analyst-Data VisualizationAccenture4.1(28676 Reviews)5-8 YrsNot disclosedGurgaon/Gurugram You will be required to utilize the existing frameworks, standards, patterns to create ...PublishingProcess orientationArchitectureConsultingAnalyticsAnalytical skillsClient relationshipdata visualization22 Days Agosave\n",
      "Senior Analyst-Data ScienceAccenture4.1(28676 Reviews)5-8 YrsNot disclosedMumbai Skill required: Data Science - Predictive Modeling and Analytics Designation: Senior An...PublishingConsultingPredictive modelingData miningAnalyticsIT SkillsPythonData Science29 Days Agosave\n",
      "Senior Analyst-Data ScienceAccenture4.1(28676 Reviews)5-8 YrsNot disclosedMumbai Qualifications: Any Graduation / BE You will be required to utilize the existing framew...PublishingConsultingAnalyticsSQLPythonIT SkillsData ScienceArtificial Intelligence20 Days Agosave\n",
      "Job Opening For Data Quality Analyst@ HCL Tech- Pan IndiaHCL Technologies3.9(20627 Reviews)5-10 YrsNot disclosedHyderabad/Secunderabad, Pune, Chennai, Bangalore/Bengaluru, Delhi / NCR Dashboarding & Workflow: Builds and maintains effective analytics and escalation mechan...data qualitydata governanceDQData AnalysisData Analytics17 Days Agosave\n",
      "Data Analyst AssociateZobello4.8(4 Reviews)1-2 YrsNot disclosedNew Delhi Graduate with 1- 2 years of experience in data analysis, data mining/ modeling;Proficie...presentationdata analysisdata modelingdata miningspssadobee commercegood30+ Days Agosave\n",
      "Data Analyst - fresherLinuxBean Solution Pvt Ltd4.5(13 Reviews)1-5 YrsNot disclosedIndore The required candidate should have knowledge of computer basic like Excel, MS word, Int...bcams wordexcelfresherData Analystbasicdata entrydata analystinternet30+ Days Agosave\n",
      "Data Analyst(Python Developer in Dash)PIRAMAL SWASTHYA MANAGEMENT AND RESEARCH  INSTITUTE3.9(190 Reviews)2-5 YrsNot disclosedHyderabad/Secunderabad Purpose of the Job- Piramal Swasthya is looking for a passionate certified Data Analyst...PythonSQL26 Days Agosave\n",
      "Data Analyst AssociateZobello4.8(4 Reviews)1-2 YrsNot disclosedDelhi Graduate with 1-2 years of experience in data analysis, data mining / modelingProficien...Analytical skillsData analysisExcelE-commerceData AnalystSPSSData miningAdobe30+ Days Agosave\n",
      "Data Analyst LeadTurbolab Technologies Private Limited4.7(4 Reviews)2-5 YrsNot disclosedKochi/Cochin Strong experience in Excel - should be comfortable with advanced functionsProficient wi...Data AnalysisData VisualizationStatistical ProgrammingIT SkillsPythonTableauRPower Bi28 Days Agosave\n",
      "Data Analyst ManagerInnoAge-Technologies PVT LTD4-8 Yrs7,50,000 - 14,00,000 PA.Greater Noida(Site-5 Gr Noida) Koerber / Highjump Warehouse Management System experience Bachelor s Degree - B Tech, M...Power BiTableauMS SQLMicrosoft OfficeSQLanalyticalPythonExcel30 Days Agosave\n",
      "Data Analyst AssociateZobello4.8(4 Reviews)1-2 YrsNot disclosedDelhi What we are looking out for: Graduate with 1 -2 years of experience in data analysis, d...Analytical skillsData analysisToolsE-commerceData AnalystSPSSData miningAdobe30+ Days Agosave\n",
      "Marketing Research Manager -data Analysis MNCon Sohna Road GurgaonCapital Placement Services4-9 YrsNot disclosedGurgaon Job Description Send me Jobs like this Structure Data Analysis & Reports Genaration. Le...Marketing ManagerMarketing ManagementPerformance AnalystData AnalysisMarket ResearchMarketing Research Manager30+ Days Agosave\n",
      "Data Analyst AssociateZobello4.8(4 Reviews)1-6 YrsNot disclosedNew Delhi, Delhi Job Description : •Proficient with reporting and statistical tools like Microsoft Excel...sourcesanalysingstatistical toolsspssadobee commercegood analytical skillsexperience30+ Days Agosave\n",
      "Data Analysis and Visualisation ManagerViamo Inc6-10 YrsNot disclosedMumbai Demonstrated high proficiency in managing projects and managing clients Propose to run ...Data analysisMobile technologytableauProject managementpower biData analyticsTechnical supportReporting tools30+ Days Agosave\n",
      "Data Analyst General AnalyticsJob Point HR & Training Consultants4.8(3 Reviews)3-8 YrsNot disclosedGurgaon Candidate must be proactive in asking questions At least an year of experience in Pytho...BfsiConsultingBankingProgrammingData AnalystData analyticsSQLPython30+ Days Agosave\n",
      "Data Analyst AssociateZobello4.8(4 Reviews)1-2 YrsNot disclosedNew Delhi, Delhi Graduate with 1-2 years of experience in data analysis, data mining/modeling;Proficient...data analysismodelingdata miningspssadobee commercegood analytical skillsanalytical skills30+ Days Agosave\n",
      "Data Analyst (Master data management)GlaxoSmithKline Asia Pvt. Ltd.4.6(17 Reviews)4-7 YrsNot disclosedHyderabad/Secunderabad The primary purpose of this role is to support the Consumer Health global Safety, Clini...Master Data Managementdashboardsexceldata qualityveeva20 Days Agosave\n",
      "Senior Business Analyst- South AsiaWPP IT4-7 YrsNot disclosedChennai, Bangalore/Bengaluru Must be willing able to apply structured requirements analysis modelling methods, in li...ProcurementRelationship managementData analysisAutomationBusiness analysisStock exchangeDiversity and InclusionManager Technology27 Days Agosave\n",
      "Technology Services- Senior Process Manager-Senior Business AnalysteClerx3.6(2919 Reviews)10-20 YrsNot disclosedMumbai .Shift Timings -EMEA SHIFT (1 P.M to 10 P.M.)| Management Level – Senior Manager | Trav...RPAIT SkillsSoftware DevelopmentSoftware Development Life CycleRPA technologiesWeb TechnologiesData AnalysisSRS documentationFew Hours Agosave\n",
      "Technology Services- Senior Process Manager-Senior Business AnalysteClerx3.6(2919 Reviews)10-20 YrsNot disclosedMumbai India | Full-time (FT) | TechnologyShift Timings -EMEA SHIFT (1 P.M to 10 P.M.)| Manage...RPA technologiesIT SkillsSoftware DevelopmentRPAApplication DevelopmentBusiness IntelligenceWeb TechnologiesData Analysis2 Days Agosave\n",
      "\n"
     ]
    },
    {
     "name": "stderr",
     "output_type": "stream",
     "text": [
      "[WDM] - ====== WebDriver manager ======\n",
      "[WDM] - Current google-chrome version is 102.0.5005\n",
      "[WDM] - Get LATEST chromedriver version for 102.0.5005 google-chrome\n",
      "[WDM] - Driver [C:\\Users\\lenovo\\.wdm\\drivers\\chromedriver\\win32\\102.0.5005.61\\chromedriver.exe] found in cache\n"
     ]
    },
    {
     "name": "stdout",
     "output_type": "stream",
     "text": [
      "Technology Services- Senior Process Manager-Senior Business AnalysteClerx3.6(2919 Reviews)10-10 YrsNot disclosedMumbai Business Analyst- Senior Process ManagerIndia | Full-time (FT) | TechnologyShift Timing...Business Intelligencedatabase designdata analysisvisiobusiness analysisdashboardssdlcexcel powerpoint3 Days Agosave\n",
      "Senior Business AnalystGroww4.1(32 Reviews)3-5 YrsNot disclosedBangalore/Bengaluru Key Role Responsibilities: Interacting with senior stakeholders including department he...Product managementData analysismodel validationBusiness Analystmanagementmodel developmentInvestment bankingcxo30+ Days Agosave\n",
      "Senior Analyst - Business Development ServicesTresVista Financial0-1 YrsNot disclosedMumbai, Pune, Bangalore/Bengaluru Ability to not only work independently but also be an effective team player Able not on...Financial ServicesTime ManagementProject ManagementFinanceRelationship ManagementBusiness DevelopmentData AnalyticsClient Relationship30+ Days Agosave\n",
      "Senior Business AnalystWavelabs Technologies Private Limited 4.2(28 Reviews)0-0 YrsNot disclosedHyderabad/Secunderabad Identify the data sources that are required to address the Experience in formulating pr...AgileJiraProject developmentData analysisInchargeBusiness AnalystBfsiFunctional testing30+ Days Agosave\n",
      "Associate Business AnalystSpiceworks0-2 YrsNot disclosedMumbai, Hyderabad/Secunderabad, Pune, Bangalore/Bengaluru Professional experience (1+ years) working with SQL, relational databases and database ...IT SkillsPythonData ScienceCloudProject ManagementAWSTableauData analysis12 Days Agosave\n",
      "Analyst - Applied Data ScientistTesco4.2(908 Reviews)1-2 YrsNot disclosedBangalore/Bengaluru 2 year Experience in analytics delivery in any one of domains like retail, cpg, telecom...pythonTableauSQL11 Days Agosave\n",
      "Data Analyst Lead DeveloperConnexion Group 3-7 Yrs8,00,000 - 17,00,000 PA.Pune, Bangalore/Bengaluru Responsible for data storage structures, data mining, and data cleansing using AWS Clou...JScriptAWS-CWIData MiningJSONMachine LearningCI / CDJSON FrameworkPython17 Days Agosave\n",
      "Manager - Data AnalysisTelamon HR Solutions7-10 YrsNot disclosedBangalore/Bengaluru Roles and Responsibilities :- Lead cross-functional projects using advanced data modeli...Data Analysisanalyticaldata modelingdata modelsdata automation systemsTableauData Analyticsreporting systems27 Days Agosave\n",
      "Product Analyst, Google Assistant Data ScienceGoogle4.4(449 Reviews)1-3 YrsNot disclosedBangalore/Bengaluru Masters degree in a quantitative discipline (e.g., Statistics, Operations Research, Bio...IT SkillsPythonComputer scienceData analysisOperations researchPrototypeData structuresMATLAB30+ Days Agosave\n",
      "Analyst - Data EngineerMeredith Corporation4.3(21 Reviews)1-2 YrsNot disclosedBangalore/Bengaluru Experience in ETL tasks like extracting data from multiple sources, join multiple table...AnalystDatabase marketingGITLinuxdata scienceMachine learningSchedulingAnalyticsFew Hours Agosave\n",
      "Analyst-Data VisualizationAccenture4.1(28676 Reviews)3-5 YrsNot disclosedBangalore/Bengaluru Skill required: Data Visualization - Tableau Designation: Analyst Job Location: Bengalu...PublishingArchitectureConsultingdata visualizationAnalyticsIT SkillsArtificial IntelligenceTableau29 Days Agosave\n",
      "Analyst-Data ScienceAccenture4.1(28676 Reviews)3-5 YrsNot disclosedBangalore/Bengaluru Skill required: Data Science - Natural Language Processing (NLP) Designation: Analyst J...PublishingArchitectureConsultingMachine learningPythonIT SkillsData ScienceArtificial Intelligence29 Days Agosave\n",
      "Analyst-Data VisualizationAccenture4.1(28676 Reviews)3-5 YrsNot disclosedGurgaon/Gurugram Skill required: Data Visualization - SQL (Structured Query Language) Designation: Analy...PublishingArtificial IntelligenceConsultingAnalyticsSQLIT SkillsCloudArchitecture1 Day Agosave\n",
      "Research Analyst 1Data Bridge (DBMR)0-1 YrsNot disclosedPune, Gurgaon/Gurugram Must be from relevant backgroundMust possess good communication skillsDBMR is an amazin...Presentation Skillsresearch analysismarket researchMS Officecommunication skillsMarket SurveyExcel Powerpoint30+ Days Agosave\n",
      "Associate Analyst - Master Data ManagementNovo Nordisk India4.0(547 Reviews)2-3 YrsNot disclosedBangalore/Bengaluru Master s in Finance or equivalent from a well-recognised institute with good academic t...ProcurementFinance ManagerSAPMaster data managementAnalyticalFinancial planningData collectionContinuous improvement30+ Days Agosave\n",
      "Programmer Analyst, Lead (Data Visualization)Qualcomm Technologies, Inc4.2(388 Reviews)1-5 YrsNot disclosedBangalore/Bengaluru We are looking for talented Programmer Analyst, Staff to join our analytics team who ar...AutomationLinuxData modelingDatabase designInformation securityMySQLScrumWindows30+ Days Agosave\n",
      "Data Science & Analysis (Technology Management)Morgan Stanley4.1(498 Reviews)4-5 YrsNot disclosedBangalore/Bengaluru Working experience in developing web applications in Java and Angular or React Financia...Capacity managementWealth managementCodingIntranetInvestment bankingInvestment managementForecastingFinancial services30+ Days Agosave\n",
      "Analyst  -  Consumer Data ProjectsGD Research Center Pvt Ltd3.9(183 Reviews)2-4 YrsNot disclosedHyderabad The person should have excellent analytical abilities and good research capabilitiesSenior AnalystAnalyticalData Research Analystmarket dataResearchSecondary research30+ Days Agosave\n",
      "Data Quality Assurance AnalystAdviserLogic2.1(2 Reviews)2-4 YrsNot disclosedMumbai The Role: The team seeks a self-motivated, analytical Data Quality Assurance Analyst to...IT SkillsQuality AssuranceQuality Assurance AnalystRCAQuality improvementCorporate actionsFinancial reportingProcess improvement30+ Days Agosave\n",
      "Market Researcher / Web Researcher / Data Research AnalystLessburn4.8(3 Reviews)0-3 Yrs90,000 - 1,50,000 PA.Coimbatore Must be Internet savvy and comfortable with using the Web as a research tool Freshers /...ms officeInformation Researchdata researchFresherResearchGraduateDescription writing30+ Days Agosave\n",
      "\n"
     ]
    },
    {
     "name": "stderr",
     "output_type": "stream",
     "text": [
      "[WDM] - ====== WebDriver manager ======\n",
      "[WDM] - Current google-chrome version is 102.0.5005\n",
      "[WDM] - Get LATEST chromedriver version for 102.0.5005 google-chrome\n",
      "[WDM] - Driver [C:\\Users\\lenovo\\.wdm\\drivers\\chromedriver\\win32\\102.0.5005.61\\chromedriver.exe] found in cache\n"
     ]
    },
    {
     "name": "stdout",
     "output_type": "stream",
     "text": [
      "Senior Business AnalystRapido4.0(115 Reviews)3-5 YrsNot disclosedBangalore/Bengaluru Undergraduate and / or graduate degree in Math, Economics, Statistics, Engineering, Com...IT SkillsTableauComputer scienceData analysisSenior AnalystAnalyticalSenior Business AnalystHR30+ Days Agosave\n",
      "Senior Business Intelligence Development AnalystIHS Markit4.1(470 Reviews)4-6 YrsNot disclosedGurgaon/Gurugram, Bangalore/Bengaluru Must have Critical thinking and problem-solving skills. Advanced ability in BI tools, P...DAXSalesforceRPATableauPowerBIEPMMachine LearningPython8 Days Agosave\n",
      "Sr Svcs Business AnalystGartner4.4(56 Reviews)2-6 YrsNot disclosedGurgaon/Gurugram Accountable for problem solving and decision-making along with Service Delivery, RA Ops...Process designData analysisOperational excellenceAnalyticalContinuous improvementProcess automationRCAProcess optimization4 Days Agosave\n",
      "Senior Manager, Business Analyst - SMEAgreeYa Solutions3.5(121 Reviews)8-12 YrsNot disclosedChennai Drive business metrics that will help optimize business also deep dive into data for in...IT SkillsPythonSoftware DevelopmentTestingData ScienceMachine LearningArtificial IntelligenceData analysis30+ Days Agosave\n",
      "Business Analyst For Revenue Planning and ManagementFlipkart4.2(9989 Reviews)3-7 YrsNot disclosedBangalore/Bengaluru Bachelors in Engineering, Computer Science, Math, Statistics, or related discipline fro...Data analysisRevenue planningJavascriptHealthcareSQLComputer scienceGoogle AnalyticsRevenue management1 Day Agosave\n",
      "Business AnalystCargill4.4(695 Reviews)2-5 YrsNot disclosedBangalore/Bengaluru Key Accountabilities Contribute to developing information technology strategies, police...SQL queriesBusiness AnalystBusiness Data AnalystBusiness Intelligence AnalystAgileManager TechnologyData analyticsAnalyst II30+ Days Agosave\n",
      "Business AnalystInsure Pro 2.02.9(6 Reviews)0-2 YrsNot disclosedBangalore/Bengaluru(HSR Layout +7) Must be willing to take up different job roles within the team as requiredQualification...Business AnalyticsAdvanced ExcelSQLExcelVBAData AnalysisSSISMacros28 Days Agosave\n",
      "Business Strategy & Operations AnalystRalph Lauren3.4(6 Reviews)0-3 YrsNot disclosedBangalore/Bengaluru Knowledge of reporting tools like MicroStrategy, BI is requiredSupport teams by posting...MicrostrategyHospitalityAccessoriesData analysisSAPProject managementBusiness strategyReporting tools30+ Days Agosave\n",
      "Business Analyst Capital/InvestmentTekFortune Inc.5.0(3 Reviews)0-5 YrsNot disclosedBangalore/Bengaluru requirement specification document Lead business requirement gathering session and docu...Relationship managementData analysisCollateral managementBusiness analysisInvestment bankingProject deliveryStakeholder managementMS Office30+ Days Agosave\n",
      "Business AnalystSomet Consulting0-3 Yrs2,00,000 - 4,50,000 PA.Gandhinagar, Ahmedabad - Understand business/project objectives - Conducting in-depth data analysis - Research...Business Analysisdata analysisProject HandlingAhmedabadBusiness IntelligenceData ResearchBusiness AnalyticsMS Office Package12 Days Agosave\n",
      "Business AnalystData Infovision3.3(3 Reviews)2-5 YrsNot disclosedRewari, Chandigarh, haryana Key Skills: Business analysis, business planning, system analysis RolesResposibilities:...E-learningEmailBusiness analysisHuman Resource DevelopmentInternet researchSocial networkingBusiness planningOutsourcing30+ Days Agosave\n",
      "Business AnalystData Peace2-5 YrsNot disclosedGurgaon Business Analyst (Intern) Written and verbal communication, including technical writing...Business AnalystInternTechnical writing30+ Days Agosave\n",
      "Business AnalystData Infovision Private Limited3.3(3 Reviews)1-2 YrsNot disclosedRewari Candidate should be selfmotivator and target orientedGood attitude, team player, target...E-learningSalesBusiness analysisLead Business AnalystInternet researchSocial networkingBusiness planningOutsourcing30+ Days Agosave\n",
      "Business AnalystData Cross Solution2-7 YrsNot disclosedAhmedabad Looking for candidates who have worked as business analysts, project managers, team lea...assembly languageCJavaScriptReal Time Operating Systems.NETHTMLOraclePython30+ Days Agosave\n",
      "Business AnalystData Cross Solution2-7 YrsNot disclosedAhmedabad Job Description Looking for candidates who have worked as business analysts, project ma...developmentproject managementmakinguse casesaddedmethodsanalystcommunicating30+ Days Agosave\n",
      "Senior Analyst-Risk and complianceAccenture4.1(28676 Reviews)5-8 YrsNot disclosedBangalore/Bengaluru Skill required: Risk and compliance - Fraud Management Designation: Senior Analyst Job ...Data analysisConsultingCapital marketFinancial servicesBusiness operationsIT SkillsTestingCloud7 Days Agosave\n",
      "Operations Analyst (Non-tech role)Media.net Software Services (India) Pvt Ltd4.1(58 Reviews)0-1 Yrs3,00,000 PA.Mumbai, Bangalore/Bengaluru Freshers, or 2020, 2021, 2022 graduates Only (Bachelors degree holders) Excellent work ...Digital MarketingBusiness StrategyKeyword AnalysisWebsite ManagementData ManagementKeyword ResearchResearchBusiness Analysis30+ Days Agosave\n",
      "Senior Analyst - Data EngineerThe Smart Cube3.8(82 Reviews)2-4 YrsNot disclosedMumbai, New Delhi, Bangalore/Bengaluru Should have some CPG business understanding to be able to contribute right ideas Minimu...PysparkSparkAWSSQLPythonBig Data20 Days Agosave\n",
      "Sr. Research Analyst - Food & BeveragesData Bridge (DBMR)3-6 YrsNot disclosedPune, Gurgaon/Gurugram Must have 3+ years of experience with direct client call - pre sales and post sales int...market sizingproposal writingmarket researchMarket Segmentationreport writingSecondary Researchteam handlingClient Interactions5 Days Agosave\n",
      "Hiring For Data Analyst-Health Domain || Noida || Shifts - 1PM - 10PMVirtuoso Staffing Solutions Pvt Ltd  2-6 YrsNot disclosedNoida(WFH during Covid) •Execution of data validation, profiling, auditing and data cleansing activities •Colla...HealthAdvanced ExcelDataHealthcare ManagementHealth Insurancehealthcare1 Day Agosave\n",
      "\n"
     ]
    },
    {
     "name": "stderr",
     "output_type": "stream",
     "text": [
      "[WDM] - ====== WebDriver manager ======\n",
      "[WDM] - Current google-chrome version is 102.0.5005\n",
      "[WDM] - Get LATEST chromedriver version for 102.0.5005 google-chrome\n",
      "[WDM] - Driver [C:\\Users\\lenovo\\.wdm\\drivers\\chromedriver\\win32\\102.0.5005.61\\chromedriver.exe] found in cache\n"
     ]
    },
    {
     "name": "stdout",
     "output_type": "stream",
     "text": [
      "Lead, Data Analysis (Bangalore/ Chennai)Krazy Mantra HR Solutions Pvt. Ltd  10-15 Yrs20,00,000 - 27,50,000 PA.Chennai, Bangalore/Bengaluru Business intelligence & data IndMdual Contributor role BI, Data Warehouse, ETL Control-...ScalaHDFSData WarehouseBusiness intelligenceETLShellMS PlatformCloud Computing20 Days Agosave\n",
      "Data Analyst-Regulatory Reporting (4-8 years)CRESCENDO GLOBAL LEADERSHIP HIRING INDIA PRIVATE L  IMITED4-8 YrsNot disclosedMumbai Disclaimer: Crescendo Global is an ISO 9001:2015 certified Leadership Hiring consulting...Regulatory ReportingInvestment BankingClient ReportingBusiness Analysis10 Days Agosave\n",
      "Analyst-Data VisualizationAccenture4.1(28676 Reviews)3-5 YrsNot disclosedGurgaon/Gurugram Skill required: Data Visualization - Microsoft SQL Server Reporting Services (SSRS) Des...PublishingArtificial IntelligenceSSRSConsultingAnalyticsIT SkillsCloudArchitecture7 Days Agosave\n",
      "Sr. Data ScientistInvesco4.1(186 Reviews)5-10 YrsNot disclosedHyderabad/Secunderabad Undergraduate or advanced degree in a quantitative discipline (i.eHelp build out the da...analytical project managementpredictive modelData ManagementData MiningData CleansingData VisualizationStatistical Data AnalysisSVM13 Days Agosave\n",
      "Senior Analyst, Business Finance & AnalyticsAirbnb4.6(85 Reviews)7-12 YrsNot disclosedGurgaon/Gurugram, Bangalore/Bengaluru Graduate in Economics, Business, Engineering, or other quantitative focus A minimum of ...OutboundData analysisAnalyticalAnalyticsSQLSANmetadataExcel5 Days Agosave\n",
      "Sr Business AnalystSeven Consultancy (HR Solution)3-6 YrsNot disclosedBangalore/Bengaluru JOB DETAILS 1. Proficient in other analytical tools (e.g. Google Analytics), Advance Ex...Customer acquisitionBusiness consultingStatistical modelingGoogle AnalyticsData managementBusiness analysisAnalyticalSenior Data Analyst30+ Days Agosave\n",
      "Senior Analyst, Business Finance & AnalyticsAirbnb4.6(85 Reviews)7-12 YrsNot disclosedBangalore/Bengaluru Graduate in Economics, Business, Engineering, or other quantitative focus A minimum of ...OutboundSANData analysismetadataExcelAnalyticalData qualityContinuous improvement6 Days Agosave\n",
      "Senior Business Analyst - WFHhCapital Business Consulting Private Limited 5-10 Yrs15,00,000 - 20,00,000 PA.Remote Tier 1 B-school or Engineering institute with overall 5-8 years of experience Experienc...algorithmsdata analysisanalyticsBusiness IntelligencepythoncBusiness AnalyticsData Management And Analysis15 Days Agosave\n",
      "Sr . Business Systems Analystkk consulting services7-12 YrsNot disclosedBangalore/Bengaluru Define and articulate business rules required for data accuracy andBusiness processData analysisData managementBusiness analysisApplication programmingApplication developmentTest casesSDLC30+ Days Agosave\n",
      "Senior Business AnalystHEVO TECHNOLOGIES INDIA PRIVATE LIMITED4.0(6 Reviews)1-3 YrsNot disclosedBangalore/Bengaluru(HSR Layout) Day-to-day familiarity with writing efficient SQL queries on large datasets to extract ...Data AnalysisAdvanced ExcelSQLIT SkillsPythonProject ManagementTableauBPO20 Days Agosave\n",
      "Business Intelligence AnalystGartner4.4(56 Reviews)2-5 YrsNot disclosedGurgaon/Gurugram Responsibilities: Work with business stakeholders to identify business intelligence nee...Computer scienceData analysisData managementAnalyticsSQLdata model creationanalyticalDAX4 Days Agosave\n",
      "Management Trainee (1 Year) - Business AnalystZF India Private Limited3.8(461 Reviews)0-1 YrsNot disclosedPune Educational Qualification: Masters of Business Administration (Marketing)WrittenPowerPointPresentationExcelverbal communicationBusiness administrationData analysisBusiness Analyst11 Days Agosave\n",
      "Business AnalystMoglix3.8(153 Reviews)0-2 YrsNot disclosedNoida High level of ownership, willingness to set up things from scratch 3 years of experienc...Business processComputer scienceProduct managementSQL queriesData managementBusiness Analystdata scienceSAS R30+ Days Agosave\n",
      "Analyst - Digital OperationseClerx3.6(2919 Reviews)0-2 YrsNot disclosedPune Data Analysis of a complex product database in real-time. Database management services ...Digital OperationsData AnalysisBusiness RulesDatabase Management17 Days Agosave\n",
      "Associate Analyst - SCMMedline4.2(103 Reviews)0-1 YrsNot disclosedPune Understand options and recommend the best course of action based on requirements covera...SQL QueriesData AnalyticsSQLBusiness Analysisdata analysisSDLCSTLC19 Days Agosave\n",
      "Senior Data ScientistBaker Hughes4.2(306 Reviews)6-8 YrsNot disclosedMumbai, Bangalore/Bengaluru As a Senior Data Scientist, you will be responsible for: Contributing in development an...Computer scienceData analysisSASCodingMachine learningPerlRubyAnalytics4 Days Agosave\n",
      "Senior Data ScientistSchneider Electric4.2(3602 Reviews)4-5 YrsNot disclosedBangalore/Bengaluru In-depth understanding and modeling experience in supervised, unsupervised, reinforceme...deep learningData analysisManager Quality AssuranceGITOracle SQLAnalyticalMachine learningMySQLFew Hours Agosave\n",
      "Analyst - Data EngineerTime Analytic &amp; Shared Services Private Limited4.8(7 Reviews)1-4 YrsNot disclosedBangalore/Bengaluru Experience in ETL tasks like extracting data from multiple sources, join multiple table...AnalystDatabase marketingGITLinuxdata scienceMachine learningSchedulingAnalyticsFew Hours Agosave\n",
      "Data Analyst-Public Financial Company | Areocity, Gurgaon-6 DaysHeadsup Corporation Pvt. Ltd.   3-8 Yrs8,00,000 - 10,00,000 PA.Gurgaon/Gurugram Must have experience in Tableau and Power BI3 - 5 years of experiencePower BiTableau12 Days Agosave\n",
      "Sr Data Scientist (Technical)Caterpillar Inc4.3(780 Reviews)7-9 YrsNot disclosedBangalore/Bengaluru As a Senior Data Scientist (Senior Information Technology (IT) Analyst), you will have ...Data analysisInterpersonal skillsGITNetworkingMachine learningData analyticsdata visualizationInformation technology30+ Days Agosave\n",
      "\n"
     ]
    },
    {
     "name": "stderr",
     "output_type": "stream",
     "text": [
      "[WDM] - ====== WebDriver manager ======\n",
      "[WDM] - Current google-chrome version is 102.0.5005\n",
      "[WDM] - Get LATEST chromedriver version for 102.0.5005 google-chrome\n",
      "[WDM] - Driver [C:\\Users\\lenovo\\.wdm\\drivers\\chromedriver\\win32\\102.0.5005.61\\chromedriver.exe] found in cache\n"
     ]
    },
    {
     "name": "stdout",
     "output_type": "stream",
     "text": [
      "Analyst II - Global Procurement, Market Data Financial ClerkNorthern Trust Corp.4.2(909 Reviews)3-5 YrsNot disclosedBangalore/Bengaluru Major Duties Responsible for invoice processing and entries into FITS Account reconcili...BloombergInvoice processingClerkReconciliationPeopleSoftmarket dataGlobal procurementAnalyst II12 Days Agosave\n",
      "Analyst-Finance Data MaintenanceAccenture4.1(28676 Reviews)3-5 YrsNot disclosedMumbai Qualifications: Bachelor s degree with Finance specialization / BCom The team reviews a...ConsultingFinancial operationsClient relationshipprofessional servicesOperationsIT SkillsData ScienceCloud19 Days Agosave\n",
      "Senior Business Analystidfc first bank4.0(4574 Reviews)2-5 YrsNot disclosedBangalore/Bengaluru Roles & Responsibilities: Understanding of Project Management, Finance and Data analysi...Performance tuningData analysisBusiness AnalystCompetitive analysisProject managementAgileManager Technologyapplication architecture24 Days Agosave\n",
      "Senior Analyst - Business Intelligence Meredith Corporation4.3(21 Reviews)3-5 YrsNot disclosedBangalore/Bengaluru The Senior Analyst - BI is a member of Merediths Business Insights team and participate...MicrostrategyMS SQLData analysisData modelingJavascriptHTMLHTTPTeradata30+ Days Agosave\n",
      "Sr. Business Control AnalystDeutsche Bank4.2(1799 Reviews)3-5 YrsNot disclosedPune, Bangalore/Bengaluru Bachelor s degree and 3-5 years experience within IT risk related discipline Require ad...AnalystManager Internal AuditData managementOperational riskInformation securityRisk assessmentRisk managementOperations30+ Days Agosave\n",
      "Senior Business Intelligence AnalystInformatica4.4(21 Reviews)6-8 YrsNot disclosedBangalore/Bengaluru Bachelor s Degree in Business, Statistics, Computer Science, Information Technology, or...IT SkillsTableauComputer scienceMicrostrategyAutomationData managementAnalyticalInformation management13 Days Agosave\n",
      "Senior Business AnalystThomson Reuters4.3(1241 Reviews)2-4 YrsNot disclosedHyderabad/Secunderabad Proficient in creating conceptual modeling deliverables such as wireframes, process mod...BPOdata analysisBusiness processManager Quality AssuranceCodingAnalyticalJavascriptVisio30+ Days Agosave\n",
      "Business Intelligence Analyst- US Healthcare ITEclinicalworks India Pvt Ltd4.2(526 Reviews)3-6 YrsNot disclosedBangalore/Bengaluru, Mumbai (All Areas)(WFH during Covid) Night Shift Allowance Prepare custom report based on client requirementBusiness IntelligencePower BIIT SkillsHealthcare DomainBusiness AnalystData ManagementData AnalysisRCMTodaysave\n",
      "Business AnalystIBM4.2(14180 Reviews)1-4 YrsNot disclosedBangalore/Bengaluru Agile Methodologies, MS Excel, Basic RDBMS - IBM DB2 & SQL queriesExperience implementi...Data analysisLinuxCustomer interfacingHTMLBusiness operationsIT SkillsTestingMS SQL12 Days Agosave\n",
      "Business AnalystGroww4.1(32 Reviews)2-4 YrsNot disclosedBangalore/Bengaluru Key Role Responsibilities: Interacting with senior stakeholders including department he...Product managementData analysismodel validationBusiness Analystmanagementmodel developmentInvestment bankingcxo15 Days Agosave\n",
      "Technology Services-Process Manager-Business AnalysteClerx3.6(2919 Reviews)6-11 YrsNot disclosedMumbai Shift Timings - EMEA SHIFT (1 P.M to 10 P.M.)| Management Level – Manager | Travel Requ...RPADatabase DesigningApplication DevelopmentBusiness IntelligenceExcel PowerpointArtificial IntelligenceMachine LearningBusiness Analysis17 Days Agosave\n",
      "Operations AnalystAltisource Business Solutions Pvt Ltd3.8(763 Reviews)0-2 YrsNot disclosedBangalore/Bengaluru Preferred Education: Graduate with atleast 6months to 2 years experience Experience wit...Business processMS SQLOperations AnalystExcelqueryProcess operationsData ProcessorData analytics6 Days Agosave\n",
      "AnalystDelhivery4.2(2819 Reviews)0-3 YrsNot disclosedBangalore/Bengaluru Experience in analytics / data science roles Experience in building dashboards and auto...Data analysisOperations researchdata scienceMachine learningBusiness intelligencebig dataOperationsAnalytics30+ Days Agosave\n",
      "BODS Data Migration Sr. Analyst / Lead - Immediate c2hOrcapod Consulting Services Private Limited   10-15 YrsNot disclosedHyderabad/Secunderabad, Bangalore/Bengaluru(WFH during Covid) Shift time :- 02:00 PM to 12:00 AM / 04:00 to 01:00 AM (Depending on project demands)Ed...configurationissue resolutionsap data servicesdata migrationsqlIT SkillsTestingSAP7 Days Agosave\n",
      "Associate Risk Analyst IUber4.1(524 Reviews)0-3 YrsNot disclosedHyderabad/Secunderabad You will serve as the subject matter authority on analytics / data-driven solutions tha...Computer scienceData analysisOperations researchProduct engineeringassociate risk analystdata scienceData analyticsFraud Analyst30+ Days Agosave\n",
      "Assistant Manager/Manager - Analytics/Data Analysis - SAS/SQL/PythonSearch Light4-9 YrsNot disclosedHyderabad/Secunderabad, Pune, Chennai, Gurgaon/Gurugram Perform Data Analysis to develop data sourcing requirementPreferred Candidate : Any gra...SASSQLPythonRoot Cause AnalysisData ManagementBig DataData Risk AssessmentData Analytics28 Days Agosave\n",
      "Senior Data ScientistWalmart4.2(11295 Reviews)5-9 YrsNot disclosedBangalore/Bengaluru Bachelors degree in Statistics, Mathematics, Computer Science or a related field and 6 ...IT SkillsPythonData ScienceMachine LearningCloudOracleBig DataSupply chain7 Days Agosave\n",
      "Senior Data ScientistWalmart4.2(11295 Reviews)5-9 YrsNot disclosedBangalore/Bengaluru Drive data-derived insights across the wide range of retail divisions by developing adv...IT SkillsPythonData ScienceMachine LearningBig DataCloud computingData analysisWeb analytics7 Days Agosave\n",
      "Manager - Data Analysis/ Data Management - Power SectorServing Skill10-16 YrsNot disclosedGurgaon/Gurugram Graduation - Bachelor of Engineering - Bachelor of Technology (BE / BTech) Preferably o...Capex planningMISData ManagementData AnalysisData Analytics20 Days Agosave\n",
      "Data Governance Analyst, Team LeadStateStreet Global Advisor Pvt Ltd3.9(133 Reviews)6-8 YrsNot disclosedBangalore/Bengaluru Shift: 1 PM to 10 PM India timeFlexible work time arrangement including work from home ...Data analysisManager Quality AssuranceData managementBusiness analysisProject managementInvestment bankingVBMacros30+ Days Agosave\n",
      "\n"
     ]
    },
    {
     "name": "stderr",
     "output_type": "stream",
     "text": [
      "[WDM] - ====== WebDriver manager ======\n",
      "[WDM] - Current google-chrome version is 102.0.5005\n",
      "[WDM] - Get LATEST chromedriver version for 102.0.5005 google-chrome\n",
      "[WDM] - Driver [C:\\Users\\lenovo\\.wdm\\drivers\\chromedriver\\win32\\102.0.5005.61\\chromedriver.exe] found in cache\n"
     ]
    },
    {
     "name": "stdout",
     "output_type": "stream",
     "text": [
      "Data Governance Analyst - OfficerStateStreet Global Advisor Pvt Ltd3.9(133 Reviews)10-15 YrsNot disclosedHyderabad/Secunderabad, Bangalore/Bengaluru As the Data Governance Analyst, you will play a key in execution of global Data Governa...Process automationremediationmetadataGTSdata governanceWorkflowData qualityInvestment management26 Days Agosave\n",
      "Data Governance Analyst - Emerging LeadStateStreet Global Advisor Pvt Ltd3.9(133 Reviews)4-6 YrsNot disclosedBangalore/Bengaluru Shift: 1 PM to 10 PM India timeFlexible work time arrangement including work from home ...Data analysisManager Quality AssuranceData managementBusiness analysisProject managementInvestment bankingVBMacros30+ Days Agosave\n",
      "Analyst Master Data - EDICARDINAL HEALTH INTERNATIONAL INDIA PRIVATE LIMITE 4.4(26 Reviews)3-7 YrsNot disclosedBangalore/Bengaluru Looking for Analyst Master Data - EDI.Skills :Hands-on experience in customer master da...EDIMaster DataIDOCScustomer master data7 Days Agosave\n",
      "Customer Relationship Manager and Data AnalysisSSP SOLUTIONS  4-5 Yrs2,50,000 - 5,00,000 PA.Guwahati, Bhubaneswar, Kolkata Build profitable relationships with key customers Resolving customer complaints Respons...Customer Relationship ManagerData AnalysisData MiningForecastingOperations ManagementSEO AnalysisMarketing StrategyAdvance Excel17 Days Agosave\n",
      "Data Solutions Analyst - Technical ConsultantAMERICAN EXPRESS GLOBAL BUSINESS TRAVEL4.1(111 Reviews)1-5 YrsNot disclosedBangalore/Bengaluru The Americas Product Deployment team is seeking technology savvy and innovative individ...AnalystLegal complianceDeploymentCustomer serviceTechnology solutionsManagementOperationsSLAS30+ Days Agosave\n",
      "Data Solutions Analyst - Technical ConsultantGBT India Private Limited5.0(2 Reviews)3-7 YrsNot disclosedBangalore/Bengaluru Data Solutions Analyst responsibilities include, but are not limited to: Translate cust...AnalystLegal complianceDeploymentCustomer serviceTechnology solutionsManagementOperationsSLAS30+ Days Agosave\n",
      "Data Visualisation Analyst - Qliksense DeveloperCapco3.9(192 Reviews)5-8 YrsNot disclosedKolkata Build trusting partnership with Finance Change Delivery (FCD) Stress Testing project te...PrintingStress testingRegulatory reportingDiversity and InclusionAgileAsset managementQlikViewFinancial services30+ Days Agosave\n",
      "Data Science - Analyst ( Intern )Merkle Inc.1-2 YrsNot disclosedPune What you ll do Use statistical methods to analyze data and generate useful business rep...Data validationInternSASTroubleshootingAdobeDigital marketingAnalyticsMonitoring30+ Days Agosave\n",
      "Lead Representative, Data Management & Quantitative AnalysisBNY Mellon4.2(2399 Reviews)5-7 YrsNot disclosedPune Bachelors degree or the equivalent combination of education and experience 7 years of t...Junior StaffData managementFinanceBankingLine SupervisorWorkflowmarket dataRepresentative18 Days Agosave\n",
      "Data ScientistApplied Materials4.3(178 Reviews)4-7 YrsNot disclosedBangalore/Bengaluru Key ResponsibilitiesApplies practice methodologies to solve customer high value problem...Data analysisRData ScientistData AnalyticsStatistical AnalysisMachine LearningPython1 Day Agosave\n",
      "Senior Business AnalystServing Skill5-10 YrsNot disclosedMumbai, Gurgaon/Gurugram, Bangalore/Bengaluru Strong in SQL & Excel and good to have experience in Tableau Experience in the field of...Business IntelligenceExcelCustomer SegmentationData AnalysisData VisualizationTableauDashboardsData Analytics10 Days Agosave\n",
      "Senior Business Analyst - EdTechServing Skill5-10 YrsNot disclosedMumbai, Gurgaon/Gurugram, Bangalore/Bengaluru Strong in SQL & Excel and good to have experience in Tableau Experience in the field of...Data AnalysisTableauSQLBusiness IntelligenceData AnalyticsAnalytics10 Days Agosave\n",
      "Senior Business Intelligence Analyst (Six Sigma Black Belt)RWS Moravia3.8(66 Reviews)7-12 Yrs10,00,000 - 20,00,000 PA.Hyderabad/Secunderabad, Pune, Chennai, Bangalore/Bengaluru, Delhi / NCR, Mumbai (All Areas) Six sigma Black Belt qualification (Certified)Must be able to translate business questi...Certified Black BeltSQLanalyticalExcelPowerPointbusiness intelligence reportingblack beltsix sigma12 Days Agosave\n",
      "Senior Business Analyst - Life Sciences\n",
      "M-PANELS RESEARCH SERVICES PRIVATE LIMITED 5.0(2 Reviews)4-6 YrsNot disclosedBangalore/Bengaluru KEY RESPONSIBILITIES:PROJECT OWNERSHIP: own and deliver secondary research and data ana...secondary researchprimary researchexcelmarket accessdata analysisquantitativeCompetitive Intelligencestrategic insights15 Days Agosave\n",
      "Senior Business AnalystPratham Software Pvt. Ltd.4.3(29 Reviews)2-5 YrsNot disclosedJaipur Bachelor s Degree (BTech or equivalent) Masters Degree in Management Certified Scrum Ma...IT SkillsTestingProject ManagementBPOproject managementBusiness processData analysisTest scripts7 Days Agosave\n",
      "Sr Business Analyst - AnalyticsAgreeYa3.5(121 Reviews)1-3 YrsNot disclosedGurgaon/Gurugram Should consistently deliver on time with high quality and error free reports and analys...IT SkillsPythonMachine LearningTableauPower BIInterpersonal skillsData analysisBusiness Analyst30+ Days Agosave\n",
      "Senior IT Business Analyst - EnergyShell4.3(1088 Reviews)10-15 YrsNot disclosedBangalore/Bengaluru Experience in the Power / Gas/LNG Trading and/ or experience of ETRM SystemsExperience ...Business AnalysisIT project developmentdata analysischange management12 Days Agosave\n",
      "Senior Business AnalystInformatica4.4(21 Reviews)3-6 YrsNot disclosedBangalore/Bengaluru Key Responsibilities: Establishing yourself as the functional SME providing support for...IT SkillsTestingHTMLComputer scienceData managementMISCMSAgile21 Days Agosave\n",
      "Sr Business Analyst - Fin SystemsMoody's4.0(85 Reviews)3-5 YrsNot disclosedGurgaon/Gurugram Role/Responsibilities:Conduct prioritization meetings with the nominated business proce...accountingexceldata analysisSAPBlacklinePeopleSoftUATagile11 Days Agosave\n",
      "Business Analyst- BangaloreElasticRun3.9(818 Reviews)5-10 YrsNot disclosedPune, Bangalore/Bengaluru Identify and implement centralization of metrics measurement, operational reports and m...Statutory AuditProcurement analystInternal Auditsales analystFMCGCaArticleshipdata analyst30+ Days Agosave\n",
      "\n"
     ]
    },
    {
     "name": "stderr",
     "output_type": "stream",
     "text": [
      "[WDM] - ====== WebDriver manager ======\n",
      "[WDM] - Current google-chrome version is 102.0.5005\n",
      "[WDM] - Get LATEST chromedriver version for 102.0.5005 google-chrome\n",
      "[WDM] - Driver [C:\\Users\\lenovo\\.wdm\\drivers\\chromedriver\\win32\\102.0.5005.61\\chromedriver.exe] found in cache\n"
     ]
    },
    {
     "name": "stdout",
     "output_type": "stream",
     "text": [
      "Business Analyst - KYCCapco3.9(192 Reviews)2-6 YrsNot disclosedBangalore/Bengaluru Ability to handle exceptional scenarios in best possible approach - strong academic rec...Change ManagementInvestment BankingWaterfallBusiness AnalystConsultingProblem SolvingBusiness TransformationData Analysis30+ Days Agosave\n",
      "Business Intelligence AnalystApplied Materials4.3(178 Reviews)5-8 YrsNot disclosedBangalore/Bengaluru Requires in-depth knowledge and experience. Uses best practices and knowledge of intern...Hadoopbusiness intelligence reportingdata analyticshr analyticshdfsbig datadata collectionhbaseFew Hours Agosave\n",
      "Business AnalystUber4.1(524 Reviews)1-2 YrsNot disclosedHyderabad/Secunderabad 2 years of work experience in a data processing, data analysis and automationAnalytical skillsAutomationData analysisBusiness AnalystProcess improvementdata visualizationOperationsAnalyticsFew Hours Agosave\n",
      "Business Analyst (Change Management)Capco3.9(192 Reviews)7-12 YrsNot disclosedChennai Must have worked in JIRA and experience in process flow creation Strong Requirements Ma...Change managementData analysisBusiness AnalystBfsiBusiness analysisGap analysisCapital marketAsset management6 Days Agosave\n",
      "Business AnalystCapco3.9(192 Reviews)3-6 YrsNot disclosedBangalore/Bengaluru Other Skills: Communication, Data Analysis, Presentation, Process Development, MS Offic...Capital MarketAgile MethodologyInvestment BankingBusiness AnalystFinanceCore BankingRequirement GatheringData Analysis30+ Days Agosave\n",
      "Business Analyst II - Business Process ManagementVmware4.4(425 Reviews)3-5 YrsNot disclosedBangalore/Bengaluru As a Business Process Management (BPM) Analyst II, you will be driving / enabling proce...IT SkillsTableauPower BIRPAMiningVMwareAdministrationData analysis30+ Days Agosave\n",
      "Technology Services- Process Manager- Business AnalysteClerx3.6(2919 Reviews)6-11 YrsNot disclosedMumbai Business Analyst Process ManagerShift Timings - EMEA SHIFT (1 P.M to 10 P.M.)| Manageme...Database DesigningIT SkillsSoftware DevelopmentRPASoftware Development Life CycleApplication DevelopmentRPA technologiesWeb Technologies2 Days Agosave\n",
      "ETRM Domain Business Analyst with Tcs For Bangalore (7-12 years)TATA CONSULTANCY SERVICES (TCS)3.9(43255 Reviews)7-12 YrsNot disclosedBangalore/Bengaluru Qualification: Minimum 15 Years of full time educationProfessional certification around...data analyticsetrmbusiness analysisCbapmarket risk managementCCBANucleusopenlink3 Days Agosave\n",
      "IT Business Process Analyst IWatson Pharma4.1(740 Reviews)2-5 YrsNot disclosedBangalore/Bengaluru Previous experience in data management is a plusremediationUsageData managementPharmaAnalyticaldata governanceBusiness process analysisData quality5 Days Agosave\n",
      "IT Business Process Analyst IWatson Pharma4.1(740 Reviews)2-5 YrsNot disclosedBangalore/Bengaluru Previous experience in BI, analytics, data management or data engineering is a plusData managementData modelingPharmaAnalyticaldata governanceBusiness process analysisInformation technologyAnalytics5 Days Agosave\n",
      "Business AnalystAltisource Business Solutions Pvt Ltd3.8(763 Reviews)1-4 YrsNot disclosedBangalore/Bengaluru Bachelors in engineeringProcess automationMS SQLData analysisInterpersonal skillsExcelOracle SQLBusiness analysisReconciliation30+ Days Agosave\n",
      "Business AnalystHOLY HEALTH CARE SOLUTIONS (OPC) PRIVATE LIMITED0-5 Yrs10,00,000 - 18,00,000 PA.Pune, Chennai, Mumbai (All Areas) Healthcare business analysts combine advanced skills in management, finance, research, ...Business IntelligenceStrategic Marketing PlanningBrandingBusiness AnalysisBusiness DevelopmentMarketing Collateral DevelopmentElectronic Medical RecordRelationship Building17 Days Agosave\n",
      "Business Analyst ( Duco )Capco3.9(192 Reviews)4-7 YrsNot disclosedBangalore/Bengaluru Background in Investment Banking and Markets, with prior Middle Office experience from ...Business processData analysisTLMReconciliationProduct controlInvestment bankingAsset managementFinancial services30+ Days Agosave\n",
      "Business Analyst - SAPSchneider Electric4.2(3602 Reviews)4-5 YrsNot disclosedBangalore/Bengaluru Required experience Bachelor Degree in Supply Chain Logistics or equivalent Candidates ...Business processSupply chainBusiness System AnalystData analysisSAPProject implementationSAP SDPerformance optimization30+ Days Agosave\n",
      "Freelance Instructor - Business AnalystTestbook Edu Solutions4.0(48 Reviews)0-3 YrsNot disclosedMumbai, Navi Mumbai Must have experience in Have Good knowledge aboutTrainingBusiness AnalystInstructorData AnalystTeachingAndroid30+ Days Agosave\n",
      "Business Support AnalystBizMerlin1.4(3 Reviews)0-3 YrsNot disclosedLudhiana Bachelor s Degree(Required) Utilizing proactive and intuitive techniques to elevate the...TrainingCustomer service orientationWeb technologiesHealthcareData AnalystArchitectingCustomer experienceBusiness Support Analyst30+ Days Agosave\n",
      "Business AnalystStartup CA0-3 YrsNot disclosedNew Delhi We are looking for a Marketing Consultant Strategic Planner to define company s directi...Business processData analysisTest scriptsAgileWorkflowScrumTest casesITES30+ Days Agosave\n",
      "Business AnalystBrowse Info4.8(5 Reviews)0-2 YrsNot disclosedGujarat, India Define configuration, Specification and business analysis requirementExperience in anal...verbal communicationSQL querieswrittenIT SkillsTestingQuality AssuranceComputer scienceData analysis30+ Days Agosave\n",
      "IT Business AnalystLN Webworks4.5(2 Reviews)0-5 YrsNot disclosedLudhiana Job Description : Liaising between the IT department and the Executive branch Acting as...IT Business AnalystData analysisExecutiveProductionManager TechnologyApplication developmentBusiness modelingIT Executive30+ Days Agosave\n",
      "Business AnalystSamast Technologies Private Limited3.7(31 Reviews)0-2 YrsNot disclosedGurgaon, haryana Years of experience -Analytical skillsData analysisProcess orientationData modelingRDBMSData collectionSenior Associate Business AnalystBusiness intelligence30+ Days Agosave\n",
      "\n"
     ]
    },
    {
     "name": "stderr",
     "output_type": "stream",
     "text": [
      "[WDM] - ====== WebDriver manager ======\n",
      "[WDM] - Current google-chrome version is 102.0.5005\n",
      "[WDM] - Get LATEST chromedriver version for 102.0.5005 google-chrome\n",
      "[WDM] - Driver [C:\\Users\\lenovo\\.wdm\\drivers\\chromedriver\\win32\\102.0.5005.61\\chromedriver.exe] found in cache\n"
     ]
    },
    {
     "name": "stdout",
     "output_type": "stream",
     "text": [
      "Senior Analyst - Risk and ComplianceIBM4.2(14180 Reviews)3-6 YrsNot disclosedBangalore/Bengaluru Certification in a professional association such as the Association of Certified Anti-m...Data analysisChange managementDue diligenceData miningFinancial servicesInterpersonal skillsComplianceAnalytical1 Day Agosave\n",
      "Analyst (VBA) - GammaBoston Consulting Group4.0(105 Reviews)2-4 YrsNot disclosedGurgaon/Gurugram, Bangalore/Bengaluru, Delhi / NCR WHAT YOU'LL DO :As a part of BCGs GAMMA A&S team you will work closely with consulting ...VBAExploratory Data AnalysisExcelAlteryxData ManagementAdvanced AnalyticsSQL QueriesData Extraction12 Days Agosave\n",
      "Research AnalystTheaddress1.6(3 Reviews)0-3 YrsNot disclosedAhmedabad Bachelors or masters degree in research analytics or a related fieldAccountingFinanceData AnalysisData CollectionVariance AnalysisData ModelingResearch AnalystData Analytics30+ Days Agosave\n",
      "Senior Research AnalystData Bridge (DBMR)3-6 YrsNot disclosedPune, Gurgaon/Gurugram(WFH during Covid) Proactively commenting on market dynamics by networking with key industry participants/...Team HandlingMarket SizingProposal WritingMarket SegmentationDirect Client InteractionIndustry Reportsclient handlingMarket Forecasting20 Days Agosave\n",
      "Senior Analyst ? Data Science and Artificial IntelligenceSamatrix Consulting Private Limited6-11 YrsNot disclosedGurgaon Should have extensive experience with relational, NO-SQL and Graph databases 6+ years o...advanced analyticsdeep learningAnalystneo4jSASArtificial IntelligencePredictive modelingbig data30+ Days Agosave\n",
      "Sr. Analyst - Master Data ManagementGolden Opportunities Pvt Ltd4.2(10 Reviews)4-7 YrsNot disclosedChennai Looking for candidates with minimum 4+ years of experience in complete process knowledg...Master Data ManagementpythonMDMmaterial masterVendor Management30+ Days Agosave\n",
      "Senior Analyst  -  Consumer Data ProjectsGD Research Center Pvt Ltd3.9(183 Reviews)2-4 YrsNot disclosedHyderabad Train these analysts in market analysis, forecasting, data presentation and analysis an...Analytical skillsMarket analysisTeam managementTime managementGroup HeadConsultingMarket intelligenceProject planning30+ Days Agosave\n",
      "Senior Software Analyst (Data Engineer)EnergyTech Global4.7(8 Reviews)3-7 YrsNot disclosedHyderabad/Secunderabad Graduate degree in Computer Science, Statistics, Informatics, Information Systems or an...IT SkillsPythonSoftware DevelopmentAWSPostgresqlSoftware AnalystDesktop supportSQL30+ Days Agosave\n",
      "Data Analyst-Notice Period Upto 1monthNOTUS SERVICES PRIVATE LIMITED 5-10 Yrs10,00,000 - 20,00,000 PA.Pune Must have skills : POWER BI, SQL and intermediate pythonPOWER BIpythonSQLIT Skills23 Days Agosave\n",
      "Opening For Data Analyst--5LPA-ChennaiImaginators Try Going Beyond   3-7 Yrs2,75,000 - 5,00,000 PA.Chennai Data analyst Min 3-5 yrs of exp in MIS , Advance excel, dashboard Chennai Call Garima 8...Advanced ExcelDashboardsVBAMISTableauMacrosMIS Reportingdashboard29 Days Agosave\n",
      "Specialist, Data Management Quantitative AnalysisBNY Mellon4.2(2399 Reviews)7-12 YrsNot disclosedPune Job Responsibilities: Design and produce risk reporting at line of business, legal enti...Data analysisOperational excellenceData managementProject managementAnalyticalData collectionmicrosoftRisk management30+ Days Agosave\n",
      "Specialist, Data Management Quantitative AnalysisBNY Mellon4.2(2399 Reviews)7-12 YrsNot disclosedPune Bachelor s degree in quantitative discipline (Economics, Finance, Engineering, or relat...remediationAutomationFinancial marketsData managementArchitectureAnalyticalProgrammingQuantitative Analyst30+ Days Agosave\n",
      "Specialist - Data Mgt Qnt AnalysisBNY Mellon4.2(2399 Reviews)2-4 YrsNot disclosedPune Job Purpose: (What the job role involves) The purpose of the team is to assess/analyse ...Data analysisOperational riskConsultingTest scenariosInvestment managementRisk managementProject deliveryMonitoring30+ Days Agosave\n",
      "Team Lead, Data Management & Quantitative AnalysisBNY Mellon4.2(2399 Reviews)7-10 YrsNot disclosedPune Data Management and Quantitative Analysis - S6Serves as a lead for the day-to-day opera...SupervisorAssuranceData managementFinanceSchedulingRepresentativeSoftware solutionsCounselling30+ Days Agosave\n",
      "back office / data entry/ office boy / research analystStarrise recruitment private limited 0-2 Yrs1,50,000 - 3,25,000 PA.Pune back office / data entry/ office boy / research analyst Any graduate can apply.Fresher ...BPOback officedata entryCustomer ServiceInternational Call CenterNon VoiceKPOInbound19 Days Agosave\n",
      "Engineer - MDD ( Thermal Analysis )DATA PATTERNS (I) PVT LTD3.9(69 Reviews)3-5 YrsNot disclosedChennai selection of heat sink or design of custom heat sink based on thermal resistance requir...CFDRFAerospaceManufacturing processAnsysPackagingElectronicsMechanical design30+ Days Agosave\n",
      "Senior Business Intelligence Analyst (BI Analyst)RWS Moravia3.8(66 Reviews)8-12 YrsNot disclosedPune, Bangalore/Bengaluru, Mumbai (All Areas) Six sigma Black Belt qualification (Certified)Must be able to translate business questi...Certified Black BeltPowerPointExcelSQLanalyticalBusiness IntelligenceTableaupowerBIFew Hours Agosave\n",
      "Sr. Analyst - BI (Business Intelligence)Confidential3-8 YrsNot disclosedPune, Bangalore/Bengaluru Should be open to US / UK shifts.Review and validate customer data as it s collected, ,...Business Intelligencedata analyticsPower BIReporting AnalystSSASMS Accessdata modelingLead Reporting12 Days Agosave\n",
      "Senior Business Analyst , FP & AHarman Connected Services Corporation India Pvt.3.9(875 Reviews)3-8 YrsNot disclosedBangalore/Bengaluru Must possess strong interpersonal skillsData analysisAutomationDue diligenceClaimsFinancial reportingStaffingRevenue recognitionSuccession planning21 Days Agosave\n",
      "Senior Analyst - Business Intelligence - MicroStrategyTime Analytic &amp; Shared Services Private Limited4.8(7 Reviews)3-5 YrsNot disclosedBangalore/Bengaluru The Senior Analyst - BI is a member of Merediths Business Insights team and participate...MicrostrategyMS SQLData analysisData modelingJavascriptHTMLHTTPTeradata30+ Days Agosave\n",
      "\n"
     ]
    },
    {
     "name": "stderr",
     "output_type": "stream",
     "text": [
      "[WDM] - ====== WebDriver manager ======\n",
      "[WDM] - Current google-chrome version is 102.0.5005\n",
      "[WDM] - Get LATEST chromedriver version for 102.0.5005 google-chrome\n",
      "[WDM] - Driver [C:\\Users\\lenovo\\.wdm\\drivers\\chromedriver\\win32\\102.0.5005.61\\chromedriver.exe] found in cache\n"
     ]
    },
    {
     "name": "stdout",
     "output_type": "stream",
     "text": [
      "Senior Analyst, Business IntelligenceDell International Services IndiaPrivate Limited6-8 YrsNot disclosedBangalore/Bengaluru Problem solving, concepts of SQL, data management, database administration skills and e...Business Intelligencedata managementssaspower biTeradata sqldatabase administration4 Days Agosave\n",
      "Senior Business Analyst , Trust OpsAirbnb4.6(85 Reviews)6-11 YrsNot disclosedGurgaon/Gurugram written reports should show methodology with detailed statistical analysis, summary of ...Business AnalyticsData AnalysisAdvanced ExcelTableauSqlData ScienceBusiness Analyst5 Days Agosave\n",
      "Sr. Business Marketing Analyst -Google Analytics - WFHhCapital Business Consulting Private Limited 4-9 Yrs14,00,000 - 18,00,000 PA.Remote Roles and Responsibilities • Enable effective decision making by finding insights about...Marketing analystGoogle stack reportinggoogle analyticsMarketing AnalyticsData AnalyticsData analystGoogle data studioCampaign Analytics13 Days Agosave\n",
      "Sr Svcs Business AnalystGartner India Research &amp; Advisory Services Pvt Ltd4.2(166 Reviews)2-6 YrsNot disclosedGurgaon/Gurugram Accountable for problem solving and decision-making along with Service Delivery, RA Ops...IT SkillsTestingProcess designProcess automationRCAData analysisProcess optimizationOperational excellence13 Days Agosave\n",
      "Business Intelligence AnalystArrow Electronics3.7(265 Reviews)1-3 YrsNot disclosedBangalore/Bengaluru Minimum 2 years post qualification work experience as Data analyst / Data scientist at ...Data analysisSalesBusiness analysisTrend analysisBusiness Intelligence AnalystData collectionpower biManagement30+ Days Agosave\n",
      "Hybris Business AnalystCGI4.2(2398 Reviews)3-6 YrsNot disclosedBangalore/Bengaluru • Strong experience with full end-to-end SAP Commerce Cloud, SAP CX implementation proj...HybrisIT SkillsJavaSoftware DevelopmentTestingCloudSAPHybris Business Analyst1 Day Agosave\n",
      "Business AnalystTruecaller4.0(2 Reviews)3-5 YrsNot disclosedBangalore/Bengaluru 5 years of experience as a Business Analyst preferably in AdTech team / org Very profic...Analytical skillssecurity complianceSQL queriesExcelBusiness Analystdata scienceAgileData analytics5 Days Agosave\n",
      "Business AnalystGokaldas Exports4.1(201 Reviews)4-6 YrsNot disclosedBangalore/Bengaluru Bachelor degree in Business Analytics with 4 to 6 years of work experienceWorking knowl...Power Bi DashboardsmacrosTrend Forecastingexcel data analysisMIS Reporting11 Days Agosave\n",
      "Business AnalystMinions Ventures3.9(3 Reviews)2-5 YrsNot disclosedBangalore/Bengaluru Strength in Data analytics: Candidates should be highly proficient in Advanced SQL and ...Data analyticsexcelpythondata analysisdata sciencebusiness analysisbusiness intelligencedashboards19 Days Agosave\n",
      "Business Functional Analyst / Product OwnerDeutsche Bank4.2(1799 Reviews)4-8 YrsNot disclosedPune Degree from an accredited college or university with a concentration in Business, Econo...Computer scienceData analysisManager Quality AssuranceBusiness analysisAnalyticalFunctional AnalystBusiness strategyMS Office11 Days Agosave\n",
      "Lead Business AnalystDeutsche Bank4.2(1799 Reviews)3-4 YrsNot disclosedPune Should have good SQL, Excel, Access experience to perform data analysisThe candidate wi...Computer scienceData analysisManager Quality AssuranceBusiness AnalystBusiness analysisAgileBusiness solutionsFinancial services11 Days Agosave\n",
      "Senio Executive - Data ScientistNielsenIQ4.1(118 Reviews)0-4 YrsNot disclosedVadodara Data science drives everything we do here at NielsenIQ. Our statistical research is at ...BPOdata analysisData ScienceRData QualityData ScientistBig DataData Analytics30+ Days Agosave\n",
      "Business Analysis Lead - Data Warehousing & MigrationHuquo Consulting Pvt. Ltd6-10 YrsNot disclosedGurgaon/Gurugram Should be ready for travel to customer location in case the need arises Experience in B...Business IntelligenceData WarehouseverbalBusiness AnalysisRequirement AnalysiswrittenData MigrationData Warehousing28 Days Agosave\n",
      "Business Analysis Lead - Data Warehousing & MigrationHuquo Consulting Pvt. Ltd6-10 YrsNot disclosedGurgaon/Gurugram Should be ready for travel to customer location in case the need arisesRequired Experie...Data MigrationCommunicationRequirement AnalysiswrittenverbalBusiness AnalysisData WarehousingBusiness Intelligence20 Days Agosave\n",
      "Senior Analyst-Risk and complianceAccenture4.1(28676 Reviews)5-8 YrsNot disclosedBangalore/Bengaluru Skill required: Risk and compliance - Fraud Management Designation: Senior Analyst Job ...Data analysisConsultingCapital marketFraud managementFinancial servicesRoot cause analysisFinancecontrol testing7 Days Agosave\n",
      "Testing Engineering Senior AnalystNTT Data4.1(7760 Reviews)3-6 YrsNot disclosedBangalore/Bengaluru Relevant Telecom domain / industry experience TDA should be able to understand test dat...IT SkillsTestingTelecomData managementSQL databaseAgiledata governanceData Analyst30+ Days Agosave\n",
      "Senior Analyst - LowesSynchrony4.4(686 Reviews)1-5 Yrs8,00,000 - 10,00,000 PA.Hyderabad/Secunderabad Role Summary/Purpose:Seeking intellectually curious candidate with a passion for delive...SAS SQLStakeholders managementTableauAdobe AnalyticsAnalyticsSASDatabase managementStatistical Data AnalysisTodaysave\n",
      "Senior Analyst - Model ValidationSynchrony4.4(686 Reviews)2-5 Yrs8,00,000 - 10,00,000 PA.Hyderabad/Secunderabad Bachelors degree in any quantitative stream preferably Statistics, Mathematics, Minimum...modeling riskRisk Analyticsstatistical modelingstatistical analysisBig Data Analyticsdata analysisSASStatistical ToolsTodaysave\n",
      "Lead Game AnalystKWALEE INDIA PRIVATE LIMITED2.3(4 Reviews)0-5 YrsNot disclosedBangalore/Bengaluru We firmly believe in creativity and innovation and that a fundamental requirement for a...data scienceSQL Databasepythondata analysis1 Day Agosave\n",
      "Senior Analyst Programmer - Data VirtualisationAugusta Infotech  4-7 YrsNot disclosedBangalore/Bengaluru Ability, willingness & openness to experiment / evaluate / adopt new technologies Exper...Data Virtualisationdata modelingetlinformaticaAWSData APIdata streamingdata management27 Days Agosave\n",
      "\n"
     ]
    },
    {
     "name": "stderr",
     "output_type": "stream",
     "text": [
      "[WDM] - ====== WebDriver manager ======\n",
      "[WDM] - Current google-chrome version is 102.0.5005\n",
      "[WDM] - Get LATEST chromedriver version for 102.0.5005 google-chrome\n",
      "[WDM] - Driver [C:\\Users\\lenovo\\.wdm\\drivers\\chromedriver\\win32\\102.0.5005.61\\chromedriver.exe] found in cache\n"
     ]
    },
    {
     "name": "stdout",
     "output_type": "stream",
     "text": [
      "Senior analyst - Reltio Master Data ManagementSearch Advisers Services ( GUJ ) Pvt. Ltd.  4-9 Yrs27,50,000 - 40,00,000 PA.Bangalore/Bengaluru, Mumbai (All Areas) Quality A ssessm ent, Survivorship rules, API calls Merges ( Aut o/ Potentia l/ Orphans...ReltioMaster Data ManagementData WarehousingSenior analystMDM implementationcommunicationOracleETL21 Days Agosave\n",
      "Senior analyst - Reltio Master Data ManagementSearch Advisers Services ( GUJ ) Pvt. Ltd.  4-9 Yrs27,50,000 - 40,00,000 PA.Bangalore/Bengaluru, Mumbai (All Areas) Quality A ssessm ent, Survivorship rules, API calls Merges ( Aut o/ Potentia l/ Orphans...ReltioMaster Data ManagementData WarehousingSenior analystMDM implementationIT SkillsOraclemetadata management21 Days Agosave\n",
      "BODS Data Migration Sr. Analyst / Lead - Immediate c2hOrcapod Consulting Services Private Limited   10-15 YrsNot disclosedHyderabad/Secunderabad, Bangalore/Bengaluru(WFH during Covid) Shift time :- 02:00 PM to 12:00 AM / 04:00 to 01:00 AM (Depending on project demands)Ed...configurationissue resolutionsap data servicesdata migrationsql30+ Days Agosave\n",
      "Data Science - Senior Data ScientistPaytm3.7(4140 Reviews)2-4 YrsNot disclosedNoida, Bangalore/Bengaluru Experience in data mining Proven experience as a Data Scientist or Data Analyst Experie...Data ScienceBusiness IntelligenceRData ScientistC + +HadoopData MiningData Visualization30+ Days Agosave\n",
      "Senior Data Scientist (IN4)Walmart4.2(11295 Reviews)5-9 YrsNot disclosedBangalore/Bengaluru Master s/ PhD or any other graduation degree with related statistics or computer scienc...IT SkillsPythonSoftware DevelopmentTestingData ScienceMachine LearningCloudProduct management30+ Days Agosave\n",
      "Senior Data ScientistWalmart4.2(11295 Reviews)5-9 YrsNot disclosedBangalore/Bengaluru Your Opportunity As a Senior Data Scientist for Walmart Global Tech, you ll have the op...IT SkillsPythonData ScienceMachine LearningBig DataSupply chainData analysisWeb analytics30+ Days Agosave\n",
      "Sr. Data ScientistKimberly-Clark Lever Limited4.4(136 Reviews)12-17 YrsNot disclosedBangalore/Bengaluru Experience creating and using advanced machine learning algorithms and statistics: regr...Data analysisSAPSASData modelingRDBMSCodingJavascriptAgile30+ Days Agosave\n",
      "Senior Data ScientistWalmart4.2(11295 Reviews)5-9 YrsNot disclosedBangalore/Bengaluru As a Senior Data Scientist for Walmart, you ll have the opportunity to: Drive data-deri...ProcurementComputer scienceCloud computingData analysisdata scienceDb2CodingAgile30+ Days Agosave\n",
      "Analyst Master DataCARDINAL HEALTH INTERNATIONAL INDIA PRIVATE LIMITE 4.4(26 Reviews)2-7 Yrs2,00,000 - 6,00,000 PA.Bangalore/Bengaluru Shift Timings : 6:30PM to 3:30AM ISTExp in SAP MDM preferred, SAP MDGOverall 2 to 7 yea...master datacustomer master data21 Days Agosave\n",
      "Retail Data and EDI AnalystCustomized Energy Solutions4.9(3 Reviews)2-5 YrsNot disclosedPune Bachelor s degree in applicable subject matter demonstrating required quantitative and ...Health insuranceBackendMarket intelligenceSupport servicesRepresentativeEDIPortfolio managementMonitoring1 Day Agosave\n",
      "Information Security Analyst- Data LeakageSquircle IT Consulting Services Pvt Ltd3-5 YrsNot disclosedBengaluru Certified to CEH, ISO 27001 LA should have worked with DLP tools like RMS, RSA, Websens...SymantecWebsenseRCARSAInformation Security AnalystManagement auditInformation securityISO 2700130+ Days Agosave\n",
      "Analyst- Customer Master DataSigma Aldrich3.4(14 Reviews)1-5 YrsNot disclosedBangalore/Bengaluru Creation and maintenance of customers as per SLAEnsure timely release of new customersM...Business processERPTyping speedSAPData qualityOracleMS OfficePowerpoint30+ Days Agosave\n",
      "Senior Data Scientist (m/f/d)Adidas4.4(320 Reviews)5-10 YrsNot disclosedGurgaon/Gurugram, United States (USA) Four-year college or university degree with focus on Business Proficient spoken and wri...Data analysisTeam managementData managementDatabase designMachine learningAgileData structuresTest cases30+ Days Agosave\n",
      "Senior Business Analyst - EdTechServing Skill5-10 YrsNot disclosedMumbai, Gurgaon/Gurugram, Bangalore/Bengaluru Skills Required : - Data Analytics Visionary Strong in SQL & Excel and good to have exp...Data AnalysisTableauSQLpresentationData Analytics VisionaryData Visualizationcommunicationbusiness intelligence28 Days Agosave\n",
      "Data Scientist Min 0-5 ExpVishwakarma Consultancy Services  0-5 Yrs5,00,000 - 10,00,000 PA.Hyderabad/Secunderabad, Bangalore/Bengaluru, Mumbai (All Areas) Data Scientist Min 0-5 Exp Location- All over India Salary 5-10 LPAData ManagementScientistData ScientistData AnalysisDatabase DevelopmentSQL DevelopmentOracle DBAOracle Apps Dba22 Days Agosave\n",
      "Urgent Opening For Senior Business Analyst With Ecommerce - BangaloreYellow Box HR Services Pvt. Ltd. 4-9 Yrs15,00,000 - 25,00,000 PA.Bangalore/Bengaluru Bachelors in any discipline from a reputed institute or an MBA from a reputed institute...Business Analysisdata analysisdata analyticsBusiness Analyticsbusiness analystData Warehousingdata analyst27 Days Agosave\n",
      "Senior Business AnalystMindtree4.1(3192 Reviews)10-15 YrsNot disclosedBangalore/Bengaluru Roles and Responsibilities:MBA is MandatorySenior Business Analyst manage the whole pro...RetailBrdFRDcpgSprint Planninguat8 Days Agosave\n",
      "Senior Business Analyst - Analytics Consulting | Tiger Analytics |TIGER ANALYTICS INDIA CONSULTING PRIVATE LIMITED4.1(79 Reviews)2-4 YrsNot disclosedHyderabad/Secunderabad, Chennai, Bangalore/Bengaluru Job descriptionTiger Analytics is global analytics consulting firm. With data and techn...Predictive ModelingBusiness IntelligencepythonAnalytics consultingTableaumachine learningpowerBiReporting26 Days Agosave\n",
      "Senior Business AnalystAssetmonk Hospitality Pvt. Ltd1-6 YrsNot disclosedHyderabad/Secunderabad(Kondapur) We are looking out for a Senior Business Analyst to join our Product Department to supp...Business Researchbusiness analysisUser ResearchCodingproject managementdata analysisMicrosoft Office ApplicationsPower Bi7 Days Agosave\n",
      "Senior Business AnalystQuantiphi Analytics Solutions Pvt. Ltd.3.9(171 Reviews)3-8 Yrs11,00,000 - 20,00,000 PA.Bangalore/Bengaluru, Mumbai (All Areas) Skills Required: Apart from being Driven, Energetic and Ambitious, you will need the fo...b2b salesAI/MLPresalesData AnalyticsMarketing AnalyticsIT SkillsData ScienceMachine Learning7 Days Agosave\n"
     ]
    }
   ],
   "source": [
    "Title = []\n",
    "Company = []\n",
    "experience = []\n",
    "Company = []\n",
    "location = []\n",
    "jobType = []\n",
    "skills = []\n",
    " \n",
    "for i in range(1,100):   \n",
    "    link = \"https://www.naukri.com/data-analyst-jobs-in-india?k=data%20analyst&l=india-{}\".format(i)\n",
    "    driver = webdriver.Chrome(ChromeDriverManager().install())\n",
    "    driver.get(link)\n",
    "    driver.maximize_window() # maximize the window\n",
    "    \n",
    "    sleep(2) # wait for the page to load\n",
    "    html = driver.page_source\n",
    "    soup = BeautifulSoup(html, \"html.parser\")\n",
    "    for i in soup.find_all('article',\"jobTuple bgWhite br4 mb-8\"):\n",
    "        print(i.text)\n",
    "   \n",
    "    for i in soup.find_all('a', class_=\"title fw500 ellipsis\"):\n",
    "        Title.append(i.text)\n",
    "\n",
    "    \n",
    "    for i in soup.find_all('a',class_=\"subTitle ellipsis fleft\"):\n",
    "        Company.append(i.text)\n",
    "\n",
    "    \n",
    "    for i in soup.find_all('li',class_=\"fleft grey-text br2 placeHolderLi experience\"):\n",
    "        experience.append(i.text)\n",
    "\n",
    "    \n",
    "    for  i in soup.find_all('li',class_=\"fleft grey-text br2 placeHolderLi salary\"):\n",
    "         Salary.append(i.text)\n",
    "\n",
    "    for i in soup.find_all('li',class_=\"fleft grey-text br2 placeHolderLi location\"):\n",
    "        location.append(i.text)\n",
    "\n",
    "    \n",
    "    for i in soup.find_all('div',class_=\"jobType type fleft br2 mr-8\"):\n",
    "        jobType.append(i.text) \n",
    "\n",
    "        \n",
    "    for i in soup.find_all('ul',class_=\"tags has-description\"):\n",
    "        skills.append(i.text)\n"
   ]
  },
  {
   "cell_type": "code",
   "execution_count": 29,
   "metadata": {},
   "outputs": [
    {
     "data": {
      "text/plain": [
       "1980"
      ]
     },
     "execution_count": 29,
     "metadata": {},
     "output_type": "execute_result"
    }
   ],
   "source": [
    "len(Company)"
   ]
  },
  {
   "cell_type": "code",
   "execution_count": 30,
   "metadata": {},
   "outputs": [
    {
     "data": {
      "text/plain": [
       "3960"
      ]
     },
     "execution_count": 30,
     "metadata": {},
     "output_type": "execute_result"
    }
   ],
   "source": [
    "len(Salary)"
   ]
  },
  {
   "cell_type": "code",
   "execution_count": 31,
   "metadata": {},
   "outputs": [
    {
     "data": {
      "text/plain": [
       "1980"
      ]
     },
     "execution_count": 31,
     "metadata": {},
     "output_type": "execute_result"
    }
   ],
   "source": [
    "len(Title)"
   ]
  },
  {
   "cell_type": "code",
   "execution_count": 32,
   "metadata": {},
   "outputs": [
    {
     "data": {
      "text/plain": [
       "1980"
      ]
     },
     "execution_count": 32,
     "metadata": {},
     "output_type": "execute_result"
    }
   ],
   "source": [
    "len(location)"
   ]
  },
  {
   "cell_type": "code",
   "execution_count": 33,
   "metadata": {},
   "outputs": [
    {
     "data": {
      "text/plain": [
       "1976"
      ]
     },
     "execution_count": 33,
     "metadata": {},
     "output_type": "execute_result"
    }
   ],
   "source": [
    "len(experience)"
   ]
  },
  {
   "cell_type": "code",
   "execution_count": 34,
   "metadata": {},
   "outputs": [
    {
     "data": {
      "text/plain": [
       "3"
      ]
     },
     "execution_count": 34,
     "metadata": {},
     "output_type": "execute_result"
    }
   ],
   "source": [
    "len(jobType)"
   ]
  },
  {
   "cell_type": "code",
   "execution_count": 35,
   "metadata": {},
   "outputs": [
    {
     "data": {
      "text/plain": [
       "1980"
      ]
     },
     "execution_count": 35,
     "metadata": {},
     "output_type": "execute_result"
    }
   ],
   "source": [
    "len(skills)"
   ]
  },
  {
   "cell_type": "markdown",
   "metadata": {},
   "source": [
    "### DataFrame"
   ]
  },
  {
   "cell_type": "code",
   "execution_count": 37,
   "metadata": {},
   "outputs": [],
   "source": [
    "df=pd.DataFrame({\"Job Role\":Title[0:1500],\n",
    "                \"Company\":Company[0:1500],\n",
    "                 \"Experience\":experience[0:1500],\n",
    "                 \"Salary\":Salary[0:1500],\n",
    "                 \"Location\":location[0:1500],\n",
    "                \"Skills\":skills[0:1500]})"
   ]
  },
  {
   "cell_type": "code",
   "execution_count": 38,
   "metadata": {},
   "outputs": [
    {
     "data": {
      "text/html": [
       "<div>\n",
       "<style scoped>\n",
       "    .dataframe tbody tr th:only-of-type {\n",
       "        vertical-align: middle;\n",
       "    }\n",
       "\n",
       "    .dataframe tbody tr th {\n",
       "        vertical-align: top;\n",
       "    }\n",
       "\n",
       "    .dataframe thead th {\n",
       "        text-align: right;\n",
       "    }\n",
       "</style>\n",
       "<table border=\"1\" class=\"dataframe\">\n",
       "  <thead>\n",
       "    <tr style=\"text-align: right;\">\n",
       "      <th></th>\n",
       "      <th>Job Role</th>\n",
       "      <th>Company</th>\n",
       "      <th>Experience</th>\n",
       "      <th>Salary</th>\n",
       "      <th>Location</th>\n",
       "      <th>Skills</th>\n",
       "    </tr>\n",
       "  </thead>\n",
       "  <tbody>\n",
       "    <tr>\n",
       "      <th>0</th>\n",
       "      <td>Data Analyst || Noida</td>\n",
       "      <td>Conduent</td>\n",
       "      <td>0-3 Yrs</td>\n",
       "      <td>Not disclosed</td>\n",
       "      <td>Noida</td>\n",
       "      <td>data analysisPower BIStatisticsSQLvbaMathemati...</td>\n",
       "    </tr>\n",
       "    <tr>\n",
       "      <th>1</th>\n",
       "      <td>Business Data Analyst</td>\n",
       "      <td>NXP Semiconductors</td>\n",
       "      <td>2-5 Yrs</td>\n",
       "      <td>Not disclosed</td>\n",
       "      <td>Bangalore/Bengaluru</td>\n",
       "      <td>AutomationData managementTalent acquisitionPro...</td>\n",
       "    </tr>\n",
       "    <tr>\n",
       "      <th>2</th>\n",
       "      <td>EY GDS Data Analyst-Finland based project</td>\n",
       "      <td>EY</td>\n",
       "      <td>0-1 Yrs</td>\n",
       "      <td>Not disclosed</td>\n",
       "      <td>Bangalore/Bengaluru</td>\n",
       "      <td>sqlIT SkillsPythonPower BIData AnalysisDATA AN...</td>\n",
       "    </tr>\n",
       "    <tr>\n",
       "      <th>3</th>\n",
       "      <td>Business Analyst/Data analyst - Payments Domain</td>\n",
       "      <td>CGI</td>\n",
       "      <td>4-8 Yrs</td>\n",
       "      <td>Not disclosed</td>\n",
       "      <td>Hyderabad/Secunderabad, Pune, Chennai, Bangalo...</td>\n",
       "      <td>data analysisSWIFTSQL queriesFunctional Analys...</td>\n",
       "    </tr>\n",
       "    <tr>\n",
       "      <th>4</th>\n",
       "      <td>Data Analyst - Data and Analytics</td>\n",
       "      <td>Intel</td>\n",
       "      <td>3-6 Yrs</td>\n",
       "      <td>Not disclosed</td>\n",
       "      <td>Bangalore/Bengaluru</td>\n",
       "      <td>Computer scienceChange managementmetadataData ...</td>\n",
       "    </tr>\n",
       "    <tr>\n",
       "      <th>...</th>\n",
       "      <td>...</td>\n",
       "      <td>...</td>\n",
       "      <td>...</td>\n",
       "      <td>...</td>\n",
       "      <td>...</td>\n",
       "      <td>...</td>\n",
       "    </tr>\n",
       "    <tr>\n",
       "      <th>1495</th>\n",
       "      <td>Sr Data Engineering Analyst - Pentaho</td>\n",
       "      <td>Aperture Credentialing LLC</td>\n",
       "      <td>7-9 Yrs</td>\n",
       "      <td>Not disclosed</td>\n",
       "      <td>Hyderabad/Secunderabad</td>\n",
       "      <td>UnixRelationship managementTrainingDiversity a...</td>\n",
       "    </tr>\n",
       "    <tr>\n",
       "      <th>1496</th>\n",
       "      <td>Senior Analyst - Data Processing</td>\n",
       "      <td>MetrixLab</td>\n",
       "      <td>3-8 Yrs</td>\n",
       "      <td>Not disclosed</td>\n",
       "      <td>Hyderabad/Secunderabad</td>\n",
       "      <td>Computer scienceAnalytical skillsAnalystPDFSAS...</td>\n",
       "    </tr>\n",
       "    <tr>\n",
       "      <th>1497</th>\n",
       "      <td>Senior Analyst Data Engineering</td>\n",
       "      <td>Smart Cube</td>\n",
       "      <td>5-9 Yrs</td>\n",
       "      <td>Not disclosed</td>\n",
       "      <td>Noida</td>\n",
       "      <td>AnalystStatistical modelingMachine learningSch...</td>\n",
       "    </tr>\n",
       "    <tr>\n",
       "      <th>1498</th>\n",
       "      <td>Analyst/Senior Analyst - Data Processing</td>\n",
       "      <td>MetrixLab</td>\n",
       "      <td>4-7 Yrs</td>\n",
       "      <td>15,00,000 - 27,50,000 PA.</td>\n",
       "      <td>Hyderabad</td>\n",
       "      <td>Analytical skillsAnalystAdministrationPDFSASPr...</td>\n",
       "    </tr>\n",
       "    <tr>\n",
       "      <th>1499</th>\n",
       "      <td>Senior Analyst - AI/RPA, Lending, Big Data and...</td>\n",
       "      <td>Cedar Consulting</td>\n",
       "      <td>3-5 Yrs</td>\n",
       "      <td>Not disclosed</td>\n",
       "      <td>Mumbai</td>\n",
       "      <td>Primary researchSenior AnalystAnalyticalConsul...</td>\n",
       "    </tr>\n",
       "  </tbody>\n",
       "</table>\n",
       "<p>1500 rows × 6 columns</p>\n",
       "</div>"
      ],
      "text/plain": [
       "                                               Job Role  \\\n",
       "0                                 Data Analyst || Noida   \n",
       "1                                 Business Data Analyst   \n",
       "2             EY GDS Data Analyst-Finland based project   \n",
       "3       Business Analyst/Data analyst - Payments Domain   \n",
       "4                     Data Analyst - Data and Analytics   \n",
       "...                                                 ...   \n",
       "1495              Sr Data Engineering Analyst - Pentaho   \n",
       "1496                   Senior Analyst - Data Processing   \n",
       "1497                    Senior Analyst Data Engineering   \n",
       "1498           Analyst/Senior Analyst - Data Processing   \n",
       "1499  Senior Analyst - AI/RPA, Lending, Big Data and...   \n",
       "\n",
       "                         Company Experience                     Salary  \\\n",
       "0                       Conduent    0-3 Yrs              Not disclosed   \n",
       "1             NXP Semiconductors    2-5 Yrs              Not disclosed   \n",
       "2                             EY    0-1 Yrs              Not disclosed   \n",
       "3                            CGI    4-8 Yrs              Not disclosed   \n",
       "4                          Intel    3-6 Yrs              Not disclosed   \n",
       "...                          ...        ...                        ...   \n",
       "1495  Aperture Credentialing LLC    7-9 Yrs              Not disclosed   \n",
       "1496                   MetrixLab    3-8 Yrs              Not disclosed   \n",
       "1497                  Smart Cube    5-9 Yrs              Not disclosed   \n",
       "1498                   MetrixLab    4-7 Yrs  15,00,000 - 27,50,000 PA.   \n",
       "1499            Cedar Consulting    3-5 Yrs              Not disclosed   \n",
       "\n",
       "                                               Location  \\\n",
       "0                                                 Noida   \n",
       "1                                   Bangalore/Bengaluru   \n",
       "2                                   Bangalore/Bengaluru   \n",
       "3     Hyderabad/Secunderabad, Pune, Chennai, Bangalo...   \n",
       "4                                   Bangalore/Bengaluru   \n",
       "...                                                 ...   \n",
       "1495                             Hyderabad/Secunderabad   \n",
       "1496                             Hyderabad/Secunderabad   \n",
       "1497                                              Noida   \n",
       "1498                                          Hyderabad   \n",
       "1499                                             Mumbai   \n",
       "\n",
       "                                                 Skills  \n",
       "0     data analysisPower BIStatisticsSQLvbaMathemati...  \n",
       "1     AutomationData managementTalent acquisitionPro...  \n",
       "2     sqlIT SkillsPythonPower BIData AnalysisDATA AN...  \n",
       "3     data analysisSWIFTSQL queriesFunctional Analys...  \n",
       "4     Computer scienceChange managementmetadataData ...  \n",
       "...                                                 ...  \n",
       "1495  UnixRelationship managementTrainingDiversity a...  \n",
       "1496  Computer scienceAnalytical skillsAnalystPDFSAS...  \n",
       "1497  AnalystStatistical modelingMachine learningSch...  \n",
       "1498  Analytical skillsAnalystAdministrationPDFSASPr...  \n",
       "1499  Primary researchSenior AnalystAnalyticalConsul...  \n",
       "\n",
       "[1500 rows x 6 columns]"
      ]
     },
     "execution_count": 38,
     "metadata": {},
     "output_type": "execute_result"
    }
   ],
   "source": [
    "df"
   ]
  },
  {
   "cell_type": "code",
   "execution_count": 39,
   "metadata": {},
   "outputs": [],
   "source": [
    "df.to_csv(\"Naukri.csv\",index=False)"
   ]
  },
  {
   "cell_type": "code",
   "execution_count": 40,
   "metadata": {},
   "outputs": [
    {
     "data": {
      "text/html": [
       "<div>\n",
       "<style scoped>\n",
       "    .dataframe tbody tr th:only-of-type {\n",
       "        vertical-align: middle;\n",
       "    }\n",
       "\n",
       "    .dataframe tbody tr th {\n",
       "        vertical-align: top;\n",
       "    }\n",
       "\n",
       "    .dataframe thead th {\n",
       "        text-align: right;\n",
       "    }\n",
       "</style>\n",
       "<table border=\"1\" class=\"dataframe\">\n",
       "  <thead>\n",
       "    <tr style=\"text-align: right;\">\n",
       "      <th></th>\n",
       "      <th>Job Role</th>\n",
       "      <th>Company</th>\n",
       "      <th>Experience</th>\n",
       "      <th>Salary</th>\n",
       "      <th>Location</th>\n",
       "      <th>Skills</th>\n",
       "    </tr>\n",
       "  </thead>\n",
       "  <tbody>\n",
       "    <tr>\n",
       "      <th>0</th>\n",
       "      <td>Data Analyst || Noida</td>\n",
       "      <td>Conduent</td>\n",
       "      <td>0-3 Yrs</td>\n",
       "      <td>Not disclosed</td>\n",
       "      <td>Noida</td>\n",
       "      <td>data analysisPower BIStatisticsSQLvbaMathemati...</td>\n",
       "    </tr>\n",
       "    <tr>\n",
       "      <th>1</th>\n",
       "      <td>Business Data Analyst</td>\n",
       "      <td>NXP Semiconductors</td>\n",
       "      <td>2-5 Yrs</td>\n",
       "      <td>Not disclosed</td>\n",
       "      <td>Bangalore/Bengaluru</td>\n",
       "      <td>AutomationData managementTalent acquisitionPro...</td>\n",
       "    </tr>\n",
       "    <tr>\n",
       "      <th>2</th>\n",
       "      <td>EY GDS Data Analyst-Finland based project</td>\n",
       "      <td>EY</td>\n",
       "      <td>0-1 Yrs</td>\n",
       "      <td>Not disclosed</td>\n",
       "      <td>Bangalore/Bengaluru</td>\n",
       "      <td>sqlIT SkillsPythonPower BIData AnalysisDATA AN...</td>\n",
       "    </tr>\n",
       "    <tr>\n",
       "      <th>3</th>\n",
       "      <td>Business Analyst/Data analyst - Payments Domain</td>\n",
       "      <td>CGI</td>\n",
       "      <td>4-8 Yrs</td>\n",
       "      <td>Not disclosed</td>\n",
       "      <td>Hyderabad/Secunderabad, Pune, Chennai, Bangalo...</td>\n",
       "      <td>data analysisSWIFTSQL queriesFunctional Analys...</td>\n",
       "    </tr>\n",
       "    <tr>\n",
       "      <th>4</th>\n",
       "      <td>Data Analyst - Data and Analytics</td>\n",
       "      <td>Intel</td>\n",
       "      <td>3-6 Yrs</td>\n",
       "      <td>Not disclosed</td>\n",
       "      <td>Bangalore/Bengaluru</td>\n",
       "      <td>Computer scienceChange managementmetadataData ...</td>\n",
       "    </tr>\n",
       "    <tr>\n",
       "      <th>...</th>\n",
       "      <td>...</td>\n",
       "      <td>...</td>\n",
       "      <td>...</td>\n",
       "      <td>...</td>\n",
       "      <td>...</td>\n",
       "      <td>...</td>\n",
       "    </tr>\n",
       "    <tr>\n",
       "      <th>1495</th>\n",
       "      <td>Sr Data Engineering Analyst - Pentaho</td>\n",
       "      <td>Aperture Credentialing LLC</td>\n",
       "      <td>7-9 Yrs</td>\n",
       "      <td>Not disclosed</td>\n",
       "      <td>Hyderabad/Secunderabad</td>\n",
       "      <td>UnixRelationship managementTrainingDiversity a...</td>\n",
       "    </tr>\n",
       "    <tr>\n",
       "      <th>1496</th>\n",
       "      <td>Senior Analyst - Data Processing</td>\n",
       "      <td>MetrixLab</td>\n",
       "      <td>3-8 Yrs</td>\n",
       "      <td>Not disclosed</td>\n",
       "      <td>Hyderabad/Secunderabad</td>\n",
       "      <td>Computer scienceAnalytical skillsAnalystPDFSAS...</td>\n",
       "    </tr>\n",
       "    <tr>\n",
       "      <th>1497</th>\n",
       "      <td>Senior Analyst Data Engineering</td>\n",
       "      <td>Smart Cube</td>\n",
       "      <td>5-9 Yrs</td>\n",
       "      <td>Not disclosed</td>\n",
       "      <td>Noida</td>\n",
       "      <td>AnalystStatistical modelingMachine learningSch...</td>\n",
       "    </tr>\n",
       "    <tr>\n",
       "      <th>1498</th>\n",
       "      <td>Analyst/Senior Analyst - Data Processing</td>\n",
       "      <td>MetrixLab</td>\n",
       "      <td>4-7 Yrs</td>\n",
       "      <td>15,00,000 - 27,50,000 PA.</td>\n",
       "      <td>Hyderabad</td>\n",
       "      <td>Analytical skillsAnalystAdministrationPDFSASPr...</td>\n",
       "    </tr>\n",
       "    <tr>\n",
       "      <th>1499</th>\n",
       "      <td>Senior Analyst - AI/RPA, Lending, Big Data and...</td>\n",
       "      <td>Cedar Consulting</td>\n",
       "      <td>3-5 Yrs</td>\n",
       "      <td>Not disclosed</td>\n",
       "      <td>Mumbai</td>\n",
       "      <td>Primary researchSenior AnalystAnalyticalConsul...</td>\n",
       "    </tr>\n",
       "  </tbody>\n",
       "</table>\n",
       "<p>1500 rows × 6 columns</p>\n",
       "</div>"
      ],
      "text/plain": [
       "                                               Job Role  \\\n",
       "0                                 Data Analyst || Noida   \n",
       "1                                 Business Data Analyst   \n",
       "2             EY GDS Data Analyst-Finland based project   \n",
       "3       Business Analyst/Data analyst - Payments Domain   \n",
       "4                     Data Analyst - Data and Analytics   \n",
       "...                                                 ...   \n",
       "1495              Sr Data Engineering Analyst - Pentaho   \n",
       "1496                   Senior Analyst - Data Processing   \n",
       "1497                    Senior Analyst Data Engineering   \n",
       "1498           Analyst/Senior Analyst - Data Processing   \n",
       "1499  Senior Analyst - AI/RPA, Lending, Big Data and...   \n",
       "\n",
       "                         Company Experience                     Salary  \\\n",
       "0                       Conduent    0-3 Yrs              Not disclosed   \n",
       "1             NXP Semiconductors    2-5 Yrs              Not disclosed   \n",
       "2                             EY    0-1 Yrs              Not disclosed   \n",
       "3                            CGI    4-8 Yrs              Not disclosed   \n",
       "4                          Intel    3-6 Yrs              Not disclosed   \n",
       "...                          ...        ...                        ...   \n",
       "1495  Aperture Credentialing LLC    7-9 Yrs              Not disclosed   \n",
       "1496                   MetrixLab    3-8 Yrs              Not disclosed   \n",
       "1497                  Smart Cube    5-9 Yrs              Not disclosed   \n",
       "1498                   MetrixLab    4-7 Yrs  15,00,000 - 27,50,000 PA.   \n",
       "1499            Cedar Consulting    3-5 Yrs              Not disclosed   \n",
       "\n",
       "                                               Location  \\\n",
       "0                                                 Noida   \n",
       "1                                   Bangalore/Bengaluru   \n",
       "2                                   Bangalore/Bengaluru   \n",
       "3     Hyderabad/Secunderabad, Pune, Chennai, Bangalo...   \n",
       "4                                   Bangalore/Bengaluru   \n",
       "...                                                 ...   \n",
       "1495                             Hyderabad/Secunderabad   \n",
       "1496                             Hyderabad/Secunderabad   \n",
       "1497                                              Noida   \n",
       "1498                                          Hyderabad   \n",
       "1499                                             Mumbai   \n",
       "\n",
       "                                                 Skills  \n",
       "0     data analysisPower BIStatisticsSQLvbaMathemati...  \n",
       "1     AutomationData managementTalent acquisitionPro...  \n",
       "2     sqlIT SkillsPythonPower BIData AnalysisDATA AN...  \n",
       "3     data analysisSWIFTSQL queriesFunctional Analys...  \n",
       "4     Computer scienceChange managementmetadataData ...  \n",
       "...                                                 ...  \n",
       "1495  UnixRelationship managementTrainingDiversity a...  \n",
       "1496  Computer scienceAnalytical skillsAnalystPDFSAS...  \n",
       "1497  AnalystStatistical modelingMachine learningSch...  \n",
       "1498  Analytical skillsAnalystAdministrationPDFSASPr...  \n",
       "1499  Primary researchSenior AnalystAnalyticalConsul...  \n",
       "\n",
       "[1500 rows x 6 columns]"
      ]
     },
     "execution_count": 40,
     "metadata": {},
     "output_type": "execute_result"
    }
   ],
   "source": [
    "df"
   ]
  },
  {
   "cell_type": "code",
   "execution_count": null,
   "metadata": {},
   "outputs": [],
   "source": []
  },
  {
   "cell_type": "code",
   "execution_count": null,
   "metadata": {},
   "outputs": [],
   "source": []
  },
  {
   "cell_type": "code",
   "execution_count": null,
   "metadata": {},
   "outputs": [],
   "source": []
  },
  {
   "cell_type": "code",
   "execution_count": null,
   "metadata": {},
   "outputs": [],
   "source": []
  },
  {
   "cell_type": "code",
   "execution_count": null,
   "metadata": {},
   "outputs": [],
   "source": []
  }
 ],
 "metadata": {
  "kernelspec": {
   "display_name": "Python 3 (ipykernel)",
   "language": "python",
   "name": "python3"
  },
  "language_info": {
   "codemirror_mode": {
    "name": "ipython",
    "version": 3
   },
   "file_extension": ".py",
   "mimetype": "text/x-python",
   "name": "python",
   "nbconvert_exporter": "python",
   "pygments_lexer": "ipython3",
   "version": "3.10.4"
  }
 },
 "nbformat": 4,
 "nbformat_minor": 2
}
